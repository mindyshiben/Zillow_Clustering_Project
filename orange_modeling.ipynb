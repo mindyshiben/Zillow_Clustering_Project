{
 "cells": [
  {
   "cell_type": "code",
   "execution_count": 1,
   "id": "d51d1304",
   "metadata": {},
   "outputs": [],
   "source": [
    "# Imports necessary to acquire, prepare, explore, visualize, analyze, and model data\n",
    "\n",
    "import warnings\n",
    "warnings.filterwarnings(\"ignore\")\n",
    "\n",
    "import pandas as pd\n",
    "import matplotlib.pyplot as plt\n",
    "import seaborn as sns\n",
    "import numpy as np\n",
    "import env\n",
    "import acquire\n",
    "import prepare \n",
    "\n",
    "from tabulate import tabulate\n",
    "from IPython.display import Markdown, display\n",
    "\n",
    "from math import sqrt\n",
    "from scipy import stats\n",
    "\n",
    "import sklearn.preprocessing\n",
    "from sklearn.model_selection import train_test_split\n",
    "from scipy.stats import pearsonr, spearmanr\n",
    "\n",
    "from sklearn.metrics import mean_squared_error\n",
    "from sklearn.linear_model import LinearRegression, LassoLars, TweedieRegressor\n",
    "from sklearn.preprocessing import PolynomialFeatures\n",
    "from sklearn.impute import SimpleImputer\n",
    "\n",
    "np.random.seed(123)"
   ]
  },
  {
   "cell_type": "code",
   "execution_count": 2,
   "id": "55f28537",
   "metadata": {},
   "outputs": [],
   "source": [
    "df = acquire.get_zillow_data()"
   ]
  },
  {
   "cell_type": "code",
   "execution_count": 3,
   "id": "0ed5d8d0",
   "metadata": {},
   "outputs": [],
   "source": [
    "df = prepare.remove_outliers(df)"
   ]
  },
  {
   "cell_type": "code",
   "execution_count": null,
   "id": "15fee160",
   "metadata": {},
   "outputs": [],
   "source": [
    "df.info()"
   ]
  },
  {
   "cell_type": "code",
   "execution_count": 4,
   "id": "43898b82",
   "metadata": {},
   "outputs": [],
   "source": [
    "df = prepare.handle_nulls(df)"
   ]
  },
  {
   "cell_type": "code",
   "execution_count": 5,
   "id": "8203dfcd",
   "metadata": {},
   "outputs": [],
   "source": [
    "df = prepare.rename_columns(df)"
   ]
  },
  {
   "cell_type": "code",
   "execution_count": 6,
   "id": "91ab574c",
   "metadata": {},
   "outputs": [],
   "source": [
    "df = prepare.prepare_locs(df)"
   ]
  },
  {
   "cell_type": "code",
   "execution_count": 7,
   "id": "36b9da0f",
   "metadata": {},
   "outputs": [
    {
     "name": "stdout",
     "output_type": "stream",
     "text": [
      "<class 'pandas.core.frame.DataFrame'>\n",
      "Int64Index: 47936 entries, 0 to 52440\n",
      "Data columns (total 19 columns):\n",
      " #   Column                     Non-Null Count  Dtype         \n",
      "---  ------                     --------------  -----         \n",
      " 0   parcelid                   47936 non-null  int64         \n",
      " 1   bathrooms                  47936 non-null  float64       \n",
      " 2   bedrooms                   47936 non-null  float64       \n",
      " 3   square_feet                47936 non-null  int64         \n",
      " 4   fips                       47936 non-null  int64         \n",
      " 5   garages                    47936 non-null  int64         \n",
      " 6   garage_size                47936 non-null  int64         \n",
      " 7   lot_size                   47936 non-null  int64         \n",
      " 8   has_pool                   47936 non-null  bool          \n",
      " 9   propertycountylandusecode  47936 non-null  object        \n",
      " 10  propertylandusetypeid      47936 non-null  float64       \n",
      " 11  year_built                 47936 non-null  int64         \n",
      " 12  taxvaluedollarcnt          47936 non-null  float64       \n",
      " 13  landtaxvaluedollarcnt      47936 non-null  float64       \n",
      " 14  log_error                  47936 non-null  float64       \n",
      " 15  transaction_date           47936 non-null  datetime64[ns]\n",
      " 16  county                     47936 non-null  object        \n",
      " 17  latitude                   47936 non-null  float64       \n",
      " 18  longitude                  47936 non-null  float64       \n",
      "dtypes: bool(1), datetime64[ns](1), float64(8), int64(7), object(2)\n",
      "memory usage: 7.0+ MB\n"
     ]
    }
   ],
   "source": [
    "df.info()"
   ]
  },
  {
   "cell_type": "code",
   "execution_count": 8,
   "id": "d2d0cc5a",
   "metadata": {},
   "outputs": [
    {
     "name": "stdout",
     "output_type": "stream",
     "text": [
      "\n"
     ]
    },
    {
     "data": {
      "text/markdown": [
       "**Number of Train Records:** 26,843"
      ],
      "text/plain": [
       "<IPython.core.display.Markdown object>"
      ]
     },
     "metadata": {},
     "output_type": "display_data"
    },
    {
     "data": {
      "text/markdown": [
       "**Number of Validate Records:** 11,505"
      ],
      "text/plain": [
       "<IPython.core.display.Markdown object>"
      ]
     },
     "metadata": {},
     "output_type": "display_data"
    },
    {
     "data": {
      "text/markdown": [
       "**Number of Test Records:** 9,588"
      ],
      "text/plain": [
       "<IPython.core.display.Markdown object>"
      ]
     },
     "metadata": {},
     "output_type": "display_data"
    }
   ],
   "source": [
    "train, test = train_test_split(df, test_size=.2, random_state=123)\n",
    "train, validate = train_test_split(train, test_size=.3, random_state=123)\n",
    "# Splits data into 3 subsets: train, validate, test. Random state specifying that data is split\n",
    "# with the exact same records when the code is re-run (useful for exploration and modeling, yet\n",
    "# I suggest dropping this when employing the model)\n",
    "\n",
    "def printmd(string): # function to format text style\n",
    "    display(Markdown(string))\n",
    "print()\n",
    "printmd('**Number of Train Records:** {:,}'\n",
    "     .format(len(train)))\n",
    "printmd('**Number of Validate Records:** {:,}'\n",
    "     .format(len(validate)))\n",
    "printmd('**Number of Test Records:** {:,}'\n",
    "     .format(len(test)))\n",
    "# returns the amount of records in each subset after splitting"
   ]
  },
  {
   "cell_type": "code",
   "execution_count": 9,
   "id": "91d785a5",
   "metadata": {},
   "outputs": [],
   "source": [
    "orange_train = train.where(train.county == 'orange')\n",
    "orange_validate = validate.where(validate.county == 'orange')\n",
    "orange_test = test.where(test.county == 'orange')"
   ]
  },
  {
   "cell_type": "code",
   "execution_count": 10,
   "id": "a0cae62b",
   "metadata": {},
   "outputs": [],
   "source": [
    "orange_train = orange_train.dropna()\n",
    "orange_validate = orange_validate.dropna()\n",
    "orange_test = orange_test.dropna()"
   ]
  },
  {
   "cell_type": "code",
   "execution_count": 12,
   "id": "1e42380d",
   "metadata": {},
   "outputs": [
    {
     "name": "stdout",
     "output_type": "stream",
     "text": [
      "<class 'pandas.core.frame.DataFrame'>\n",
      "Int64Index: 7368 entries, 50705 to 1588\n",
      "Data columns (total 19 columns):\n",
      " #   Column                     Non-Null Count  Dtype         \n",
      "---  ------                     --------------  -----         \n",
      " 0   parcelid                   7368 non-null   float64       \n",
      " 1   bathrooms                  7368 non-null   float64       \n",
      " 2   bedrooms                   7368 non-null   float64       \n",
      " 3   square_feet                7368 non-null   float64       \n",
      " 4   fips                       7368 non-null   float64       \n",
      " 5   garages                    7368 non-null   float64       \n",
      " 6   garage_size                7368 non-null   float64       \n",
      " 7   lot_size                   7368 non-null   float64       \n",
      " 8   has_pool                   7368 non-null   object        \n",
      " 9   propertycountylandusecode  7368 non-null   object        \n",
      " 10  propertylandusetypeid      7368 non-null   float64       \n",
      " 11  year_built                 7368 non-null   float64       \n",
      " 12  taxvaluedollarcnt          7368 non-null   float64       \n",
      " 13  landtaxvaluedollarcnt      7368 non-null   float64       \n",
      " 14  log_error                  7368 non-null   float64       \n",
      " 15  transaction_date           7368 non-null   datetime64[ns]\n",
      " 16  county                     7368 non-null   object        \n",
      " 17  latitude                   7368 non-null   float64       \n",
      " 18  longitude                  7368 non-null   float64       \n",
      "dtypes: datetime64[ns](1), float64(15), object(3)\n",
      "memory usage: 1.1+ MB\n"
     ]
    }
   ],
   "source": [
    "orange_train.info()"
   ]
  },
  {
   "cell_type": "code",
   "execution_count": 13,
   "id": "e010db0d",
   "metadata": {},
   "outputs": [],
   "source": [
    "continuous_features = orange_train[['bathrooms', 'bedrooms', 'square_feet', 'garages', 'garage_size', 'taxvaluedollarcnt', 'landtaxvaluedollarcnt', 'lot_size', 'year_built']]"
   ]
  },
  {
   "cell_type": "code",
   "execution_count": 14,
   "id": "8d4ed247",
   "metadata": {},
   "outputs": [],
   "source": [
    "discrete_features = orange_train[['has_pool', 'transaction_date', 'propertycountylandusecode']]"
   ]
  },
  {
   "cell_type": "code",
   "execution_count": 15,
   "id": "d3fca4ff",
   "metadata": {},
   "outputs": [
    {
     "data": {
      "text/plain": [
       "<AxesSubplot:title={'center':'Feature Correlation (contiuous variables) of to Log Error'}>"
      ]
     },
     "execution_count": 15,
     "metadata": {},
     "output_type": "execute_result"
    },
    {
     "data": {
      "image/png": "[encoded data removed]",
      "text/plain": [
       "<Figure size 720x288 with 1 Axes>"
      ]
     },
     "metadata": {
      "needs_background": "light"
     },
     "output_type": "display_data"
    }
   ],
   "source": [
    "plt.figure(figsize=(10, 4))\n",
    "# sets the size of the graph\n",
    "plt.title(\"Feature Correlation (contiuous variables) of to Log Error\")\n",
    "corr_chart = continuous_features.corrwith(orange_train['log_error']).sort_values().plot.barh()\n",
    "corr_chart\n"
   ]
  },
  {
   "cell_type": "markdown",
   "id": "72685f47",
   "metadata": {},
   "source": [
    "- square feet, bathrooms, and year built - these 3 move on for modeling"
   ]
  },
  {
   "cell_type": "code",
   "execution_count": null,
   "id": "3a995d45",
   "metadata": {},
   "outputs": [],
   "source": [
    "discrete_features"
   ]
  },
  {
   "cell_type": "code",
   "execution_count": null,
   "id": "9319a785",
   "metadata": {},
   "outputs": [],
   "source": [
    "orange_train"
   ]
  },
  {
   "cell_type": "code",
   "execution_count": null,
   "id": "66e22209",
   "metadata": {},
   "outputs": [],
   "source": [
    "import plotly.express as px"
   ]
  },
  {
   "cell_type": "code",
   "execution_count": null,
   "id": "13de5847",
   "metadata": {},
   "outputs": [],
   "source": [
    "sns.barplot(data=orange_train, x='propertycountylandusecode', y='log_error')\n",
    "plt.title(\"Land Code w/Cont.\")"
   ]
  },
  {
   "cell_type": "code",
   "execution_count": null,
   "id": "94439dc4",
   "metadata": {},
   "outputs": [],
   "source": [
    "orange_train.propertycountylandusecode.value_counts()"
   ]
  },
  {
   "cell_type": "code",
   "execution_count": null,
   "id": "fa8c15a5",
   "metadata": {},
   "outputs": [],
   "source": [
    "sns.set_palette('Set2', 20)\n",
    "# sets colors for graph\n",
    "sns.lmplot(x='year_built', y='lot_size', data=orange_train, scatter=True, hue='propertycountylandusecode', col=None, height=5.5, aspect=8.7/5.5)\n",
    "plt.title(\"Square Footage Correlation (Grouped by Bin) to Log Error\")"
   ]
  },
  {
   "cell_type": "code",
   "execution_count": null,
   "id": "2a61818e",
   "metadata": {},
   "outputs": [],
   "source": [
    "#log error for square foot less than 2000 in 122 is problem\n",
    "#1960\n",
    "#with 2-4 br"
   ]
  },
  {
   "cell_type": "code",
   "execution_count": null,
   "id": "4910c17c",
   "metadata": {},
   "outputs": [],
   "source": [
    "(orange_train.where(orange_train.propertycountylandusecode == '122')).describe()"
   ]
  },
  {
   "cell_type": "code",
   "execution_count": null,
   "id": "24e693a8",
   "metadata": {},
   "outputs": [],
   "source": [
    "(orange_train.where(orange_train.propertycountylandusecode == '1')).describe()"
   ]
  },
  {
   "cell_type": "code",
   "execution_count": null,
   "id": "a17c0373",
   "metadata": {},
   "outputs": [],
   "source": [
    "orange_train.garages.value_counts()"
   ]
  },
  {
   "cell_type": "markdown",
   "id": "42bf2078",
   "metadata": {},
   "source": [
    "Because there are so few properties that have 3+ garages, I'm turning this into a boolean of yes/no garage and dropping garage size."
   ]
  },
  {
   "cell_type": "code",
   "execution_count": 16,
   "id": "85eaf778",
   "metadata": {},
   "outputs": [],
   "source": [
    "orange_train['garages'] = orange_train.garages.astype(bool)"
   ]
  },
  {
   "cell_type": "code",
   "execution_count": null,
   "id": "7927801d",
   "metadata": {},
   "outputs": [],
   "source": [
    "orange_train.garages.value_counts()"
   ]
  },
  {
   "cell_type": "code",
   "execution_count": null,
   "id": "a324f9e6",
   "metadata": {},
   "outputs": [],
   "source": [
    "(orange_train.where(orange_train.propertycountylandusecode == '122')).groupby(orange_train.garages).sum()"
   ]
  },
  {
   "cell_type": "markdown",
   "id": "a04ca65f",
   "metadata": {},
   "source": [
    "pretty much all of the homes in code 1 have garages. "
   ]
  },
  {
   "cell_type": "code",
   "execution_count": 17,
   "id": "838e4a89",
   "metadata": {},
   "outputs": [],
   "source": [
    "orange_train_neg = orange_train.where(orange_train.log_error < 0)\n",
    "orange_train_pos = orange_train.where(orange_train.log_error > 0)"
   ]
  },
  {
   "cell_type": "code",
   "execution_count": null,
   "id": "b99857f4",
   "metadata": {},
   "outputs": [],
   "source": [
    "orange_train_neg.groupby(orange_train_neg.has_pool).mean()"
   ]
  },
  {
   "cell_type": "code",
   "execution_count": null,
   "id": "2b75ea76",
   "metadata": {},
   "outputs": [],
   "source": [
    "orange_train_neg.describe()"
   ]
  },
  {
   "cell_type": "code",
   "execution_count": 19,
   "id": "49c62e37",
   "metadata": {},
   "outputs": [],
   "source": [
    "orange_train['has_pool'] = orange_train.has_pool.astype(int)\n",
    "orange_train['garages'] = orange_train.has_pool.astype(int)"
   ]
  },
  {
   "cell_type": "code",
   "execution_count": 20,
   "id": "7aeab8b5",
   "metadata": {},
   "outputs": [],
   "source": [
    "bins = [-.6, -.0475, -.0244, -.0106, 0, .0125, .0283, .0586, .6]\n",
    "labels = ['N4','N3','N2','N1', 'P1', 'P2', 'P3', 'P4']\n",
    "orange_train['log_error_bin'] = pd.cut(orange_train['log_error'], bins=bins, labels=labels)\n",
    "orange_validate['log_error_bin'] = pd.cut(orange_validate['log_error'], bins=bins, labels=labels)\n",
    "orange_test['log_error_bin'] = pd.cut(orange_test['log_error'], bins=bins, labels=labels)"
   ]
  },
  {
   "cell_type": "code",
   "execution_count": 21,
   "id": "0a0627b7",
   "metadata": {},
   "outputs": [],
   "source": [
    "pd.set_option('display.max_columns', None)\n",
    "pd.set_option('display.max_rows', None)"
   ]
  },
  {
   "cell_type": "code",
   "execution_count": 25,
   "id": "53d86eca",
   "metadata": {},
   "outputs": [
    {
     "name": "stdout",
     "output_type": "stream",
     "text": [
      "<class 'pandas.core.frame.DataFrame'>\n",
      "Int64Index: 7368 entries, 50705 to 1588\n",
      "Data columns (total 20 columns):\n",
      " #   Column                     Non-Null Count  Dtype         \n",
      "---  ------                     --------------  -----         \n",
      " 0   parcelid                   3052 non-null   float64       \n",
      " 1   bathrooms                  3052 non-null   float64       \n",
      " 2   bedrooms                   3052 non-null   float64       \n",
      " 3   square_feet                3052 non-null   float64       \n",
      " 4   fips                       3052 non-null   float64       \n",
      " 5   garages                    3052 non-null   object        \n",
      " 6   garage_size                3052 non-null   float64       \n",
      " 7   lot_size                   3052 non-null   float64       \n",
      " 8   has_pool                   3052 non-null   object        \n",
      " 9   propertycountylandusecode  3052 non-null   object        \n",
      " 10  propertylandusetypeid      3052 non-null   float64       \n",
      " 11  year_built                 3052 non-null   float64       \n",
      " 12  taxvaluedollarcnt          3052 non-null   float64       \n",
      " 13  landtaxvaluedollarcnt      3052 non-null   float64       \n",
      " 14  log_error                  3052 non-null   float64       \n",
      " 15  transaction_date           3052 non-null   datetime64[ns]\n",
      " 16  county                     3052 non-null   object        \n",
      " 17  latitude                   3052 non-null   float64       \n",
      " 18  longitude                  3052 non-null   float64       \n",
      " 19  log_error_bin              3052 non-null   category      \n",
      "dtypes: category(1), datetime64[ns](1), float64(14), object(4)\n",
      "memory usage: 1.1+ MB\n"
     ]
    }
   ],
   "source": [
    "orange_train_neg.info()"
   ]
  },
  {
   "cell_type": "code",
   "execution_count": null,
   "id": "976e6fb4",
   "metadata": {},
   "outputs": [],
   "source": [
    "orange_train.groupby(orange_train.log_error_bin == 'N4').max()"
   ]
  },
  {
   "cell_type": "code",
   "execution_count": 22,
   "id": "67cd9b67",
   "metadata": {},
   "outputs": [],
   "source": [
    "bins = [0, .0125, .0283, .0586, .6]\n",
    "labels = ['P1', 'P2', 'P3', 'P4']\n",
    "orange_train_pos['log_error_bin'] = pd.cut(orange_train_pos['log_error'], bins=bins, labels=labels)"
   ]
  },
  {
   "cell_type": "code",
   "execution_count": 23,
   "id": "d3bc300b",
   "metadata": {},
   "outputs": [],
   "source": [
    "bins = [-.6, -.0475, -.0244, -.0106, 0.01]\n",
    "labels = ['N4','N3','N2','N1']\n",
    "orange_train_neg['log_error_bin'] = pd.cut(orange_train_neg['log_error'], bins=bins, labels=labels)"
   ]
  },
  {
   "cell_type": "code",
   "execution_count": null,
   "id": "eac3ae43",
   "metadata": {},
   "outputs": [],
   "source": [
    "sns.set_palette('Set2', 20)\n",
    "# sets colors for graph\n",
    "sns.lmplot(x='year_built', y='log_error', data=orange_train, scatter=True, col=None, height=5.5, aspect=8.7/5.5)\n",
    "plt.title(\"Square Footage Correlation (Grouped by Bin) to Log Error\")"
   ]
  },
  {
   "cell_type": "code",
   "execution_count": null,
   "id": "850f2604",
   "metadata": {},
   "outputs": [],
   "source": [
    "sns.set_palette('Set2', 20)\n",
    "# sets colors for graph\n",
    "sns.lmplot(x='year_built', y='log_error', data=orange_train_pos, scatter=True, hue='log_error_bin', col=None, height=5.5, aspect=8.7/5.5)\n",
    "plt.title(\"Square Footage Correlation (Grouped by Bin) to Log Error\")"
   ]
  },
  {
   "cell_type": "code",
   "execution_count": 27,
   "id": "d149eed1",
   "metadata": {},
   "outputs": [
    {
     "data": {
      "text/plain": [
       "Text(0.5, 1.0, 'Square Footage Correlation (Grouped by Bin) to Log Error')"
      ]
     },
     "execution_count": 27,
     "metadata": {},
     "output_type": "execute_result"
    },
    {
     "data": {
      "image/png": "[encoded data removed]",
      "text/plain": [
       "<Figure size 699.275x396 with 1 Axes>"
      ]
     },
     "metadata": {
      "needs_background": "light"
     },
     "output_type": "display_data"
    }
   ],
   "source": [
    "sns.set_palette('Set2', 20)\n",
    "# sets colors for graph\n",
    "sns.lmplot(x='taxvaluedollarcnt', y='log_error', data=orange_train_pos, scatter=True, hue='log_error_bin', col=None, height=5.5, aspect=8.7/5.5)\n",
    "plt.title(\"Square Footage Correlation (Grouped by Bin) to Log Error\")"
   ]
  },
  {
   "cell_type": "code",
   "execution_count": null,
   "id": "21397762",
   "metadata": {},
   "outputs": [],
   "source": [
    "sns.set_palette('Set2', 20)\n",
    "# sets colors for graph\n",
    "sns.lmplot(x='lot_size', y='log_error', data=orange_train_pos, scatter=True, hue='log_error_bin', col=None, height=5.5, aspect=8.7/5.5)\n",
    "plt.title(\"Square Footage Correlation (Grouped by Bin) to Log Error\")"
   ]
  },
  {
   "cell_type": "code",
   "execution_count": 115,
   "id": "ff3c3e56",
   "metadata": {},
   "outputs": [
    {
     "ename": "NameError",
     "evalue": "name 'pos_orange_train' is not defined",
     "output_type": "error",
     "traceback": [
      "\u001b[0;31m---------------------------------------------------------------------------\u001b[0m",
      "\u001b[0;31mNameError\u001b[0m                                 Traceback (most recent call last)",
      "\u001b[0;32m/var/folders/s4/hmz6ljm533vgpm_bhv59yw0m0000gn/T/ipykernel_57150/1854156685.py\u001b[0m in \u001b[0;36m<module>\u001b[0;34m\u001b[0m\n\u001b[1;32m      1\u001b[0m \u001b[0msns\u001b[0m\u001b[0;34m.\u001b[0m\u001b[0mset_palette\u001b[0m\u001b[0;34m(\u001b[0m\u001b[0;34m'Set2'\u001b[0m\u001b[0;34m,\u001b[0m \u001b[0;36m20\u001b[0m\u001b[0;34m)\u001b[0m\u001b[0;34m\u001b[0m\u001b[0;34m\u001b[0m\u001b[0m\n\u001b[1;32m      2\u001b[0m \u001b[0;31m# sets colors for graph\u001b[0m\u001b[0;34m\u001b[0m\u001b[0;34m\u001b[0m\u001b[0m\n\u001b[0;32m----> 3\u001b[0;31m \u001b[0msns\u001b[0m\u001b[0;34m.\u001b[0m\u001b[0mlmplot\u001b[0m\u001b[0;34m(\u001b[0m\u001b[0mx\u001b[0m\u001b[0;34m=\u001b[0m\u001b[0;34m'lot_size'\u001b[0m\u001b[0;34m,\u001b[0m \u001b[0my\u001b[0m\u001b[0;34m=\u001b[0m\u001b[0;34m'log_error'\u001b[0m\u001b[0;34m,\u001b[0m \u001b[0mdata\u001b[0m\u001b[0;34m=\u001b[0m\u001b[0mpos_orange_train\u001b[0m\u001b[0;34m,\u001b[0m \u001b[0mscatter\u001b[0m\u001b[0;34m=\u001b[0m\u001b[0;32mTrue\u001b[0m\u001b[0;34m,\u001b[0m \u001b[0mhue\u001b[0m\u001b[0;34m=\u001b[0m\u001b[0;34m'log_error_bin'\u001b[0m\u001b[0;34m,\u001b[0m \u001b[0mcol\u001b[0m\u001b[0;34m=\u001b[0m\u001b[0;32mNone\u001b[0m\u001b[0;34m,\u001b[0m \u001b[0mheight\u001b[0m\u001b[0;34m=\u001b[0m\u001b[0;36m5.5\u001b[0m\u001b[0;34m,\u001b[0m \u001b[0maspect\u001b[0m\u001b[0;34m=\u001b[0m\u001b[0;36m8.7\u001b[0m\u001b[0;34m/\u001b[0m\u001b[0;36m5.5\u001b[0m\u001b[0;34m)\u001b[0m\u001b[0;34m\u001b[0m\u001b[0;34m\u001b[0m\u001b[0m\n\u001b[0m\u001b[1;32m      4\u001b[0m \u001b[0mplt\u001b[0m\u001b[0;34m.\u001b[0m\u001b[0mtitle\u001b[0m\u001b[0;34m(\u001b[0m\u001b[0;34m\"Square Footage Correlation (Grouped by Bin) to Log Error\"\u001b[0m\u001b[0;34m)\u001b[0m\u001b[0;34m\u001b[0m\u001b[0;34m\u001b[0m\u001b[0m\n",
      "\u001b[0;31mNameError\u001b[0m: name 'pos_orange_train' is not defined"
     ]
    }
   ],
   "source": [
    "sns.set_palette('Set2', 20)\n",
    "# sets colors for graph\n",
    "sns.lmplot(x='lot_size', y='log_error', data=pos_orange_train, scatter=True, hue='log_error_bin', col=None, height=5.5, aspect=8.7/5.5)\n",
    "plt.title(\"Square Footage Correlation (Grouped by Bin) to Log Error\")"
   ]
  },
  {
   "cell_type": "code",
   "execution_count": 28,
   "id": "94d86b91",
   "metadata": {},
   "outputs": [],
   "source": [
    "orange_train = orange_train[orange_train.lot_size < 200000]\n",
    "orange_validate = orange_validate[orange_validate.lot_size < 200000]\n",
    "orange_test = orange_test[orange_test.lot_size < 200000]\n",
    "orange_train_pos = orange_train_pos[orange_train_pos.lot_size < 200000]\n",
    "orange_train_neg = orange_train_neg[orange_train_neg.lot_size < 200000]"
   ]
  },
  {
   "cell_type": "code",
   "execution_count": null,
   "id": "87b90376",
   "metadata": {},
   "outputs": [],
   "source": [
    "sns.set_palette('Set2', 20)\n",
    "# sets colors for graph\n",
    "sns.lmplot(x='lot_size', y='log_error', data=orange_train_pos, scatter=True, hue='log_error_bin', col=None, height=5.5, aspect=8.7/5.5)\n",
    "plt.title(\"Square Footage Correlation (Grouped by Bin) to Log Error\")"
   ]
  },
  {
   "cell_type": "code",
   "execution_count": null,
   "id": "1a837a0d",
   "metadata": {},
   "outputs": [],
   "source": []
  },
  {
   "cell_type": "code",
   "execution_count": null,
   "id": "a3c637c5",
   "metadata": {},
   "outputs": [],
   "source": []
  },
  {
   "cell_type": "code",
   "execution_count": 31,
   "id": "d0086057",
   "metadata": {},
   "outputs": [
    {
     "data": {
      "text/plain": [
       "<AxesSubplot:title={'center':'Feature Correlation to Churn'}>"
      ]
     },
     "execution_count": 31,
     "metadata": {},
     "output_type": "execute_result"
    },
    {
     "data": {
      "image/png": "[encoded data removed]",
      "text/plain": [
       "<Figure size 1296x1080 with 1 Axes>"
      ]
     },
     "metadata": {
      "needs_background": "light"
     },
     "output_type": "display_data"
    }
   ],
   "source": [
    "plt.figure(figsize=(18,15))\n",
    "plt.title(\"Feature Correlation to Churn\")\n",
    "corr_chart = orange_train_neg.drop(\"log_error\", axis=1).corrwith(orange_train_neg['log_error']).sort_values().plot.barh()\n",
    "corr_chart"
   ]
  },
  {
   "cell_type": "code",
   "execution_count": null,
   "id": "b8b64f3b",
   "metadata": {},
   "outputs": [],
   "source": [
    "orange_train['weight_lot'] = orange_train['lot_size'] * 3.5\n",
    "orange_validate['weight_lot'] = orange_validate['lot_size'] * 3.5\n",
    "orange_test['weight_lot'] = orange_test['lot_size'] * 3.5"
   ]
  },
  {
   "cell_type": "code",
   "execution_count": null,
   "id": "8e1d4e90",
   "metadata": {},
   "outputs": [],
   "source": [
    "scaler = sklearn.preprocessing.StandardScaler()\n",
    "scaler.fit(orange_train[['weight_lot', 'square_feet']])"
   ]
  },
  {
   "cell_type": "code",
   "execution_count": null,
   "id": "e9b3d090",
   "metadata": {},
   "outputs": [],
   "source": [
    "orange_train[['scallot', 'scalsquare']] = scaler.transform(orange_train[['weight_lot', 'square_feet']])"
   ]
  },
  {
   "cell_type": "code",
   "execution_count": null,
   "id": "456bb338",
   "metadata": {},
   "outputs": [],
   "source": [
    "orange_validate[['scallot', 'scalsquare']] = scaler.transform(orange_validate[['weight_lot', 'square_feet']])\n",
    "orange_test[['scallot', 'scalsquare']] = scaler.transform(orange_test[['weight_lot', 'square_feet']])"
   ]
  },
  {
   "cell_type": "code",
   "execution_count": null,
   "id": "02393919",
   "metadata": {},
   "outputs": [],
   "source": [
    "orange_train['sqft'] = (orange_train.scallot + orange_train.scalsquare) / 2\n",
    "orange_validate['sqft'] = (orange_validate.scallot + orange_validate.scalsquare) / 2\n",
    "orange_test['sqft'] = (orange_test.scallot + orange_test.scalsquare) / 2"
   ]
  },
  {
   "cell_type": "code",
   "execution_count": null,
   "id": "bee20895",
   "metadata": {},
   "outputs": [],
   "source": [
    "orange_train_neg = orange_train.where(orange_train.log_error < 0)\n",
    "orange_train_pos = orange_train.where(orange_train.log_error > 0)"
   ]
  },
  {
   "cell_type": "code",
   "execution_count": null,
   "id": "56c92f3c",
   "metadata": {},
   "outputs": [],
   "source": [
    "datap1 = orange_train_pos[orange_train_pos.log_error_bin == 'P1']\n",
    "datap2 = orange_train_pos[orange_train_pos.log_error_bin == 'P2']\n",
    "datap3 = orange_train_pos[orange_train_pos.log_error_bin == 'P3']\n",
    "datap4 = orange_train_pos[orange_train_pos.log_error_bin == 'P4']"
   ]
  },
  {
   "cell_type": "code",
   "execution_count": null,
   "id": "d73f5c63",
   "metadata": {},
   "outputs": [],
   "source": [
    "datan1 = orange_train_neg[orange_train_neg.log_error_bin == 'N1']\n",
    "datan2 = orange_train_neg[orange_train_neg.log_error_bin == 'N2']\n",
    "datan3 = orange_train_neg[orange_train_neg.log_error_bin == 'N3']\n",
    "datan4 = orange_train_neg[orange_train_neg.log_error_bin == 'N4']"
   ]
  },
  {
   "cell_type": "code",
   "execution_count": null,
   "id": "b4aded40",
   "metadata": {},
   "outputs": [],
   "source": [
    "dp1 = datap1[['bedrooms', 'bathrooms', 'sqft', 'square_feet', 'lot_size', 'year_built', 'log_error']]\n",
    "dp2 = datap2[['bedrooms', 'bathrooms', 'sqft','square_feet', 'lot_size', 'year_built', 'log_error']]\n",
    "dp3 = datap3[['bedrooms', 'bathrooms','sqft', 'square_feet', 'lot_size', 'year_built', 'log_error']]\n",
    "dp4 = datap4[['bedrooms', 'bathrooms', 'sqft','square_feet', 'lot_size', 'year_built', 'log_error']]"
   ]
  },
  {
   "cell_type": "code",
   "execution_count": null,
   "id": "0f348bf2",
   "metadata": {},
   "outputs": [],
   "source": [
    "dn1 = datan1[['bedrooms', 'bathrooms','sqft', 'square_feet', 'lot_size', 'year_built', 'log_error']]\n",
    "dn2 = datan2[['bedrooms', 'bathrooms', 'sqft','square_feet', 'lot_size', 'year_built', 'log_error']]\n",
    "dn3 = datan3[['bedrooms', 'bathrooms', 'sqft','square_feet', 'lot_size', 'year_built', 'log_error']]\n",
    "dn4 = datan4[['bedrooms', 'bathrooms', 'sqft','square_feet', 'lot_size', 'year_built', 'log_error']]"
   ]
  },
  {
   "cell_type": "code",
   "execution_count": null,
   "id": "47a1807b",
   "metadata": {},
   "outputs": [],
   "source": [
    "data_pos = orange_train_pos[['bedrooms', 'sqft', 'bathrooms', 'square_feet', 'lot_size', 'year_built', 'log_error']]\n",
    "data_neg = orange_train_neg[['bedrooms', 'sqft', 'bathrooms', 'square_feet', 'lot_size', 'year_built', 'log_error']]"
   ]
  },
  {
   "cell_type": "code",
   "execution_count": null,
   "id": "a14ec5e7",
   "metadata": {},
   "outputs": [],
   "source": [
    "sns.pairplot(data_pos)"
   ]
  },
  {
   "cell_type": "code",
   "execution_count": null,
   "id": "2f304eb4",
   "metadata": {},
   "outputs": [],
   "source": [
    "sns.pairplot(dp3)"
   ]
  },
  {
   "cell_type": "code",
   "execution_count": null,
   "id": "90342b5a",
   "metadata": {},
   "outputs": [],
   "source": [
    "sns.pairplot(dp4)"
   ]
  },
  {
   "cell_type": "code",
   "execution_count": null,
   "id": "75f2ee98",
   "metadata": {},
   "outputs": [],
   "source": [
    "sns.pairplot(dn4)"
   ]
  },
  {
   "cell_type": "markdown",
   "id": "18bf0f4f",
   "metadata": {},
   "source": [
    "Log error- higher for having gargage\n",
    "higher for 1 bedroom and bit higher for 5 beds\n",
    "higher for 4 + bathrooms\n",
    "before 1949 has higher log error\n",
    "square feet - I think it's greater for small and big\n",
    "very low for having a pool\n",
    "\n",
    "not\n",
    "-landusecode"
   ]
  },
  {
   "cell_type": "code",
   "execution_count": null,
   "id": "70413081",
   "metadata": {},
   "outputs": [],
   "source": [
    "plt.figure(figsize=(18,15))\n",
    "plt.title(\"Feature Correlation to Churn\")\n",
    "corr_chart = orange_train.drop(\"log_error\", axis=1).corrwith(abs(orange_train['log_error'])).sort_values().plot.barh()\n",
    "corr_chart"
   ]
  },
  {
   "cell_type": "code",
   "execution_count": 45,
   "id": "2cc1930e",
   "metadata": {},
   "outputs": [],
   "source": [
    "from sklearn.cluster import KMeans\n",
    "import sklearn.preprocessing"
   ]
  },
  {
   "cell_type": "code",
   "execution_count": 32,
   "id": "269eaef2",
   "metadata": {},
   "outputs": [
    {
     "name": "stdout",
     "output_type": "stream",
     "text": [
      "<class 'pandas.core.frame.DataFrame'>\n",
      "Int64Index: 7367 entries, 50705 to 1588\n",
      "Data columns (total 20 columns):\n",
      " #   Column                     Non-Null Count  Dtype         \n",
      "---  ------                     --------------  -----         \n",
      " 0   parcelid                   7367 non-null   float64       \n",
      " 1   bathrooms                  7367 non-null   float64       \n",
      " 2   bedrooms                   7367 non-null   float64       \n",
      " 3   square_feet                7367 non-null   float64       \n",
      " 4   fips                       7367 non-null   float64       \n",
      " 5   garages                    7367 non-null   int64         \n",
      " 6   garage_size                7367 non-null   float64       \n",
      " 7   lot_size                   7367 non-null   float64       \n",
      " 8   has_pool                   7367 non-null   int64         \n",
      " 9   propertycountylandusecode  7367 non-null   object        \n",
      " 10  propertylandusetypeid      7367 non-null   float64       \n",
      " 11  year_built                 7367 non-null   float64       \n",
      " 12  taxvaluedollarcnt          7367 non-null   float64       \n",
      " 13  landtaxvaluedollarcnt      7367 non-null   float64       \n",
      " 14  log_error                  7367 non-null   float64       \n",
      " 15  transaction_date           7367 non-null   datetime64[ns]\n",
      " 16  county                     7367 non-null   object        \n",
      " 17  latitude                   7367 non-null   float64       \n",
      " 18  longitude                  7367 non-null   float64       \n",
      " 19  log_error_bin              7367 non-null   category      \n",
      "dtypes: category(1), datetime64[ns](1), float64(14), int64(2), object(2)\n",
      "memory usage: 1.1+ MB\n"
     ]
    }
   ],
   "source": [
    "orange_train.info()"
   ]
  },
  {
   "cell_type": "code",
   "execution_count": 46,
   "id": "060f9181",
   "metadata": {},
   "outputs": [],
   "source": [
    "scaler = sklearn.preprocessing.MinMaxScaler()\n",
    "scaler.fit(orange_train[['bedrooms', 'bathrooms', 'year_built', 'taxvaluedollarcnt', 'landtaxvaluedollarcnt', 'has_pool', 'garages', 'lot_size','year_built']])\n",
    "# inserts the 4 selected features into the scaler\n",
    "\n",
    "orange_train_s = (orange_train[['bedrooms', 'bathrooms', 'year_built', 'taxvaluedollarcnt', 'landtaxvaluedollarcnt', 'has_pool', 'garages', 'lot_size','year_built']])\n",
    "orange_validate_s  = (orange_validate[['bedrooms', 'bathrooms', 'year_built', 'taxvaluedollarcnt', 'landtaxvaluedollarcnt', 'has_pool', 'garages', 'lot_size','year_built']])\n",
    "orange_test_s = (orange_test[['bedrooms', 'bathrooms', 'year_built', 'taxvaluedollarcnt', 'landtaxvaluedollarcnt', 'has_pool', 'garages', 'lot_size','year_built']])\n",
    "\n",
    "orange_train_scal = scaler.transform(orange_train[['bedrooms', 'bathrooms', 'year_built', 'taxvaluedollarcnt', 'landtaxvaluedollarcnt', 'has_pool', 'garages', 'lot_size','year_built']])\n",
    "orange_validate_scal  = scaler.transform(orange_validate[['bedrooms', 'bathrooms', 'year_built', 'taxvaluedollarcnt', 'landtaxvaluedollarcnt', 'has_pool', 'garages', 'lot_size','year_built']])\n",
    "orange_test_scal  = scaler.transform(orange_test[['bedrooms', 'bathrooms', 'year_built', 'taxvaluedollarcnt', 'landtaxvaluedollarcnt', 'has_pool', 'garages', 'lot_size','year_built']])"
   ]
  },
  {
   "cell_type": "code",
   "execution_count": 47,
   "id": "845feb74",
   "metadata": {},
   "outputs": [],
   "source": [
    "X_train_scaled = pd.DataFrame(orange_train_scal, index=orange_train_s.index, columns=orange_train_s.columns)\n",
    "X_validate_scaled = pd.DataFrame(orange_validate_scal, index=orange_validate_s.index, columns=orange_validate_s.columns)\n",
    "X_test_scaled = pd.DataFrame(orange_test_scal, index=orange_test_s.index, columns=orange_test_s.columns)"
   ]
  },
  {
   "cell_type": "code",
   "execution_count": 53,
   "id": "a4b1c609",
   "metadata": {},
   "outputs": [
    {
     "data": {
      "text/html": [
       "<div>\n",
       "<style scoped>\n",
       "    .dataframe tbody tr th:only-of-type {\n",
       "        vertical-align: middle;\n",
       "    }\n",
       "\n",
       "    .dataframe tbody tr th {\n",
       "        vertical-align: top;\n",
       "    }\n",
       "\n",
       "    .dataframe thead th {\n",
       "        text-align: right;\n",
       "    }\n",
       "</style>\n",
       "<table border=\"1\" class=\"dataframe\">\n",
       "  <thead>\n",
       "    <tr style=\"text-align: right;\">\n",
       "      <th></th>\n",
       "      <th>bedrooms</th>\n",
       "      <th>bathrooms</th>\n",
       "      <th>year_built</th>\n",
       "      <th>taxvaluedollarcnt</th>\n",
       "      <th>landtaxvaluedollarcnt</th>\n",
       "      <th>has_pool</th>\n",
       "      <th>garages</th>\n",
       "      <th>lot_size</th>\n",
       "      <th>year_built</th>\n",
       "    </tr>\n",
       "  </thead>\n",
       "  <tbody>\n",
       "    <tr>\n",
       "      <th>0</th>\n",
       "      <td>0.784266</td>\n",
       "      <td>0.645029</td>\n",
       "      <td>0.765582</td>\n",
       "      <td>0.366169</td>\n",
       "      <td>0.232003</td>\n",
       "      <td>1.000000e+00</td>\n",
       "      <td>1.000000e+00</td>\n",
       "      <td>0.088355</td>\n",
       "      <td>0.765582</td>\n",
       "    </tr>\n",
       "    <tr>\n",
       "      <th>1</th>\n",
       "      <td>0.432620</td>\n",
       "      <td>0.218787</td>\n",
       "      <td>0.506423</td>\n",
       "      <td>0.105508</td>\n",
       "      <td>0.091097</td>\n",
       "      <td>-2.775558e-17</td>\n",
       "      <td>-2.775558e-17</td>\n",
       "      <td>0.038612</td>\n",
       "      <td>0.506423</td>\n",
       "    </tr>\n",
       "    <tr>\n",
       "      <th>2</th>\n",
       "      <td>0.783794</td>\n",
       "      <td>0.343727</td>\n",
       "      <td>0.526968</td>\n",
       "      <td>0.116930</td>\n",
       "      <td>0.094045</td>\n",
       "      <td>6.383782e-16</td>\n",
       "      <td>6.383782e-16</td>\n",
       "      <td>0.047389</td>\n",
       "      <td>0.526968</td>\n",
       "    </tr>\n",
       "    <tr>\n",
       "      <th>3</th>\n",
       "      <td>0.647785</td>\n",
       "      <td>0.333262</td>\n",
       "      <td>0.541437</td>\n",
       "      <td>0.140858</td>\n",
       "      <td>0.108295</td>\n",
       "      <td>1.000000e+00</td>\n",
       "      <td>1.000000e+00</td>\n",
       "      <td>0.057476</td>\n",
       "      <td>0.541437</td>\n",
       "    </tr>\n",
       "    <tr>\n",
       "      <th>4</th>\n",
       "      <td>0.656784</td>\n",
       "      <td>0.500896</td>\n",
       "      <td>0.814504</td>\n",
       "      <td>0.259577</td>\n",
       "      <td>0.168213</td>\n",
       "      <td>8.049117e-16</td>\n",
       "      <td>8.049117e-16</td>\n",
       "      <td>0.039391</td>\n",
       "      <td>0.814504</td>\n",
       "    </tr>\n",
       "  </tbody>\n",
       "</table>\n",
       "</div>"
      ],
      "text/plain": [
       "   bedrooms  bathrooms  year_built  taxvaluedollarcnt  landtaxvaluedollarcnt  \\\n",
       "0  0.784266   0.645029    0.765582           0.366169               0.232003   \n",
       "1  0.432620   0.218787    0.506423           0.105508               0.091097   \n",
       "2  0.783794   0.343727    0.526968           0.116930               0.094045   \n",
       "3  0.647785   0.333262    0.541437           0.140858               0.108295   \n",
       "4  0.656784   0.500896    0.814504           0.259577               0.168213   \n",
       "\n",
       "       has_pool       garages  lot_size  year_built  \n",
       "0  1.000000e+00  1.000000e+00  0.088355    0.765582  \n",
       "1 -2.775558e-17 -2.775558e-17  0.038612    0.506423  \n",
       "2  6.383782e-16  6.383782e-16  0.047389    0.526968  \n",
       "3  1.000000e+00  1.000000e+00  0.057476    0.541437  \n",
       "4  8.049117e-16  8.049117e-16  0.039391    0.814504  "
      ]
     },
     "execution_count": 53,
     "metadata": {},
     "output_type": "execute_result"
    }
   ],
   "source": [
    "kmeans = KMeans(n_clusters=5)\n",
    "kmeans.fit(X_train_scaled)\n",
    "\n",
    "kmeans.predict(X_train_scaled)\n",
    "\n",
    "orange_train['KM'] = kmeans.predict(X_train_scaled)\n",
    "orange_validate['KM'] = kmeans.predict(X_validate_scaled)\n",
    "orange_test['KM'] = kmeans.predict(X_test_scaled)\n",
    "\n",
    "centroids = pd.DataFrame(kmeans.cluster_centers_, columns=X_train_scaled.columns)\n",
    "centroids"
   ]
  },
  {
   "cell_type": "code",
   "execution_count": 52,
   "id": "49a78e79",
   "metadata": {},
   "outputs": [
    {
     "data": {
      "image/png": "[encoded data removed]",
      "text/plain": [
       "<Figure size 648x432 with 1 Axes>"
      ]
     },
     "metadata": {},
     "output_type": "display_data"
    }
   ],
   "source": [
    "with plt.style.context('seaborn-whitegrid'):\n",
    "    plt.figure(figsize=(9, 6))\n",
    "    pd.Series({k: KMeans(k).fit(orange_train_scal).inertia_ for k in range(2, 12)}).plot(marker='x')\n",
    "    plt.xticks(range(2, 12))\n",
    "    plt.xlabel('k')\n",
    "    plt.ylabel('inertia')\n",
    "    plt.title('Change in inertia as k increases')"
   ]
  },
  {
   "cell_type": "code",
   "execution_count": 73,
   "id": "a92d9f0f",
   "metadata": {},
   "outputs": [],
   "source": [
    "KM0 = orange_train.where(orange_train.KM == 0)\n",
    "KM1 = orange_train.where(orange_train.KM == 1)\n",
    "KM2 = orange_train.where(orange_train.KM == 2)\n",
    "KM3 = orange_train.where(orange_train.KM == 3)\n",
    "KM4 = orange_train.where(orange_train.KM == 4)\n",
    "\n",
    "KM0 = KM0.dropna()\n",
    "KM1 = KM1.dropna()\n",
    "KM2 = KM2.dropna()\n",
    "KM3 = KM3.dropna()\n",
    "KM4 = KM4.dropna()"
   ]
  },
  {
   "cell_type": "code",
   "execution_count": 76,
   "id": "2d8b0166",
   "metadata": {},
   "outputs": [
    {
     "data": {
      "text/html": [
       "<div>\n",
       "<style scoped>\n",
       "    .dataframe tbody tr th:only-of-type {\n",
       "        vertical-align: middle;\n",
       "    }\n",
       "\n",
       "    .dataframe tbody tr th {\n",
       "        vertical-align: top;\n",
       "    }\n",
       "\n",
       "    .dataframe thead th {\n",
       "        text-align: right;\n",
       "    }\n",
       "</style>\n",
       "<table border=\"1\" class=\"dataframe\">\n",
       "  <thead>\n",
       "    <tr style=\"text-align: right;\">\n",
       "      <th></th>\n",
       "      <th>parcelid</th>\n",
       "      <th>bathrooms</th>\n",
       "      <th>bedrooms</th>\n",
       "      <th>square_feet</th>\n",
       "      <th>fips</th>\n",
       "      <th>garages</th>\n",
       "      <th>garage_size</th>\n",
       "      <th>lot_size</th>\n",
       "      <th>has_pool</th>\n",
       "      <th>propertylandusetypeid</th>\n",
       "      <th>year_built</th>\n",
       "      <th>taxvaluedollarcnt</th>\n",
       "      <th>landtaxvaluedollarcnt</th>\n",
       "      <th>log_error</th>\n",
       "      <th>latitude</th>\n",
       "      <th>longitude</th>\n",
       "      <th>KM</th>\n",
       "    </tr>\n",
       "  </thead>\n",
       "  <tbody>\n",
       "    <tr>\n",
       "      <th>count</th>\n",
       "      <td>1.814000e+03</td>\n",
       "      <td>1814.000000</td>\n",
       "      <td>1814.000000</td>\n",
       "      <td>1814.000000</td>\n",
       "      <td>1814.0</td>\n",
       "      <td>1814.0</td>\n",
       "      <td>1814.000000</td>\n",
       "      <td>1814.000000</td>\n",
       "      <td>1814.0</td>\n",
       "      <td>1814.0</td>\n",
       "      <td>1814.00000</td>\n",
       "      <td>1.814000e+03</td>\n",
       "      <td>1.814000e+03</td>\n",
       "      <td>1814.000000</td>\n",
       "      <td>1814.000000</td>\n",
       "      <td>1814.000000</td>\n",
       "      <td>1814.0</td>\n",
       "    </tr>\n",
       "    <tr>\n",
       "      <th>mean</th>\n",
       "      <td>1.430604e+07</td>\n",
       "      <td>3.003583</td>\n",
       "      <td>3.627343</td>\n",
       "      <td>2544.082139</td>\n",
       "      <td>6059.0</td>\n",
       "      <td>0.0</td>\n",
       "      <td>521.039691</td>\n",
       "      <td>6008.024807</td>\n",
       "      <td>0.0</td>\n",
       "      <td>261.0</td>\n",
       "      <td>1995.51323</td>\n",
       "      <td>8.056167e+05</td>\n",
       "      <td>4.793201e+05</td>\n",
       "      <td>0.013634</td>\n",
       "      <td>33.662753</td>\n",
       "      <td>-117.753753</td>\n",
       "      <td>4.0</td>\n",
       "    </tr>\n",
       "    <tr>\n",
       "      <th>std</th>\n",
       "      <td>1.802537e+05</td>\n",
       "      <td>0.632685</td>\n",
       "      <td>0.699099</td>\n",
       "      <td>743.312998</td>\n",
       "      <td>0.0</td>\n",
       "      <td>0.0</td>\n",
       "      <td>119.534714</td>\n",
       "      <td>5419.069117</td>\n",
       "      <td>0.0</td>\n",
       "      <td>0.0</td>\n",
       "      <td>9.31703</td>\n",
       "      <td>4.265024e+05</td>\n",
       "      <td>3.445011e+05</td>\n",
       "      <td>0.063325</td>\n",
       "      <td>0.131287</td>\n",
       "      <td>0.128260</td>\n",
       "      <td>0.0</td>\n",
       "    </tr>\n",
       "    <tr>\n",
       "      <th>min</th>\n",
       "      <td>1.383769e+07</td>\n",
       "      <td>1.000000</td>\n",
       "      <td>1.000000</td>\n",
       "      <td>911.000000</td>\n",
       "      <td>6059.0</td>\n",
       "      <td>0.0</td>\n",
       "      <td>0.000000</td>\n",
       "      <td>880.000000</td>\n",
       "      <td>0.0</td>\n",
       "      <td>261.0</td>\n",
       "      <td>1954.00000</td>\n",
       "      <td>8.704500e+04</td>\n",
       "      <td>1.794200e+04</td>\n",
       "      <td>-0.299544</td>\n",
       "      <td>33.393644</td>\n",
       "      <td>-118.111451</td>\n",
       "      <td>4.0</td>\n",
       "    </tr>\n",
       "    <tr>\n",
       "      <th>25%</th>\n",
       "      <td>1.420176e+07</td>\n",
       "      <td>2.500000</td>\n",
       "      <td>3.000000</td>\n",
       "      <td>1963.000000</td>\n",
       "      <td>6059.0</td>\n",
       "      <td>0.0</td>\n",
       "      <td>436.000000</td>\n",
       "      <td>3800.000000</td>\n",
       "      <td>0.0</td>\n",
       "      <td>261.0</td>\n",
       "      <td>1989.00000</td>\n",
       "      <td>5.361880e+05</td>\n",
       "      <td>2.761762e+05</td>\n",
       "      <td>-0.011089</td>\n",
       "      <td>33.566103</td>\n",
       "      <td>-117.838049</td>\n",
       "      <td>4.0</td>\n",
       "    </tr>\n",
       "    <tr>\n",
       "      <th>50%</th>\n",
       "      <td>1.435703e+07</td>\n",
       "      <td>3.000000</td>\n",
       "      <td>4.000000</td>\n",
       "      <td>2461.000000</td>\n",
       "      <td>6059.0</td>\n",
       "      <td>0.0</td>\n",
       "      <td>484.000000</td>\n",
       "      <td>5082.000000</td>\n",
       "      <td>0.0</td>\n",
       "      <td>261.0</td>\n",
       "      <td>1996.00000</td>\n",
       "      <td>7.114180e+05</td>\n",
       "      <td>4.190740e+05</td>\n",
       "      <td>0.008342</td>\n",
       "      <td>33.646731</td>\n",
       "      <td>-117.736463</td>\n",
       "      <td>4.0</td>\n",
       "    </tr>\n",
       "    <tr>\n",
       "      <th>75%</th>\n",
       "      <td>1.444836e+07</td>\n",
       "      <td>3.500000</td>\n",
       "      <td>4.000000</td>\n",
       "      <td>3009.750000</td>\n",
       "      <td>6059.0</td>\n",
       "      <td>0.0</td>\n",
       "      <td>606.000000</td>\n",
       "      <td>6750.000000</td>\n",
       "      <td>0.0</td>\n",
       "      <td>261.0</td>\n",
       "      <td>2002.00000</td>\n",
       "      <td>9.361582e+05</td>\n",
       "      <td>5.769255e+05</td>\n",
       "      <td>0.032688</td>\n",
       "      <td>33.738087</td>\n",
       "      <td>-117.640752</td>\n",
       "      <td>4.0</td>\n",
       "    </tr>\n",
       "    <tr>\n",
       "      <th>max</th>\n",
       "      <td>1.476274e+07</td>\n",
       "      <td>5.000000</td>\n",
       "      <td>5.000000</td>\n",
       "      <td>5494.000000</td>\n",
       "      <td>6059.0</td>\n",
       "      <td>0.0</td>\n",
       "      <td>2720.000000</td>\n",
       "      <td>139392.000000</td>\n",
       "      <td>0.0</td>\n",
       "      <td>261.0</td>\n",
       "      <td>2015.00000</td>\n",
       "      <td>2.989631e+06</td>\n",
       "      <td>2.633609e+06</td>\n",
       "      <td>0.497845</td>\n",
       "      <td>33.937395</td>\n",
       "      <td>-117.554636</td>\n",
       "      <td>4.0</td>\n",
       "    </tr>\n",
       "  </tbody>\n",
       "</table>\n",
       "</div>"
      ],
      "text/plain": [
       "           parcelid    bathrooms     bedrooms  square_feet    fips  garages  \\\n",
       "count  1.814000e+03  1814.000000  1814.000000  1814.000000  1814.0   1814.0   \n",
       "mean   1.430604e+07     3.003583     3.627343  2544.082139  6059.0      0.0   \n",
       "std    1.802537e+05     0.632685     0.699099   743.312998     0.0      0.0   \n",
       "min    1.383769e+07     1.000000     1.000000   911.000000  6059.0      0.0   \n",
       "25%    1.420176e+07     2.500000     3.000000  1963.000000  6059.0      0.0   \n",
       "50%    1.435703e+07     3.000000     4.000000  2461.000000  6059.0      0.0   \n",
       "75%    1.444836e+07     3.500000     4.000000  3009.750000  6059.0      0.0   \n",
       "max    1.476274e+07     5.000000     5.000000  5494.000000  6059.0      0.0   \n",
       "\n",
       "       garage_size       lot_size  has_pool  propertylandusetypeid  \\\n",
       "count  1814.000000    1814.000000    1814.0                 1814.0   \n",
       "mean    521.039691    6008.024807       0.0                  261.0   \n",
       "std     119.534714    5419.069117       0.0                    0.0   \n",
       "min       0.000000     880.000000       0.0                  261.0   \n",
       "25%     436.000000    3800.000000       0.0                  261.0   \n",
       "50%     484.000000    5082.000000       0.0                  261.0   \n",
       "75%     606.000000    6750.000000       0.0                  261.0   \n",
       "max    2720.000000  139392.000000       0.0                  261.0   \n",
       "\n",
       "       year_built  taxvaluedollarcnt  landtaxvaluedollarcnt    log_error  \\\n",
       "count  1814.00000       1.814000e+03           1.814000e+03  1814.000000   \n",
       "mean   1995.51323       8.056167e+05           4.793201e+05     0.013634   \n",
       "std       9.31703       4.265024e+05           3.445011e+05     0.063325   \n",
       "min    1954.00000       8.704500e+04           1.794200e+04    -0.299544   \n",
       "25%    1989.00000       5.361880e+05           2.761762e+05    -0.011089   \n",
       "50%    1996.00000       7.114180e+05           4.190740e+05     0.008342   \n",
       "75%    2002.00000       9.361582e+05           5.769255e+05     0.032688   \n",
       "max    2015.00000       2.989631e+06           2.633609e+06     0.497845   \n",
       "\n",
       "          latitude    longitude      KM  \n",
       "count  1814.000000  1814.000000  1814.0  \n",
       "mean     33.662753  -117.753753     4.0  \n",
       "std       0.131287     0.128260     0.0  \n",
       "min      33.393644  -118.111451     4.0  \n",
       "25%      33.566103  -117.838049     4.0  \n",
       "50%      33.646731  -117.736463     4.0  \n",
       "75%      33.738087  -117.640752     4.0  \n",
       "max      33.937395  -117.554636     4.0  "
      ]
     },
     "execution_count": 76,
     "metadata": {},
     "output_type": "execute_result"
    }
   ],
   "source": [
    "KM4.describe()"
   ]
  },
  {
   "cell_type": "code",
   "execution_count": 70,
   "id": "1081fab9",
   "metadata": {},
   "outputs": [
    {
     "data": {
      "text/html": [
       "<div>\n",
       "<style scoped>\n",
       "    .dataframe tbody tr th:only-of-type {\n",
       "        vertical-align: middle;\n",
       "    }\n",
       "\n",
       "    .dataframe tbody tr th {\n",
       "        vertical-align: top;\n",
       "    }\n",
       "\n",
       "    .dataframe thead th {\n",
       "        text-align: right;\n",
       "    }\n",
       "</style>\n",
       "<table border=\"1\" class=\"dataframe\">\n",
       "  <thead>\n",
       "    <tr style=\"text-align: right;\">\n",
       "      <th></th>\n",
       "      <th>parcelid</th>\n",
       "      <th>bathrooms</th>\n",
       "      <th>bedrooms</th>\n",
       "      <th>square_feet</th>\n",
       "      <th>fips</th>\n",
       "      <th>garages</th>\n",
       "      <th>garage_size</th>\n",
       "      <th>lot_size</th>\n",
       "      <th>has_pool</th>\n",
       "      <th>propertylandusetypeid</th>\n",
       "      <th>year_built</th>\n",
       "      <th>taxvaluedollarcnt</th>\n",
       "      <th>landtaxvaluedollarcnt</th>\n",
       "      <th>log_error</th>\n",
       "      <th>latitude</th>\n",
       "      <th>longitude</th>\n",
       "      <th>KM</th>\n",
       "    </tr>\n",
       "  </thead>\n",
       "  <tbody>\n",
       "    <tr>\n",
       "      <th>count</th>\n",
       "      <td>7.367000e+03</td>\n",
       "      <td>7367.000000</td>\n",
       "      <td>7367.000000</td>\n",
       "      <td>7367.000000</td>\n",
       "      <td>7367.0</td>\n",
       "      <td>7367.000000</td>\n",
       "      <td>7367.000000</td>\n",
       "      <td>7367.000000</td>\n",
       "      <td>7367.000000</td>\n",
       "      <td>7367.0</td>\n",
       "      <td>7367.000000</td>\n",
       "      <td>7.367000e+03</td>\n",
       "      <td>7.367000e+03</td>\n",
       "      <td>7367.000000</td>\n",
       "      <td>7367.000000</td>\n",
       "      <td>7367.000000</td>\n",
       "      <td>7367.000000</td>\n",
       "    </tr>\n",
       "    <tr>\n",
       "      <th>mean</th>\n",
       "      <td>1.419191e+07</td>\n",
       "      <td>2.436541</td>\n",
       "      <td>3.442514</td>\n",
       "      <td>2036.504140</td>\n",
       "      <td>6059.0</td>\n",
       "      <td>0.229673</td>\n",
       "      <td>473.773992</td>\n",
       "      <td>7052.552735</td>\n",
       "      <td>0.229673</td>\n",
       "      <td>261.0</td>\n",
       "      <td>1974.026605</td>\n",
       "      <td>5.399051e+05</td>\n",
       "      <td>3.547769e+05</td>\n",
       "      <td>0.013972</td>\n",
       "      <td>33.719056</td>\n",
       "      <td>-117.833962</td>\n",
       "      <td>2.168725</td>\n",
       "    </tr>\n",
       "    <tr>\n",
       "      <th>std</th>\n",
       "      <td>1.988492e+05</td>\n",
       "      <td>0.761337</td>\n",
       "      <td>0.800268</td>\n",
       "      <td>808.429106</td>\n",
       "      <td>0.0</td>\n",
       "      <td>0.420651</td>\n",
       "      <td>156.157358</td>\n",
       "      <td>5478.472926</td>\n",
       "      <td>0.420651</td>\n",
       "      <td>0.0</td>\n",
       "      <td>17.937203</td>\n",
       "      <td>4.069833e+05</td>\n",
       "      <td>3.068117e+05</td>\n",
       "      <td>0.075632</td>\n",
       "      <td>0.127726</td>\n",
       "      <td>0.135716</td>\n",
       "      <td>1.319010</td>\n",
       "    </tr>\n",
       "    <tr>\n",
       "      <th>min</th>\n",
       "      <td>1.383453e+07</td>\n",
       "      <td>1.000000</td>\n",
       "      <td>1.000000</td>\n",
       "      <td>653.000000</td>\n",
       "      <td>6059.0</td>\n",
       "      <td>0.000000</td>\n",
       "      <td>0.000000</td>\n",
       "      <td>540.000000</td>\n",
       "      <td>0.000000</td>\n",
       "      <td>261.0</td>\n",
       "      <td>1910.000000</td>\n",
       "      <td>4.006800e+04</td>\n",
       "      <td>1.327500e+04</td>\n",
       "      <td>-0.309399</td>\n",
       "      <td>33.393644</td>\n",
       "      <td>-118.111451</td>\n",
       "      <td>0.000000</td>\n",
       "    </tr>\n",
       "    <tr>\n",
       "      <th>25%</th>\n",
       "      <td>1.401945e+07</td>\n",
       "      <td>2.000000</td>\n",
       "      <td>3.000000</td>\n",
       "      <td>1421.000000</td>\n",
       "      <td>6059.0</td>\n",
       "      <td>0.000000</td>\n",
       "      <td>420.000000</td>\n",
       "      <td>4950.000000</td>\n",
       "      <td>0.000000</td>\n",
       "      <td>261.0</td>\n",
       "      <td>1962.000000</td>\n",
       "      <td>2.688755e+05</td>\n",
       "      <td>1.401410e+05</td>\n",
       "      <td>-0.018086</td>\n",
       "      <td>33.628333</td>\n",
       "      <td>-117.948898</td>\n",
       "      <td>1.000000</td>\n",
       "    </tr>\n",
       "    <tr>\n",
       "      <th>50%</th>\n",
       "      <td>1.419650e+07</td>\n",
       "      <td>2.500000</td>\n",
       "      <td>3.000000</td>\n",
       "      <td>1860.000000</td>\n",
       "      <td>6059.0</td>\n",
       "      <td>0.000000</td>\n",
       "      <td>460.000000</td>\n",
       "      <td>6360.000000</td>\n",
       "      <td>0.000000</td>\n",
       "      <td>261.0</td>\n",
       "      <td>1972.000000</td>\n",
       "      <td>4.611440e+05</td>\n",
       "      <td>3.114320e+05</td>\n",
       "      <td>0.007320</td>\n",
       "      <td>33.727454</td>\n",
       "      <td>-117.847154</td>\n",
       "      <td>2.000000</td>\n",
       "    </tr>\n",
       "    <tr>\n",
       "      <th>75%</th>\n",
       "      <td>1.437377e+07</td>\n",
       "      <td>3.000000</td>\n",
       "      <td>4.000000</td>\n",
       "      <td>2486.000000</td>\n",
       "      <td>6059.0</td>\n",
       "      <td>0.000000</td>\n",
       "      <td>528.000000</td>\n",
       "      <td>7842.000000</td>\n",
       "      <td>0.000000</td>\n",
       "      <td>261.0</td>\n",
       "      <td>1987.000000</td>\n",
       "      <td>7.007610e+05</td>\n",
       "      <td>4.780875e+05</td>\n",
       "      <td>0.035430</td>\n",
       "      <td>33.824151</td>\n",
       "      <td>-117.709998</td>\n",
       "      <td>3.000000</td>\n",
       "    </tr>\n",
       "    <tr>\n",
       "      <th>max</th>\n",
       "      <td>1.476274e+07</td>\n",
       "      <td>5.000000</td>\n",
       "      <td>5.000000</td>\n",
       "      <td>5494.000000</td>\n",
       "      <td>6059.0</td>\n",
       "      <td>1.000000</td>\n",
       "      <td>4251.000000</td>\n",
       "      <td>139392.000000</td>\n",
       "      <td>1.000000</td>\n",
       "      <td>261.0</td>\n",
       "      <td>2015.000000</td>\n",
       "      <td>2.989631e+06</td>\n",
       "      <td>2.783873e+06</td>\n",
       "      <td>0.497845</td>\n",
       "      <td>33.945897</td>\n",
       "      <td>-117.554636</td>\n",
       "      <td>4.000000</td>\n",
       "    </tr>\n",
       "  </tbody>\n",
       "</table>\n",
       "</div>"
      ],
      "text/plain": [
       "           parcelid    bathrooms     bedrooms  square_feet    fips  \\\n",
       "count  7.367000e+03  7367.000000  7367.000000  7367.000000  7367.0   \n",
       "mean   1.419191e+07     2.436541     3.442514  2036.504140  6059.0   \n",
       "std    1.988492e+05     0.761337     0.800268   808.429106     0.0   \n",
       "min    1.383453e+07     1.000000     1.000000   653.000000  6059.0   \n",
       "25%    1.401945e+07     2.000000     3.000000  1421.000000  6059.0   \n",
       "50%    1.419650e+07     2.500000     3.000000  1860.000000  6059.0   \n",
       "75%    1.437377e+07     3.000000     4.000000  2486.000000  6059.0   \n",
       "max    1.476274e+07     5.000000     5.000000  5494.000000  6059.0   \n",
       "\n",
       "           garages  garage_size       lot_size     has_pool  \\\n",
       "count  7367.000000  7367.000000    7367.000000  7367.000000   \n",
       "mean      0.229673   473.773992    7052.552735     0.229673   \n",
       "std       0.420651   156.157358    5478.472926     0.420651   \n",
       "min       0.000000     0.000000     540.000000     0.000000   \n",
       "25%       0.000000   420.000000    4950.000000     0.000000   \n",
       "50%       0.000000   460.000000    6360.000000     0.000000   \n",
       "75%       0.000000   528.000000    7842.000000     0.000000   \n",
       "max       1.000000  4251.000000  139392.000000     1.000000   \n",
       "\n",
       "       propertylandusetypeid   year_built  taxvaluedollarcnt  \\\n",
       "count                 7367.0  7367.000000       7.367000e+03   \n",
       "mean                   261.0  1974.026605       5.399051e+05   \n",
       "std                      0.0    17.937203       4.069833e+05   \n",
       "min                    261.0  1910.000000       4.006800e+04   \n",
       "25%                    261.0  1962.000000       2.688755e+05   \n",
       "50%                    261.0  1972.000000       4.611440e+05   \n",
       "75%                    261.0  1987.000000       7.007610e+05   \n",
       "max                    261.0  2015.000000       2.989631e+06   \n",
       "\n",
       "       landtaxvaluedollarcnt    log_error     latitude    longitude  \\\n",
       "count           7.367000e+03  7367.000000  7367.000000  7367.000000   \n",
       "mean            3.547769e+05     0.013972    33.719056  -117.833962   \n",
       "std             3.068117e+05     0.075632     0.127726     0.135716   \n",
       "min             1.327500e+04    -0.309399    33.393644  -118.111451   \n",
       "25%             1.401410e+05    -0.018086    33.628333  -117.948898   \n",
       "50%             3.114320e+05     0.007320    33.727454  -117.847154   \n",
       "75%             4.780875e+05     0.035430    33.824151  -117.709998   \n",
       "max             2.783873e+06     0.497845    33.945897  -117.554636   \n",
       "\n",
       "                KM  \n",
       "count  7367.000000  \n",
       "mean      2.168725  \n",
       "std       1.319010  \n",
       "min       0.000000  \n",
       "25%       1.000000  \n",
       "50%       2.000000  \n",
       "75%       3.000000  \n",
       "max       4.000000  "
      ]
     },
     "execution_count": 70,
     "metadata": {},
     "output_type": "execute_result"
    }
   ],
   "source": [
    "orange_train.describe()"
   ]
  },
  {
   "cell_type": "code",
   "execution_count": 60,
   "id": "727b528d",
   "metadata": {},
   "outputs": [
    {
     "data": {
      "text/html": [
       "<div>\n",
       "<style scoped>\n",
       "    .dataframe tbody tr th:only-of-type {\n",
       "        vertical-align: middle;\n",
       "    }\n",
       "\n",
       "    .dataframe tbody tr th {\n",
       "        vertical-align: top;\n",
       "    }\n",
       "\n",
       "    .dataframe thead th {\n",
       "        text-align: right;\n",
       "    }\n",
       "</style>\n",
       "<table border=\"1\" class=\"dataframe\">\n",
       "  <thead>\n",
       "    <tr style=\"text-align: right;\">\n",
       "      <th></th>\n",
       "      <th>parcelid</th>\n",
       "      <th>bathrooms</th>\n",
       "      <th>bedrooms</th>\n",
       "      <th>square_feet</th>\n",
       "      <th>fips</th>\n",
       "      <th>garages</th>\n",
       "      <th>garage_size</th>\n",
       "      <th>lot_size</th>\n",
       "      <th>has_pool</th>\n",
       "      <th>propertylandusetypeid</th>\n",
       "      <th>year_built</th>\n",
       "      <th>taxvaluedollarcnt</th>\n",
       "      <th>landtaxvaluedollarcnt</th>\n",
       "      <th>log_error</th>\n",
       "      <th>latitude</th>\n",
       "      <th>longitude</th>\n",
       "      <th>KM</th>\n",
       "    </tr>\n",
       "    <tr>\n",
       "      <th>KM</th>\n",
       "      <th></th>\n",
       "      <th></th>\n",
       "      <th></th>\n",
       "      <th></th>\n",
       "      <th></th>\n",
       "      <th></th>\n",
       "      <th></th>\n",
       "      <th></th>\n",
       "      <th></th>\n",
       "      <th></th>\n",
       "      <th></th>\n",
       "      <th></th>\n",
       "      <th></th>\n",
       "      <th></th>\n",
       "      <th></th>\n",
       "      <th></th>\n",
       "      <th></th>\n",
       "    </tr>\n",
       "  </thead>\n",
       "  <tbody>\n",
       "    <tr>\n",
       "      <th>False</th>\n",
       "      <td>1.419191e+07</td>\n",
       "      <td>2.436541</td>\n",
       "      <td>3.442514</td>\n",
       "      <td>2036.50414</td>\n",
       "      <td>6059.0</td>\n",
       "      <td>0.229673</td>\n",
       "      <td>473.773992</td>\n",
       "      <td>7052.552735</td>\n",
       "      <td>0.229673</td>\n",
       "      <td>261.0</td>\n",
       "      <td>1974.026605</td>\n",
       "      <td>539905.097054</td>\n",
       "      <td>354776.86521</td>\n",
       "      <td>0.013972</td>\n",
       "      <td>33.719056</td>\n",
       "      <td>-117.833962</td>\n",
       "      <td>2.168725</td>\n",
       "    </tr>\n",
       "  </tbody>\n",
       "</table>\n",
       "</div>"
      ],
      "text/plain": [
       "           parcelid  bathrooms  bedrooms  square_feet    fips   garages  \\\n",
       "KM                                                                        \n",
       "False  1.419191e+07   2.436541  3.442514   2036.50414  6059.0  0.229673   \n",
       "\n",
       "       garage_size     lot_size  has_pool  propertylandusetypeid   year_built  \\\n",
       "KM                                                                              \n",
       "False   473.773992  7052.552735  0.229673                  261.0  1974.026605   \n",
       "\n",
       "       taxvaluedollarcnt  landtaxvaluedollarcnt  log_error   latitude  \\\n",
       "KM                                                                      \n",
       "False      539905.097054           354776.86521   0.013972  33.719056   \n",
       "\n",
       "        longitude        KM  \n",
       "KM                           \n",
       "False -117.833962  2.168725  "
      ]
     },
     "execution_count": 60,
     "metadata": {},
     "output_type": "execute_result"
    }
   ],
   "source": [
    "orange_train.groupby(orange_train.KM == '0').mean()"
   ]
  },
  {
   "cell_type": "code",
   "execution_count": null,
   "id": "d1265445",
   "metadata": {},
   "outputs": [],
   "source": []
  },
  {
   "cell_type": "code",
   "execution_count": null,
   "id": "582343c9",
   "metadata": {},
   "outputs": [],
   "source": []
  },
  {
   "cell_type": "code",
   "execution_count": null,
   "id": "91d1c615",
   "metadata": {},
   "outputs": [],
   "source": []
  },
  {
   "cell_type": "code",
   "execution_count": null,
   "id": "f35b0727",
   "metadata": {},
   "outputs": [],
   "source": []
  },
  {
   "cell_type": "code",
   "execution_count": null,
   "id": "a03b07c4",
   "metadata": {},
   "outputs": [],
   "source": [
    "# scaler = sklearn.preprocessing.MinMaxScaler()\n",
    "# scaler.fit(orange_train[['latitude', 'longitude', 'year_built']])\n",
    "# # inserts the 4 selected features into the scaler\n",
    "\n",
    "# orange_train[['scallat', 'scallong', 'scalyr']] = scaler.transform(orange_train[['latitude', 'longitude', 'year_built']])\n",
    "# orange_validate[['scallat', 'scallong', 'scalyr']] = scaler.transform(orange_validate[['latitude', 'longitude', 'year_built']])\n",
    "# orange_test[['scallat', 'scallong', 'scalyr']] = scaler.transform(orange_test[['latitude', 'longitude', 'year_built']])"
   ]
  },
  {
   "cell_type": "code",
   "execution_count": null,
   "id": "e2d8efd8",
   "metadata": {},
   "outputs": [],
   "source": []
  },
  {
   "cell_type": "code",
   "execution_count": null,
   "id": "6e97b768",
   "metadata": {},
   "outputs": [],
   "source": [
    "orange_train.square_feet.groupby(orange_train.locs).mean()"
   ]
  },
  {
   "cell_type": "code",
   "execution_count": null,
   "id": "c1711f30",
   "metadata": {},
   "outputs": [],
   "source": [
    "bins = [1900, 1920, 1930, 1940, 1950, 1960, 1970, 1980, 1990, 2000, 2020]\n",
    "labels = ['1910s','1920s','1930s','1940s', '1950s', '1960s', '1970s', '1980s', '1990s', '2000s', ]\n",
    "orange_train['year_bin'] = pd.cut(orange_train['year_built'], bins=bins, labels=labels)\n",
    "orange_validate['year_bin'] = pd.cut(orange_train['year_built'], bins=bins, labels=labels)\n",
    "orange_test['year_bin'] = pd.cut(orange_train['year_built'], bins=bins, labels=labels)"
   ]
  },
  {
   "cell_type": "code",
   "execution_count": null,
   "id": "803737ac",
   "metadata": {},
   "outputs": [],
   "source": [
    "sns.barplot(data=orange_train, x='year_bin', y='log_error', hue='locs')\n",
    "plt.title(\"Churn and Average Tenure in Months\")"
   ]
  },
  {
   "cell_type": "code",
   "execution_count": null,
   "id": "7e3c8ec6",
   "metadata": {},
   "outputs": [],
   "source": [
    "orange_train_neg = orange_train.where(orange_train.log_error < 0)\n",
    "orange_train_pos = orange_train.where(orange_train.log_error > 0)"
   ]
  },
  {
   "cell_type": "code",
   "execution_count": null,
   "id": "6b2c397e",
   "metadata": {},
   "outputs": [],
   "source": [
    "sns.barplot(data=orange_train_pos, x='year_bin', y='log_error', hue='locs')\n",
    "plt.title(\"Churn and Average Tenure in Months\")"
   ]
  },
  {
   "cell_type": "code",
   "execution_count": null,
   "id": "ebb01e28",
   "metadata": {},
   "outputs": [],
   "source": [
    "# does location matter for year matter for? only in early years and also more for negative"
   ]
  },
  {
   "cell_type": "code",
   "execution_count": null,
   "id": "a1c03710",
   "metadata": {},
   "outputs": [],
   "source": [
    "sns.barplot(data=orange_train_neg, x='year_bin', y='log_error', hue='locs')\n",
    "plt.title(\"Churn and Average Tenure in Months\")"
   ]
  },
  {
   "cell_type": "code",
   "execution_count": null,
   "id": "b469aec8",
   "metadata": {},
   "outputs": [],
   "source": [
    "from sklearn.model_selection import train_test_split\n",
    "from sklearn.tree import DecisionTreeClassifier, plot_tree\n",
    "from sklearn.metrics import classification_report\n",
    "from sklearn.metrics import confusion_matrix"
   ]
  },
  {
   "cell_type": "code",
   "execution_count": null,
   "id": "c91f2d5a",
   "metadata": {},
   "outputs": [],
   "source": [
    "orange_train.info()"
   ]
  },
  {
   "cell_type": "markdown",
   "id": "5bbd6868",
   "metadata": {},
   "source": [
    "CHECKPOINT"
   ]
  },
  {
   "cell_type": "code",
   "execution_count": null,
   "id": "2c5930b0",
   "metadata": {},
   "outputs": [],
   "source": [
    "# dummy_train = pd.get_dummies(orange_train['propertycountylandusecode', 'cluster'])\n",
    "# dummy_validate = pd.get_dummies(orange_validate['propertycountylandusecode', 'cluster'])\n",
    "# dummy_test = pd.get_dummies(orange_test['log])"
   ]
  },
  {
   "cell_type": "code",
   "execution_count": null,
   "id": "a0b58492",
   "metadata": {},
   "outputs": [],
   "source": [
    "X_train = orange_train[['bedrooms', 'garages', 'has_pool', 'bathrooms', 'square_feet', 'lot_size', 'year_built', 'sqft', 'locs']]\n",
    "y_train = orange_train.log_error_bin \n",
    "\n",
    "X_validate = orange_validate[['bedrooms', 'has_pool','garages',  'bathrooms', 'square_feet',  'lot_size', 'year_built', 'sqft', 'locs']]\n",
    "y_validate = orange_validate.log_error_bin \n",
    "\n",
    "X_test = orange_test[['bedrooms', 'has_pool', 'garages', 'bathrooms', 'square_feet',  'lot_size', 'year_built', 'sqft', 'locs']]\n",
    "y_test = orange_test.log_error_bin"
   ]
  },
  {
   "cell_type": "code",
   "execution_count": 77,
   "id": "5a35f957",
   "metadata": {},
   "outputs": [],
   "source": [
    "orange_train['rooms'] = (orange_train['bedrooms'] + orange_train['bathrooms'] + orange_train['garages'])\n",
    "orange_validate['rooms'] = (orange_validate['bedrooms'] + orange_validate['bathrooms'] + orange_validate['garages'])\n",
    "orange_test['rooms'] = (orange_test['bedrooms'] + orange_test['bathrooms'] + orange_test['garages'])"
   ]
  },
  {
   "cell_type": "code",
   "execution_count": 80,
   "id": "8dceb171",
   "metadata": {},
   "outputs": [
    {
     "name": "stdout",
     "output_type": "stream",
     "text": [
      "<class 'pandas.core.frame.DataFrame'>\n",
      "Int64Index: 3176 entries, 36910 to 13707\n",
      "Data columns (total 22 columns):\n",
      " #   Column                     Non-Null Count  Dtype         \n",
      "---  ------                     --------------  -----         \n",
      " 0   parcelid                   3176 non-null   float64       \n",
      " 1   bathrooms                  3176 non-null   float64       \n",
      " 2   bedrooms                   3176 non-null   float64       \n",
      " 3   square_feet                3176 non-null   float64       \n",
      " 4   fips                       3176 non-null   float64       \n",
      " 5   garages                    3176 non-null   float64       \n",
      " 6   garage_size                3176 non-null   float64       \n",
      " 7   lot_size                   3176 non-null   float64       \n",
      " 8   has_pool                   3176 non-null   object        \n",
      " 9   propertycountylandusecode  3176 non-null   object        \n",
      " 10  propertylandusetypeid      3176 non-null   float64       \n",
      " 11  year_built                 3176 non-null   float64       \n",
      " 12  taxvaluedollarcnt          3176 non-null   float64       \n",
      " 13  landtaxvaluedollarcnt      3176 non-null   float64       \n",
      " 14  log_error                  3176 non-null   float64       \n",
      " 15  transaction_date           3176 non-null   datetime64[ns]\n",
      " 16  county                     3176 non-null   object        \n",
      " 17  latitude                   3176 non-null   float64       \n",
      " 18  longitude                  3176 non-null   float64       \n",
      " 19  log_error_bin              3176 non-null   category      \n",
      " 20  KM                         3176 non-null   int32         \n",
      " 21  rooms                      3176 non-null   float64       \n",
      "dtypes: category(1), datetime64[ns](1), float64(16), int32(1), object(3)\n",
      "memory usage: 536.9+ KB\n"
     ]
    }
   ],
   "source": [
    "orange_validate.info()"
   ]
  },
  {
   "cell_type": "code",
   "execution_count": 81,
   "id": "c6aa98d8",
   "metadata": {},
   "outputs": [],
   "source": [
    "X_train = orange_train[['bedrooms', 'rooms', 'landtaxvaluedollarcnt', 'garages', 'has_pool', 'bathrooms', 'square_feet', 'lot_size', 'year_built', 'taxvaluedollarcnt', 'KM']]\n",
    "y_train = orange_train.log_error \n",
    "\n",
    "X_validate = orange_validate[['bedrooms', 'rooms', 'landtaxvaluedollarcnt', 'garages', 'has_pool', 'bathrooms', 'square_feet', 'lot_size', 'year_built', 'taxvaluedollarcnt', 'KM']]\n",
    "y_validate = orange_validate.log_error\n",
    "\n",
    "X_test = orange_test[['bedrooms', 'rooms', 'landtaxvaluedollarcnt', 'garages', 'has_pool', 'bathrooms', 'square_feet', 'lot_size', 'year_built', 'taxvaluedollarcnt', 'KM']]\n",
    "y_test = orange_test.log_error"
   ]
  },
  {
   "cell_type": "code",
   "execution_count": null,
   "id": "25203579",
   "metadata": {},
   "outputs": [],
   "source": []
  },
  {
   "cell_type": "code",
   "execution_count": 82,
   "id": "2b64ed2e",
   "metadata": {},
   "outputs": [],
   "source": [
    "scaler = sklearn.preprocessing.MinMaxScaler()\n",
    "scaler.fit(X_train)\n",
    "\n",
    "X_train_scaled = scaler.transform(X_train)\n",
    "X_validate_scaled = scaler.transform(X_validate)\n",
    "X_test_scaled = scaler.transform(X_test)"
   ]
  },
  {
   "cell_type": "code",
   "execution_count": 83,
   "id": "6c00c7f4",
   "metadata": {},
   "outputs": [],
   "source": [
    "X_train_scaled = pd.DataFrame(X_train_scaled, index=X_train.index, columns=X_train.columns)\n",
    "X_validate_scaled = pd.DataFrame(X_validate_scaled, index=X_validate.index, columns=X_validate.columns)\n",
    "X_test_scaled = pd.DataFrame(X_test_scaled, index=X_test.index, columns=X_test.columns)"
   ]
  },
  {
   "cell_type": "code",
   "execution_count": 84,
   "id": "6a759d6d",
   "metadata": {},
   "outputs": [],
   "source": [
    "from sklearn.feature_selection import SelectKBest, f_regression\n",
    "\n",
    "f_selector = SelectKBest(f_regression, k=3)\n",
    "\n",
    "f_selector.fit(X_train_scaled, y_train)\n",
    "\n",
    "feature_mask = f_selector.get_support()\n",
    " \n",
    "f_feature = X_train_scaled.iloc[:,feature_mask].columns.tolist()\n"
   ]
  },
  {
   "cell_type": "code",
   "execution_count": 85,
   "id": "84be0a8e",
   "metadata": {},
   "outputs": [
    {
     "data": {
      "text/plain": [
       "['garages', 'has_pool', 'square_feet']"
      ]
     },
     "execution_count": 85,
     "metadata": {},
     "output_type": "execute_result"
    }
   ],
   "source": [
    "f_feature"
   ]
  },
  {
   "cell_type": "code",
   "execution_count": null,
   "id": "bdbc3dbc",
   "metadata": {},
   "outputs": [],
   "source": [
    "X_train = orange_train[['bedrooms', 'rooms', 'garages', 'has_pool', 'bathrooms', 'square_feet', 'lot_size', 'year_built', 'sqft', 'locs']]\n",
    "y_train = orange_train.log_error_bin \n",
    "\n",
    "X_validate = orange_validate[['bedrooms', 'rooms', 'garages', 'has_pool','bathrooms', 'square_feet',  'lot_size', 'year_built', 'sqft', 'locs']]\n",
    "y_validate = orange_validate.log_error_bin\n",
    "\n",
    "X_test = orange_test[['bedrooms', 'garages', 'rooms', 'has_pool','bathrooms', 'square_feet',  'lot_size', 'year_built', 'sqft', 'locs']]\n",
    "y_test = orange_test.log_error_bin"
   ]
  },
  {
   "cell_type": "code",
   "execution_count": null,
   "id": "b65813bd",
   "metadata": {},
   "outputs": [],
   "source": []
  },
  {
   "cell_type": "code",
   "execution_count": null,
   "id": "f03ce17d",
   "metadata": {},
   "outputs": [],
   "source": [
    "\n"
   ]
  },
  {
   "cell_type": "code",
   "execution_count": null,
   "id": "979faa06",
   "metadata": {},
   "outputs": [],
   "source": []
  },
  {
   "cell_type": "code",
   "execution_count": null,
   "id": "da0c383f",
   "metadata": {},
   "outputs": [],
   "source": []
  },
  {
   "cell_type": "code",
   "execution_count": null,
   "id": "b119757e",
   "metadata": {},
   "outputs": [],
   "source": []
  },
  {
   "cell_type": "code",
   "execution_count": null,
   "id": "d7256f63",
   "metadata": {},
   "outputs": [],
   "source": []
  },
  {
   "cell_type": "code",
   "execution_count": null,
   "id": "b8addf3d",
   "metadata": {},
   "outputs": [],
   "source": []
  },
  {
   "cell_type": "code",
   "execution_count": null,
   "id": "e389e51e",
   "metadata": {},
   "outputs": [],
   "source": []
  },
  {
   "cell_type": "code",
   "execution_count": null,
   "id": "0a88351e",
   "metadata": {},
   "outputs": [],
   "source": [
    "from sklearn.cluster import KMeans\n",
    "import sklearn.preprocessing"
   ]
  },
  {
   "cell_type": "code",
   "execution_count": null,
   "id": "bbdcf3fc",
   "metadata": {},
   "outputs": [],
   "source": [
    "scaler = sklearn.preprocessing.MinMaxScaler()\n",
    "scaler.fit(orange_train[['bathrooms','square_feet']])\n",
    "# inserts the 4 selected features into the scaler\n",
    "\n",
    "orange_train[['scalbathrooms','scalsquare_feet']] = scaler.transform(orange_train[['bathrooms', 'square_feet']])"
   ]
  },
  {
   "cell_type": "code",
   "execution_count": null,
   "id": "446818fa",
   "metadata": {},
   "outputs": [],
   "source": [
    "X = orange_train[['scalbathrooms', 'scalsquare_feet']]\n",
    "\n",
    "kmeans = KMeans(n_clusters=5)\n",
    "kmeans.fit(X)\n",
    "\n",
    "kmeans.predict(X)\n",
    "\n",
    "orange_train['cluster'] = kmeans.predict(X)\n",
    "\n",
    "centroids = pd.DataFrame(kmeans.cluster_centers_, columns=X.columns)\n",
    "centroids"
   ]
  },
  {
   "cell_type": "code",
   "execution_count": null,
   "id": "dd4a3a99",
   "metadata": {},
   "outputs": [],
   "source": [
    "plt.figure(figsize=(9, 6))\n",
    "pd.Series({k: KMeans(k).fit(X).inertia_ for k in range(2, 20)}).plot(marker='x')\n",
    "plt.xticks(range(2, 12))\n",
    "plt.xlabel('k')\n",
    "plt.ylabel('inertia')\n",
    "plt.title('Change in inertia as k increases')"
   ]
  },
  {
   "cell_type": "code",
   "execution_count": null,
   "id": "103229f8",
   "metadata": {},
   "outputs": [],
   "source": [
    "scaler = sklearn.preprocessing.MinMaxScaler()\n",
    "scaler.fit(orange_validate[['bathrooms', 'square_feet']])\n",
    "# inserts the 4 selected features into the scaler\n",
    "\n",
    "orange_validate[['scalbathrooms', 'scalsquare_feet']] = scaler.transform(orange_validate[['bathrooms', 'square_feet']])"
   ]
  },
  {
   "cell_type": "code",
   "execution_count": null,
   "id": "b0031703",
   "metadata": {},
   "outputs": [],
   "source": [
    "X = orange_validate[['scalbathrooms', 'scalsquare_feet']]\n",
    "\n",
    "kmeans = KMeans(n_clusters=5)\n",
    "kmeans.fit(X)\n",
    "\n",
    "kmeans.predict(X)\n",
    "\n",
    "orange_validate['cluster'] = kmeans.predict(X)\n",
    "\n",
    "centroids = pd.DataFrame(kmeans.cluster_centers_, columns=X.columns)\n",
    "centroids"
   ]
  },
  {
   "cell_type": "code",
   "execution_count": null,
   "id": "43ca967e",
   "metadata": {},
   "outputs": [],
   "source": [
    "scaler = sklearn.preprocessing.MinMaxScaler()\n",
    "scaler.fit(orange_test[['bathrooms','square_feet']])\n",
    "# inserts the 4 selected features into the scaler\n",
    "\n",
    "orange_test[['scalbathrooms', 'scalsquare_feet']] = scaler.transform(orange_test[['bathrooms', 'square_feet']])"
   ]
  },
  {
   "cell_type": "code",
   "execution_count": null,
   "id": "0a7328b3",
   "metadata": {},
   "outputs": [],
   "source": [
    "X = orange_test[['scalbathrooms',  'scalsquare_feet']]\n",
    "\n",
    "kmeans = KMeans(n_clusters=5)\n",
    "kmeans.fit(X)\n",
    "\n",
    "kmeans.predict(X)\n",
    "\n",
    "orange_test['cluster'] = kmeans.predict(X)\n",
    "\n",
    "centroids = pd.DataFrame(kmeans.cluster_centers_, columns=X.columns)\n",
    "centroids"
   ]
  },
  {
   "cell_type": "code",
   "execution_count": null,
   "id": "db612ea5",
   "metadata": {},
   "outputs": [],
   "source": [
    "orange_train"
   ]
  },
  {
   "cell_type": "code",
   "execution_count": null,
   "id": "04a6247c",
   "metadata": {},
   "outputs": [],
   "source": [
    "sns.set_palette('Set2', 20)\n",
    "# sets colors for graph\n",
    "sns.lmplot(x='bedrooms', y='bathrooms', data=orange_train, scatter=True, hue='cluster', col=None, height=5.5, aspect=8.7/5.5)\n",
    "plt.title(\"Square Footage Correlation (Grouped by Bin) to Log Error\")"
   ]
  },
  {
   "cell_type": "code",
   "execution_count": null,
   "id": "e0a9a5f7",
   "metadata": {},
   "outputs": [],
   "source": [
    "sns.barplot(data=orange_train, x='cluster', y='year_built')\n",
    "plt.title(\"Land Code w/Cont.\")"
   ]
  },
  {
   "cell_type": "code",
   "execution_count": null,
   "id": "2247fb04",
   "metadata": {},
   "outputs": [],
   "source": [
    "orange_train"
   ]
  },
  {
   "cell_type": "code",
   "execution_count": null,
   "id": "959c4d2b",
   "metadata": {},
   "outputs": [],
   "source": [
    "dummy_train = pd.get_dummies(orange_train[['propertycountylandusecode', 'cluster']])\n",
    "dummy_validate = pd.get_dummies(orange_validate[['propertycountylandusecode', 'cluster']])\n",
    "dummy_test = pd.get_dummies(orange_test[['propertycountylandusecode', 'cluster']])"
   ]
  },
  {
   "cell_type": "code",
   "execution_count": null,
   "id": "5a6f8b0c",
   "metadata": {},
   "outputs": [],
   "source": [
    "X_train"
   ]
  },
  {
   "cell_type": "code",
   "execution_count": null,
   "id": "958e0f84",
   "metadata": {},
   "outputs": [],
   "source": [
    "X_train = orange_train[['sqft', 'has_pool', 'rooms']]\n",
    "y_train = orange_train[['log_error']]\n",
    "\n",
    "X_validate = orange_validate[['sqft', 'has_pool', 'rooms']]\n",
    "y_validate = orange_validate[['log_error']]\n",
    "\n",
    "X_test = orange_test[['sqft', 'has_pool', 'rooms']]\n",
    "y_test = orange_test[['log_error']]"
   ]
  },
  {
   "cell_type": "code",
   "execution_count": null,
   "id": "682fe7ee",
   "metadata": {},
   "outputs": [],
   "source": [
    "scaler = sklearn.preprocessing.MinMaxScaler()\n",
    "scaler.fit(X_train[['sqft', 'has_pool', 'rooms']])"
   ]
  },
  {
   "cell_type": "code",
   "execution_count": null,
   "id": "7cbcf602",
   "metadata": {},
   "outputs": [],
   "source": [
    "X_train[['scalsqft', 'scalhas_pool', 'scalrooms']] = scaler.transform(X_train[['sqft', 'has_pool', 'rooms']]) \n",
    "X_validate[['scalsqft', 'scalhas_pool', 'scalrooms']] = scaler.transform(X_validate[['sqft', 'has_pool', 'rooms']]) \n",
    "X_test[['scalsqft', 'scalhas_pool', 'scalrooms']] = scaler.transform(X_test[['sqft', 'has_pool', 'rooms']]) "
   ]
  },
  {
   "cell_type": "code",
   "execution_count": null,
   "id": "979abccf",
   "metadata": {},
   "outputs": [],
   "source": [
    "# v = pd.DataFrame(data = v)\n",
    "# v1 = pd.DataFrame(data = v1)\n",
    "# v2 = pd.DataFrame(data = v2)"
   ]
  },
  {
   "cell_type": "code",
   "execution_count": null,
   "id": "0ebb45a9",
   "metadata": {},
   "outputs": [],
   "source": [
    "# v.index = X_train.index\n",
    "# v1.index = X_validate.index\n",
    "# v2.index = X_test.index"
   ]
  },
  {
   "cell_type": "code",
   "execution_count": null,
   "id": "a61a8132",
   "metadata": {},
   "outputs": [],
   "source": [
    "# X_train = pd.concat([X_train, v], axis=1)\n",
    "# X_validate = pd.concat([X_validate, v1], axis=1)\n",
    "# X_test = pd.concat([X_test, v2], axis=1)"
   ]
  },
  {
   "cell_type": "code",
   "execution_count": 92,
   "id": "ae200203",
   "metadata": {},
   "outputs": [
    {
     "data": {
      "text/html": [
       "<div>\n",
       "<style scoped>\n",
       "    .dataframe tbody tr th:only-of-type {\n",
       "        vertical-align: middle;\n",
       "    }\n",
       "\n",
       "    .dataframe tbody tr th {\n",
       "        vertical-align: top;\n",
       "    }\n",
       "\n",
       "    .dataframe thead th {\n",
       "        text-align: right;\n",
       "    }\n",
       "</style>\n",
       "<table border=\"1\" class=\"dataframe\">\n",
       "  <thead>\n",
       "    <tr style=\"text-align: right;\">\n",
       "      <th></th>\n",
       "      <th>bedrooms</th>\n",
       "      <th>rooms</th>\n",
       "      <th>landtaxvaluedollarcnt</th>\n",
       "      <th>garages</th>\n",
       "      <th>has_pool</th>\n",
       "      <th>bathrooms</th>\n",
       "      <th>square_feet</th>\n",
       "      <th>lot_size</th>\n",
       "      <th>year_built</th>\n",
       "      <th>taxvaluedollarcnt</th>\n",
       "      <th>KM</th>\n",
       "    </tr>\n",
       "  </thead>\n",
       "  <tbody>\n",
       "    <tr>\n",
       "      <th>8578</th>\n",
       "      <td>0.50</td>\n",
       "      <td>0.777778</td>\n",
       "      <td>0.211171</td>\n",
       "      <td>3.0</td>\n",
       "      <td>1.0</td>\n",
       "      <td>0.500</td>\n",
       "      <td>0.665152</td>\n",
       "      <td>0.067410</td>\n",
       "      <td>0.704762</td>\n",
       "      <td>0.332309</td>\n",
       "      <td>0.00</td>\n",
       "    </tr>\n",
       "    <tr>\n",
       "      <th>29580</th>\n",
       "      <td>0.50</td>\n",
       "      <td>0.333333</td>\n",
       "      <td>0.167456</td>\n",
       "      <td>0.0</td>\n",
       "      <td>0.0</td>\n",
       "      <td>0.250</td>\n",
       "      <td>0.092130</td>\n",
       "      <td>0.026093</td>\n",
       "      <td>0.419048</td>\n",
       "      <td>0.197841</td>\n",
       "      <td>0.25</td>\n",
       "    </tr>\n",
       "    <tr>\n",
       "      <th>32000</th>\n",
       "      <td>0.25</td>\n",
       "      <td>0.111111</td>\n",
       "      <td>0.057317</td>\n",
       "      <td>0.0</td>\n",
       "      <td>0.0</td>\n",
       "      <td>0.000</td>\n",
       "      <td>0.010742</td>\n",
       "      <td>0.035765</td>\n",
       "      <td>0.114286</td>\n",
       "      <td>0.053566</td>\n",
       "      <td>0.25</td>\n",
       "    </tr>\n",
       "    <tr>\n",
       "      <th>25887</th>\n",
       "      <td>0.50</td>\n",
       "      <td>0.611111</td>\n",
       "      <td>0.208667</td>\n",
       "      <td>2.0</td>\n",
       "      <td>0.0</td>\n",
       "      <td>0.375</td>\n",
       "      <td>0.292708</td>\n",
       "      <td>0.039322</td>\n",
       "      <td>0.723810</td>\n",
       "      <td>0.254448</td>\n",
       "      <td>0.75</td>\n",
       "    </tr>\n",
       "    <tr>\n",
       "      <th>3372</th>\n",
       "      <td>0.50</td>\n",
       "      <td>0.333333</td>\n",
       "      <td>0.144691</td>\n",
       "      <td>1.0</td>\n",
       "      <td>0.0</td>\n",
       "      <td>0.000</td>\n",
       "      <td>0.072712</td>\n",
       "      <td>0.047633</td>\n",
       "      <td>0.419048</td>\n",
       "      <td>0.141272</td>\n",
       "      <td>0.25</td>\n",
       "    </tr>\n",
       "  </tbody>\n",
       "</table>\n",
       "</div>"
      ],
      "text/plain": [
       "       bedrooms     rooms  landtaxvaluedollarcnt  garages  has_pool  \\\n",
       "8578       0.50  0.777778               0.211171      3.0       1.0   \n",
       "29580      0.50  0.333333               0.167456      0.0       0.0   \n",
       "32000      0.25  0.111111               0.057317      0.0       0.0   \n",
       "25887      0.50  0.611111               0.208667      2.0       0.0   \n",
       "3372       0.50  0.333333               0.144691      1.0       0.0   \n",
       "\n",
       "       bathrooms  square_feet  lot_size  year_built  taxvaluedollarcnt    KM  \n",
       "8578       0.500     0.665152  0.067410    0.704762           0.332309  0.00  \n",
       "29580      0.250     0.092130  0.026093    0.419048           0.197841  0.25  \n",
       "32000      0.000     0.010742  0.035765    0.114286           0.053566  0.25  \n",
       "25887      0.375     0.292708  0.039322    0.723810           0.254448  0.75  \n",
       "3372       0.000     0.072712  0.047633    0.419048           0.141272  0.25  "
      ]
     },
     "execution_count": 92,
     "metadata": {},
     "output_type": "execute_result"
    }
   ],
   "source": [
    "X_test_scaled.head()"
   ]
  },
  {
   "cell_type": "code",
   "execution_count": 107,
   "id": "6fafdfdf",
   "metadata": {},
   "outputs": [],
   "source": [
    "X_train = X_train_scaled\n",
    "y_train = orange_train[['log_error']]\n",
    "\n",
    "X_validate = X_validate_scaled\n",
    "y_validate = orange_validate[['log_error']]\n",
    "\n",
    "X_test_scaled = X_test_scaled\n",
    "y_test = orange_test[['log_error']]"
   ]
  },
  {
   "cell_type": "code",
   "execution_count": 108,
   "id": "3629481f",
   "metadata": {},
   "outputs": [
    {
     "data": {
      "text/html": [
       "<div>\n",
       "<style scoped>\n",
       "    .dataframe tbody tr th:only-of-type {\n",
       "        vertical-align: middle;\n",
       "    }\n",
       "\n",
       "    .dataframe tbody tr th {\n",
       "        vertical-align: top;\n",
       "    }\n",
       "\n",
       "    .dataframe thead th {\n",
       "        text-align: right;\n",
       "    }\n",
       "</style>\n",
       "<table border=\"1\" class=\"dataframe\">\n",
       "  <thead>\n",
       "    <tr style=\"text-align: right;\">\n",
       "      <th></th>\n",
       "      <th>bedrooms</th>\n",
       "      <th>rooms</th>\n",
       "      <th>landtaxvaluedollarcnt</th>\n",
       "      <th>garages</th>\n",
       "      <th>has_pool</th>\n",
       "      <th>bathrooms</th>\n",
       "      <th>square_feet</th>\n",
       "      <th>lot_size</th>\n",
       "      <th>year_built</th>\n",
       "      <th>taxvaluedollarcnt</th>\n",
       "    </tr>\n",
       "  </thead>\n",
       "  <tbody>\n",
       "    <tr>\n",
       "      <th>36910</th>\n",
       "      <td>0.50</td>\n",
       "      <td>0.611111</td>\n",
       "      <td>0.060742</td>\n",
       "      <td>2.0</td>\n",
       "      <td>0.0</td>\n",
       "      <td>0.375</td>\n",
       "      <td>0.282999</td>\n",
       "      <td>0.028952</td>\n",
       "      <td>0.609524</td>\n",
       "      <td>0.113923</td>\n",
       "    </tr>\n",
       "    <tr>\n",
       "      <th>9738</th>\n",
       "      <td>1.00</td>\n",
       "      <td>0.833333</td>\n",
       "      <td>0.208981</td>\n",
       "      <td>2.0</td>\n",
       "      <td>0.0</td>\n",
       "      <td>0.375</td>\n",
       "      <td>0.466639</td>\n",
       "      <td>0.044724</td>\n",
       "      <td>0.628571</td>\n",
       "      <td>0.249158</td>\n",
       "    </tr>\n",
       "    <tr>\n",
       "      <th>41254</th>\n",
       "      <td>0.25</td>\n",
       "      <td>0.444444</td>\n",
       "      <td>0.023318</td>\n",
       "      <td>2.0</td>\n",
       "      <td>0.0</td>\n",
       "      <td>0.250</td>\n",
       "      <td>0.175584</td>\n",
       "      <td>0.021159</td>\n",
       "      <td>0.704762</td>\n",
       "      <td>0.060867</td>\n",
       "    </tr>\n",
       "    <tr>\n",
       "      <th>26782</th>\n",
       "      <td>0.50</td>\n",
       "      <td>0.888889</td>\n",
       "      <td>0.018867</td>\n",
       "      <td>4.0</td>\n",
       "      <td>0.0</td>\n",
       "      <td>0.500</td>\n",
       "      <td>0.224334</td>\n",
       "      <td>0.076772</td>\n",
       "      <td>0.485714</td>\n",
       "      <td>0.054688</td>\n",
       "    </tr>\n",
       "    <tr>\n",
       "      <th>5764</th>\n",
       "      <td>0.25</td>\n",
       "      <td>0.333333</td>\n",
       "      <td>0.046266</td>\n",
       "      <td>1.0</td>\n",
       "      <td>0.0</td>\n",
       "      <td>0.250</td>\n",
       "      <td>0.069201</td>\n",
       "      <td>0.004667</td>\n",
       "      <td>0.514286</td>\n",
       "      <td>0.052219</td>\n",
       "    </tr>\n",
       "  </tbody>\n",
       "</table>\n",
       "</div>"
      ],
      "text/plain": [
       "       bedrooms     rooms  landtaxvaluedollarcnt  garages  has_pool  \\\n",
       "36910      0.50  0.611111               0.060742      2.0       0.0   \n",
       "9738       1.00  0.833333               0.208981      2.0       0.0   \n",
       "41254      0.25  0.444444               0.023318      2.0       0.0   \n",
       "26782      0.50  0.888889               0.018867      4.0       0.0   \n",
       "5764       0.25  0.333333               0.046266      1.0       0.0   \n",
       "\n",
       "       bathrooms  square_feet  lot_size  year_built  taxvaluedollarcnt  \n",
       "36910      0.375     0.282999  0.028952    0.609524           0.113923  \n",
       "9738       0.375     0.466639  0.044724    0.628571           0.249158  \n",
       "41254      0.250     0.175584  0.021159    0.704762           0.060867  \n",
       "26782      0.500     0.224334  0.076772    0.485714           0.054688  \n",
       "5764       0.250     0.069201  0.004667    0.514286           0.052219  "
      ]
     },
     "execution_count": 108,
     "metadata": {},
     "output_type": "execute_result"
    }
   ],
   "source": [
    "X_validate.head()"
   ]
  },
  {
   "cell_type": "code",
   "execution_count": 109,
   "id": "d8de0a9b",
   "metadata": {},
   "outputs": [
    {
     "name": "stdout",
     "output_type": "stream",
     "text": [
      "Baseline RMSE\n",
      "Train/In-Sample:  0.0756\n",
      "Baseline RMSE\n",
      "Validate/Out-of-Sample:  0.0715\n"
     ]
    }
   ],
   "source": [
    "y_train['pred_mean'] = y_train.log_error.mean()\n",
    "y_validate['pred_mean'] = y_validate.log_error.mean()\n",
    "\n",
    "rmse_train = mean_squared_error(y_train.log_error, y_train.pred_mean)**(1/2)\n",
    "rmse_validate = mean_squared_error(y_validate.log_error, y_validate.pred_mean)**(1/2)\n",
    "\n",
    "print(\"Baseline RMSE\\nTrain/In-Sample: \", round(rmse_train, 4)), \n",
    "print(\"Baseline RMSE\\nValidate/Out-of-Sample: \", round(rmse_validate, 4))"
   ]
  },
  {
   "cell_type": "code",
   "execution_count": 110,
   "id": "addaf9aa",
   "metadata": {},
   "outputs": [
    {
     "data": {
      "text/markdown": [
       "**OLS Linear Regression Performance**"
      ],
      "text/plain": [
       "<IPython.core.display.Markdown object>"
      ]
     },
     "metadata": {},
     "output_type": "display_data"
    },
    {
     "name": "stdout",
     "output_type": "stream",
     "text": [
      "---------------------------------------\n",
      "RMSE for OLS using LinearRegression\n",
      "Training/In-Sample:  0.0752\n",
      "---------------------------------------\n",
      "RMSE for OLS using LinearRegression\n",
      "Validation/Out-of-Sample:  18798378926.0623\n"
     ]
    }
   ],
   "source": [
    "lm = LinearRegression(normalize=True)\n",
    "\n",
    "lm.fit(X_train, y_train.log_error)\n",
    "\n",
    "y_train['value_predict_lm'] = lm.predict(X_train)\n",
    "\n",
    "rmse_train = mean_squared_error(y_train.log_error, y_train.value_predict_lm)**(1/2)\n",
    "\n",
    "y_validate['value_predict_lm'] = lm.predict(X_validate)\n",
    "rmse_validate = mean_squared_error(y_validate.log_error, y_validate.value_predict_lm)**(1/2)\n",
    "\n",
    "\n",
    "printmd(\"**OLS Linear Regression Performance**\")\n",
    "print(\"---------------------------------------\")\n",
    "print(\"RMSE for OLS using LinearRegression\\nTraining/In-Sample: \", round(rmse_train, 4))\n",
    "print(\"---------------------------------------\")\n",
    "print(\"RMSE for OLS using LinearRegression\\nValidation/Out-of-Sample: \", round(rmse_validate, 4))"
   ]
  },
  {
   "cell_type": "code",
   "execution_count": 111,
   "id": "bd5b805e",
   "metadata": {},
   "outputs": [
    {
     "data": {
      "text/markdown": [
       "**LARS Performance**"
      ],
      "text/plain": [
       "<IPython.core.display.Markdown object>"
      ]
     },
     "metadata": {},
     "output_type": "display_data"
    },
    {
     "name": "stdout",
     "output_type": "stream",
     "text": [
      "---------------------------------------\n",
      "RMSE for Lars\n",
      "Training/In-Sample:  0.0756\n",
      "---------------------------------------\n",
      "RMSE for Lars\n",
      "Out-of-Sample:  0.0715\n"
     ]
    }
   ],
   "source": [
    "lars = LassoLars(alpha=1.0)\n",
    "\n",
    "lars.fit(X_train, y_train.log_error)\n",
    "\n",
    "y_train['pred_lars'] = lars.predict(X_train)\n",
    "\n",
    "rmse_train = mean_squared_error(y_train.log_error, y_train.pred_lars)**(1/2)\n",
    "\n",
    "y_validate['pred_lars'] = lars.predict(X_validate)\n",
    "rmse_validate = mean_squared_error(y_validate.log_error, y_validate.pred_lars)**(1/2)\n",
    "\n",
    "printmd(\"**LARS Performance**\")\n",
    "print(\"---------------------------------------\")\n",
    "print(\"RMSE for Lars\\nTraining/In-Sample: \", round(rmse_train, 4))\n",
    "print(\"---------------------------------------\")\n",
    "print(\"RMSE for Lars\\nOut-of-Sample: \", round(rmse_validate, 4))"
   ]
  },
  {
   "cell_type": "code",
   "execution_count": 113,
   "id": "56b20643",
   "metadata": {},
   "outputs": [],
   "source": [
    "pf = PolynomialFeatures(degree=2)\n",
    "# creates polynomial features to use in model with degree of 3\n",
    "\n",
    "X_train_degree3 = pf.fit_transform(X_train)\n",
    "# fit and transform X_train_scaled\n",
    "\n",
    "# X_validate_degree3 = pf.transform(X_validate)\n",
    "# X_test_degree3 = pf.transform(X_test)\n",
    "# transform X_validate_scaled & X_test_scaled"
   ]
  },
  {
   "cell_type": "code",
   "execution_count": 114,
   "id": "7dda9b72",
   "metadata": {},
   "outputs": [
    {
     "data": {
      "text/markdown": [
       "**Polynomial Regression Model Performance**"
      ],
      "text/plain": [
       "<IPython.core.display.Markdown object>"
      ]
     },
     "metadata": {},
     "output_type": "display_data"
    },
    {
     "name": "stdout",
     "output_type": "stream",
     "text": [
      "---------------------------------------\n",
      "RMSE for Polynomial Model \n",
      "Training/In-Sample:  0.0748\n",
      "---------------------------------------\n",
      "RMSE for Polynomial Model, \n",
      "Validation/Out-of-Sample:  28518321.5124\n"
     ]
    }
   ],
   "source": [
    "lm3 = LinearRegression(normalize=True)\n",
    "# creates linear regression model prior to fitting with new polynomial features\n",
    "\n",
    "lm3.fit(X_train_degree3, y_train.log_error)\n",
    "# fit and transform polynomial features and target\n",
    "\n",
    "y_train['value_pred_lm3'] = lm3.predict(X_train_degree3)\n",
    "# predictions calculated on train\n",
    "\n",
    "rmse_train = mean_squared_error(y_train.log_error, y_train.value_pred_lm3)**(1/2)\n",
    "# computes rmse with train\n",
    "\n",
    "y_validate['value_pred_lm3'] = lm3.predict(X_validate_degree3)\n",
    "rmse_validate = mean_squared_error(y_validate.log_error, y_validate.value_pred_lm3)**(1/2)\n",
    "# computes predictions/rmse with validate\n",
    "\n",
    "printmd(\"**Polynomial Regression Model Performance**\")\n",
    "print(\"---------------------------------------\")\n",
    "print(\"RMSE for Polynomial Model \\nTraining/In-Sample: \", round(rmse_train, 4)),\n",
    "print(\"---------------------------------------\")\n",
    "print(\"RMSE for Polynomial Model, \\nValidation/Out-of-Sample: \", round(rmse_validate, 4))"
   ]
  },
  {
   "cell_type": "code",
   "execution_count": null,
   "id": "e10001aa",
   "metadata": {},
   "outputs": [],
   "source": []
  }
 ],
 "metadata": {
  "kernelspec": {
   "display_name": "Python 3 (ipykernel)",
   "language": "python",
   "name": "python3"
  },
  "language_info": {
   "codemirror_mode": {
    "name": "ipython",
    "version": 3
   },
   "file_extension": ".py",
   "mimetype": "text/x-python",
   "name": "python",
   "nbconvert_exporter": "python",
   "pygments_lexer": "ipython3",
   "version": "3.9.7"
  }
 },
 "nbformat": 4,
 "nbformat_minor": 5
}
