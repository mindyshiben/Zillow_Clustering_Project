{
 "cells": [
  {
   "cell_type": "code",
   "execution_count": 1,
   "id": "d51d1304",
   "metadata": {},
   "outputs": [],
   "source": [
    "# Imports necessary to acquire, prepare, explore, visualize, analyze, and model data\n",
    "\n",
    "import warnings\n",
    "warnings.filterwarnings(\"ignore\")\n",
    "\n",
    "import pandas as pd\n",
    "import matplotlib.pyplot as plt\n",
    "import seaborn as sns\n",
    "import numpy as np\n",
    "import env\n",
    "import acquire\n",
    "import prepare \n",
    "\n",
    "from tabulate import tabulate\n",
    "from IPython.display import Markdown, display\n",
    "\n",
    "from math import sqrt\n",
    "from scipy import stats\n",
    "\n",
    "import sklearn.preprocessing\n",
    "from sklearn.model_selection import train_test_split\n",
    "from scipy.stats import pearsonr, spearmanr\n",
    "\n",
    "from sklearn.metrics import mean_squared_error\n",
    "from sklearn.linear_model import LinearRegression, LassoLars, TweedieRegressor\n",
    "from sklearn.preprocessing import PolynomialFeatures\n",
    "from sklearn.impute import SimpleImputer\n",
    "\n",
    "np.random.seed(123)"
   ]
  },
  {
   "cell_type": "code",
   "execution_count": 2,
   "id": "55f28537",
   "metadata": {},
   "outputs": [],
   "source": [
    "df = acquire.get_zillow_data()"
   ]
  },
  {
   "cell_type": "code",
   "execution_count": 3,
   "id": "0ed5d8d0",
   "metadata": {},
   "outputs": [],
   "source": [
    "df = prepare.remove_outliers(df)"
   ]
  },
  {
   "cell_type": "code",
   "execution_count": 4,
   "id": "15fee160",
   "metadata": {},
   "outputs": [
    {
     "name": "stdout",
     "output_type": "stream",
     "text": [
      "<class 'pandas.core.frame.DataFrame'>\n",
      "Int64Index: 48242 entries, 0 to 52440\n",
      "Data columns (total 41 columns):\n",
      " #   Column                        Non-Null Count  Dtype  \n",
      "---  ------                        --------------  -----  \n",
      " 0   heatingorsystemtypeid         31152 non-null  float64\n",
      " 1   airconditioningtypeid         12666 non-null  float64\n",
      " 2   parcelid                      48242 non-null  int64  \n",
      " 3   id                            48242 non-null  int64  \n",
      " 4   bathroomcnt                   48242 non-null  float64\n",
      " 5   bedroomcnt                    48242 non-null  float64\n",
      " 6   buildingqualitytypeid         30879 non-null  float64\n",
      " 7   calculatedbathnbr             48232 non-null  float64\n",
      " 8   calculatedfinishedsquarefeet  48242 non-null  float64\n",
      " 9   finishedsquarefeet12          48135 non-null  float64\n",
      " 10  fips                          48242 non-null  float64\n",
      " 11  fullbathcnt                   48232 non-null  float64\n",
      " 12  garagecarcnt                  16949 non-null  float64\n",
      " 13  garagetotalsqft               16949 non-null  float64\n",
      " 14  latitude                      48242 non-null  float64\n",
      " 15  longitude                     48242 non-null  float64\n",
      " 16  lotsizesquarefeet             47936 non-null  float64\n",
      " 17  poolcnt                       9870 non-null   float64\n",
      " 18  propertycountylandusecode     48242 non-null  object \n",
      " 19  propertylandusetypeid         48242 non-null  float64\n",
      " 20  propertyzoningdesc            30871 non-null  object \n",
      " 21  rawcensustractandblock        48242 non-null  float64\n",
      " 22  regionidcity                  47296 non-null  float64\n",
      " 23  regionidcounty                48242 non-null  float64\n",
      " 24  regionidneighborhood          17161 non-null  float64\n",
      " 25  regionidzip                   48227 non-null  float64\n",
      " 26  roomcnt                       48242 non-null  float64\n",
      " 27  unitcnt                       30895 non-null  float64\n",
      " 28  yearbuilt                     48242 non-null  float64\n",
      " 29  numberofstories               13790 non-null  float64\n",
      " 30  structuretaxvaluedollarcnt    48183 non-null  float64\n",
      " 31  taxvaluedollarcnt             48242 non-null  float64\n",
      " 32  assessmentyear                48242 non-null  float64\n",
      " 33  landtaxvaluedollarcnt         48242 non-null  float64\n",
      " 34  taxamount                     48239 non-null  float64\n",
      " 35  censustractandblock           48155 non-null  float64\n",
      " 36  id.1                          48242 non-null  int64  \n",
      " 37  logerror                      48242 non-null  float64\n",
      " 38  transactiondate               48242 non-null  object \n",
      " 39  airconditioningdesc           12666 non-null  object \n",
      " 40  heatingorsystemdesc           31152 non-null  object \n",
      "dtypes: float64(33), int64(3), object(5)\n",
      "memory usage: 15.5+ MB\n"
     ]
    }
   ],
   "source": [
    "df.info()"
   ]
  },
  {
   "cell_type": "code",
   "execution_count": 5,
   "id": "43898b82",
   "metadata": {},
   "outputs": [],
   "source": [
    "df = prepare.handle_nulls(df)"
   ]
  },
  {
   "cell_type": "code",
   "execution_count": 6,
   "id": "8203dfcd",
   "metadata": {},
   "outputs": [],
   "source": [
    "df = prepare.rename_columns(df)"
   ]
  },
  {
   "cell_type": "code",
   "execution_count": 7,
   "id": "91ab574c",
   "metadata": {},
   "outputs": [],
   "source": [
    "df = prepare.prepare_locs(df)"
   ]
  },
  {
   "cell_type": "code",
   "execution_count": 8,
   "id": "36b9da0f",
   "metadata": {},
   "outputs": [
    {
     "name": "stdout",
     "output_type": "stream",
     "text": [
      "<class 'pandas.core.frame.DataFrame'>\n",
      "Int64Index: 47936 entries, 0 to 52440\n",
      "Data columns (total 19 columns):\n",
      " #   Column                     Non-Null Count  Dtype         \n",
      "---  ------                     --------------  -----         \n",
      " 0   parcelid                   47936 non-null  int64         \n",
      " 1   bathrooms                  47936 non-null  float64       \n",
      " 2   bedrooms                   47936 non-null  float64       \n",
      " 3   square_feet                47936 non-null  int64         \n",
      " 4   fips                       47936 non-null  int64         \n",
      " 5   garages                    47936 non-null  int64         \n",
      " 6   garage_size                47936 non-null  int64         \n",
      " 7   lot_size                   47936 non-null  int64         \n",
      " 8   has_pool                   47936 non-null  bool          \n",
      " 9   propertycountylandusecode  47936 non-null  object        \n",
      " 10  propertylandusetypeid      47936 non-null  float64       \n",
      " 11  year_built                 47936 non-null  int64         \n",
      " 12  taxvaluedollarcnt          47936 non-null  float64       \n",
      " 13  landtaxvaluedollarcnt      47936 non-null  float64       \n",
      " 14  log_error                  47936 non-null  float64       \n",
      " 15  transaction_date           47936 non-null  datetime64[ns]\n",
      " 16  county                     47936 non-null  object        \n",
      " 17  latitude                   47936 non-null  float64       \n",
      " 18  longitude                  47936 non-null  float64       \n",
      "dtypes: bool(1), datetime64[ns](1), float64(8), int64(7), object(2)\n",
      "memory usage: 7.0+ MB\n"
     ]
    }
   ],
   "source": [
    "df.info()"
   ]
  },
  {
   "cell_type": "code",
   "execution_count": 9,
   "id": "d2d0cc5a",
   "metadata": {},
   "outputs": [
    {
     "name": "stdout",
     "output_type": "stream",
     "text": [
      "\n"
     ]
    },
    {
     "data": {
      "text/markdown": [
       "**Number of Train Records:** 26,843"
      ],
      "text/plain": [
       "<IPython.core.display.Markdown object>"
      ]
     },
     "metadata": {},
     "output_type": "display_data"
    },
    {
     "data": {
      "text/markdown": [
       "**Number of Validate Records:** 11,505"
      ],
      "text/plain": [
       "<IPython.core.display.Markdown object>"
      ]
     },
     "metadata": {},
     "output_type": "display_data"
    },
    {
     "data": {
      "text/markdown": [
       "**Number of Test Records:** 9,588"
      ],
      "text/plain": [
       "<IPython.core.display.Markdown object>"
      ]
     },
     "metadata": {},
     "output_type": "display_data"
    }
   ],
   "source": [
    "train, test = train_test_split(df, test_size=.2, random_state=123)\n",
    "train, validate = train_test_split(train, test_size=.3, random_state=123)\n",
    "# Splits data into 3 subsets: train, validate, test. Random state specifying that data is split\n",
    "# with the exact same records when the code is re-run (useful for exploration and modeling, yet\n",
    "# I suggest dropping this when employing the model)\n",
    "\n",
    "def printmd(string): # function to format text style\n",
    "    display(Markdown(string))\n",
    "print()\n",
    "printmd('**Number of Train Records:** {:,}'\n",
    "     .format(len(train)))\n",
    "printmd('**Number of Validate Records:** {:,}'\n",
    "     .format(len(validate)))\n",
    "printmd('**Number of Test Records:** {:,}'\n",
    "     .format(len(test)))\n",
    "# returns the amount of records in each subset after splitting"
   ]
  },
  {
   "cell_type": "code",
   "execution_count": 10,
   "id": "91d785a5",
   "metadata": {},
   "outputs": [],
   "source": [
    "orange_train = train.where(train.county == 'orange')\n",
    "orange_validate = validate.where(validate.county == 'orange')\n",
    "orange_test = test.where(test.county == 'orange')"
   ]
  },
  {
   "cell_type": "code",
   "execution_count": 11,
   "id": "a0cae62b",
   "metadata": {},
   "outputs": [],
   "source": [
    "orange_train = orange_train.dropna()\n",
    "orange_validate = orange_validate.dropna()\n",
    "orange_test = orange_test.dropna()"
   ]
  },
  {
   "cell_type": "code",
   "execution_count": null,
   "id": "1e42380d",
   "metadata": {},
   "outputs": [],
   "source": [
    "orange_train.info()"
   ]
  },
  {
   "cell_type": "code",
   "execution_count": 12,
   "id": "e010db0d",
   "metadata": {},
   "outputs": [],
   "source": [
    "continuous_features = orange_train[['bathrooms', 'bedrooms', 'square_feet', 'garages', 'garage_size', 'taxvaluedollarcnt', 'landtaxvaluedollarcnt', 'lot_size', 'year_built']]"
   ]
  },
  {
   "cell_type": "code",
   "execution_count": 13,
   "id": "8d4ed247",
   "metadata": {},
   "outputs": [],
   "source": [
    "discrete_features = orange_train[['has_pool', 'transaction_date', 'propertycountylandusecode']]"
   ]
  },
  {
   "cell_type": "code",
   "execution_count": 15,
   "id": "d3fca4ff",
   "metadata": {},
   "outputs": [
    {
     "data": {
      "text/plain": [
       "<AxesSubplot:title={'center':'Feature Correlation (contiuous variables) of to Log Error'}>"
      ]
     },
     "execution_count": 15,
     "metadata": {},
     "output_type": "execute_result"
    },
    {
     "data": {
      "image/png": "[encoded data removed]",
      "text/plain": [
       "<Figure size 720x288 with 1 Axes>"
      ]
     },
     "metadata": {
      "needs_background": "light"
     },
     "output_type": "display_data"
    }
   ],
   "source": [
    "plt.figure(figsize=(10, 4))\n",
    "# sets the size of the graph\n",
    "plt.title(\"Feature Correlation (contiuous variables) of to Log Error\")\n",
    "corr_chart = continuous_features.corrwith(orange_train['log_error']).sort_values().plot.barh()\n",
    "corr_chart\n"
   ]
  },
  {
   "cell_type": "markdown",
   "id": "72685f47",
   "metadata": {},
   "source": [
    "- square feet, bathrooms, and year built - these 3 move on for modeling"
   ]
  },
  {
   "cell_type": "code",
   "execution_count": 16,
   "id": "66e22209",
   "metadata": {},
   "outputs": [],
   "source": [
    "import plotly.express as px"
   ]
  },
  {
   "cell_type": "code",
   "execution_count": 18,
   "id": "13de5847",
   "metadata": {},
   "outputs": [
    {
     "data": {
      "text/plain": [
       "Text(0.5, 1.0, 'Land Code w/Cont.')"
      ]
     },
     "execution_count": 18,
     "metadata": {},
     "output_type": "execute_result"
    },
    {
     "data": {
      "image/png": "[encoded data removed]",
      "text/plain": [
       "<Figure size 432x288 with 1 Axes>"
      ]
     },
     "metadata": {
      "needs_background": "light"
     },
     "output_type": "display_data"
    }
   ],
   "source": [
    "sns.boxplot(data=orange_train, x='propertycountylandusecode', y='log_error')\n",
    "plt.title(\"Land Code w/Cont.\")"
   ]
  },
  {
   "cell_type": "code",
   "execution_count": 19,
   "id": "e7d7f06e",
   "metadata": {},
   "outputs": [
    {
     "data": {
      "text/plain": [
       "propertycountylandusecode\n",
       "1      0.014645\n",
       "122    0.013903\n",
       "Name: log_error, dtype: float64"
      ]
     },
     "execution_count": 19,
     "metadata": {},
     "output_type": "execute_result"
    }
   ],
   "source": [
    "orange_train.log_error.groupby(orange_train.propertycountylandusecode).mean()"
   ]
  },
  {
   "cell_type": "code",
   "execution_count": 20,
   "id": "4910c17c",
   "metadata": {},
   "outputs": [
    {
     "data": {
      "text/html": [
       "<div>\n",
       "<style scoped>\n",
       "    .dataframe tbody tr th:only-of-type {\n",
       "        vertical-align: middle;\n",
       "    }\n",
       "\n",
       "    .dataframe tbody tr th {\n",
       "        vertical-align: top;\n",
       "    }\n",
       "\n",
       "    .dataframe thead th {\n",
       "        text-align: right;\n",
       "    }\n",
       "</style>\n",
       "<table border=\"1\" class=\"dataframe\">\n",
       "  <thead>\n",
       "    <tr style=\"text-align: right;\">\n",
       "      <th></th>\n",
       "      <th>parcelid</th>\n",
       "      <th>bathrooms</th>\n",
       "      <th>bedrooms</th>\n",
       "      <th>square_feet</th>\n",
       "      <th>fips</th>\n",
       "      <th>garages</th>\n",
       "      <th>garage_size</th>\n",
       "      <th>lot_size</th>\n",
       "      <th>propertylandusetypeid</th>\n",
       "      <th>year_built</th>\n",
       "      <th>taxvaluedollarcnt</th>\n",
       "      <th>landtaxvaluedollarcnt</th>\n",
       "      <th>log_error</th>\n",
       "      <th>latitude</th>\n",
       "      <th>longitude</th>\n",
       "    </tr>\n",
       "  </thead>\n",
       "  <tbody>\n",
       "    <tr>\n",
       "      <th>count</th>\n",
       "      <td>6.863000e+03</td>\n",
       "      <td>6863.000000</td>\n",
       "      <td>6863.000000</td>\n",
       "      <td>6863.000000</td>\n",
       "      <td>6863.0</td>\n",
       "      <td>6863.000000</td>\n",
       "      <td>6863.000000</td>\n",
       "      <td>6863.000000</td>\n",
       "      <td>6863.0</td>\n",
       "      <td>6863.000000</td>\n",
       "      <td>6.863000e+03</td>\n",
       "      <td>6.863000e+03</td>\n",
       "      <td>6863.000000</td>\n",
       "      <td>6863.000000</td>\n",
       "      <td>6863.000000</td>\n",
       "    </tr>\n",
       "    <tr>\n",
       "      <th>mean</th>\n",
       "      <td>1.418608e+07</td>\n",
       "      <td>2.375127</td>\n",
       "      <td>3.418330</td>\n",
       "      <td>1976.051435</td>\n",
       "      <td>6059.0</td>\n",
       "      <td>1.856040</td>\n",
       "      <td>470.832872</td>\n",
       "      <td>7157.344019</td>\n",
       "      <td>261.0</td>\n",
       "      <td>1971.848754</td>\n",
       "      <td>5.082075e+05</td>\n",
       "      <td>3.432320e+05</td>\n",
       "      <td>0.013903</td>\n",
       "      <td>33.721631</td>\n",
       "      <td>-117.837948</td>\n",
       "    </tr>\n",
       "    <tr>\n",
       "      <th>std</th>\n",
       "      <td>1.981944e+05</td>\n",
       "      <td>0.720478</td>\n",
       "      <td>0.801846</td>\n",
       "      <td>773.033827</td>\n",
       "      <td>0.0</td>\n",
       "      <td>0.576395</td>\n",
       "      <td>158.169884</td>\n",
       "      <td>6544.453894</td>\n",
       "      <td>0.0</td>\n",
       "      <td>16.273032</td>\n",
       "      <td>3.870075e+05</td>\n",
       "      <td>3.040366e+05</td>\n",
       "      <td>0.076180</td>\n",
       "      <td>0.126055</td>\n",
       "      <td>0.135150</td>\n",
       "    </tr>\n",
       "    <tr>\n",
       "      <th>min</th>\n",
       "      <td>1.383453e+07</td>\n",
       "      <td>1.000000</td>\n",
       "      <td>1.000000</td>\n",
       "      <td>653.000000</td>\n",
       "      <td>6059.0</td>\n",
       "      <td>0.000000</td>\n",
       "      <td>0.000000</td>\n",
       "      <td>540.000000</td>\n",
       "      <td>261.0</td>\n",
       "      <td>1910.000000</td>\n",
       "      <td>4.006800e+04</td>\n",
       "      <td>1.327500e+04</td>\n",
       "      <td>-0.309399</td>\n",
       "      <td>33.393644</td>\n",
       "      <td>-118.111451</td>\n",
       "    </tr>\n",
       "    <tr>\n",
       "      <th>25%</th>\n",
       "      <td>1.401427e+07</td>\n",
       "      <td>2.000000</td>\n",
       "      <td>3.000000</td>\n",
       "      <td>1392.000000</td>\n",
       "      <td>6059.0</td>\n",
       "      <td>2.000000</td>\n",
       "      <td>420.000000</td>\n",
       "      <td>5000.000000</td>\n",
       "      <td>261.0</td>\n",
       "      <td>1961.000000</td>\n",
       "      <td>2.544235e+05</td>\n",
       "      <td>1.280910e+05</td>\n",
       "      <td>-0.018369</td>\n",
       "      <td>33.632048</td>\n",
       "      <td>-117.950374</td>\n",
       "    </tr>\n",
       "    <tr>\n",
       "      <th>50%</th>\n",
       "      <td>1.418736e+07</td>\n",
       "      <td>2.000000</td>\n",
       "      <td>3.000000</td>\n",
       "      <td>1804.000000</td>\n",
       "      <td>6059.0</td>\n",
       "      <td>2.000000</td>\n",
       "      <td>460.000000</td>\n",
       "      <td>6458.000000</td>\n",
       "      <td>261.0</td>\n",
       "      <td>1971.000000</td>\n",
       "      <td>4.403300e+05</td>\n",
       "      <td>2.968870e+05</td>\n",
       "      <td>0.007192</td>\n",
       "      <td>33.732138</td>\n",
       "      <td>-117.856701</td>\n",
       "    </tr>\n",
       "    <tr>\n",
       "      <th>75%</th>\n",
       "      <td>1.437103e+07</td>\n",
       "      <td>3.000000</td>\n",
       "      <td>4.000000</td>\n",
       "      <td>2398.000000</td>\n",
       "      <td>6059.0</td>\n",
       "      <td>2.000000</td>\n",
       "      <td>520.000000</td>\n",
       "      <td>7902.000000</td>\n",
       "      <td>261.0</td>\n",
       "      <td>1984.000000</td>\n",
       "      <td>6.580000e+05</td>\n",
       "      <td>4.674305e+05</td>\n",
       "      <td>0.035526</td>\n",
       "      <td>33.824317</td>\n",
       "      <td>-117.714816</td>\n",
       "    </tr>\n",
       "    <tr>\n",
       "      <th>max</th>\n",
       "      <td>1.476274e+07</td>\n",
       "      <td>5.000000</td>\n",
       "      <td>5.000000</td>\n",
       "      <td>5494.000000</td>\n",
       "      <td>6059.0</td>\n",
       "      <td>14.000000</td>\n",
       "      <td>4251.000000</td>\n",
       "      <td>296208.000000</td>\n",
       "      <td>261.0</td>\n",
       "      <td>2015.000000</td>\n",
       "      <td>2.989631e+06</td>\n",
       "      <td>2.783873e+06</td>\n",
       "      <td>0.491767</td>\n",
       "      <td>33.945897</td>\n",
       "      <td>-117.554636</td>\n",
       "    </tr>\n",
       "  </tbody>\n",
       "</table>\n",
       "</div>"
      ],
      "text/plain": [
       "           parcelid    bathrooms     bedrooms  square_feet    fips  \\\n",
       "count  6.863000e+03  6863.000000  6863.000000  6863.000000  6863.0   \n",
       "mean   1.418608e+07     2.375127     3.418330  1976.051435  6059.0   \n",
       "std    1.981944e+05     0.720478     0.801846   773.033827     0.0   \n",
       "min    1.383453e+07     1.000000     1.000000   653.000000  6059.0   \n",
       "25%    1.401427e+07     2.000000     3.000000  1392.000000  6059.0   \n",
       "50%    1.418736e+07     2.000000     3.000000  1804.000000  6059.0   \n",
       "75%    1.437103e+07     3.000000     4.000000  2398.000000  6059.0   \n",
       "max    1.476274e+07     5.000000     5.000000  5494.000000  6059.0   \n",
       "\n",
       "           garages  garage_size       lot_size  propertylandusetypeid  \\\n",
       "count  6863.000000  6863.000000    6863.000000                 6863.0   \n",
       "mean      1.856040   470.832872    7157.344019                  261.0   \n",
       "std       0.576395   158.169884    6544.453894                    0.0   \n",
       "min       0.000000     0.000000     540.000000                  261.0   \n",
       "25%       2.000000   420.000000    5000.000000                  261.0   \n",
       "50%       2.000000   460.000000    6458.000000                  261.0   \n",
       "75%       2.000000   520.000000    7902.000000                  261.0   \n",
       "max      14.000000  4251.000000  296208.000000                  261.0   \n",
       "\n",
       "        year_built  taxvaluedollarcnt  landtaxvaluedollarcnt    log_error  \\\n",
       "count  6863.000000       6.863000e+03           6.863000e+03  6863.000000   \n",
       "mean   1971.848754       5.082075e+05           3.432320e+05     0.013903   \n",
       "std      16.273032       3.870075e+05           3.040366e+05     0.076180   \n",
       "min    1910.000000       4.006800e+04           1.327500e+04    -0.309399   \n",
       "25%    1961.000000       2.544235e+05           1.280910e+05    -0.018369   \n",
       "50%    1971.000000       4.403300e+05           2.968870e+05     0.007192   \n",
       "75%    1984.000000       6.580000e+05           4.674305e+05     0.035526   \n",
       "max    2015.000000       2.989631e+06           2.783873e+06     0.491767   \n",
       "\n",
       "          latitude    longitude  \n",
       "count  6863.000000  6863.000000  \n",
       "mean     33.721631  -117.837948  \n",
       "std       0.126055     0.135150  \n",
       "min      33.393644  -118.111451  \n",
       "25%      33.632048  -117.950374  \n",
       "50%      33.732138  -117.856701  \n",
       "75%      33.824317  -117.714816  \n",
       "max      33.945897  -117.554636  "
      ]
     },
     "execution_count": 20,
     "metadata": {},
     "output_type": "execute_result"
    }
   ],
   "source": [
    "(orange_train.where(orange_train.propertycountylandusecode == '122')).describe()"
   ]
  },
  {
   "cell_type": "code",
   "execution_count": 21,
   "id": "24e693a8",
   "metadata": {},
   "outputs": [
    {
     "data": {
      "text/html": [
       "<div>\n",
       "<style scoped>\n",
       "    .dataframe tbody tr th:only-of-type {\n",
       "        vertical-align: middle;\n",
       "    }\n",
       "\n",
       "    .dataframe tbody tr th {\n",
       "        vertical-align: top;\n",
       "    }\n",
       "\n",
       "    .dataframe thead th {\n",
       "        text-align: right;\n",
       "    }\n",
       "</style>\n",
       "<table border=\"1\" class=\"dataframe\">\n",
       "  <thead>\n",
       "    <tr style=\"text-align: right;\">\n",
       "      <th></th>\n",
       "      <th>parcelid</th>\n",
       "      <th>bathrooms</th>\n",
       "      <th>bedrooms</th>\n",
       "      <th>square_feet</th>\n",
       "      <th>fips</th>\n",
       "      <th>garages</th>\n",
       "      <th>garage_size</th>\n",
       "      <th>lot_size</th>\n",
       "      <th>propertylandusetypeid</th>\n",
       "      <th>year_built</th>\n",
       "      <th>taxvaluedollarcnt</th>\n",
       "      <th>landtaxvaluedollarcnt</th>\n",
       "      <th>log_error</th>\n",
       "      <th>latitude</th>\n",
       "      <th>longitude</th>\n",
       "    </tr>\n",
       "  </thead>\n",
       "  <tbody>\n",
       "    <tr>\n",
       "      <th>count</th>\n",
       "      <td>5.050000e+02</td>\n",
       "      <td>505.000000</td>\n",
       "      <td>505.000000</td>\n",
       "      <td>505.000000</td>\n",
       "      <td>505.0</td>\n",
       "      <td>505.000000</td>\n",
       "      <td>505.000000</td>\n",
       "      <td>505.000000</td>\n",
       "      <td>505.0</td>\n",
       "      <td>505.000000</td>\n",
       "      <td>5.050000e+02</td>\n",
       "      <td>5.050000e+02</td>\n",
       "      <td>505.000000</td>\n",
       "      <td>505.000000</td>\n",
       "      <td>505.000000</td>\n",
       "    </tr>\n",
       "    <tr>\n",
       "      <th>mean</th>\n",
       "      <td>1.427168e+07</td>\n",
       "      <td>3.271287</td>\n",
       "      <td>3.772277</td>\n",
       "      <td>2861.055446</td>\n",
       "      <td>6059.0</td>\n",
       "      <td>2.000000</td>\n",
       "      <td>514.097030</td>\n",
       "      <td>6201.013861</td>\n",
       "      <td>261.0</td>\n",
       "      <td>2003.653465</td>\n",
       "      <td>9.740409e+05</td>\n",
       "      <td>5.137677e+05</td>\n",
       "      <td>0.014645</td>\n",
       "      <td>33.683871</td>\n",
       "      <td>-117.779306</td>\n",
       "    </tr>\n",
       "    <tr>\n",
       "      <th>std</th>\n",
       "      <td>1.908072e+05</td>\n",
       "      <td>0.808970</td>\n",
       "      <td>0.699790</td>\n",
       "      <td>830.189647</td>\n",
       "      <td>0.0</td>\n",
       "      <td>0.345033</td>\n",
       "      <td>118.694538</td>\n",
       "      <td>4531.934806</td>\n",
       "      <td>0.0</td>\n",
       "      <td>12.378966</td>\n",
       "      <td>4.298494e+05</td>\n",
       "      <td>3.037963e+05</td>\n",
       "      <td>0.067993</td>\n",
       "      <td>0.144146</td>\n",
       "      <td>0.131958</td>\n",
       "    </tr>\n",
       "    <tr>\n",
       "      <th>min</th>\n",
       "      <td>1.383882e+07</td>\n",
       "      <td>1.000000</td>\n",
       "      <td>2.000000</td>\n",
       "      <td>902.000000</td>\n",
       "      <td>6059.0</td>\n",
       "      <td>0.000000</td>\n",
       "      <td>0.000000</td>\n",
       "      <td>1027.000000</td>\n",
       "      <td>261.0</td>\n",
       "      <td>1912.000000</td>\n",
       "      <td>9.755100e+04</td>\n",
       "      <td>1.794200e+04</td>\n",
       "      <td>-0.266302</td>\n",
       "      <td>33.423443</td>\n",
       "      <td>-118.107041</td>\n",
       "    </tr>\n",
       "    <tr>\n",
       "      <th>25%</th>\n",
       "      <td>1.415672e+07</td>\n",
       "      <td>2.500000</td>\n",
       "      <td>3.000000</td>\n",
       "      <td>2283.000000</td>\n",
       "      <td>6059.0</td>\n",
       "      <td>2.000000</td>\n",
       "      <td>428.000000</td>\n",
       "      <td>3812.000000</td>\n",
       "      <td>261.0</td>\n",
       "      <td>2003.000000</td>\n",
       "      <td>6.947200e+05</td>\n",
       "      <td>3.270280e+05</td>\n",
       "      <td>-0.014907</td>\n",
       "      <td>33.550964</td>\n",
       "      <td>-117.869508</td>\n",
       "    </tr>\n",
       "    <tr>\n",
       "      <th>50%</th>\n",
       "      <td>1.432801e+07</td>\n",
       "      <td>3.000000</td>\n",
       "      <td>4.000000</td>\n",
       "      <td>2777.000000</td>\n",
       "      <td>6059.0</td>\n",
       "      <td>2.000000</td>\n",
       "      <td>466.000000</td>\n",
       "      <td>5232.000000</td>\n",
       "      <td>261.0</td>\n",
       "      <td>2005.000000</td>\n",
       "      <td>8.843200e+05</td>\n",
       "      <td>4.411170e+05</td>\n",
       "      <td>0.008090</td>\n",
       "      <td>33.681750</td>\n",
       "      <td>-117.770978</td>\n",
       "    </tr>\n",
       "    <tr>\n",
       "      <th>75%</th>\n",
       "      <td>1.445362e+07</td>\n",
       "      <td>4.000000</td>\n",
       "      <td>4.000000</td>\n",
       "      <td>3451.000000</td>\n",
       "      <td>6059.0</td>\n",
       "      <td>2.000000</td>\n",
       "      <td>611.000000</td>\n",
       "      <td>7187.000000</td>\n",
       "      <td>261.0</td>\n",
       "      <td>2009.000000</td>\n",
       "      <td>1.159000e+06</td>\n",
       "      <td>6.292630e+05</td>\n",
       "      <td>0.033477</td>\n",
       "      <td>33.786391</td>\n",
       "      <td>-117.643618</td>\n",
       "    </tr>\n",
       "    <tr>\n",
       "      <th>max</th>\n",
       "      <td>1.476217e+07</td>\n",
       "      <td>5.000000</td>\n",
       "      <td>5.000000</td>\n",
       "      <td>5438.000000</td>\n",
       "      <td>6059.0</td>\n",
       "      <td>4.000000</td>\n",
       "      <td>889.000000</td>\n",
       "      <td>56280.000000</td>\n",
       "      <td>261.0</td>\n",
       "      <td>2015.000000</td>\n",
       "      <td>2.922335e+06</td>\n",
       "      <td>2.208361e+06</td>\n",
       "      <td>0.497845</td>\n",
       "      <td>33.935358</td>\n",
       "      <td>-117.576924</td>\n",
       "    </tr>\n",
       "  </tbody>\n",
       "</table>\n",
       "</div>"
      ],
      "text/plain": [
       "           parcelid   bathrooms    bedrooms  square_feet    fips     garages  \\\n",
       "count  5.050000e+02  505.000000  505.000000   505.000000   505.0  505.000000   \n",
       "mean   1.427168e+07    3.271287    3.772277  2861.055446  6059.0    2.000000   \n",
       "std    1.908072e+05    0.808970    0.699790   830.189647     0.0    0.345033   \n",
       "min    1.383882e+07    1.000000    2.000000   902.000000  6059.0    0.000000   \n",
       "25%    1.415672e+07    2.500000    3.000000  2283.000000  6059.0    2.000000   \n",
       "50%    1.432801e+07    3.000000    4.000000  2777.000000  6059.0    2.000000   \n",
       "75%    1.445362e+07    4.000000    4.000000  3451.000000  6059.0    2.000000   \n",
       "max    1.476217e+07    5.000000    5.000000  5438.000000  6059.0    4.000000   \n",
       "\n",
       "       garage_size      lot_size  propertylandusetypeid   year_built  \\\n",
       "count   505.000000    505.000000                  505.0   505.000000   \n",
       "mean    514.097030   6201.013861                  261.0  2003.653465   \n",
       "std     118.694538   4531.934806                    0.0    12.378966   \n",
       "min       0.000000   1027.000000                  261.0  1912.000000   \n",
       "25%     428.000000   3812.000000                  261.0  2003.000000   \n",
       "50%     466.000000   5232.000000                  261.0  2005.000000   \n",
       "75%     611.000000   7187.000000                  261.0  2009.000000   \n",
       "max     889.000000  56280.000000                  261.0  2015.000000   \n",
       "\n",
       "       taxvaluedollarcnt  landtaxvaluedollarcnt   log_error    latitude  \\\n",
       "count       5.050000e+02           5.050000e+02  505.000000  505.000000   \n",
       "mean        9.740409e+05           5.137677e+05    0.014645   33.683871   \n",
       "std         4.298494e+05           3.037963e+05    0.067993    0.144146   \n",
       "min         9.755100e+04           1.794200e+04   -0.266302   33.423443   \n",
       "25%         6.947200e+05           3.270280e+05   -0.014907   33.550964   \n",
       "50%         8.843200e+05           4.411170e+05    0.008090   33.681750   \n",
       "75%         1.159000e+06           6.292630e+05    0.033477   33.786391   \n",
       "max         2.922335e+06           2.208361e+06    0.497845   33.935358   \n",
       "\n",
       "        longitude  \n",
       "count  505.000000  \n",
       "mean  -117.779306  \n",
       "std      0.131958  \n",
       "min   -118.107041  \n",
       "25%   -117.869508  \n",
       "50%   -117.770978  \n",
       "75%   -117.643618  \n",
       "max   -117.576924  "
      ]
     },
     "execution_count": 21,
     "metadata": {},
     "output_type": "execute_result"
    }
   ],
   "source": [
    "(orange_train.where(orange_train.propertycountylandusecode == '1')).describe()"
   ]
  },
  {
   "cell_type": "code",
   "execution_count": null,
   "id": "a17c0373",
   "metadata": {},
   "outputs": [],
   "source": [
    "orange_train.garages.value_counts()"
   ]
  },
  {
   "cell_type": "markdown",
   "id": "42bf2078",
   "metadata": {},
   "source": [
    "Because there are so few properties that have 3+ garages, I'm turning this into a boolean of yes/no garage and dropping garage size."
   ]
  },
  {
   "cell_type": "code",
   "execution_count": null,
   "id": "85eaf778",
   "metadata": {},
   "outputs": [],
   "source": [
    "orange_train['garages'] = orange_train.garages.astype(bool)"
   ]
  },
  {
   "cell_type": "code",
   "execution_count": null,
   "id": "7927801d",
   "metadata": {},
   "outputs": [],
   "source": [
    "orange_train.garages.value_counts()"
   ]
  },
  {
   "cell_type": "code",
   "execution_count": null,
   "id": "a324f9e6",
   "metadata": {},
   "outputs": [],
   "source": [
    "(orange_train.where(orange_train.propertycountylandusecode == '122')).groupby(orange_train.garages).sum()"
   ]
  },
  {
   "cell_type": "markdown",
   "id": "a04ca65f",
   "metadata": {},
   "source": [
    "pretty much all of the homes in code 1 have garages. "
   ]
  },
  {
   "cell_type": "code",
   "execution_count": null,
   "id": "838e4a89",
   "metadata": {},
   "outputs": [],
   "source": [
    "orange_train_neg = orange_train.where(orange_train.log_error < 0)\n",
    "orange_train_pos = orange_train.where(orange_train.log_error > 0)"
   ]
  },
  {
   "cell_type": "code",
   "execution_count": null,
   "id": "b99857f4",
   "metadata": {},
   "outputs": [],
   "source": [
    "orange_train_neg.groupby(orange_train_neg.has_pool).mean()"
   ]
  },
  {
   "cell_type": "code",
   "execution_count": null,
   "id": "2b75ea76",
   "metadata": {},
   "outputs": [],
   "source": [
    "orange_train_neg.describe()"
   ]
  },
  {
   "cell_type": "code",
   "execution_count": null,
   "id": "49c62e37",
   "metadata": {},
   "outputs": [],
   "source": [
    "orange_train['has_pool'] = orange_train.has_pool.astype(int)\n",
    "orange_train['garages'] = orange_train.has_pool.astype(int)"
   ]
  },
  {
   "cell_type": "code",
   "execution_count": null,
   "id": "7aeab8b5",
   "metadata": {},
   "outputs": [],
   "source": [
    "bins = [-.6, -.0475, -.0244, -.0106, 0, .0125, .0283, .0586, .6]\n",
    "labels = ['N4','N3','N2','N1', 'P1', 'P2', 'P3', 'P4']\n",
    "orange_train['log_error_bin'] = pd.cut(orange_train['log_error'], bins=bins, labels=labels)\n",
    "orange_validate['log_error_bin'] = pd.cut(orange_validate['log_error'], bins=bins, labels=labels)\n",
    "orange_test['log_error_bin'] = pd.cut(orange_test['log_error'], bins=bins, labels=labels)"
   ]
  },
  {
   "cell_type": "code",
   "execution_count": null,
   "id": "0a0627b7",
   "metadata": {},
   "outputs": [],
   "source": [
    "pd.set_option('display.max_columns', None)\n",
    "pd.set_option('display.max_rows', None)"
   ]
  },
  {
   "cell_type": "code",
   "execution_count": null,
   "id": "53d86eca",
   "metadata": {},
   "outputs": [],
   "source": [
    "orange_train_neg.info()"
   ]
  },
  {
   "cell_type": "code",
   "execution_count": null,
   "id": "976e6fb4",
   "metadata": {},
   "outputs": [],
   "source": [
    "orange_train.groupby(orange_train.log_error_bin == 'N4').max()"
   ]
  },
  {
   "cell_type": "code",
   "execution_count": null,
   "id": "67cd9b67",
   "metadata": {},
   "outputs": [],
   "source": [
    "bins = [0, .0125, .0283, .0586, .6]\n",
    "labels = ['P1', 'P2', 'P3', 'P4']\n",
    "orange_train_pos['log_error_bin'] = pd.cut(orange_train_pos['log_error'], bins=bins, labels=labels)"
   ]
  },
  {
   "cell_type": "code",
   "execution_count": null,
   "id": "d3bc300b",
   "metadata": {},
   "outputs": [],
   "source": [
    "bins = [-.6, -.0475, -.0244, -.0106, 0.01]\n",
    "labels = ['N4','N3','N2','N1']\n",
    "orange_train_neg['log_error_bin'] = pd.cut(orange_train_neg['log_error'], bins=bins, labels=labels)"
   ]
  },
  {
   "cell_type": "code",
   "execution_count": null,
   "id": "eac3ae43",
   "metadata": {},
   "outputs": [],
   "source": [
    "sns.set_palette('Set2', 20)\n",
    "# sets colors for graph\n",
    "sns.lmplot(x='year_built', y='log_error', data=orange_train, scatter=True, col=None, height=5.5, aspect=8.7/5.5)\n",
    "plt.title(\"Square Footage Correlation (Grouped by Bin) to Log Error\")"
   ]
  },
  {
   "cell_type": "code",
   "execution_count": null,
   "id": "850f2604",
   "metadata": {},
   "outputs": [],
   "source": [
    "sns.set_palette('Set2', 20)\n",
    "# sets colors for graph\n",
    "sns.lmplot(x='year_built', y='log_error', data=orange_train_pos, scatter=True, hue='log_error_bin', col=None, height=5.5, aspect=8.7/5.5)\n",
    "plt.title(\"Square Footage Correlation (Grouped by Bin) to Log Error\")"
   ]
  },
  {
   "cell_type": "code",
   "execution_count": null,
   "id": "d149eed1",
   "metadata": {},
   "outputs": [],
   "source": [
    "sns.set_palette('Set2', 20)\n",
    "# sets colors for graph\n",
    "sns.lmplot(x='taxvaluedollarcnt', y='log_error', data=orange_train_pos, scatter=True, hue='log_error_bin', col=None, height=5.5, aspect=8.7/5.5)\n",
    "plt.title(\"Square Footage Correlation (Grouped by Bin) to Log Error\")"
   ]
  },
  {
   "cell_type": "code",
   "execution_count": null,
   "id": "21397762",
   "metadata": {},
   "outputs": [],
   "source": [
    "sns.set_palette('Set2', 20)\n",
    "# sets colors for graph\n",
    "sns.lmplot(x='lot_size', y='log_error', data=orange_train_pos, scatter=True, hue='log_error_bin', col=None, height=5.5, aspect=8.7/5.5)\n",
    "plt.title(\"Square Footage Correlation (Grouped by Bin) to Log Error\")"
   ]
  },
  {
   "cell_type": "code",
   "execution_count": null,
   "id": "ff3c3e56",
   "metadata": {},
   "outputs": [],
   "source": [
    "sns.set_palette('Set2', 20)\n",
    "# sets colors for graph\n",
    "sns.lmplot(x='lot_size', y='log_error', data=orange_train, scatter=True, hue='log_error_bin', col=None, height=5.5, aspect=8.7/5.5)\n",
    "plt.title(\"Square Footage Correlation (Grouped by Bin) to Log Error\")"
   ]
  },
  {
   "cell_type": "code",
   "execution_count": null,
   "id": "94d86b91",
   "metadata": {},
   "outputs": [],
   "source": [
    "orange_train = orange_train[orange_train.lot_size < 200000]\n",
    "orange_validate = orange_validate[orange_validate.lot_size < 200000]\n",
    "orange_test = orange_test[orange_test.lot_size < 200000]\n",
    "orange_train_pos = orange_train_pos[orange_train_pos.lot_size < 200000]\n",
    "orange_train_neg = orange_train_neg[orange_train_neg.lot_size < 200000]"
   ]
  },
  {
   "cell_type": "code",
   "execution_count": null,
   "id": "87b90376",
   "metadata": {},
   "outputs": [],
   "source": [
    "sns.set_palette('Set2', 20)\n",
    "# sets colors for graph\n",
    "sns.lmplot(x='lot_size', y='log_error', data=orange_train_pos, scatter=True, hue='log_error_bin', col=None, height=5.5, aspect=8.7/5.5)\n",
    "plt.title(\"Square Footage Correlation (Grouped by Bin) to Log Error\")"
   ]
  },
  {
   "cell_type": "code",
   "execution_count": null,
   "id": "1a837a0d",
   "metadata": {},
   "outputs": [],
   "source": []
  },
  {
   "cell_type": "code",
   "execution_count": null,
   "id": "a3c637c5",
   "metadata": {},
   "outputs": [],
   "source": []
  },
  {
   "cell_type": "code",
   "execution_count": null,
   "id": "d0086057",
   "metadata": {},
   "outputs": [],
   "source": [
    "plt.figure(figsize=(18,15))\n",
    "plt.title(\"Feature Correlation to Churn\")\n",
    "corr_chart = orange_train_neg.drop(\"log_error\", axis=1).corrwith(orange_train_neg['log_error']).sort_values().plot.barh()\n",
    "corr_chart"
   ]
  },
  {
   "cell_type": "code",
   "execution_count": null,
   "id": "b8b64f3b",
   "metadata": {},
   "outputs": [],
   "source": [
    "orange_train['weight_lot'] = orange_train['lot_size'] * 3.5\n",
    "orange_validate['weight_lot'] = orange_validate['lot_size'] * 3.5\n",
    "orange_test['weight_lot'] = orange_test['lot_size'] * 3.5"
   ]
  },
  {
   "cell_type": "code",
   "execution_count": null,
   "id": "8e1d4e90",
   "metadata": {},
   "outputs": [],
   "source": [
    "scaler = sklearn.preprocessing.StandardScaler()\n",
    "scaler.fit(orange_train[['weight_lot', 'square_feet']])"
   ]
  },
  {
   "cell_type": "code",
   "execution_count": null,
   "id": "e9b3d090",
   "metadata": {},
   "outputs": [],
   "source": [
    "orange_train[['scallot', 'scalsquare']] = scaler.transform(orange_train[['weight_lot', 'square_feet']])"
   ]
  },
  {
   "cell_type": "code",
   "execution_count": null,
   "id": "456bb338",
   "metadata": {},
   "outputs": [],
   "source": [
    "orange_validate[['scallot', 'scalsquare']] = scaler.transform(orange_validate[['weight_lot', 'square_feet']])\n",
    "orange_test[['scallot', 'scalsquare']] = scaler.transform(orange_test[['weight_lot', 'square_feet']])"
   ]
  },
  {
   "cell_type": "code",
   "execution_count": null,
   "id": "02393919",
   "metadata": {},
   "outputs": [],
   "source": [
    "orange_train['sqft'] = (orange_train.scallot + orange_train.scalsquare) / 2\n",
    "orange_validate['sqft'] = (orange_validate.scallot + orange_validate.scalsquare) / 2\n",
    "orange_test['sqft'] = (orange_test.scallot + orange_test.scalsquare) / 2"
   ]
  },
  {
   "cell_type": "code",
   "execution_count": null,
   "id": "bee20895",
   "metadata": {},
   "outputs": [],
   "source": [
    "orange_train_neg = orange_train.where(orange_train.log_error < 0)\n",
    "orange_train_pos = orange_train.where(orange_train.log_error > 0)"
   ]
  },
  {
   "cell_type": "code",
   "execution_count": null,
   "id": "56c92f3c",
   "metadata": {},
   "outputs": [],
   "source": [
    "datap1 = orange_train_pos[orange_train_pos.log_error_bin == 'P1']\n",
    "datap2 = orange_train_pos[orange_train_pos.log_error_bin == 'P2']\n",
    "datap3 = orange_train_pos[orange_train_pos.log_error_bin == 'P3']\n",
    "datap4 = orange_train_pos[orange_train_pos.log_error_bin == 'P4']"
   ]
  },
  {
   "cell_type": "code",
   "execution_count": null,
   "id": "d73f5c63",
   "metadata": {},
   "outputs": [],
   "source": [
    "datan1 = orange_train_neg[orange_train_neg.log_error_bin == 'N1']\n",
    "datan2 = orange_train_neg[orange_train_neg.log_error_bin == 'N2']\n",
    "datan3 = orange_train_neg[orange_train_neg.log_error_bin == 'N3']\n",
    "datan4 = orange_train_neg[orange_train_neg.log_error_bin == 'N4']"
   ]
  },
  {
   "cell_type": "code",
   "execution_count": null,
   "id": "b4aded40",
   "metadata": {},
   "outputs": [],
   "source": [
    "dp1 = datap1[['bedrooms', 'bathrooms', 'sqft', 'square_feet', 'lot_size', 'year_built', 'log_error']]\n",
    "dp2 = datap2[['bedrooms', 'bathrooms', 'sqft','square_feet', 'lot_size', 'year_built', 'log_error']]\n",
    "dp3 = datap3[['bedrooms', 'bathrooms','sqft', 'square_feet', 'lot_size', 'year_built', 'log_error']]\n",
    "dp4 = datap4[['bedrooms', 'bathrooms', 'sqft','square_feet', 'lot_size', 'year_built', 'log_error']]"
   ]
  },
  {
   "cell_type": "code",
   "execution_count": null,
   "id": "0f348bf2",
   "metadata": {},
   "outputs": [],
   "source": [
    "dn1 = datan1[['bedrooms', 'bathrooms','sqft', 'square_feet', 'lot_size', 'year_built', 'log_error']]\n",
    "dn2 = datan2[['bedrooms', 'bathrooms', 'sqft','square_feet', 'lot_size', 'year_built', 'log_error']]\n",
    "dn3 = datan3[['bedrooms', 'bathrooms', 'sqft','square_feet', 'lot_size', 'year_built', 'log_error']]\n",
    "dn4 = datan4[['bedrooms', 'bathrooms', 'sqft','square_feet', 'lot_size', 'year_built', 'log_error']]"
   ]
  },
  {
   "cell_type": "code",
   "execution_count": null,
   "id": "47a1807b",
   "metadata": {},
   "outputs": [],
   "source": [
    "data_pos = orange_train_pos[['bedrooms', 'sqft', 'bathrooms', 'square_feet', 'lot_size', 'year_built', 'log_error']]\n",
    "data_neg = orange_train_neg[['bedrooms', 'sqft', 'bathrooms', 'square_feet', 'lot_size', 'year_built', 'log_error']]"
   ]
  },
  {
   "cell_type": "code",
   "execution_count": null,
   "id": "a14ec5e7",
   "metadata": {},
   "outputs": [],
   "source": [
    "sns.pairplot(data_pos)"
   ]
  },
  {
   "cell_type": "code",
   "execution_count": null,
   "id": "2f304eb4",
   "metadata": {},
   "outputs": [],
   "source": [
    "sns.pairplot(dp3)"
   ]
  },
  {
   "cell_type": "code",
   "execution_count": null,
   "id": "90342b5a",
   "metadata": {},
   "outputs": [],
   "source": [
    "sns.pairplot(dp4)"
   ]
  },
  {
   "cell_type": "code",
   "execution_count": null,
   "id": "75f2ee98",
   "metadata": {},
   "outputs": [],
   "source": [
    "sns.pairplot(dn4)"
   ]
  },
  {
   "cell_type": "markdown",
   "id": "18bf0f4f",
   "metadata": {},
   "source": [
    "Log error- higher for having gargage\n",
    "higher for 1 bedroom and bit higher for 5 beds\n",
    "higher for 4 + bathrooms\n",
    "before 1949 has higher log error\n",
    "square feet - I think it's greater for small and big\n",
    "very low for having a pool\n",
    "\n",
    "not\n",
    "-landusecode"
   ]
  },
  {
   "cell_type": "code",
   "execution_count": null,
   "id": "70413081",
   "metadata": {},
   "outputs": [],
   "source": [
    "plt.figure(figsize=(18,15))\n",
    "plt.title(\"Feature Correlation to Churn\")\n",
    "corr_chart = orange_train.drop(\"log_error\", axis=1).corrwith(abs(orange_train['log_error'])).sort_values().plot.barh()\n",
    "corr_chart"
   ]
  },
  {
   "cell_type": "code",
   "execution_count": null,
   "id": "2cc1930e",
   "metadata": {},
   "outputs": [],
   "source": [
    "from sklearn.cluster import KMeans\n",
    "import sklearn.preprocessing"
   ]
  },
  {
   "cell_type": "code",
   "execution_count": null,
   "id": "269eaef2",
   "metadata": {},
   "outputs": [],
   "source": [
    "orange_train.info()"
   ]
  },
  {
   "cell_type": "code",
   "execution_count": null,
   "id": "060f9181",
   "metadata": {},
   "outputs": [],
   "source": [
    "scaler = sklearn.preprocessing.MinMaxScaler()\n",
    "scaler.fit(orange_train[['bedrooms', 'bathrooms', 'year_built', 'taxvaluedollarcnt', 'landtaxvaluedollarcnt', 'has_pool', 'garages', 'lot_size','year_built']])\n",
    "# inserts the 4 selected features into the scaler\n",
    "\n",
    "orange_train_s = (orange_train[['bedrooms', 'bathrooms', 'year_built', 'taxvaluedollarcnt', 'landtaxvaluedollarcnt', 'has_pool', 'garages', 'lot_size','year_built']])\n",
    "orange_validate_s  = (orange_validate[['bedrooms', 'bathrooms', 'year_built', 'taxvaluedollarcnt', 'landtaxvaluedollarcnt', 'has_pool', 'garages', 'lot_size','year_built']])\n",
    "orange_test_s = (orange_test[['bedrooms', 'bathrooms', 'year_built', 'taxvaluedollarcnt', 'landtaxvaluedollarcnt', 'has_pool', 'garages', 'lot_size','year_built']])\n",
    "\n",
    "orange_train_scal = scaler.transform(orange_train[['bedrooms', 'bathrooms', 'year_built', 'taxvaluedollarcnt', 'landtaxvaluedollarcnt', 'has_pool', 'garages', 'lot_size','year_built']])\n",
    "orange_validate_scal  = scaler.transform(orange_validate[['bedrooms', 'bathrooms', 'year_built', 'taxvaluedollarcnt', 'landtaxvaluedollarcnt', 'has_pool', 'garages', 'lot_size','year_built']])\n",
    "orange_test_scal  = scaler.transform(orange_test[['bedrooms', 'bathrooms', 'year_built', 'taxvaluedollarcnt', 'landtaxvaluedollarcnt', 'has_pool', 'garages', 'lot_size','year_built']])"
   ]
  },
  {
   "cell_type": "code",
   "execution_count": null,
   "id": "845feb74",
   "metadata": {},
   "outputs": [],
   "source": [
    "X_train_scaled = pd.DataFrame(orange_train_scal, index=orange_train_s.index, columns=orange_train_s.columns)\n",
    "X_validate_scaled = pd.DataFrame(orange_validate_scal, index=orange_validate_s.index, columns=orange_validate_s.columns)\n",
    "X_test_scaled = pd.DataFrame(orange_test_scal, index=orange_test_s.index, columns=orange_test_s.columns)"
   ]
  },
  {
   "cell_type": "code",
   "execution_count": null,
   "id": "a4b1c609",
   "metadata": {},
   "outputs": [],
   "source": [
    "kmeans = KMeans(n_clusters=5)\n",
    "kmeans.fit(X_train_scaled)\n",
    "\n",
    "kmeans.predict(X_train_scaled)\n",
    "\n",
    "orange_train['KM'] = kmeans.predict(X_train_scaled)\n",
    "orange_validate['KM'] = kmeans.predict(X_validate_scaled)\n",
    "orange_test['KM'] = kmeans.predict(X_test_scaled)\n",
    "\n",
    "centroids = pd.DataFrame(kmeans.cluster_centers_, columns=X_train_scaled.columns)\n",
    "centroids"
   ]
  },
  {
   "cell_type": "code",
   "execution_count": null,
   "id": "49a78e79",
   "metadata": {},
   "outputs": [],
   "source": [
    "with plt.style.context('seaborn-whitegrid'):\n",
    "    plt.figure(figsize=(9, 6))\n",
    "    pd.Series({k: KMeans(k).fit(orange_train_scal).inertia_ for k in range(2, 12)}).plot(marker='x')\n",
    "    plt.xticks(range(2, 12))\n",
    "    plt.xlabel('k')\n",
    "    plt.ylabel('inertia')\n",
    "    plt.title('Change in inertia as k increases')"
   ]
  },
  {
   "cell_type": "code",
   "execution_count": null,
   "id": "a92d9f0f",
   "metadata": {},
   "outputs": [],
   "source": [
    "KM0 = orange_train.where(orange_train.KM == 0)\n",
    "KM1 = orange_train.where(orange_train.KM == 1)\n",
    "KM2 = orange_train.where(orange_train.KM == 2)\n",
    "KM3 = orange_train.where(orange_train.KM == 3)\n",
    "KM4 = orange_train.where(orange_train.KM == 4)\n",
    "\n",
    "KM0 = KM0.dropna()\n",
    "KM1 = KM1.dropna()\n",
    "KM2 = KM2.dropna()\n",
    "KM3 = KM3.dropna()\n",
    "KM4 = KM4.dropna()"
   ]
  },
  {
   "cell_type": "code",
   "execution_count": null,
   "id": "2d8b0166",
   "metadata": {},
   "outputs": [],
   "source": [
    "KM4.describe()"
   ]
  },
  {
   "cell_type": "code",
   "execution_count": null,
   "id": "1081fab9",
   "metadata": {},
   "outputs": [],
   "source": [
    "orange_train.describe()"
   ]
  },
  {
   "cell_type": "code",
   "execution_count": null,
   "id": "727b528d",
   "metadata": {},
   "outputs": [],
   "source": [
    "orange_train.groupby(orange_train.KM == '0').mean()"
   ]
  },
  {
   "cell_type": "code",
   "execution_count": null,
   "id": "d1265445",
   "metadata": {},
   "outputs": [],
   "source": []
  },
  {
   "cell_type": "code",
   "execution_count": null,
   "id": "582343c9",
   "metadata": {},
   "outputs": [],
   "source": []
  },
  {
   "cell_type": "code",
   "execution_count": null,
   "id": "91d1c615",
   "metadata": {},
   "outputs": [],
   "source": []
  },
  {
   "cell_type": "code",
   "execution_count": null,
   "id": "f35b0727",
   "metadata": {},
   "outputs": [],
   "source": []
  },
  {
   "cell_type": "code",
   "execution_count": null,
   "id": "a03b07c4",
   "metadata": {},
   "outputs": [],
   "source": [
    "# scaler = sklearn.preprocessing.MinMaxScaler()\n",
    "# scaler.fit(orange_train[['latitude', 'longitude', 'year_built']])\n",
    "# # inserts the 4 selected features into the scaler\n",
    "\n",
    "# orange_train[['scallat', 'scallong', 'scalyr']] = scaler.transform(orange_train[['latitude', 'longitude', 'year_built']])\n",
    "# orange_validate[['scallat', 'scallong', 'scalyr']] = scaler.transform(orange_validate[['latitude', 'longitude', 'year_built']])\n",
    "# orange_test[['scallat', 'scallong', 'scalyr']] = scaler.transform(orange_test[['latitude', 'longitude', 'year_built']])"
   ]
  },
  {
   "cell_type": "code",
   "execution_count": null,
   "id": "e2d8efd8",
   "metadata": {},
   "outputs": [],
   "source": []
  },
  {
   "cell_type": "code",
   "execution_count": null,
   "id": "6e97b768",
   "metadata": {},
   "outputs": [],
   "source": [
    "orange_train.square_feet.groupby(orange_train.locs).mean()"
   ]
  },
  {
   "cell_type": "code",
   "execution_count": null,
   "id": "c1711f30",
   "metadata": {},
   "outputs": [],
   "source": [
    "bins = [1900, 1920, 1930, 1940, 1950, 1960, 1970, 1980, 1990, 2000, 2020]\n",
    "labels = ['1910s','1920s','1930s','1940s', '1950s', '1960s', '1970s', '1980s', '1990s', '2000s', ]\n",
    "orange_train['year_bin'] = pd.cut(orange_train['year_built'], bins=bins, labels=labels)\n",
    "orange_validate['year_bin'] = pd.cut(orange_train['year_built'], bins=bins, labels=labels)\n",
    "orange_test['year_bin'] = pd.cut(orange_train['year_built'], bins=bins, labels=labels)"
   ]
  },
  {
   "cell_type": "code",
   "execution_count": null,
   "id": "803737ac",
   "metadata": {},
   "outputs": [],
   "source": [
    "sns.barplot(data=orange_train, x='year_bin', y='log_error', hue='locs')\n",
    "plt.title(\"Churn and Average Tenure in Months\")"
   ]
  },
  {
   "cell_type": "code",
   "execution_count": null,
   "id": "7e3c8ec6",
   "metadata": {},
   "outputs": [],
   "source": [
    "orange_train_neg = orange_train.where(orange_train.log_error < 0)\n",
    "orange_train_pos = orange_train.where(orange_train.log_error > 0)"
   ]
  },
  {
   "cell_type": "code",
   "execution_count": null,
   "id": "6b2c397e",
   "metadata": {},
   "outputs": [],
   "source": [
    "sns.barplot(data=orange_train_pos, x='year_bin', y='log_error', hue='locs')\n",
    "plt.title(\"Churn and Average Tenure in Months\")"
   ]
  },
  {
   "cell_type": "code",
   "execution_count": null,
   "id": "ebb01e28",
   "metadata": {},
   "outputs": [],
   "source": [
    "# does location matter for year matter for? only in early years and also more for negative"
   ]
  },
  {
   "cell_type": "code",
   "execution_count": null,
   "id": "a1c03710",
   "metadata": {},
   "outputs": [],
   "source": [
    "sns.barplot(data=orange_train_neg, x='year_bin', y='log_error', hue='locs')\n",
    "plt.title(\"Churn and Average Tenure in Months\")"
   ]
  },
  {
   "cell_type": "code",
   "execution_count": null,
   "id": "b469aec8",
   "metadata": {},
   "outputs": [],
   "source": [
    "from sklearn.model_selection import train_test_split\n",
    "from sklearn.tree import DecisionTreeClassifier, plot_tree\n",
    "from sklearn.metrics import classification_report\n",
    "from sklearn.metrics import confusion_matrix"
   ]
  },
  {
   "cell_type": "code",
   "execution_count": null,
   "id": "c91f2d5a",
   "metadata": {},
   "outputs": [],
   "source": [
    "orange_train.info()"
   ]
  },
  {
   "cell_type": "markdown",
   "id": "5bbd6868",
   "metadata": {},
   "source": [
    "CHECKPOINT"
   ]
  },
  {
   "cell_type": "code",
   "execution_count": null,
   "id": "2c5930b0",
   "metadata": {},
   "outputs": [],
   "source": [
    "# dummy_train = pd.get_dummies(orange_train['propertycountylandusecode', 'cluster'])\n",
    "# dummy_validate = pd.get_dummies(orange_validate['propertycountylandusecode', 'cluster'])\n",
    "# dummy_test = pd.get_dummies(orange_test['log])"
   ]
  },
  {
   "cell_type": "code",
   "execution_count": null,
   "id": "a0b58492",
   "metadata": {},
   "outputs": [],
   "source": [
    "X_train = orange_train[['bedrooms', 'garages', 'has_pool', 'bathrooms', 'square_feet', 'lot_size', 'year_built', 'sqft', 'locs']]\n",
    "y_train = orange_train.log_error_bin \n",
    "\n",
    "X_validate = orange_validate[['bedrooms', 'has_pool','garages',  'bathrooms', 'square_feet',  'lot_size', 'year_built', 'sqft', 'locs']]\n",
    "y_validate = orange_validate.log_error_bin \n",
    "\n",
    "X_test = orange_test[['bedrooms', 'has_pool', 'garages', 'bathrooms', 'square_feet',  'lot_size', 'year_built', 'sqft', 'locs']]\n",
    "y_test = orange_test.log_error_bin"
   ]
  },
  {
   "cell_type": "code",
   "execution_count": null,
   "id": "5a35f957",
   "metadata": {},
   "outputs": [],
   "source": [
    "orange_train['rooms'] = (orange_train['bedrooms'] + orange_train['bathrooms'] + orange_train['garages'])\n",
    "orange_validate['rooms'] = (orange_validate['bedrooms'] + orange_validate['bathrooms'] + orange_validate['garages'])\n",
    "orange_test['rooms'] = (orange_test['bedrooms'] + orange_test['bathrooms'] + orange_test['garages'])"
   ]
  },
  {
   "cell_type": "code",
   "execution_count": null,
   "id": "8dceb171",
   "metadata": {},
   "outputs": [],
   "source": [
    "orange_validate.info()"
   ]
  },
  {
   "cell_type": "code",
   "execution_count": null,
   "id": "c6aa98d8",
   "metadata": {},
   "outputs": [],
   "source": [
    "X_train = orange_train[['bedrooms', 'rooms', 'landtaxvaluedollarcnt', 'garages', 'has_pool', 'bathrooms', 'square_feet', 'lot_size', 'year_built', 'taxvaluedollarcnt', 'KM']]\n",
    "y_train = orange_train.log_error \n",
    "\n",
    "X_validate = orange_validate[['bedrooms', 'rooms', 'landtaxvaluedollarcnt', 'garages', 'has_pool', 'bathrooms', 'square_feet', 'lot_size', 'year_built', 'taxvaluedollarcnt', 'KM']]\n",
    "y_validate = orange_validate.log_error\n",
    "\n",
    "X_test = orange_test[['bedrooms', 'rooms', 'landtaxvaluedollarcnt', 'garages', 'has_pool', 'bathrooms', 'square_feet', 'lot_size', 'year_built', 'taxvaluedollarcnt', 'KM']]\n",
    "y_test = orange_test.log_error"
   ]
  },
  {
   "cell_type": "code",
   "execution_count": null,
   "id": "25203579",
   "metadata": {},
   "outputs": [],
   "source": []
  },
  {
   "cell_type": "code",
   "execution_count": null,
   "id": "2b64ed2e",
   "metadata": {},
   "outputs": [],
   "source": [
    "scaler = sklearn.preprocessing.MinMaxScaler()\n",
    "scaler.fit(X_train)\n",
    "\n",
    "X_train_scaled = scaler.transform(X_train)\n",
    "X_validate_scaled = scaler.transform(X_validate)\n",
    "X_test_scaled = scaler.transform(X_test)"
   ]
  },
  {
   "cell_type": "code",
   "execution_count": null,
   "id": "6c00c7f4",
   "metadata": {},
   "outputs": [],
   "source": [
    "X_train_scaled = pd.DataFrame(X_train_scaled, index=X_train.index, columns=X_train.columns)\n",
    "X_validate_scaled = pd.DataFrame(X_validate_scaled, index=X_validate.index, columns=X_validate.columns)\n",
    "X_test_scaled = pd.DataFrame(X_test_scaled, index=X_test.index, columns=X_test.columns)"
   ]
  },
  {
   "cell_type": "code",
   "execution_count": null,
   "id": "6a759d6d",
   "metadata": {},
   "outputs": [],
   "source": [
    "from sklearn.feature_selection import SelectKBest, f_regression\n",
    "\n",
    "f_selector = SelectKBest(f_regression, k=3)\n",
    "\n",
    "f_selector.fit(X_train_scaled, y_train)\n",
    "\n",
    "feature_mask = f_selector.get_support()\n",
    " \n",
    "f_feature = X_train_scaled.iloc[:,feature_mask].columns.tolist()\n"
   ]
  },
  {
   "cell_type": "code",
   "execution_count": null,
   "id": "84be0a8e",
   "metadata": {},
   "outputs": [],
   "source": [
    "f_feature"
   ]
  },
  {
   "cell_type": "code",
   "execution_count": null,
   "id": "bdbc3dbc",
   "metadata": {},
   "outputs": [],
   "source": [
    "X_train = orange_train[['bedrooms', 'rooms', 'garages', 'has_pool', 'bathrooms', 'square_feet', 'lot_size', 'year_built', 'sqft', 'locs']]\n",
    "y_train = orange_train.log_error_bin \n",
    "\n",
    "X_validate = orange_validate[['bedrooms', 'rooms', 'garages', 'has_pool','bathrooms', 'square_feet',  'lot_size', 'year_built', 'sqft', 'locs']]\n",
    "y_validate = orange_validate.log_error_bin\n",
    "\n",
    "X_test = orange_test[['bedrooms', 'garages', 'rooms', 'has_pool','bathrooms', 'square_feet',  'lot_size', 'year_built', 'sqft', 'locs']]\n",
    "y_test = orange_test.log_error_bin"
   ]
  },
  {
   "cell_type": "code",
   "execution_count": null,
   "id": "b65813bd",
   "metadata": {},
   "outputs": [],
   "source": []
  },
  {
   "cell_type": "code",
   "execution_count": null,
   "id": "f03ce17d",
   "metadata": {},
   "outputs": [],
   "source": [
    "\n"
   ]
  },
  {
   "cell_type": "code",
   "execution_count": null,
   "id": "979faa06",
   "metadata": {},
   "outputs": [],
   "source": []
  },
  {
   "cell_type": "code",
   "execution_count": null,
   "id": "da0c383f",
   "metadata": {},
   "outputs": [],
   "source": []
  },
  {
   "cell_type": "code",
   "execution_count": null,
   "id": "b119757e",
   "metadata": {},
   "outputs": [],
   "source": []
  },
  {
   "cell_type": "code",
   "execution_count": null,
   "id": "d7256f63",
   "metadata": {},
   "outputs": [],
   "source": []
  },
  {
   "cell_type": "code",
   "execution_count": null,
   "id": "b8addf3d",
   "metadata": {},
   "outputs": [],
   "source": []
  },
  {
   "cell_type": "code",
   "execution_count": null,
   "id": "e389e51e",
   "metadata": {},
   "outputs": [],
   "source": []
  },
  {
   "cell_type": "code",
   "execution_count": null,
   "id": "0a88351e",
   "metadata": {},
   "outputs": [],
   "source": [
    "from sklearn.cluster import KMeans\n",
    "import sklearn.preprocessing"
   ]
  },
  {
   "cell_type": "code",
   "execution_count": null,
   "id": "bbdcf3fc",
   "metadata": {},
   "outputs": [],
   "source": [
    "scaler = sklearn.preprocessing.MinMaxScaler()\n",
    "scaler.fit(orange_train[['bathrooms','square_feet']])\n",
    "# inserts the 4 selected features into the scaler\n",
    "\n",
    "orange_train[['scalbathrooms','scalsquare_feet']] = scaler.transform(orange_train[['bathrooms', 'square_feet']])"
   ]
  },
  {
   "cell_type": "code",
   "execution_count": null,
   "id": "446818fa",
   "metadata": {},
   "outputs": [],
   "source": [
    "X = orange_train[['scalbathrooms', 'scalsquare_feet']]\n",
    "\n",
    "kmeans = KMeans(n_clusters=5)\n",
    "kmeans.fit(X)\n",
    "\n",
    "kmeans.predict(X)\n",
    "\n",
    "orange_train['cluster'] = kmeans.predict(X)\n",
    "\n",
    "centroids = pd.DataFrame(kmeans.cluster_centers_, columns=X.columns)\n",
    "centroids"
   ]
  },
  {
   "cell_type": "code",
   "execution_count": null,
   "id": "dd4a3a99",
   "metadata": {},
   "outputs": [],
   "source": [
    "plt.figure(figsize=(9, 6))\n",
    "pd.Series({k: KMeans(k).fit(X).inertia_ for k in range(2, 20)}).plot(marker='x')\n",
    "plt.xticks(range(2, 12))\n",
    "plt.xlabel('k')\n",
    "plt.ylabel('inertia')\n",
    "plt.title('Change in inertia as k increases')"
   ]
  },
  {
   "cell_type": "code",
   "execution_count": null,
   "id": "103229f8",
   "metadata": {},
   "outputs": [],
   "source": [
    "scaler = sklearn.preprocessing.MinMaxScaler()\n",
    "scaler.fit(orange_validate[['bathrooms', 'square_feet']])\n",
    "# inserts the 4 selected features into the scaler\n",
    "\n",
    "orange_validate[['scalbathrooms', 'scalsquare_feet']] = scaler.transform(orange_validate[['bathrooms', 'square_feet']])"
   ]
  },
  {
   "cell_type": "code",
   "execution_count": null,
   "id": "b0031703",
   "metadata": {},
   "outputs": [],
   "source": [
    "X = orange_validate[['scalbathrooms', 'scalsquare_feet']]\n",
    "\n",
    "kmeans = KMeans(n_clusters=5)\n",
    "kmeans.fit(X)\n",
    "\n",
    "kmeans.predict(X)\n",
    "\n",
    "orange_validate['cluster'] = kmeans.predict(X)\n",
    "\n",
    "centroids = pd.DataFrame(kmeans.cluster_centers_, columns=X.columns)\n",
    "centroids"
   ]
  },
  {
   "cell_type": "code",
   "execution_count": null,
   "id": "43ca967e",
   "metadata": {},
   "outputs": [],
   "source": [
    "scaler = sklearn.preprocessing.MinMaxScaler()\n",
    "scaler.fit(orange_test[['bathrooms','square_feet']])\n",
    "# inserts the 4 selected features into the scaler\n",
    "\n",
    "orange_test[['scalbathrooms', 'scalsquare_feet']] = scaler.transform(orange_test[['bathrooms', 'square_feet']])"
   ]
  },
  {
   "cell_type": "code",
   "execution_count": null,
   "id": "0a7328b3",
   "metadata": {},
   "outputs": [],
   "source": [
    "X = orange_test[['scalbathrooms',  'scalsquare_feet']]\n",
    "\n",
    "kmeans = KMeans(n_clusters=5)\n",
    "kmeans.fit(X)\n",
    "\n",
    "kmeans.predict(X)\n",
    "\n",
    "orange_test['cluster'] = kmeans.predict(X)\n",
    "\n",
    "centroids = pd.DataFrame(kmeans.cluster_centers_, columns=X.columns)\n",
    "centroids"
   ]
  },
  {
   "cell_type": "code",
   "execution_count": null,
   "id": "db612ea5",
   "metadata": {},
   "outputs": [],
   "source": [
    "orange_train"
   ]
  },
  {
   "cell_type": "code",
   "execution_count": null,
   "id": "04a6247c",
   "metadata": {},
   "outputs": [],
   "source": [
    "sns.set_palette('Set2', 20)\n",
    "# sets colors for graph\n",
    "sns.lmplot(x='bedrooms', y='bathrooms', data=orange_train, scatter=True, hue='cluster', col=None, height=5.5, aspect=8.7/5.5)\n",
    "plt.title(\"Square Footage Correlation (Grouped by Bin) to Log Error\")"
   ]
  },
  {
   "cell_type": "code",
   "execution_count": null,
   "id": "e0a9a5f7",
   "metadata": {},
   "outputs": [],
   "source": [
    "sns.barplot(data=orange_train, x='cluster', y='year_built')\n",
    "plt.title(\"Land Code w/Cont.\")"
   ]
  },
  {
   "cell_type": "code",
   "execution_count": null,
   "id": "2247fb04",
   "metadata": {},
   "outputs": [],
   "source": [
    "orange_train"
   ]
  },
  {
   "cell_type": "code",
   "execution_count": null,
   "id": "959c4d2b",
   "metadata": {},
   "outputs": [],
   "source": [
    "dummy_train = pd.get_dummies(orange_train[['propertycountylandusecode', 'cluster']])\n",
    "dummy_validate = pd.get_dummies(orange_validate[['propertycountylandusecode', 'cluster']])\n",
    "dummy_test = pd.get_dummies(orange_test[['propertycountylandusecode', 'cluster']])"
   ]
  },
  {
   "cell_type": "code",
   "execution_count": null,
   "id": "5a6f8b0c",
   "metadata": {},
   "outputs": [],
   "source": [
    "X_train"
   ]
  },
  {
   "cell_type": "code",
   "execution_count": null,
   "id": "958e0f84",
   "metadata": {},
   "outputs": [],
   "source": [
    "X_train = orange_train[['sqft', 'has_pool', 'rooms']]\n",
    "y_train = orange_train[['log_error']]\n",
    "\n",
    "X_validate = orange_validate[['sqft', 'has_pool', 'rooms']]\n",
    "y_validate = orange_validate[['log_error']]\n",
    "\n",
    "X_test = orange_test[['sqft', 'has_pool', 'rooms']]\n",
    "y_test = orange_test[['log_error']]"
   ]
  },
  {
   "cell_type": "code",
   "execution_count": null,
   "id": "682fe7ee",
   "metadata": {},
   "outputs": [],
   "source": [
    "scaler = sklearn.preprocessing.MinMaxScaler()\n",
    "scaler.fit(X_train[['sqft', 'has_pool', 'rooms']])"
   ]
  },
  {
   "cell_type": "code",
   "execution_count": null,
   "id": "7cbcf602",
   "metadata": {},
   "outputs": [],
   "source": [
    "X_train[['scalsqft', 'scalhas_pool', 'scalrooms']] = scaler.transform(X_train[['sqft', 'has_pool', 'rooms']]) \n",
    "X_validate[['scalsqft', 'scalhas_pool', 'scalrooms']] = scaler.transform(X_validate[['sqft', 'has_pool', 'rooms']]) \n",
    "X_test[['scalsqft', 'scalhas_pool', 'scalrooms']] = scaler.transform(X_test[['sqft', 'has_pool', 'rooms']]) "
   ]
  },
  {
   "cell_type": "code",
   "execution_count": null,
   "id": "979abccf",
   "metadata": {},
   "outputs": [],
   "source": [
    "# v = pd.DataFrame(data = v)\n",
    "# v1 = pd.DataFrame(data = v1)\n",
    "# v2 = pd.DataFrame(data = v2)"
   ]
  },
  {
   "cell_type": "code",
   "execution_count": null,
   "id": "0ebb45a9",
   "metadata": {},
   "outputs": [],
   "source": [
    "# v.index = X_train.index\n",
    "# v1.index = X_validate.index\n",
    "# v2.index = X_test.index"
   ]
  },
  {
   "cell_type": "code",
   "execution_count": null,
   "id": "a61a8132",
   "metadata": {},
   "outputs": [],
   "source": [
    "# X_train = pd.concat([X_train, v], axis=1)\n",
    "# X_validate = pd.concat([X_validate, v1], axis=1)\n",
    "# X_test = pd.concat([X_test, v2], axis=1)"
   ]
  },
  {
   "cell_type": "code",
   "execution_count": null,
   "id": "ae200203",
   "metadata": {},
   "outputs": [],
   "source": [
    "X_test_scaled.head()"
   ]
  },
  {
   "cell_type": "code",
   "execution_count": null,
   "id": "6fafdfdf",
   "metadata": {},
   "outputs": [],
   "source": [
    "X_train = X_train_scaled\n",
    "y_train = orange_train[['log_error']]\n",
    "\n",
    "X_validate = X_validate_scaled\n",
    "y_validate = orange_validate[['log_error']]\n",
    "\n",
    "X_test_scaled = X_test_scaled\n",
    "y_test = orange_test[['log_error']]"
   ]
  },
  {
   "cell_type": "code",
   "execution_count": null,
   "id": "3629481f",
   "metadata": {},
   "outputs": [],
   "source": [
    "X_validate.head()"
   ]
  },
  {
   "cell_type": "code",
   "execution_count": null,
   "id": "d8de0a9b",
   "metadata": {},
   "outputs": [],
   "source": [
    "y_train['pred_mean'] = y_train.log_error.mean()\n",
    "y_validate['pred_mean'] = y_validate.log_error.mean()\n",
    "\n",
    "rmse_train = mean_squared_error(y_train.log_error, y_train.pred_mean)**(1/2)\n",
    "rmse_validate = mean_squared_error(y_validate.log_error, y_validate.pred_mean)**(1/2)\n",
    "\n",
    "print(\"Baseline RMSE\\nTrain/In-Sample: \", round(rmse_train, 4)), \n",
    "print(\"Baseline RMSE\\nValidate/Out-of-Sample: \", round(rmse_validate, 4))"
   ]
  },
  {
   "cell_type": "code",
   "execution_count": null,
   "id": "addaf9aa",
   "metadata": {},
   "outputs": [],
   "source": [
    "lm = LinearRegression(normalize=True)\n",
    "\n",
    "lm.fit(X_train, y_train.log_error)\n",
    "\n",
    "y_train['value_predict_lm'] = lm.predict(X_train)\n",
    "\n",
    "rmse_train = mean_squared_error(y_train.log_error, y_train.value_predict_lm)**(1/2)\n",
    "\n",
    "y_validate['value_predict_lm'] = lm.predict(X_validate)\n",
    "rmse_validate = mean_squared_error(y_validate.log_error, y_validate.value_predict_lm)**(1/2)\n",
    "\n",
    "\n",
    "printmd(\"**OLS Linear Regression Performance**\")\n",
    "print(\"---------------------------------------\")\n",
    "print(\"RMSE for OLS using LinearRegression\\nTraining/In-Sample: \", round(rmse_train, 4))\n",
    "print(\"---------------------------------------\")\n",
    "print(\"RMSE for OLS using LinearRegression\\nValidation/Out-of-Sample: \", round(rmse_validate, 4))"
   ]
  },
  {
   "cell_type": "code",
   "execution_count": null,
   "id": "bd5b805e",
   "metadata": {},
   "outputs": [],
   "source": [
    "lars = LassoLars(alpha=1.0)\n",
    "\n",
    "lars.fit(X_train, y_train.log_error)\n",
    "\n",
    "y_train['pred_lars'] = lars.predict(X_train)\n",
    "\n",
    "rmse_train = mean_squared_error(y_train.log_error, y_train.pred_lars)**(1/2)\n",
    "\n",
    "y_validate['pred_lars'] = lars.predict(X_validate)\n",
    "rmse_validate = mean_squared_error(y_validate.log_error, y_validate.pred_lars)**(1/2)\n",
    "\n",
    "printmd(\"**LARS Performance**\")\n",
    "print(\"---------------------------------------\")\n",
    "print(\"RMSE for Lars\\nTraining/In-Sample: \", round(rmse_train, 4))\n",
    "print(\"---------------------------------------\")\n",
    "print(\"RMSE for Lars\\nOut-of-Sample: \", round(rmse_validate, 4))"
   ]
  },
  {
   "cell_type": "code",
   "execution_count": null,
   "id": "56b20643",
   "metadata": {},
   "outputs": [],
   "source": [
    "pf = PolynomialFeatures(degree=2)\n",
    "# creates polynomial features to use in model with degree of 3\n",
    "\n",
    "X_train_degree3 = pf.fit_transform(X_train)\n",
    "# fit and transform X_train_scaled\n",
    "\n",
    "# X_validate_degree3 = pf.transform(X_validate)\n",
    "# X_test_degree3 = pf.transform(X_test)\n",
    "# transform X_validate_scaled & X_test_scaled"
   ]
  },
  {
   "cell_type": "code",
   "execution_count": null,
   "id": "7dda9b72",
   "metadata": {},
   "outputs": [],
   "source": [
    "lm3 = LinearRegression(normalize=True)\n",
    "# creates linear regression model prior to fitting with new polynomial features\n",
    "\n",
    "lm3.fit(X_train_degree3, y_train.log_error)\n",
    "# fit and transform polynomial features and target\n",
    "\n",
    "y_train['value_pred_lm3'] = lm3.predict(X_train_degree3)\n",
    "# predictions calculated on train\n",
    "\n",
    "rmse_train = mean_squared_error(y_train.log_error, y_train.value_pred_lm3)**(1/2)\n",
    "# computes rmse with train\n",
    "\n",
    "y_validate['value_pred_lm3'] = lm3.predict(X_validate_degree3)\n",
    "rmse_validate = mean_squared_error(y_validate.log_error, y_validate.value_pred_lm3)**(1/2)\n",
    "# computes predictions/rmse with validate\n",
    "\n",
    "printmd(\"**Polynomial Regression Model Performance**\")\n",
    "print(\"---------------------------------------\")\n",
    "print(\"RMSE for Polynomial Model \\nTraining/In-Sample: \", round(rmse_train, 4)),\n",
    "print(\"---------------------------------------\")\n",
    "print(\"RMSE for Polynomial Model, \\nValidation/Out-of-Sample: \", round(rmse_validate, 4))"
   ]
  },
  {
   "cell_type": "code",
   "execution_count": null,
   "id": "e10001aa",
   "metadata": {},
   "outputs": [],
   "source": []
  }
 ],
 "metadata": {
  "kernelspec": {
   "display_name": "Python 3 (ipykernel)",
   "language": "python",
   "name": "python3"
  },
  "language_info": {
   "codemirror_mode": {
    "name": "ipython",
    "version": 3
   },
   "file_extension": ".py",
   "mimetype": "text/x-python",
   "name": "python",
   "nbconvert_exporter": "python",
   "pygments_lexer": "ipython3",
   "version": "3.9.7"
  }
 },
 "nbformat": 4,
 "nbformat_minor": 5
}
