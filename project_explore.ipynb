{
 "cells": [
  {
   "cell_type": "code",
   "execution_count": 1,
   "id": "b861e8b5",
   "metadata": {},
   "outputs": [],
   "source": [
    "# Imports necessary to acquire, prepare, explore, visualize, analyze, and model data\n",
    "\n",
    "import warnings\n",
    "warnings.filterwarnings(\"ignore\")\n",
    "\n",
    "import pandas as pd\n",
    "import matplotlib.pyplot as plt\n",
    "import seaborn as sns\n",
    "import numpy as np\n",
    "import env\n",
    "import acquire\n",
    "import prepare \n",
    "\n",
    "from tabulate import tabulate\n",
    "from IPython.display import Markdown, display\n",
    "\n",
    "from math import sqrt\n",
    "from scipy import stats\n",
    "\n",
    "import sklearn.preprocessing\n",
    "from sklearn.model_selection import train_test_split\n",
    "from scipy.stats import pearsonr, spearmanr\n",
    "\n",
    "from sklearn.metrics import mean_squared_error\n",
    "from sklearn.linear_model import LinearRegression, LassoLars, TweedieRegressor\n",
    "from sklearn.preprocessing import PolynomialFeatures\n",
    "from sklearn.impute import SimpleImputer\n",
    "\n",
    "np.random.seed(123)"
   ]
  },
  {
   "cell_type": "markdown",
   "id": "238e5887",
   "metadata": {},
   "source": [
    "using functions created to acquire and wrangle the data"
   ]
  },
  {
   "cell_type": "code",
   "execution_count": 2,
   "id": "47720d57",
   "metadata": {},
   "outputs": [],
   "source": [
    "df = acquire.get_zillow_data()\n",
    "\n"
   ]
  },
  {
   "cell_type": "code",
   "execution_count": null,
   "id": "40312a65",
   "metadata": {},
   "outputs": [],
   "source": [
    "df.info()"
   ]
  },
  {
   "cell_type": "code",
   "execution_count": 3,
   "id": "0b7ec232",
   "metadata": {},
   "outputs": [],
   "source": [
    "df = prepare.remove_outliers(df)\n"
   ]
  },
  {
   "cell_type": "code",
   "execution_count": 4,
   "id": "3f53a644",
   "metadata": {},
   "outputs": [],
   "source": [
    "df = prepare.handle_nulls(df)\n"
   ]
  },
  {
   "cell_type": "code",
   "execution_count": 5,
   "id": "dc0edc8f",
   "metadata": {},
   "outputs": [],
   "source": [
    "df = prepare.rename_columns(df)\n"
   ]
  },
  {
   "cell_type": "code",
   "execution_count": 6,
   "id": "9748e233",
   "metadata": {},
   "outputs": [],
   "source": [
    "df = prepare.prepare_locs(df)"
   ]
  },
  {
   "cell_type": "code",
   "execution_count": null,
   "id": "531059cf",
   "metadata": {},
   "outputs": [],
   "source": [
    "df.info()"
   ]
  },
  {
   "cell_type": "markdown",
   "id": "938a689d",
   "metadata": {},
   "source": [
    "this looks good for now... let's think about some things to explore-\n",
    "\n",
    "-curious to see if transaction date and log error have any relation, like does the time of year of transation increase/dec likelihood of error?\n",
    "\n",
    "-let's look for like-things... how closely linked are bedroom and bathroom, could they be combined to one feature?\n",
    "\n",
    "-what does the correlatoin to log error chart look like?\n",
    "\n",
    "-what can we bin? keep this in mind through exploration.\n",
    "\n",
    "-look at square feet and year together. do homes get bigger over time?\n",
    "\n",
    "-what if we tried K means on lat, long and square feet?\n",
    "\n",
    "-let's start here and keep adding ideas here when they come up\n",
    "\n",
    "-look at pool"
   ]
  },
  {
   "cell_type": "code",
   "execution_count": null,
   "id": "eb29fb1e",
   "metadata": {},
   "outputs": [],
   "source": [
    "df.propertycountylandusecode.value_counts()"
   ]
  },
  {
   "cell_type": "code",
   "execution_count": null,
   "id": "1ac24309",
   "metadata": {},
   "outputs": [],
   "source": []
  },
  {
   "cell_type": "code",
   "execution_count": null,
   "id": "972739d7",
   "metadata": {},
   "outputs": [],
   "source": []
  },
  {
   "cell_type": "code",
   "execution_count": 7,
   "id": "6a61da7d",
   "metadata": {},
   "outputs": [
    {
     "name": "stdout",
     "output_type": "stream",
     "text": [
      "\n"
     ]
    },
    {
     "data": {
      "text/markdown": [
       "**Number of Train Records:** 26,843"
      ],
      "text/plain": [
       "<IPython.core.display.Markdown object>"
      ]
     },
     "metadata": {},
     "output_type": "display_data"
    },
    {
     "data": {
      "text/markdown": [
       "**Number of Validate Records:** 11,505"
      ],
      "text/plain": [
       "<IPython.core.display.Markdown object>"
      ]
     },
     "metadata": {},
     "output_type": "display_data"
    },
    {
     "data": {
      "text/markdown": [
       "**Number of Test Records:** 9,588"
      ],
      "text/plain": [
       "<IPython.core.display.Markdown object>"
      ]
     },
     "metadata": {},
     "output_type": "display_data"
    }
   ],
   "source": [
    "train, test = train_test_split(df, test_size=.2, random_state=123)\n",
    "train, validate = train_test_split(train, test_size=.3, random_state=123)\n",
    "# Splits data into 3 subsets: train, validate, test. Random state specifying that data is split\n",
    "# with the exact same records when the code is re-run (useful for exploration and modeling, yet\n",
    "# I suggest dropping this when employing the model)\n",
    "\n",
    "def printmd(string): # function to format text style\n",
    "    display(Markdown(string))\n",
    "print()\n",
    "printmd('**Number of Train Records:** {:,}'\n",
    "     .format(len(train)))\n",
    "printmd('**Number of Validate Records:** {:,}'\n",
    "     .format(len(validate)))\n",
    "printmd('**Number of Test Records:** {:,}'\n",
    "     .format(len(test)))\n",
    "# returns the amount of records in each subset after splitting\n"
   ]
  },
  {
   "cell_type": "code",
   "execution_count": null,
   "id": "b4963e23",
   "metadata": {},
   "outputs": [],
   "source": [
    "train.propertycountylandusecode.value_counts()"
   ]
  },
  {
   "cell_type": "code",
   "execution_count": 8,
   "id": "ac7c7e2a",
   "metadata": {},
   "outputs": [],
   "source": [
    "train = train.where(train.propertycountylandusecode != '0109')\n",
    "train = train.where(train.propertycountylandusecode != '0105')\n",
    "train = train.where(train.propertycountylandusecode != '1112')\n",
    "train = train.where(train.propertycountylandusecode != '0131')\n"
   ]
  },
  {
   "cell_type": "code",
   "execution_count": 9,
   "id": "9f665b27",
   "metadata": {},
   "outputs": [],
   "source": [
    "train = train.dropna()"
   ]
  },
  {
   "cell_type": "code",
   "execution_count": 10,
   "id": "dd6c5844",
   "metadata": {},
   "outputs": [],
   "source": [
    "train['has_pool'] = train.has_pool.astype('uint8')"
   ]
  },
  {
   "cell_type": "code",
   "execution_count": 36,
   "id": "563db118",
   "metadata": {},
   "outputs": [],
   "source": [
    "train['orange_L'] = (train['propertycountylandusecode'] == '1')\n",
    "train['orange_M'] = (train['propertycountylandusecode'] == '122')\n",
    "\n",
    "validate['orange_L'] = (validate['propertycountylandusecode'] == '1')\n",
    "validate['orange_M'] = (validate['propertycountylandusecode'] == '122')\n",
    "\n",
    "test['orange_L'] = (test['propertycountylandusecode'] == '1')\n",
    "test['orange_M'] = (test['propertycountylandusecode'] == '122')"
   ]
  },
  {
   "cell_type": "code",
   "execution_count": 65,
   "id": "cf2b1989",
   "metadata": {},
   "outputs": [],
   "source": [
    "train['ventura_M'] = (train['propertycountylandusecode'] == '1111')\n",
    "train['ventura_L'] = (train['propertycountylandusecode'] == '1110')\n",
    "\n",
    "validate['ventura_M'] = (validate['propertycountylandusecode'] == '1111')\n",
    "validate['ventura_L'] = (validate['propertycountylandusecode'] == '1110')\n",
    "\n",
    "test['ventura_M'] = (test['propertycountylandusecode'] == '1111')\n",
    "test['ventura_L'] = (test['propertycountylandusecode'] == '1110')"
   ]
  },
  {
   "cell_type": "code",
   "execution_count": 64,
   "id": "2619f625",
   "metadata": {},
   "outputs": [],
   "source": [
    "train['LA_M'] = (train['propertycountylandusecode'] == '0100') \n",
    "train['LA_S'] = (train['propertycountylandusecode'] == '010G') \n",
    "train['LA_S2'] = (train['propertycountylandusecode'] == '010M')\n",
    "\n",
    "validate['LA_M'] = (validate['propertycountylandusecode'] == '0100') \n",
    "validate['LA_S'] = (validate['propertycountylandusecode'] == '010G')\n",
    "validate['LA_S2'] = (validate['propertycountylandusecode'] == '010M')\n",
    "\n",
    "test['LA_M'] = (test['propertycountylandusecode'] == '0100') \n",
    "test['LA_S'] = (test['propertycountylandusecode'] == '010G') \n",
    "test['LA_S2'] = (test['propertycountylandusecode'] == '010M')"
   ]
  },
  {
   "cell_type": "code",
   "execution_count": 66,
   "id": "287672be",
   "metadata": {},
   "outputs": [],
   "source": [
    "train['LA_L'] = (train['propertycountylandusecode'] == '0101')\n",
    "train['LA_L2'] = (train['propertycountylandusecode'] == '0103') \n",
    "train['LA_L3'] = (train['propertycountylandusecode'] == '0104')\n",
    "\n",
    "validate['LA_L'] = (validate['propertycountylandusecode'] == '0101')\n",
    "validate['LA_L2'] = (validate['propertycountylandusecode'] == '0103') \n",
    "validate['LA_L3'] = (validate['propertycountylandusecode'] == '0104')\n",
    "\n",
    "test['LA_L'] = (test['propertycountylandusecode'] == '0101') \n",
    "test['LA_L2'] = (test['propertycountylandusecode'] == '0103') \n",
    "test['LA_L3'] = (test['propertycountylandusecode'] == '0104')"
   ]
  },
  {
   "cell_type": "code",
   "execution_count": 67,
   "id": "67b751ab",
   "metadata": {},
   "outputs": [],
   "source": [
    "dummy = pd.get_dummies(train[['LA_L3', 'LA_L2', 'LA_S2', 'orange_L', 'orange_M', 'ventura_M', 'ventura_L', 'LA_S', 'LA_M', 'LA_L']])\n",
    "dummy1 = pd.get_dummies(validate[['LA_L3','LA_L2', 'LA_S2','orange_L', 'orange_M', 'ventura_M', 'ventura_L', 'LA_S', 'LA_M', 'LA_L']])\n",
    "dummy2 = pd.get_dummies(test[['LA_L3','LA_L2', 'LA_S2','orange_L', 'orange_M', 'ventura_M', 'ventura_L', 'LA_S', 'LA_M', 'LA_L']])"
   ]
  },
  {
   "cell_type": "code",
   "execution_count": null,
   "id": "5a2f6245",
   "metadata": {},
   "outputs": [],
   "source": [
    "train['tsx'] = train[(train.propertycountylandusecode == '010G')]"
   ]
  },
  {
   "cell_type": "code",
   "execution_count": null,
   "id": "9b136944",
   "metadata": {},
   "outputs": [],
   "source": [
    "train['LA_S'] = train[(train.propertycountylandusecode == '0100')\n",
    "train['LA_XS'] = train[(train.propertycountylandusecode == 010G) | (train.propertycountylandusecode == 010M)\n",
    "                "
   ]
  },
  {
   "cell_type": "code",
   "execution_count": null,
   "id": "64ca2e82",
   "metadata": {},
   "outputs": [],
   "source": [
    "train['LA_S'] = train[train.propertycountylandusecode == '0100']\n",
    "train['LA_L = train[train.propertycountylandusecode == '1110']\n",
    "train['LA_M = train[train.propertycountylandusecode == '1111']\n",
    "train['LA_L = train[train.propertycountylandusecode == '1110']"
   ]
  },
  {
   "cell_type": "code",
   "execution_count": null,
   "id": "94a0b8e3",
   "metadata": {},
   "outputs": [],
   "source": [
    "orange_L.garages.min()"
   ]
  },
  {
   "cell_type": "code",
   "execution_count": null,
   "id": "5dd46fea",
   "metadata": {},
   "outputs": [],
   "source": [
    "orange = train.where(train.county == 'orange')"
   ]
  },
  {
   "cell_type": "code",
   "execution_count": null,
   "id": "695b8a4b",
   "metadata": {},
   "outputs": [],
   "source": [
    "orange= orange.dropna()"
   ]
  },
  {
   "cell_type": "code",
   "execution_count": null,
   "id": "88f71c97",
   "metadata": {},
   "outputs": [],
   "source": [
    "orange.info()"
   ]
  },
  {
   "cell_type": "code",
   "execution_count": null,
   "id": "18c5532b",
   "metadata": {},
   "outputs": [],
   "source": []
  },
  {
   "cell_type": "code",
   "execution_count": null,
   "id": "3bd68dc6",
   "metadata": {},
   "outputs": [],
   "source": []
  },
  {
   "cell_type": "code",
   "execution_count": null,
   "id": "62125710",
   "metadata": {},
   "outputs": [],
   "source": []
  },
  {
   "cell_type": "code",
   "execution_count": null,
   "id": "eb7e44bf",
   "metadata": {},
   "outputs": [],
   "source": []
  },
  {
   "cell_type": "code",
   "execution_count": null,
   "id": "bdfba39b",
   "metadata": {},
   "outputs": [],
   "source": []
  },
  {
   "cell_type": "code",
   "execution_count": null,
   "id": "09c344c3",
   "metadata": {},
   "outputs": [],
   "source": []
  },
  {
   "cell_type": "code",
   "execution_count": null,
   "id": "d75f0953",
   "metadata": {},
   "outputs": [],
   "source": [
    "plt.figure(figsize=(10, 4))\n",
    "# sets the size of the graph\n",
    "plt.title(\"Feature Correlation\")\n",
    "corr_chart = train.drop(['log_error'], axis=1).corrwith(train['log_error']).sort_values().plot.barh()\n",
    "corr_chart"
   ]
  },
  {
   "cell_type": "code",
   "execution_count": null,
   "id": "1fa060f6",
   "metadata": {},
   "outputs": [],
   "source": [
    "sns.set_palette('Set2', 20)\n",
    "# sets colors for graph\n",
    "sns.lmplot(x='square_feet', y='log_error', data=train, scatter=True, hue='county', col=None, height=5.5, aspect=8.7/5.5)\n",
    "plt.title(\"Square Footage Correlation (Grouped by County) to Log Error\")"
   ]
  },
  {
   "cell_type": "markdown",
   "id": "9bcd4c92",
   "metadata": {},
   "source": [
    "I feel like it would make more sense to use absolute value of log error as we don't want a high or low, we want it close to 0. I'll make a new column and try some exploration with that"
   ]
  },
  {
   "cell_type": "code",
   "execution_count": null,
   "id": "21f553c4",
   "metadata": {},
   "outputs": [],
   "source": [
    "train['abs_LE'] = train.log_error.abs()"
   ]
  },
  {
   "cell_type": "code",
   "execution_count": null,
   "id": "952ae98c",
   "metadata": {},
   "outputs": [],
   "source": [
    "plt.figure(figsize=(10, 4))\n",
    "# sets the size of the graph\n",
    "plt.title(\"Feature Correlation\")\n",
    "corr_chart = train.drop(['abs_LE', 'log_error'], axis=1).corrwith(train['abs_LE']).sort_values().plot.barh()\n",
    "corr_chart"
   ]
  },
  {
   "cell_type": "code",
   "execution_count": null,
   "id": "34e3631e",
   "metadata": {},
   "outputs": [],
   "source": [
    "sns.set_palette('Set2', 20)\n",
    "# sets colors for graph\n",
    "sns.lmplot(x='square_feet', y='abs_LE', data=train, scatter=True, hue='county', col=None, height=5.5, aspect=8.7/5.5)\n",
    "plt.title(\"Square Footage Correlation (Grouped by County) to Log Error\")"
   ]
  },
  {
   "cell_type": "code",
   "execution_count": null,
   "id": "a70ad74a",
   "metadata": {},
   "outputs": [],
   "source": [
    "sns.set_palette('Set2', 20)\n",
    "# sets colors for graph\n",
    "sns.lmplot(x='square_feet', y='abs_LE', data=train, scatter=True, col=None, height=5.5, aspect=8.7/5.5)\n",
    "plt.title(\"Square Footage Correlation (Grouped by County) to Log Error\")"
   ]
  },
  {
   "cell_type": "markdown",
   "id": "c45f795e",
   "metadata": {},
   "source": [
    "ok thinking about this more, I don't think we can use the abs value b/c log error -3 may have a different strength in error (skewed) than log error 3. However, I do want to look at pos and neg error separately and see if there are patterns there. Let's try that"
   ]
  },
  {
   "cell_type": "code",
   "execution_count": null,
   "id": "01630227",
   "metadata": {},
   "outputs": [],
   "source": [
    "#actually, let's create 2 dfs to try this"
   ]
  },
  {
   "cell_type": "code",
   "execution_count": null,
   "id": "40b1381b",
   "metadata": {},
   "outputs": [],
   "source": [
    "postrain = train.copy().where(train.log_error > 0)"
   ]
  },
  {
   "cell_type": "code",
   "execution_count": null,
   "id": "f6a5dc8a",
   "metadata": {},
   "outputs": [],
   "source": [
    "postrain = postrain.dropna()"
   ]
  },
  {
   "cell_type": "code",
   "execution_count": null,
   "id": "0a1d371a",
   "metadata": {},
   "outputs": [],
   "source": [
    "negtrain = train.copy().where(train.log_error < 0)\n",
    "negtrain = negtrain.dropna()"
   ]
  },
  {
   "cell_type": "code",
   "execution_count": null,
   "id": "1bc07fea",
   "metadata": {},
   "outputs": [],
   "source": [
    "postrain.head()"
   ]
  },
  {
   "cell_type": "code",
   "execution_count": null,
   "id": "f606d763",
   "metadata": {},
   "outputs": [],
   "source": [
    "plt.figure(figsize=(10, 4))\n",
    "# sets the size of the graph\n",
    "plt.title(\"Feature Correlation\")\n",
    "corr_chart = postrain.drop(['abs_LE', 'log_error'], axis=1).corrwith(postrain['log_error']).sort_values().plot.barh()\n",
    "corr_chart"
   ]
  },
  {
   "cell_type": "code",
   "execution_count": null,
   "id": "fa2b6d8a",
   "metadata": {},
   "outputs": [],
   "source": [
    "plt.figure(figsize=(10, 4))\n",
    "# sets the size of the graph\n",
    "plt.title(\"Feature Correlation\")\n",
    "corr_chart = negtrain.drop(['abs_LE', 'log_error'], axis=1).corrwith(negtrain['log_error']).sort_values().plot.barh()\n",
    "corr_chart"
   ]
  },
  {
   "cell_type": "markdown",
   "id": "b3b94f93",
   "metadata": {},
   "source": [
    "square footage is a strong corr when neg and pos are together, but not individually. what does that say?"
   ]
  },
  {
   "cell_type": "markdown",
   "id": "3739679e",
   "metadata": {},
   "source": [
    "ok, let's think about this... what happens leading to a positive log error?\n",
    "\n",
    "logerror = log(Zestimate) - log(SalePrice)\n",
    "\n",
    "so just to make this simple, let's say the predicted(zest) is $10,000, but the sale price was 8,000. The prediction was OVER\n",
    "\n",
    "10,000 - 8,000 = positive log error.\n",
    "\n",
    "If that was flipped, the error would be negative. So-\n",
    "\n",
    "### POSITIVE LOG ERROR - Pred TOO HIGH\n",
    "\n",
    "### NEGATIVE LOG ERROR -Pred TOO LOW"
   ]
  },
  {
   "cell_type": "markdown",
   "id": "fb7be853",
   "metadata": {},
   "source": [
    "sooo... going back to square feet. square feet may cause the prediction to be high or low, but if we are focused in on high or low predictions... ok let's think of an example"
   ]
  },
  {
   "cell_type": "markdown",
   "id": "f94defa2",
   "metadata": {},
   "source": [
    "house has 2500 square feet and based on corr with tax value, the ML algothrim predicts this home is 200,000. Actually this home is 300,000.\n",
    "So, wait, we are looking at features that cause the predictions to be wrong? right? B/c w square feet, maybe if we also took into account the year built, it would shift that prediction. So, I think we need to look at features that impact features here..."
   ]
  },
  {
   "cell_type": "markdown",
   "id": "9ccd97ac",
   "metadata": {},
   "source": [
    "so square feet, what also impacts that?"
   ]
  },
  {
   "cell_type": "code",
   "execution_count": null,
   "id": "2eacc3ac",
   "metadata": {},
   "outputs": [],
   "source": [
    "plt.figure(figsize=(10, 4))\n",
    "# sets the size of the graph\n",
    "plt.title(\"Feature Correlation\")\n",
    "corr_chart = train.drop(['abs_LE', 'square_feet', 'log_error'], axis=1).corrwith(train['square_feet']).sort_values().plot.barh()\n",
    "corr_chart"
   ]
  },
  {
   "cell_type": "markdown",
   "id": "0ab48510",
   "metadata": {},
   "source": [
    "Now we are cooking with gas! Look at that strong correlation! Let's back that up with a stats test"
   ]
  },
  {
   "cell_type": "code",
   "execution_count": null,
   "id": "28dd8548",
   "metadata": {},
   "outputs": [],
   "source": [
    "alpha = .05\n",
    "# setting alpha to aid in determining statistical significance \n",
    "\n",
    "x = train.square_feet\n",
    "y = train.bathrooms\n",
    "# creates short variable assignments \n",
    "\n",
    "corr, p = stats.pearsonr(x, y)\n",
    "# creates variables for the r value and the p value respectively \n",
    "\n",
    "if p > alpha:\n",
    "    print(\"We fail to reject the null hypothesis\")\n",
    "elif corr < .4: # sets r value minimum \n",
    "    print(\"We fail to reject the null hypothesis\")\n",
    "else:\n",
    "    print(\"We reject the null hypothesis\")\n",
    "\n",
    "corr, p\n",
    "\n",
    "#WOW! strong correlation here!"
   ]
  },
  {
   "cell_type": "markdown",
   "id": "d57394e4",
   "metadata": {},
   "source": [
    "could we group these together w Kmeans?"
   ]
  },
  {
   "cell_type": "code",
   "execution_count": null,
   "id": "b18f8893",
   "metadata": {},
   "outputs": [],
   "source": [
    "from sklearn.cluster import KMeans\n",
    "import sklearn.preprocessing"
   ]
  },
  {
   "cell_type": "code",
   "execution_count": null,
   "id": "168cf4fc",
   "metadata": {},
   "outputs": [],
   "source": [
    "scaler = sklearn.preprocessing.MinMaxScaler()\n",
    "scaler.fit(train[['bathrooms', 'bedrooms', 'square_feet']])\n",
    "# inserts the 4 selected features into the scaler\n",
    "\n",
    "train[['scalbathrooms', 'scalbedrooms', 'scalsquare_feet']] = scaler.transform(train[['bathrooms', 'bedrooms', 'square_feet']])"
   ]
  },
  {
   "cell_type": "code",
   "execution_count": null,
   "id": "8bc1d3fa",
   "metadata": {},
   "outputs": [],
   "source": [
    "X = train[['scalbathrooms', 'scalbedrooms', 'scalsquare_feet']]\n",
    "\n",
    "kmeans = KMeans(n_clusters=7)\n",
    "kmeans.fit(X)\n",
    "\n",
    "kmeans.predict(X)\n",
    "\n",
    "train['cluster'] = kmeans.predict(X)\n",
    "\n",
    "centroids = pd.DataFrame(kmeans.cluster_centers_, columns=X.columns)\n",
    "centroids"
   ]
  },
  {
   "cell_type": "code",
   "execution_count": null,
   "id": "a42803f8",
   "metadata": {},
   "outputs": [],
   "source": [
    "plt.figure(figsize=(10, 4))\n",
    "# sets the size of the graph\n",
    "plt.title(\"Feature Correlation\")\n",
    "corr_chart = train.drop(['log_error', 'abs_LE'], axis=1).corrwith(postrain['log_error']).sort_values().plot.barh()\n",
    "corr_chart"
   ]
  },
  {
   "cell_type": "code",
   "execution_count": null,
   "id": "1892f535",
   "metadata": {},
   "outputs": [],
   "source": [
    "with plt.style.context('seaborn-whitegrid'):\n",
    "    plt.figure(figsize=(9, 6))\n",
    "    pd.Series({k: KMeans(k).fit(X).inertia_ for k in range(2, 12)}).plot(marker='x')\n",
    "    plt.xticks(range(2, 12))\n",
    "    plt.xlabel('k')\n",
    "    plt.ylabel('inertia')\n",
    "    plt.title('Change in inertia as k increases')"
   ]
  },
  {
   "cell_type": "code",
   "execution_count": null,
   "id": "37a08e01",
   "metadata": {},
   "outputs": [],
   "source": [
    "plt.figure(figsize=(15, 8))\n",
    "\n",
    "for cluster, subset in train.groupby('cluster'):\n",
    "    plt.scatter(subset.scalbathrooms, subset.scalsquare_feet, label='cluster ' + str(cluster), alpha=.6)\n",
    "\n",
    "centroids.plot.scatter(y='scalbathrooms', x='scalsquare_feet', c='black', marker='x', s=1000, ax=plt.gca(), label='centroid')\n",
    "\n",
    "plt.legend()\n",
    "plt.title('Visualizing Cluster Centers')"
   ]
  },
  {
   "cell_type": "code",
   "execution_count": null,
   "id": "00879273",
   "metadata": {},
   "outputs": [],
   "source": [
    "train['cluster'].head()"
   ]
  },
  {
   "cell_type": "code",
   "execution_count": null,
   "id": "87225eca",
   "metadata": {},
   "outputs": [],
   "source": [
    "train.head()"
   ]
  },
  {
   "cell_type": "code",
   "execution_count": null,
   "id": "5bf3b0af",
   "metadata": {},
   "outputs": [],
   "source": [
    "plt.figure(figsize=(10, 4))\n",
    "# sets the size of the graph\n",
    "plt.title(\"Feature Correlation\")\n",
    "corr_chart = train.drop(['log_error'], axis=1).corrwith(train['log_error']).sort_values().plot.barh()\n",
    "corr_chart"
   ]
  },
  {
   "cell_type": "markdown",
   "id": "2d9572de",
   "metadata": {},
   "source": [
    "new idea... let's try to break up data by property size..."
   ]
  },
  {
   "cell_type": "code",
   "execution_count": null,
   "id": "2ea37efe",
   "metadata": {},
   "outputs": [],
   "source": [
    "train.square_feet.quantile(1)"
   ]
  },
  {
   "cell_type": "markdown",
   "id": "49156a47",
   "metadata": {},
   "source": []
  },
  {
   "cell_type": "code",
   "execution_count": null,
   "id": "a965cd5a",
   "metadata": {},
   "outputs": [],
   "source": [
    "small = train.copy().where(train.square_feet < 1423)\n",
    "small = small.dropna()"
   ]
  },
  {
   "cell_type": "code",
   "execution_count": null,
   "id": "a080d42f",
   "metadata": {},
   "outputs": [],
   "source": [
    "med = train.copy().where((train.square_feet >= 1423) & (train.square_feet < 1988))\n",
    "med = med.dropna()"
   ]
  },
  {
   "cell_type": "code",
   "execution_count": null,
   "id": "eaae5c50",
   "metadata": {},
   "outputs": [],
   "source": [
    "small"
   ]
  },
  {
   "cell_type": "code",
   "execution_count": null,
   "id": "47720021",
   "metadata": {},
   "outputs": [],
   "source": [
    "large = train.copy().where((train.square_feet >= 1988))\n",
    "large = large.dropna()"
   ]
  },
  {
   "cell_type": "code",
   "execution_count": null,
   "id": "934ecd36",
   "metadata": {},
   "outputs": [],
   "source": [
    "large"
   ]
  },
  {
   "cell_type": "code",
   "execution_count": null,
   "id": "1be84ff7",
   "metadata": {},
   "outputs": [],
   "source": [
    "plt.figure(figsize=(10, 4))\n",
    "# sets the size of the graph\n",
    "plt.title(\"Feature Correlation\")\n",
    "corr_chart = large.drop(['log_error', 'abs_LE'], axis=1).corrwith(large['log_error']).sort_values().plot.barh()\n",
    "corr_chart"
   ]
  },
  {
   "cell_type": "code",
   "execution_count": null,
   "id": "92073f3c",
   "metadata": {},
   "outputs": [],
   "source": [
    "plt.figure(figsize=(10, 4))\n",
    "# sets the size of the graph\n",
    "plt.title(\"Feature Correlation\")\n",
    "corr_chart = small.drop(['log_error', 'abs_LE'], axis=1).corrwith(small['log_error']).sort_values().plot.barh()\n",
    "corr_chart"
   ]
  },
  {
   "cell_type": "code",
   "execution_count": null,
   "id": "76a6d381",
   "metadata": {},
   "outputs": [],
   "source": [
    "plt.figure(figsize=(10, 4))\n",
    "# sets the size of the graph\n",
    "plt.title(\"Feature Correlation\")\n",
    "corr_chart = med.drop(['log_error', 'abs_LE'], axis=1).corrwith(med['log_error']).sort_values().plot.barh()\n",
    "corr_chart"
   ]
  },
  {
   "cell_type": "markdown",
   "id": "099921e2",
   "metadata": {},
   "source": [
    "The clusters are fantastic for medium homes. I wonder if we made more groups for size..."
   ]
  },
  {
   "cell_type": "code",
   "execution_count": null,
   "id": "87b7ee59",
   "metadata": {},
   "outputs": [],
   "source": [
    "train.square_feet.quantile(.33)"
   ]
  },
  {
   "cell_type": "code",
   "execution_count": null,
   "id": "14228f93",
   "metadata": {},
   "outputs": [],
   "source": [
    "xsmall = train.copy().where(train.square_feet < 1184)\n",
    "xsmall = small.dropna()"
   ]
  },
  {
   "cell_type": "code",
   "execution_count": null,
   "id": "74efbe7c",
   "metadata": {},
   "outputs": [],
   "source": [
    "plt.figure(figsize=(10, 4))\n",
    "# sets the size of the graph\n",
    "plt.title(\"Feature Correlation\")\n",
    "corr_chart = xsmall.drop(['log_error', 'abs_LE'], axis=1).corrwith(xsmall['log_error']).sort_values().plot.barh()\n",
    "corr_chart"
   ]
  },
  {
   "cell_type": "code",
   "execution_count": null,
   "id": "56451908",
   "metadata": {},
   "outputs": [],
   "source": [
    "small = train.copy().where((train.square_feet >= 1184) & (train.square_feet < 1393))\n",
    "small = small.dropna()"
   ]
  },
  {
   "cell_type": "code",
   "execution_count": null,
   "id": "587f81c9",
   "metadata": {},
   "outputs": [],
   "source": [
    "plt.figure(figsize=(10, 4))\n",
    "# sets the size of the graph\n",
    "plt.title(\"Feature Correlation\")\n",
    "corr_chart = small.drop(['log_error', 'abs_LE'], axis=1).corrwith(small['log_error']).sort_values().plot.barh()\n",
    "corr_chart"
   ]
  },
  {
   "cell_type": "code",
   "execution_count": null,
   "id": "9d0bd9b4",
   "metadata": {},
   "outputs": [],
   "source": [
    "train.square_feet.quantile(.84)"
   ]
  },
  {
   "cell_type": "code",
   "execution_count": null,
   "id": "2246ee65",
   "metadata": {},
   "outputs": [],
   "source": [
    "xlarge = train.copy().where(train.square_feet >= 4000)\n",
    "xlarge = large.dropna()"
   ]
  },
  {
   "cell_type": "code",
   "execution_count": null,
   "id": "1f96345c",
   "metadata": {},
   "outputs": [],
   "source": [
    "plt.figure(figsize=(10, 4))\n",
    "# sets the size of the graph\n",
    "plt.title(\"Feature Correlation\")\n",
    "corr_chart = xsmall.drop(['log_error', 'abs_LE'], axis=1).corrwith(xsmall['log_error']).sort_values().plot.barh()\n",
    "corr_chart"
   ]
  },
  {
   "cell_type": "markdown",
   "id": "5c4116da",
   "metadata": {},
   "source": [
    "OK, so looks like the cluster of square feet and bathrooms show great corr with log erro for xs through med homes. we need something else for large and xlarge. First, I want to add bed to these to see what happsn. I mean take out."
   ]
  },
  {
   "cell_type": "code",
   "execution_count": null,
   "id": "d004f2ef",
   "metadata": {},
   "outputs": [],
   "source": [
    "plt.figure(figsize=(10, 4))\n",
    "# sets the size of the graph\n",
    "plt.title(\"Feature Correlation\")\n",
    "corr_chart = train.drop(['log_error', 'year_built', 'abs_LE'], axis=1).corrwith(train['year_built']).sort_values().plot.barh()\n",
    "corr_chart"
   ]
  },
  {
   "cell_type": "code",
   "execution_count": null,
   "id": "bda68c33",
   "metadata": {},
   "outputs": [],
   "source": [
    "scaler = sklearn.preprocessing.MinMaxScaler()\n",
    "scaler.fit(train[['bathrooms', 'year_built', 'square_feet']])\n",
    "# inserts the 4 selected features into the scaler\n",
    "\n",
    "train[['scalbathrooms', 'scalyear', 'scalsquare_feet']] = scaler.transform(train[['bathrooms', 'year_built', 'square_feet']])"
   ]
  },
  {
   "cell_type": "code",
   "execution_count": null,
   "id": "79c8f3e7",
   "metadata": {},
   "outputs": [],
   "source": [
    "X = train[['scalbathrooms', 'scalyear', 'scalsquare_feet']]\n",
    "\n",
    "kmeans = KMeans(n_clusters=7)\n",
    "kmeans.fit(X)\n",
    "\n",
    "kmeans.predict(X)\n",
    "\n",
    "train['cluster'] = kmeans.predict(X)\n",
    "\n",
    "centroids = pd.DataFrame(kmeans.cluster_centers_, columns=X.columns)\n",
    "centroids"
   ]
  },
  {
   "cell_type": "code",
   "execution_count": null,
   "id": "3b81de70",
   "metadata": {},
   "outputs": [],
   "source": [
    "plt.figure(figsize=(10, 4))\n",
    "# sets the size of the graph\n",
    "plt.title(\"Feature Correlation\")\n",
    "corr_chart = train.drop(['log_error', 'abs_LE'], axis=1).corrwith(train['log_error']).sort_values().plot.barh()\n",
    "corr_chart"
   ]
  },
  {
   "cell_type": "code",
   "execution_count": null,
   "id": "882ee703",
   "metadata": {},
   "outputs": [],
   "source": [
    "xlarge = train.copy().where(train.square_feet >= 2000)\n",
    "xlarge = large.dropna()"
   ]
  },
  {
   "cell_type": "code",
   "execution_count": null,
   "id": "b9f2193d",
   "metadata": {},
   "outputs": [],
   "source": [
    "plt.figure(figsize=(10, 4))\n",
    "# sets the size of the graph\n",
    "plt.title(\"Feature Correlation\")\n",
    "corr_chart = xlarge.drop(['log_error', 'abs_LE', 'cluster'], axis=1).corrwith(xlarge['log_error']).sort_values().plot.barh()\n",
    "corr_chart"
   ]
  },
  {
   "cell_type": "code",
   "execution_count": null,
   "id": "0c2f2f61",
   "metadata": {},
   "outputs": [],
   "source": [
    "train.info()"
   ]
  },
  {
   "cell_type": "code",
   "execution_count": null,
   "id": "1935bb7c",
   "metadata": {},
   "outputs": [],
   "source": [
    "train.bathrooms.astype(int)"
   ]
  },
  {
   "cell_type": "code",
   "execution_count": null,
   "id": "0fec5b10",
   "metadata": {},
   "outputs": [],
   "source": [
    "scaler = sklearn.preprocessing.MinMaxScaler()\n",
    "X = [['bathrooms', 'year_built', 'lot_size', 'garage_size', 'square_feet', 'bedrooms']]\n",
    "# inserts the 4 selected features into the scaler\n"
   ]
  },
  {
   "cell_type": "code",
   "execution_count": null,
   "id": "3e64dc24",
   "metadata": {},
   "outputs": [],
   "source": [
    "from sklearn.feature_selection import SelectKBest, f_regression\n",
    "\n",
    "# parameters: f_regression stats test, give me 8 features\n",
    "f_selector = SelectKBest(f_regression, k=8)\n",
    "\n",
    "# find the top 8 X's correlated with y\n",
    "f_selector.fit(X, train.log_error)\n",
    "\n",
    "# boolean mask of whether the column was selected or not. \n",
    "feature_mask = f_selector.get_support()\n",
    "\n",
    "# get list of top K features. \n",
    "f_feature = X_train_scaled.iloc[:,feature_mask].columns.tolist()"
   ]
  },
  {
   "cell_type": "code",
   "execution_count": null,
   "id": "5876a5cc",
   "metadata": {},
   "outputs": [],
   "source": [
    "train[['scalbathrooms', 'scalyear', 'scalsquare_feet']] = scaler.transform(train[['bathrooms', 'year_built', 'square_feet']])"
   ]
  },
  {
   "cell_type": "markdown",
   "id": "4ae7d668",
   "metadata": {},
   "source": [
    "I want to explore potential similaries between pos high and neg low logs and features"
   ]
  },
  {
   "cell_type": "code",
   "execution_count": null,
   "id": "7ab14af2",
   "metadata": {},
   "outputs": [],
   "source": [
    "postrain = train.copy().where(train.log_error > 0)\n",
    "postrain = postrain.dropna()\n",
    "negtrain = train.copy().where(train.log_error < 0)\n",
    "negtrain = negtrain.dropna()"
   ]
  },
  {
   "cell_type": "code",
   "execution_count": null,
   "id": "59e597bb",
   "metadata": {},
   "outputs": [],
   "source": [
    "negtrain"
   ]
  },
  {
   "cell_type": "code",
   "execution_count": null,
   "id": "2fdf4434",
   "metadata": {},
   "outputs": [],
   "source": [
    "negtrain.log_error.quantile(.9)"
   ]
  },
  {
   "cell_type": "code",
   "execution_count": null,
   "id": "3c86b091",
   "metadata": {},
   "outputs": [],
   "source": [
    "high = postrain.copy().where(train.log_error > .05)\n",
    "high = high.dropna()"
   ]
  },
  {
   "cell_type": "code",
   "execution_count": null,
   "id": "be6c76b8",
   "metadata": {},
   "outputs": [],
   "source": [
    "low = negtrain.copy().where(train.log_error < -0.0099)\n",
    "low = low.dropna()"
   ]
  },
  {
   "cell_type": "code",
   "execution_count": null,
   "id": "ab06331c",
   "metadata": {},
   "outputs": [],
   "source": [
    "high"
   ]
  },
  {
   "cell_type": "code",
   "execution_count": null,
   "id": "62b1e94a",
   "metadata": {},
   "outputs": [],
   "source": [
    "high.year_built.mean(), train.year_built.mean()"
   ]
  },
  {
   "cell_type": "code",
   "execution_count": null,
   "id": "6c13293a",
   "metadata": {},
   "outputs": [],
   "source": [
    "high.bedrooms.mean(), train.bedrooms.mean()"
   ]
  },
  {
   "cell_type": "code",
   "execution_count": null,
   "id": "2e798286",
   "metadata": {},
   "outputs": [],
   "source": [
    "high.bathrooms.mean(), train.bathrooms.mean()"
   ]
  },
  {
   "cell_type": "code",
   "execution_count": null,
   "id": "871574e8",
   "metadata": {},
   "outputs": [],
   "source": [
    "low.square_feet.mean(), train.square_feet.mean() ### look at this for low and high"
   ]
  },
  {
   "cell_type": "code",
   "execution_count": null,
   "id": "a2c25b29",
   "metadata": {},
   "outputs": [],
   "source": [
    "low.columns"
   ]
  },
  {
   "cell_type": "code",
   "execution_count": null,
   "id": "4c64a918",
   "metadata": {},
   "outputs": [],
   "source": [
    "low.fips.value_counts(), train.fips.value_counts()"
   ]
  },
  {
   "cell_type": "code",
   "execution_count": null,
   "id": "0b720927",
   "metadata": {},
   "outputs": [],
   "source": [
    "high.garages.mean(), train.garages.mean() ### maybe for high & low"
   ]
  },
  {
   "cell_type": "code",
   "execution_count": null,
   "id": "acf7dc19",
   "metadata": {},
   "outputs": [],
   "source": [
    "high.has_pool.mean(), train.has_pool.mean() #possible low"
   ]
  },
  {
   "cell_type": "code",
   "execution_count": null,
   "id": "40003446",
   "metadata": {},
   "outputs": [],
   "source": [
    "high.lot_size.mean(), train.lot_size.mean() #lot size high"
   ]
  },
  {
   "cell_type": "code",
   "execution_count": null,
   "id": "90818de2",
   "metadata": {},
   "outputs": [],
   "source": [
    "low.garage_size.mean(), train.garage_size.mean() ### look at high and low"
   ]
  },
  {
   "cell_type": "code",
   "execution_count": null,
   "id": "728337ca",
   "metadata": {},
   "outputs": [],
   "source": [
    "low.transaction_date.mean(), train.transaction_date.mean()"
   ]
  },
  {
   "cell_type": "code",
   "execution_count": null,
   "id": "cdbbc2b6",
   "metadata": {},
   "outputs": [],
   "source": [
    "low.cluster.mean(), train.cluster.mean()"
   ]
  },
  {
   "cell_type": "code",
   "execution_count": null,
   "id": "a4aa747d",
   "metadata": {},
   "outputs": [],
   "source": [
    "high.square_feet.mean(), train.square_feet.mean()"
   ]
  },
  {
   "cell_type": "markdown",
   "id": "8f7ee730",
   "metadata": {},
   "source": [
    "so higher square footage may make error on the high side and vv"
   ]
  },
  {
   "cell_type": "code",
   "execution_count": null,
   "id": "7a95ef67",
   "metadata": {},
   "outputs": [],
   "source": [
    "high.square_feet.mean()"
   ]
  },
  {
   "cell_type": "code",
   "execution_count": null,
   "id": "6eac8694",
   "metadata": {},
   "outputs": [],
   "source": [
    "train"
   ]
  },
  {
   "cell_type": "code",
   "execution_count": null,
   "id": "5cbd0dc8",
   "metadata": {},
   "outputs": [],
   "source": [
    "xsmall"
   ]
  },
  {
   "cell_type": "code",
   "execution_count": null,
   "id": "954ebc18",
   "metadata": {},
   "outputs": [],
   "source": [
    "xsmall"
   ]
  },
  {
   "cell_type": "code",
   "execution_count": null,
   "id": "b1da60c2",
   "metadata": {},
   "outputs": [],
   "source": [
    "xsmall = train.copy().where(train.square_feet < 1184)\n",
    "xsmall = xsmall.dropna()"
   ]
  },
  {
   "cell_type": "code",
   "execution_count": null,
   "id": "7eed6cd7",
   "metadata": {},
   "outputs": [],
   "source": []
  },
  {
   "cell_type": "code",
   "execution_count": null,
   "id": "70838544",
   "metadata": {},
   "outputs": [],
   "source": [
    "plt.figure(figsize=(10, 4))\n",
    "# sets the size of the graph\n",
    "plt.title(\"Feature Correlation\")\n",
    "corr_chart = xsmall.drop(['log_error', 'abs_LE', 'cluster'], axis=1).corrwith(xsmall['log_error']).sort_values().plot.barh()\n",
    "corr_chart"
   ]
  },
  {
   "cell_type": "code",
   "execution_count": null,
   "id": "b9e15233",
   "metadata": {},
   "outputs": [],
   "source": [
    "from sklearn.cluster import KMeans\n",
    "import sklearn.preprocessing\n",
    "\n",
    "kmeans = KMeans(\n",
    "    init=\"random\",\n",
    "    n_clusters=8)\n",
    "\n",
    "coords = xsmall[['latitude', 'longitude']].to_numpy()\n",
    "\n",
    "coords = xsmall[['latitude', 'longitude']].to_numpy()\n",
    "\n",
    "kmeans.fit(coords)\n",
    "\n",
    "kmeans.predict(coords)\n",
    "\n",
    "xsmall['loca'] = kmeans.predict(coords)"
   ]
  },
  {
   "cell_type": "code",
   "execution_count": null,
   "id": "1bf5f83a",
   "metadata": {},
   "outputs": [],
   "source": [
    "with plt.style.context('seaborn-whitegrid'):\n",
    "    plt.figure(figsize=(9, 6))\n",
    "    pd.Series({k: KMeans(k).fit(coords).inertia_ for k in range(2, 12)}).plot(marker='x')\n",
    "    plt.xticks(range(2, 20))\n",
    "    plt.xlabel('k')\n",
    "    plt.ylabel('inertia')\n",
    "    plt.title('Change in inertia as k increases')"
   ]
  },
  {
   "cell_type": "code",
   "execution_count": null,
   "id": "6e0e9b57",
   "metadata": {},
   "outputs": [],
   "source": [
    "xsmall = xsmall.where(xsmall.bedrooms >= 2)\n",
    "xsmall = xsmall.dropna()\n",
    "xsmall"
   ]
  },
  {
   "cell_type": "code",
   "execution_count": null,
   "id": "7ad2e009",
   "metadata": {},
   "outputs": [],
   "source": [
    "plt.figure(figsize=(10, 4))\n",
    "# sets the size of the graph\n",
    "plt.title(\"Feature Correlation\")\n",
    "corr_chart = xsmall.drop(['log_error', 'abs_LE', 'cluster'], axis=1).corrwith(xsmall['log_error']).sort_values().plot.barh()\n",
    "corr_chart"
   ]
  },
  {
   "cell_type": "code",
   "execution_count": null,
   "id": "430845e4",
   "metadata": {},
   "outputs": [],
   "source": [
    "data = xsmall[['loca', 'propertycountylandusecode', 'has_pool', 'garage_size', 'garages', 'bathrooms', 'lot_size', 'year_built', 'bedrooms', 'square_feet']]"
   ]
  },
  {
   "cell_type": "code",
   "execution_count": null,
   "id": "e9fba3b2",
   "metadata": {},
   "outputs": [],
   "source": [
    "data"
   ]
  },
  {
   "cell_type": "code",
   "execution_count": null,
   "id": "9c59d244",
   "metadata": {},
   "outputs": [],
   "source": [
    "sns.pairplot(data)"
   ]
  },
  {
   "cell_type": "code",
   "execution_count": null,
   "id": "aa5ca10f",
   "metadata": {},
   "outputs": [],
   "source": [
    "plt.figure(figsize=(10, 4))\n",
    "# sets the size of the graph\n",
    "plt.title(\"Feature Correlation\")\n",
    "corr_chart = data.corrwith(xsmall['log_error']).sort_values().plot.barh()\n",
    "corr_chart"
   ]
  },
  {
   "cell_type": "code",
   "execution_count": null,
   "id": "f075d578",
   "metadata": {},
   "outputs": [],
   "source": [
    "data.loca"
   ]
  },
  {
   "cell_type": "code",
   "execution_count": null,
   "id": "1716563c",
   "metadata": {},
   "outputs": [],
   "source": [
    "alpha = .05\n",
    "x = data.has_pool\n",
    "y = data.loca\n",
    "corr, p = stats.pearsonr(x, y)\n",
    "if p > alpha:\n",
    "    print(\"We fail to reject the null hypothesis\")\n",
    "elif corr < .4: # sets r value minimum \n",
    "    print(\"We fail to reject the null hypothesis\")\n",
    "else:\n",
    "    print(\"We reject the null hypothesis\")\n",
    "corr, p"
   ]
  },
  {
   "cell_type": "code",
   "execution_count": null,
   "id": "c7110341",
   "metadata": {},
   "outputs": [],
   "source": [
    "alpha = .05\n",
    "x = data.square_feet\n",
    "y = data.garage_size\n",
    "corr, p = stats.pearsonr(x, y)\n",
    "if p > alpha:\n",
    "    print(\"We fail to reject the null hypothesis\")\n",
    "elif corr < .4: # sets r value minimum \n",
    "    print(\"We fail to reject the null hypothesis\")\n",
    "else:\n",
    "    print(\"We reject the null hypothesis\")\n",
    "corr, p"
   ]
  },
  {
   "cell_type": "code",
   "execution_count": null,
   "id": "730bc60e",
   "metadata": {},
   "outputs": [],
   "source": [
    "alpha = .05\n",
    "x = data.square_feet\n",
    "y = data.garages\n",
    "corr, p = stats.pearsonr(x, y)\n",
    "if p > alpha:\n",
    "    print(\"We fail to reject the null hypothesis\")\n",
    "elif corr < .4: # sets r value minimum \n",
    "    print(\"We fail to reject the null hypothesis\")\n",
    "else:\n",
    "    print(\"We reject the null hypothesis\")\n",
    "corr, p"
   ]
  },
  {
   "cell_type": "code",
   "execution_count": null,
   "id": "288592b3",
   "metadata": {},
   "outputs": [],
   "source": [
    "alpha = .05\n",
    "x = data.square_feet\n",
    "y = data.bedrooms\n",
    "corr, p = stats.pearsonr(x, y)\n",
    "if p > alpha:\n",
    "    print(\"We fail to reject the null hypothesis\")\n",
    "elif corr < .4: # sets r value minimum \n",
    "    print(\"We fail to reject the null hypothesis\")\n",
    "else:\n",
    "    print(\"We reject the null hypothesis\")\n",
    "corr, p"
   ]
  },
  {
   "cell_type": "code",
   "execution_count": null,
   "id": "76526bad",
   "metadata": {},
   "outputs": [],
   "source": [
    "alpha = .05\n",
    "x = data.square_feet\n",
    "y = data.bathrooms\n",
    "corr, p = stats.pearsonr(x, y)\n",
    "if p > alpha:\n",
    "    print(\"We fail to reject the null hypothesis\")\n",
    "elif corr < .4: # sets r value minimum \n",
    "    print(\"We fail to reject the null hypothesis\")\n",
    "else:\n",
    "    print(\"We reject the null hypothesis\")\n",
    "corr, p"
   ]
  },
  {
   "cell_type": "code",
   "execution_count": null,
   "id": "189f557c",
   "metadata": {},
   "outputs": [],
   "source": [
    "alpha = .05\n",
    "x = data.square_feet\n",
    "y = data.square_feet\n",
    "corr, p = stats.pearsonr(x, y)\n",
    "if p > alpha:\n",
    "    print(\"We fail to reject the null hypothesis\")\n",
    "elif corr < .4: # sets r value minimum \n",
    "    print(\"We fail to reject the null hypothesis\")\n",
    "else:\n",
    "    print(\"We reject the null hypothesis\")\n",
    "corr, p"
   ]
  },
  {
   "cell_type": "code",
   "execution_count": null,
   "id": "da424e06",
   "metadata": {},
   "outputs": [],
   "source": [
    "alpha = .05\n",
    "x = data.square_feet\n",
    "y = data.lot_size\n",
    "corr, p = stats.pearsonr(x, y)\n",
    "if p > alpha:\n",
    "    print(\"We fail to reject the null hypothesis\")\n",
    "elif corr < .4: # sets r value minimum \n",
    "    print(\"We fail to reject the null hypothesis\")\n",
    "else:\n",
    "    print(\"We reject the null hypothesis\")\n",
    "corr, p"
   ]
  },
  {
   "cell_type": "code",
   "execution_count": null,
   "id": "c848ff5e",
   "metadata": {},
   "outputs": [],
   "source": [
    "alpha = .05\n",
    "x = data.square_feet\n",
    "y = data.year_built\n",
    "corr, p = stats.pearsonr(x, y)\n",
    "if p > alpha:\n",
    "    print(\"We fail to reject the null hypothesis\")\n",
    "elif corr < .4: # sets r value minimum \n",
    "    print(\"We fail to reject the null hypothesis\")\n",
    "else:\n",
    "    print(\"We reject the null hypothesis\")\n",
    "corr, p"
   ]
  },
  {
   "cell_type": "code",
   "execution_count": null,
   "id": "56f750ec",
   "metadata": {},
   "outputs": [],
   "source": []
  },
  {
   "cell_type": "code",
   "execution_count": null,
   "id": "1c11c7c6",
   "metadata": {},
   "outputs": [],
   "source": [
    "alpha = .05 \n",
    "\n",
    "s1 = data[data.has_pool == 1].lot_size\n",
    "s2 = data.lot_size.mean()\n",
    "\n",
    "t, p = stats.ttest_1samp(s1, s2)\n",
    "\n",
    "print(t, p, alpha)\n",
    "\n",
    "if p > alpha:\n",
    "    print(\"We fail to reject the null hypothesis\")\n",
    "elif t < 0:\n",
    "    print(\"We fail to reject the null hypothesis\")\n",
    "else:\n",
    "    print(\"We reject the null hypothesis\")"
   ]
  },
  {
   "cell_type": "code",
   "execution_count": null,
   "id": "cbcadc88",
   "metadata": {},
   "outputs": [],
   "source": [
    "data.info()"
   ]
  },
  {
   "cell_type": "code",
   "execution_count": null,
   "id": "aa70e1e0",
   "metadata": {},
   "outputs": [],
   "source": [
    "sns.barplot(data=data, x='propertycountylandusecode', y='lot_size')\n",
    "plt.title(\"Churn and Average Tenure in Months\")"
   ]
  },
  {
   "cell_type": "code",
   "execution_count": null,
   "id": "178f398b",
   "metadata": {},
   "outputs": [],
   "source": [
    "df[df.propertycountylandusecode == '0109'].mean().round()"
   ]
  },
  {
   "cell_type": "code",
   "execution_count": null,
   "id": "a789a17d",
   "metadata": {},
   "outputs": [],
   "source": [
    "df.propertycountylandusecode.value_counts()"
   ]
  },
  {
   "cell_type": "code",
   "execution_count": null,
   "id": "e6761344",
   "metadata": {},
   "outputs": [],
   "source": [
    "train = pd.concat([train, dummy3], axis=1)"
   ]
  },
  {
   "cell_type": "code",
   "execution_count": 69,
   "id": "4c2d67ff",
   "metadata": {},
   "outputs": [],
   "source": [
    "data = train[['bathrooms', 'bedrooms', 'square_feet', 'garages', 'garage_size', 'lot_size']]"
   ]
  },
  {
   "cell_type": "code",
   "execution_count": 70,
   "id": "215d574f",
   "metadata": {},
   "outputs": [
    {
     "data": {
      "text/html": [
       "<div>\n",
       "<style scoped>\n",
       "    .dataframe tbody tr th:only-of-type {\n",
       "        vertical-align: middle;\n",
       "    }\n",
       "\n",
       "    .dataframe tbody tr th {\n",
       "        vertical-align: top;\n",
       "    }\n",
       "\n",
       "    .dataframe thead th {\n",
       "        text-align: right;\n",
       "    }\n",
       "</style>\n",
       "<table border=\"1\" class=\"dataframe\">\n",
       "  <thead>\n",
       "    <tr style=\"text-align: right;\">\n",
       "      <th></th>\n",
       "      <th>LA_L3</th>\n",
       "      <th>LA_L2</th>\n",
       "      <th>LA_S2</th>\n",
       "      <th>orange_L</th>\n",
       "      <th>orange_M</th>\n",
       "      <th>ventura_M</th>\n",
       "      <th>ventura_L</th>\n",
       "      <th>LA_S</th>\n",
       "      <th>LA_M</th>\n",
       "      <th>LA_L</th>\n",
       "    </tr>\n",
       "  </thead>\n",
       "  <tbody>\n",
       "    <tr>\n",
       "      <th>25090</th>\n",
       "      <td>False</td>\n",
       "      <td>False</td>\n",
       "      <td>False</td>\n",
       "      <td>False</td>\n",
       "      <td>False</td>\n",
       "      <td>False</td>\n",
       "      <td>False</td>\n",
       "      <td>False</td>\n",
       "      <td>True</td>\n",
       "      <td>False</td>\n",
       "    </tr>\n",
       "    <tr>\n",
       "      <th>2396</th>\n",
       "      <td>False</td>\n",
       "      <td>False</td>\n",
       "      <td>False</td>\n",
       "      <td>False</td>\n",
       "      <td>False</td>\n",
       "      <td>False</td>\n",
       "      <td>False</td>\n",
       "      <td>False</td>\n",
       "      <td>True</td>\n",
       "      <td>False</td>\n",
       "    </tr>\n",
       "    <tr>\n",
       "      <th>18215</th>\n",
       "      <td>False</td>\n",
       "      <td>False</td>\n",
       "      <td>False</td>\n",
       "      <td>False</td>\n",
       "      <td>False</td>\n",
       "      <td>False</td>\n",
       "      <td>False</td>\n",
       "      <td>False</td>\n",
       "      <td>True</td>\n",
       "      <td>False</td>\n",
       "    </tr>\n",
       "    <tr>\n",
       "      <th>4413</th>\n",
       "      <td>False</td>\n",
       "      <td>False</td>\n",
       "      <td>False</td>\n",
       "      <td>False</td>\n",
       "      <td>False</td>\n",
       "      <td>False</td>\n",
       "      <td>False</td>\n",
       "      <td>False</td>\n",
       "      <td>True</td>\n",
       "      <td>False</td>\n",
       "    </tr>\n",
       "    <tr>\n",
       "      <th>4538</th>\n",
       "      <td>False</td>\n",
       "      <td>False</td>\n",
       "      <td>False</td>\n",
       "      <td>False</td>\n",
       "      <td>False</td>\n",
       "      <td>False</td>\n",
       "      <td>False</td>\n",
       "      <td>False</td>\n",
       "      <td>True</td>\n",
       "      <td>False</td>\n",
       "    </tr>\n",
       "    <tr>\n",
       "      <th>...</th>\n",
       "      <td>...</td>\n",
       "      <td>...</td>\n",
       "      <td>...</td>\n",
       "      <td>...</td>\n",
       "      <td>...</td>\n",
       "      <td>...</td>\n",
       "      <td>...</td>\n",
       "      <td>...</td>\n",
       "      <td>...</td>\n",
       "      <td>...</td>\n",
       "    </tr>\n",
       "    <tr>\n",
       "      <th>51804</th>\n",
       "      <td>False</td>\n",
       "      <td>False</td>\n",
       "      <td>False</td>\n",
       "      <td>False</td>\n",
       "      <td>False</td>\n",
       "      <td>False</td>\n",
       "      <td>False</td>\n",
       "      <td>False</td>\n",
       "      <td>True</td>\n",
       "      <td>False</td>\n",
       "    </tr>\n",
       "    <tr>\n",
       "      <th>9094</th>\n",
       "      <td>False</td>\n",
       "      <td>False</td>\n",
       "      <td>False</td>\n",
       "      <td>False</td>\n",
       "      <td>False</td>\n",
       "      <td>False</td>\n",
       "      <td>False</td>\n",
       "      <td>False</td>\n",
       "      <td>False</td>\n",
       "      <td>True</td>\n",
       "    </tr>\n",
       "    <tr>\n",
       "      <th>7527</th>\n",
       "      <td>False</td>\n",
       "      <td>False</td>\n",
       "      <td>False</td>\n",
       "      <td>False</td>\n",
       "      <td>True</td>\n",
       "      <td>False</td>\n",
       "      <td>False</td>\n",
       "      <td>False</td>\n",
       "      <td>False</td>\n",
       "      <td>False</td>\n",
       "    </tr>\n",
       "    <tr>\n",
       "      <th>50318</th>\n",
       "      <td>False</td>\n",
       "      <td>False</td>\n",
       "      <td>False</td>\n",
       "      <td>False</td>\n",
       "      <td>True</td>\n",
       "      <td>False</td>\n",
       "      <td>False</td>\n",
       "      <td>False</td>\n",
       "      <td>False</td>\n",
       "      <td>False</td>\n",
       "    </tr>\n",
       "    <tr>\n",
       "      <th>1588</th>\n",
       "      <td>False</td>\n",
       "      <td>False</td>\n",
       "      <td>False</td>\n",
       "      <td>False</td>\n",
       "      <td>True</td>\n",
       "      <td>False</td>\n",
       "      <td>False</td>\n",
       "      <td>False</td>\n",
       "      <td>False</td>\n",
       "      <td>False</td>\n",
       "    </tr>\n",
       "  </tbody>\n",
       "</table>\n",
       "<p>26835 rows × 10 columns</p>\n",
       "</div>"
      ],
      "text/plain": [
       "       LA_L3  LA_L2  LA_S2  orange_L  orange_M  ventura_M  ventura_L   LA_S  \\\n",
       "25090  False  False  False     False     False      False      False  False   \n",
       "2396   False  False  False     False     False      False      False  False   \n",
       "18215  False  False  False     False     False      False      False  False   \n",
       "4413   False  False  False     False     False      False      False  False   \n",
       "4538   False  False  False     False     False      False      False  False   \n",
       "...      ...    ...    ...       ...       ...        ...        ...    ...   \n",
       "51804  False  False  False     False     False      False      False  False   \n",
       "9094   False  False  False     False     False      False      False  False   \n",
       "7527   False  False  False     False      True      False      False  False   \n",
       "50318  False  False  False     False      True      False      False  False   \n",
       "1588   False  False  False     False      True      False      False  False   \n",
       "\n",
       "        LA_M   LA_L  \n",
       "25090   True  False  \n",
       "2396    True  False  \n",
       "18215   True  False  \n",
       "4413    True  False  \n",
       "4538    True  False  \n",
       "...      ...    ...  \n",
       "51804   True  False  \n",
       "9094   False   True  \n",
       "7527   False  False  \n",
       "50318  False  False  \n",
       "1588   False  False  \n",
       "\n",
       "[26835 rows x 10 columns]"
      ]
     },
     "execution_count": 70,
     "metadata": {},
     "output_type": "execute_result"
    }
   ],
   "source": [
    "dummy"
   ]
  },
  {
   "cell_type": "code",
   "execution_count": 71,
   "id": "15d2b7c6",
   "metadata": {},
   "outputs": [],
   "source": [
    "dummy = dummy.astype('int')"
   ]
  },
  {
   "cell_type": "code",
   "execution_count": 72,
   "id": "e0fbc7da",
   "metadata": {},
   "outputs": [
    {
     "data": {
      "text/plain": [
       "MinMaxScaler()"
      ]
     },
     "execution_count": 72,
     "metadata": {},
     "output_type": "execute_result"
    }
   ],
   "source": [
    "scaler = sklearn.preprocessing.MinMaxScaler()\n",
    "# employs the min max scaler\n",
    "scaler.fit(data)"
   ]
  },
  {
   "cell_type": "code",
   "execution_count": 73,
   "id": "e9ee372c",
   "metadata": {},
   "outputs": [],
   "source": [
    "v = scaler.transform(data)"
   ]
  },
  {
   "cell_type": "code",
   "execution_count": 74,
   "id": "776873d4",
   "metadata": {},
   "outputs": [],
   "source": [
    "v = pd.DataFrame(data = v)"
   ]
  },
  {
   "cell_type": "code",
   "execution_count": 75,
   "id": "9ee59d01",
   "metadata": {},
   "outputs": [],
   "source": [
    "v.index = data.index"
   ]
  },
  {
   "cell_type": "code",
   "execution_count": 93,
   "id": "701d9cf4",
   "metadata": {},
   "outputs": [],
   "source": [
    "X_train = pd.concat([dummy, v], axis=1)"
   ]
  },
  {
   "cell_type": "code",
   "execution_count": 94,
   "id": "9d8981ea",
   "metadata": {},
   "outputs": [
    {
     "data": {
      "text/html": [
       "<div>\n",
       "<style scoped>\n",
       "    .dataframe tbody tr th:only-of-type {\n",
       "        vertical-align: middle;\n",
       "    }\n",
       "\n",
       "    .dataframe tbody tr th {\n",
       "        vertical-align: top;\n",
       "    }\n",
       "\n",
       "    .dataframe thead th {\n",
       "        text-align: right;\n",
       "    }\n",
       "</style>\n",
       "<table border=\"1\" class=\"dataframe\">\n",
       "  <thead>\n",
       "    <tr style=\"text-align: right;\">\n",
       "      <th></th>\n",
       "      <th>LA_L3</th>\n",
       "      <th>LA_L2</th>\n",
       "      <th>LA_S2</th>\n",
       "      <th>orange_L</th>\n",
       "      <th>orange_M</th>\n",
       "      <th>ventura_M</th>\n",
       "      <th>ventura_L</th>\n",
       "      <th>LA_S</th>\n",
       "      <th>LA_M</th>\n",
       "      <th>LA_L</th>\n",
       "      <th>0</th>\n",
       "      <th>1</th>\n",
       "      <th>2</th>\n",
       "      <th>3</th>\n",
       "      <th>4</th>\n",
       "      <th>5</th>\n",
       "    </tr>\n",
       "  </thead>\n",
       "  <tbody>\n",
       "    <tr>\n",
       "      <th>25090</th>\n",
       "      <td>0</td>\n",
       "      <td>0</td>\n",
       "      <td>0</td>\n",
       "      <td>0</td>\n",
       "      <td>0</td>\n",
       "      <td>0</td>\n",
       "      <td>0</td>\n",
       "      <td>0</td>\n",
       "      <td>1</td>\n",
       "      <td>0</td>\n",
       "      <td>0.00</td>\n",
       "      <td>0.50</td>\n",
       "      <td>0.155464</td>\n",
       "      <td>0.000000</td>\n",
       "      <td>0.000000</td>\n",
       "      <td>0.000882</td>\n",
       "    </tr>\n",
       "    <tr>\n",
       "      <th>2396</th>\n",
       "      <td>0</td>\n",
       "      <td>0</td>\n",
       "      <td>0</td>\n",
       "      <td>0</td>\n",
       "      <td>0</td>\n",
       "      <td>0</td>\n",
       "      <td>0</td>\n",
       "      <td>0</td>\n",
       "      <td>1</td>\n",
       "      <td>0</td>\n",
       "      <td>0.00</td>\n",
       "      <td>0.50</td>\n",
       "      <td>0.095258</td>\n",
       "      <td>0.000000</td>\n",
       "      <td>0.000000</td>\n",
       "      <td>0.000712</td>\n",
       "    </tr>\n",
       "    <tr>\n",
       "      <th>18215</th>\n",
       "      <td>0</td>\n",
       "      <td>0</td>\n",
       "      <td>0</td>\n",
       "      <td>0</td>\n",
       "      <td>0</td>\n",
       "      <td>0</td>\n",
       "      <td>0</td>\n",
       "      <td>0</td>\n",
       "      <td>1</td>\n",
       "      <td>0</td>\n",
       "      <td>0.00</td>\n",
       "      <td>0.25</td>\n",
       "      <td>0.099381</td>\n",
       "      <td>0.000000</td>\n",
       "      <td>0.000000</td>\n",
       "      <td>0.000981</td>\n",
       "    </tr>\n",
       "    <tr>\n",
       "      <th>4413</th>\n",
       "      <td>0</td>\n",
       "      <td>0</td>\n",
       "      <td>0</td>\n",
       "      <td>0</td>\n",
       "      <td>0</td>\n",
       "      <td>0</td>\n",
       "      <td>0</td>\n",
       "      <td>0</td>\n",
       "      <td>1</td>\n",
       "      <td>0</td>\n",
       "      <td>0.75</td>\n",
       "      <td>1.00</td>\n",
       "      <td>0.455258</td>\n",
       "      <td>0.000000</td>\n",
       "      <td>0.000000</td>\n",
       "      <td>0.000855</td>\n",
       "    </tr>\n",
       "    <tr>\n",
       "      <th>4538</th>\n",
       "      <td>0</td>\n",
       "      <td>0</td>\n",
       "      <td>0</td>\n",
       "      <td>0</td>\n",
       "      <td>0</td>\n",
       "      <td>0</td>\n",
       "      <td>0</td>\n",
       "      <td>0</td>\n",
       "      <td>1</td>\n",
       "      <td>0</td>\n",
       "      <td>0.25</td>\n",
       "      <td>0.50</td>\n",
       "      <td>0.291753</td>\n",
       "      <td>0.000000</td>\n",
       "      <td>0.000000</td>\n",
       "      <td>0.000954</td>\n",
       "    </tr>\n",
       "    <tr>\n",
       "      <th>...</th>\n",
       "      <td>...</td>\n",
       "      <td>...</td>\n",
       "      <td>...</td>\n",
       "      <td>...</td>\n",
       "      <td>...</td>\n",
       "      <td>...</td>\n",
       "      <td>...</td>\n",
       "      <td>...</td>\n",
       "      <td>...</td>\n",
       "      <td>...</td>\n",
       "      <td>...</td>\n",
       "      <td>...</td>\n",
       "      <td>...</td>\n",
       "      <td>...</td>\n",
       "      <td>...</td>\n",
       "      <td>...</td>\n",
       "    </tr>\n",
       "    <tr>\n",
       "      <th>51804</th>\n",
       "      <td>0</td>\n",
       "      <td>0</td>\n",
       "      <td>0</td>\n",
       "      <td>0</td>\n",
       "      <td>0</td>\n",
       "      <td>0</td>\n",
       "      <td>0</td>\n",
       "      <td>0</td>\n",
       "      <td>1</td>\n",
       "      <td>0</td>\n",
       "      <td>0.00</td>\n",
       "      <td>0.50</td>\n",
       "      <td>0.098144</td>\n",
       "      <td>0.000000</td>\n",
       "      <td>0.000000</td>\n",
       "      <td>0.000856</td>\n",
       "    </tr>\n",
       "    <tr>\n",
       "      <th>9094</th>\n",
       "      <td>0</td>\n",
       "      <td>0</td>\n",
       "      <td>0</td>\n",
       "      <td>0</td>\n",
       "      <td>0</td>\n",
       "      <td>0</td>\n",
       "      <td>0</td>\n",
       "      <td>0</td>\n",
       "      <td>0</td>\n",
       "      <td>1</td>\n",
       "      <td>0.25</td>\n",
       "      <td>0.50</td>\n",
       "      <td>0.145979</td>\n",
       "      <td>0.000000</td>\n",
       "      <td>0.000000</td>\n",
       "      <td>0.001007</td>\n",
       "    </tr>\n",
       "    <tr>\n",
       "      <th>7527</th>\n",
       "      <td>0</td>\n",
       "      <td>0</td>\n",
       "      <td>0</td>\n",
       "      <td>0</td>\n",
       "      <td>1</td>\n",
       "      <td>0</td>\n",
       "      <td>0</td>\n",
       "      <td>0</td>\n",
       "      <td>0</td>\n",
       "      <td>0</td>\n",
       "      <td>0.25</td>\n",
       "      <td>0.50</td>\n",
       "      <td>0.255464</td>\n",
       "      <td>0.142857</td>\n",
       "      <td>0.094096</td>\n",
       "      <td>0.001128</td>\n",
       "    </tr>\n",
       "    <tr>\n",
       "      <th>50318</th>\n",
       "      <td>0</td>\n",
       "      <td>0</td>\n",
       "      <td>0</td>\n",
       "      <td>0</td>\n",
       "      <td>1</td>\n",
       "      <td>0</td>\n",
       "      <td>0</td>\n",
       "      <td>0</td>\n",
       "      <td>0</td>\n",
       "      <td>0</td>\n",
       "      <td>0.25</td>\n",
       "      <td>0.75</td>\n",
       "      <td>0.165773</td>\n",
       "      <td>0.142857</td>\n",
       "      <td>0.106093</td>\n",
       "      <td>0.000783</td>\n",
       "    </tr>\n",
       "    <tr>\n",
       "      <th>1588</th>\n",
       "      <td>0</td>\n",
       "      <td>0</td>\n",
       "      <td>0</td>\n",
       "      <td>0</td>\n",
       "      <td>1</td>\n",
       "      <td>0</td>\n",
       "      <td>0</td>\n",
       "      <td>0</td>\n",
       "      <td>0</td>\n",
       "      <td>0</td>\n",
       "      <td>0.50</td>\n",
       "      <td>1.00</td>\n",
       "      <td>0.341237</td>\n",
       "      <td>0.142857</td>\n",
       "      <td>0.097859</td>\n",
       "      <td>0.001902</td>\n",
       "    </tr>\n",
       "  </tbody>\n",
       "</table>\n",
       "<p>26835 rows × 16 columns</p>\n",
       "</div>"
      ],
      "text/plain": [
       "       LA_L3  LA_L2  LA_S2  orange_L  orange_M  ventura_M  ventura_L  LA_S  \\\n",
       "25090      0      0      0         0         0          0          0     0   \n",
       "2396       0      0      0         0         0          0          0     0   \n",
       "18215      0      0      0         0         0          0          0     0   \n",
       "4413       0      0      0         0         0          0          0     0   \n",
       "4538       0      0      0         0         0          0          0     0   \n",
       "...      ...    ...    ...       ...       ...        ...        ...   ...   \n",
       "51804      0      0      0         0         0          0          0     0   \n",
       "9094       0      0      0         0         0          0          0     0   \n",
       "7527       0      0      0         0         1          0          0     0   \n",
       "50318      0      0      0         0         1          0          0     0   \n",
       "1588       0      0      0         0         1          0          0     0   \n",
       "\n",
       "       LA_M  LA_L     0     1         2         3         4         5  \n",
       "25090     1     0  0.00  0.50  0.155464  0.000000  0.000000  0.000882  \n",
       "2396      1     0  0.00  0.50  0.095258  0.000000  0.000000  0.000712  \n",
       "18215     1     0  0.00  0.25  0.099381  0.000000  0.000000  0.000981  \n",
       "4413      1     0  0.75  1.00  0.455258  0.000000  0.000000  0.000855  \n",
       "4538      1     0  0.25  0.50  0.291753  0.000000  0.000000  0.000954  \n",
       "...     ...   ...   ...   ...       ...       ...       ...       ...  \n",
       "51804     1     0  0.00  0.50  0.098144  0.000000  0.000000  0.000856  \n",
       "9094      0     1  0.25  0.50  0.145979  0.000000  0.000000  0.001007  \n",
       "7527      0     0  0.25  0.50  0.255464  0.142857  0.094096  0.001128  \n",
       "50318     0     0  0.25  0.75  0.165773  0.142857  0.106093  0.000783  \n",
       "1588      0     0  0.50  1.00  0.341237  0.142857  0.097859  0.001902  \n",
       "\n",
       "[26835 rows x 16 columns]"
      ]
     },
     "execution_count": 94,
     "metadata": {},
     "output_type": "execute_result"
    }
   ],
   "source": [
    "X_train"
   ]
  },
  {
   "cell_type": "code",
   "execution_count": null,
   "id": "122b5ac5",
   "metadata": {},
   "outputs": [],
   "source": []
  },
  {
   "cell_type": "code",
   "execution_count": 78,
   "id": "c08341f6",
   "metadata": {},
   "outputs": [],
   "source": [
    "#X_train = dummy\n",
    "# creates dataframe that drops all column except the selected features for modeling\n",
    "y_train = train[['log_error']]\n",
    "# creates dataframe of target variable (y) only\n",
    "\n",
    "# X_validate = dummy\n",
    "# y_validate = validate[['log_error']]\n",
    "# # repeat above for validate set\n",
    "\n",
    "# X_test = dummy\n",
    "# y_test = test[['log_error']]"
   ]
  },
  {
   "cell_type": "code",
   "execution_count": 44,
   "id": "85260a48",
   "metadata": {},
   "outputs": [],
   "source": [
    "X_train = X_train.astype('int')\n",
    "X_validate = X_validate.astype('int')"
   ]
  },
  {
   "cell_type": "code",
   "execution_count": 79,
   "id": "47b41d31",
   "metadata": {},
   "outputs": [
    {
     "data": {
      "text/html": [
       "<div>\n",
       "<style scoped>\n",
       "    .dataframe tbody tr th:only-of-type {\n",
       "        vertical-align: middle;\n",
       "    }\n",
       "\n",
       "    .dataframe tbody tr th {\n",
       "        vertical-align: top;\n",
       "    }\n",
       "\n",
       "    .dataframe thead th {\n",
       "        text-align: right;\n",
       "    }\n",
       "</style>\n",
       "<table border=\"1\" class=\"dataframe\">\n",
       "  <thead>\n",
       "    <tr style=\"text-align: right;\">\n",
       "      <th></th>\n",
       "      <th>log_error</th>\n",
       "    </tr>\n",
       "  </thead>\n",
       "  <tbody>\n",
       "    <tr>\n",
       "      <th>25090</th>\n",
       "      <td>-0.018411</td>\n",
       "    </tr>\n",
       "    <tr>\n",
       "      <th>2396</th>\n",
       "      <td>0.106983</td>\n",
       "    </tr>\n",
       "    <tr>\n",
       "      <th>18215</th>\n",
       "      <td>0.343834</td>\n",
       "    </tr>\n",
       "    <tr>\n",
       "      <th>4413</th>\n",
       "      <td>-0.036174</td>\n",
       "    </tr>\n",
       "    <tr>\n",
       "      <th>4538</th>\n",
       "      <td>0.019838</td>\n",
       "    </tr>\n",
       "    <tr>\n",
       "      <th>...</th>\n",
       "      <td>...</td>\n",
       "    </tr>\n",
       "    <tr>\n",
       "      <th>51804</th>\n",
       "      <td>0.028120</td>\n",
       "    </tr>\n",
       "    <tr>\n",
       "      <th>9094</th>\n",
       "      <td>0.020197</td>\n",
       "    </tr>\n",
       "    <tr>\n",
       "      <th>7527</th>\n",
       "      <td>0.011196</td>\n",
       "    </tr>\n",
       "    <tr>\n",
       "      <th>50318</th>\n",
       "      <td>-0.057559</td>\n",
       "    </tr>\n",
       "    <tr>\n",
       "      <th>1588</th>\n",
       "      <td>-0.062614</td>\n",
       "    </tr>\n",
       "  </tbody>\n",
       "</table>\n",
       "<p>26835 rows × 1 columns</p>\n",
       "</div>"
      ],
      "text/plain": [
       "       log_error\n",
       "25090  -0.018411\n",
       "2396    0.106983\n",
       "18215   0.343834\n",
       "4413   -0.036174\n",
       "4538    0.019838\n",
       "...          ...\n",
       "51804   0.028120\n",
       "9094    0.020197\n",
       "7527    0.011196\n",
       "50318  -0.057559\n",
       "1588   -0.062614\n",
       "\n",
       "[26835 rows x 1 columns]"
      ]
     },
     "execution_count": 79,
     "metadata": {},
     "output_type": "execute_result"
    }
   ],
   "source": [
    "y_train"
   ]
  },
  {
   "cell_type": "code",
   "execution_count": 90,
   "id": "08a5b50b",
   "metadata": {},
   "outputs": [
    {
     "name": "stdout",
     "output_type": "stream",
     "text": [
      "Baseline RMSE\n",
      "Train/In-Sample:  0.08353491952815524\n"
     ]
    },
    {
     "data": {
      "text/plain": [
       "(None,)"
      ]
     },
     "execution_count": 90,
     "metadata": {},
     "output_type": "execute_result"
    }
   ],
   "source": [
    "y_train['pred_mean'] = y_train.log_error.mean()\n",
    "#y_validate['pred_mean'] = y_validate.log_error.mean()\n",
    "# calculates mean prior to computing rmse\n",
    "\n",
    "rmse_train = mean_squared_error(y_train.log_error, y_train.pred_mean)**(1/2)\n",
    "#rmse_validate = mean_squared_error(y_validate.log_error, y_validate.pred_mean)**(1/2)\n",
    "# computes baseline RMSE for train and validate sets (square root of MSE)\n",
    "\n",
    "print(\"Baseline RMSE\\nTrain/In-Sample: \", (rmse_train)), \n",
    "#print(\"Baseline RMSE\\nValidate/Out-of-Sample: \", (rmse_validate))"
   ]
  },
  {
   "cell_type": "code",
   "execution_count": 97,
   "id": "1c787c83",
   "metadata": {},
   "outputs": [
    {
     "data": {
      "text/markdown": [
       "**OLS Linear Regression Performance**"
      ],
      "text/plain": [
       "<IPython.core.display.Markdown object>"
      ]
     },
     "metadata": {},
     "output_type": "display_data"
    },
    {
     "name": "stdout",
     "output_type": "stream",
     "text": [
      "---------------------------------------\n",
      "RMSE for OLS using LinearRegression\n",
      "Training/In-Sample:  0.08332682671635622\n",
      "---------------------------------------\n"
     ]
    }
   ],
   "source": [
    "lm = LinearRegression(normalize=True)\n",
    "# create the model\n",
    "\n",
    "lm.fit(X_train, y_train.log_error)\n",
    "# fit the model to scaled training data\n",
    "\n",
    "y_train['value_predict_lm'] = lm.predict(X_train)\n",
    "# computes model predictions\n",
    "\n",
    "rmse_train = mean_squared_error(y_train.log_error, y_train.value_predict_lm)**(1/2)\n",
    "# computes model rmse\n",
    "\n",
    "#y_validate['value_predict_lm'] = lm.predict(X_validate)\n",
    "#rmse_validate = mean_squared_error(y_validate.log_error, y_validate.value_predict_lm)**(1/2)\n",
    "# comutes predictions and rmse with validate data\n",
    "\n",
    "printmd(\"**OLS Linear Regression Performance**\")\n",
    "print(\"---------------------------------------\")\n",
    "print(\"RMSE for OLS using LinearRegression\\nTraining/In-Sample: \", (rmse_train))\n",
    "print(\"---------------------------------------\")\n",
    "#print(\"RMSE for OLS using LinearRegression\\nValidation/Out-of-Sample: \", (rmse_validate))"
   ]
  },
  {
   "cell_type": "code",
   "execution_count": 98,
   "id": "74d86733",
   "metadata": {},
   "outputs": [
    {
     "data": {
      "text/markdown": [
       "**LARS Performance**"
      ],
      "text/plain": [
       "<IPython.core.display.Markdown object>"
      ]
     },
     "metadata": {},
     "output_type": "display_data"
    },
    {
     "name": "stdout",
     "output_type": "stream",
     "text": [
      "---------------------------------------\n",
      "RMSE for Lars\n",
      "Training/In-Sample:  0.08353\n"
     ]
    }
   ],
   "source": [
    "lars = LassoLars(alpha=1.0)\n",
    "# creates the model\n",
    "\n",
    "lars.fit(X_train, y_train.log_error)\n",
    "# fit the model to scaled training data\n",
    "\n",
    "y_train['pred_lars'] = lars.predict(X_train)\n",
    "# computes model predictions\n",
    "rmse_train = mean_squared_error(y_train.log_error, y_train.pred_lars)**(1/2)\n",
    "# computes model rmse\n",
    "\n",
    "# y_validate['pred_lars'] = lars.predict(X_validate)\n",
    "# rmse_validate = mean_squared_error(y_validate.tax_value, y_validate.pred_lars)**(1/2)\n",
    "# comutes predictions and rmse with validate data\n",
    "\n",
    "printmd(\"**LARS Performance**\")\n",
    "print(\"---------------------------------------\")\n",
    "print(\"RMSE for Lars\\nTraining/In-Sample: \", round(rmse_train, 5))"
   ]
  },
  {
   "cell_type": "code",
   "execution_count": 99,
   "id": "85d6a587",
   "metadata": {},
   "outputs": [
    {
     "data": {
      "text/html": [
       "<div>\n",
       "<style scoped>\n",
       "    .dataframe tbody tr th:only-of-type {\n",
       "        vertical-align: middle;\n",
       "    }\n",
       "\n",
       "    .dataframe tbody tr th {\n",
       "        vertical-align: top;\n",
       "    }\n",
       "\n",
       "    .dataframe thead th {\n",
       "        text-align: right;\n",
       "    }\n",
       "</style>\n",
       "<table border=\"1\" class=\"dataframe\">\n",
       "  <thead>\n",
       "    <tr style=\"text-align: right;\">\n",
       "      <th></th>\n",
       "      <th>LA_L3</th>\n",
       "      <th>LA_L2</th>\n",
       "      <th>LA_S2</th>\n",
       "      <th>orange_L</th>\n",
       "      <th>orange_M</th>\n",
       "      <th>ventura_M</th>\n",
       "      <th>ventura_L</th>\n",
       "      <th>LA_S</th>\n",
       "      <th>LA_M</th>\n",
       "      <th>LA_L</th>\n",
       "      <th>0</th>\n",
       "      <th>1</th>\n",
       "      <th>2</th>\n",
       "      <th>3</th>\n",
       "      <th>4</th>\n",
       "      <th>5</th>\n",
       "    </tr>\n",
       "  </thead>\n",
       "  <tbody>\n",
       "    <tr>\n",
       "      <th>25090</th>\n",
       "      <td>0</td>\n",
       "      <td>0</td>\n",
       "      <td>0</td>\n",
       "      <td>0</td>\n",
       "      <td>0</td>\n",
       "      <td>0</td>\n",
       "      <td>0</td>\n",
       "      <td>0</td>\n",
       "      <td>1</td>\n",
       "      <td>0</td>\n",
       "      <td>0.00</td>\n",
       "      <td>0.50</td>\n",
       "      <td>0.155464</td>\n",
       "      <td>0.000000</td>\n",
       "      <td>0.000000</td>\n",
       "      <td>0.000882</td>\n",
       "    </tr>\n",
       "    <tr>\n",
       "      <th>2396</th>\n",
       "      <td>0</td>\n",
       "      <td>0</td>\n",
       "      <td>0</td>\n",
       "      <td>0</td>\n",
       "      <td>0</td>\n",
       "      <td>0</td>\n",
       "      <td>0</td>\n",
       "      <td>0</td>\n",
       "      <td>1</td>\n",
       "      <td>0</td>\n",
       "      <td>0.00</td>\n",
       "      <td>0.50</td>\n",
       "      <td>0.095258</td>\n",
       "      <td>0.000000</td>\n",
       "      <td>0.000000</td>\n",
       "      <td>0.000712</td>\n",
       "    </tr>\n",
       "    <tr>\n",
       "      <th>18215</th>\n",
       "      <td>0</td>\n",
       "      <td>0</td>\n",
       "      <td>0</td>\n",
       "      <td>0</td>\n",
       "      <td>0</td>\n",
       "      <td>0</td>\n",
       "      <td>0</td>\n",
       "      <td>0</td>\n",
       "      <td>1</td>\n",
       "      <td>0</td>\n",
       "      <td>0.00</td>\n",
       "      <td>0.25</td>\n",
       "      <td>0.099381</td>\n",
       "      <td>0.000000</td>\n",
       "      <td>0.000000</td>\n",
       "      <td>0.000981</td>\n",
       "    </tr>\n",
       "    <tr>\n",
       "      <th>4413</th>\n",
       "      <td>0</td>\n",
       "      <td>0</td>\n",
       "      <td>0</td>\n",
       "      <td>0</td>\n",
       "      <td>0</td>\n",
       "      <td>0</td>\n",
       "      <td>0</td>\n",
       "      <td>0</td>\n",
       "      <td>1</td>\n",
       "      <td>0</td>\n",
       "      <td>0.75</td>\n",
       "      <td>1.00</td>\n",
       "      <td>0.455258</td>\n",
       "      <td>0.000000</td>\n",
       "      <td>0.000000</td>\n",
       "      <td>0.000855</td>\n",
       "    </tr>\n",
       "    <tr>\n",
       "      <th>4538</th>\n",
       "      <td>0</td>\n",
       "      <td>0</td>\n",
       "      <td>0</td>\n",
       "      <td>0</td>\n",
       "      <td>0</td>\n",
       "      <td>0</td>\n",
       "      <td>0</td>\n",
       "      <td>0</td>\n",
       "      <td>1</td>\n",
       "      <td>0</td>\n",
       "      <td>0.25</td>\n",
       "      <td>0.50</td>\n",
       "      <td>0.291753</td>\n",
       "      <td>0.000000</td>\n",
       "      <td>0.000000</td>\n",
       "      <td>0.000954</td>\n",
       "    </tr>\n",
       "    <tr>\n",
       "      <th>...</th>\n",
       "      <td>...</td>\n",
       "      <td>...</td>\n",
       "      <td>...</td>\n",
       "      <td>...</td>\n",
       "      <td>...</td>\n",
       "      <td>...</td>\n",
       "      <td>...</td>\n",
       "      <td>...</td>\n",
       "      <td>...</td>\n",
       "      <td>...</td>\n",
       "      <td>...</td>\n",
       "      <td>...</td>\n",
       "      <td>...</td>\n",
       "      <td>...</td>\n",
       "      <td>...</td>\n",
       "      <td>...</td>\n",
       "    </tr>\n",
       "    <tr>\n",
       "      <th>51804</th>\n",
       "      <td>0</td>\n",
       "      <td>0</td>\n",
       "      <td>0</td>\n",
       "      <td>0</td>\n",
       "      <td>0</td>\n",
       "      <td>0</td>\n",
       "      <td>0</td>\n",
       "      <td>0</td>\n",
       "      <td>1</td>\n",
       "      <td>0</td>\n",
       "      <td>0.00</td>\n",
       "      <td>0.50</td>\n",
       "      <td>0.098144</td>\n",
       "      <td>0.000000</td>\n",
       "      <td>0.000000</td>\n",
       "      <td>0.000856</td>\n",
       "    </tr>\n",
       "    <tr>\n",
       "      <th>9094</th>\n",
       "      <td>0</td>\n",
       "      <td>0</td>\n",
       "      <td>0</td>\n",
       "      <td>0</td>\n",
       "      <td>0</td>\n",
       "      <td>0</td>\n",
       "      <td>0</td>\n",
       "      <td>0</td>\n",
       "      <td>0</td>\n",
       "      <td>1</td>\n",
       "      <td>0.25</td>\n",
       "      <td>0.50</td>\n",
       "      <td>0.145979</td>\n",
       "      <td>0.000000</td>\n",
       "      <td>0.000000</td>\n",
       "      <td>0.001007</td>\n",
       "    </tr>\n",
       "    <tr>\n",
       "      <th>7527</th>\n",
       "      <td>0</td>\n",
       "      <td>0</td>\n",
       "      <td>0</td>\n",
       "      <td>0</td>\n",
       "      <td>1</td>\n",
       "      <td>0</td>\n",
       "      <td>0</td>\n",
       "      <td>0</td>\n",
       "      <td>0</td>\n",
       "      <td>0</td>\n",
       "      <td>0.25</td>\n",
       "      <td>0.50</td>\n",
       "      <td>0.255464</td>\n",
       "      <td>0.142857</td>\n",
       "      <td>0.094096</td>\n",
       "      <td>0.001128</td>\n",
       "    </tr>\n",
       "    <tr>\n",
       "      <th>50318</th>\n",
       "      <td>0</td>\n",
       "      <td>0</td>\n",
       "      <td>0</td>\n",
       "      <td>0</td>\n",
       "      <td>1</td>\n",
       "      <td>0</td>\n",
       "      <td>0</td>\n",
       "      <td>0</td>\n",
       "      <td>0</td>\n",
       "      <td>0</td>\n",
       "      <td>0.25</td>\n",
       "      <td>0.75</td>\n",
       "      <td>0.165773</td>\n",
       "      <td>0.142857</td>\n",
       "      <td>0.106093</td>\n",
       "      <td>0.000783</td>\n",
       "    </tr>\n",
       "    <tr>\n",
       "      <th>1588</th>\n",
       "      <td>0</td>\n",
       "      <td>0</td>\n",
       "      <td>0</td>\n",
       "      <td>0</td>\n",
       "      <td>1</td>\n",
       "      <td>0</td>\n",
       "      <td>0</td>\n",
       "      <td>0</td>\n",
       "      <td>0</td>\n",
       "      <td>0</td>\n",
       "      <td>0.50</td>\n",
       "      <td>1.00</td>\n",
       "      <td>0.341237</td>\n",
       "      <td>0.142857</td>\n",
       "      <td>0.097859</td>\n",
       "      <td>0.001902</td>\n",
       "    </tr>\n",
       "  </tbody>\n",
       "</table>\n",
       "<p>26835 rows × 16 columns</p>\n",
       "</div>"
      ],
      "text/plain": [
       "       LA_L3  LA_L2  LA_S2  orange_L  orange_M  ventura_M  ventura_L  LA_S  \\\n",
       "25090      0      0      0         0         0          0          0     0   \n",
       "2396       0      0      0         0         0          0          0     0   \n",
       "18215      0      0      0         0         0          0          0     0   \n",
       "4413       0      0      0         0         0          0          0     0   \n",
       "4538       0      0      0         0         0          0          0     0   \n",
       "...      ...    ...    ...       ...       ...        ...        ...   ...   \n",
       "51804      0      0      0         0         0          0          0     0   \n",
       "9094       0      0      0         0         0          0          0     0   \n",
       "7527       0      0      0         0         1          0          0     0   \n",
       "50318      0      0      0         0         1          0          0     0   \n",
       "1588       0      0      0         0         1          0          0     0   \n",
       "\n",
       "       LA_M  LA_L     0     1         2         3         4         5  \n",
       "25090     1     0  0.00  0.50  0.155464  0.000000  0.000000  0.000882  \n",
       "2396      1     0  0.00  0.50  0.095258  0.000000  0.000000  0.000712  \n",
       "18215     1     0  0.00  0.25  0.099381  0.000000  0.000000  0.000981  \n",
       "4413      1     0  0.75  1.00  0.455258  0.000000  0.000000  0.000855  \n",
       "4538      1     0  0.25  0.50  0.291753  0.000000  0.000000  0.000954  \n",
       "...     ...   ...   ...   ...       ...       ...       ...       ...  \n",
       "51804     1     0  0.00  0.50  0.098144  0.000000  0.000000  0.000856  \n",
       "9094      0     1  0.25  0.50  0.145979  0.000000  0.000000  0.001007  \n",
       "7527      0     0  0.25  0.50  0.255464  0.142857  0.094096  0.001128  \n",
       "50318     0     0  0.25  0.75  0.165773  0.142857  0.106093  0.000783  \n",
       "1588      0     0  0.50  1.00  0.341237  0.142857  0.097859  0.001902  \n",
       "\n",
       "[26835 rows x 16 columns]"
      ]
     },
     "execution_count": 99,
     "metadata": {},
     "output_type": "execute_result"
    }
   ],
   "source": [
    "X_train"
   ]
  },
  {
   "cell_type": "code",
   "execution_count": 100,
   "id": "655e3f34",
   "metadata": {},
   "outputs": [
    {
     "data": {
      "text/html": [
       "<div>\n",
       "<style scoped>\n",
       "    .dataframe tbody tr th:only-of-type {\n",
       "        vertical-align: middle;\n",
       "    }\n",
       "\n",
       "    .dataframe tbody tr th {\n",
       "        vertical-align: top;\n",
       "    }\n",
       "\n",
       "    .dataframe thead th {\n",
       "        text-align: right;\n",
       "    }\n",
       "</style>\n",
       "<table border=\"1\" class=\"dataframe\">\n",
       "  <thead>\n",
       "    <tr style=\"text-align: right;\">\n",
       "      <th></th>\n",
       "      <th>LA_L3</th>\n",
       "      <th>LA_L2</th>\n",
       "      <th>LA_S2</th>\n",
       "      <th>orange_L</th>\n",
       "      <th>orange_M</th>\n",
       "      <th>ventura_M</th>\n",
       "      <th>ventura_L</th>\n",
       "      <th>LA_S</th>\n",
       "      <th>LA_M</th>\n",
       "      <th>LA_L</th>\n",
       "      <th>0</th>\n",
       "      <th>1</th>\n",
       "      <th>2</th>\n",
       "      <th>3</th>\n",
       "      <th>4</th>\n",
       "      <th>5</th>\n",
       "    </tr>\n",
       "  </thead>\n",
       "  <tbody>\n",
       "    <tr>\n",
       "      <th>25090</th>\n",
       "      <td>0</td>\n",
       "      <td>0</td>\n",
       "      <td>0</td>\n",
       "      <td>0</td>\n",
       "      <td>0</td>\n",
       "      <td>0</td>\n",
       "      <td>0</td>\n",
       "      <td>0</td>\n",
       "      <td>1</td>\n",
       "      <td>0</td>\n",
       "      <td>0.00</td>\n",
       "      <td>0.50</td>\n",
       "      <td>0.155464</td>\n",
       "      <td>0.000000</td>\n",
       "      <td>0.000000</td>\n",
       "      <td>0.000882</td>\n",
       "    </tr>\n",
       "    <tr>\n",
       "      <th>2396</th>\n",
       "      <td>0</td>\n",
       "      <td>0</td>\n",
       "      <td>0</td>\n",
       "      <td>0</td>\n",
       "      <td>0</td>\n",
       "      <td>0</td>\n",
       "      <td>0</td>\n",
       "      <td>0</td>\n",
       "      <td>1</td>\n",
       "      <td>0</td>\n",
       "      <td>0.00</td>\n",
       "      <td>0.50</td>\n",
       "      <td>0.095258</td>\n",
       "      <td>0.000000</td>\n",
       "      <td>0.000000</td>\n",
       "      <td>0.000712</td>\n",
       "    </tr>\n",
       "    <tr>\n",
       "      <th>18215</th>\n",
       "      <td>0</td>\n",
       "      <td>0</td>\n",
       "      <td>0</td>\n",
       "      <td>0</td>\n",
       "      <td>0</td>\n",
       "      <td>0</td>\n",
       "      <td>0</td>\n",
       "      <td>0</td>\n",
       "      <td>1</td>\n",
       "      <td>0</td>\n",
       "      <td>0.00</td>\n",
       "      <td>0.25</td>\n",
       "      <td>0.099381</td>\n",
       "      <td>0.000000</td>\n",
       "      <td>0.000000</td>\n",
       "      <td>0.000981</td>\n",
       "    </tr>\n",
       "    <tr>\n",
       "      <th>4413</th>\n",
       "      <td>0</td>\n",
       "      <td>0</td>\n",
       "      <td>0</td>\n",
       "      <td>0</td>\n",
       "      <td>0</td>\n",
       "      <td>0</td>\n",
       "      <td>0</td>\n",
       "      <td>0</td>\n",
       "      <td>1</td>\n",
       "      <td>0</td>\n",
       "      <td>0.75</td>\n",
       "      <td>1.00</td>\n",
       "      <td>0.455258</td>\n",
       "      <td>0.000000</td>\n",
       "      <td>0.000000</td>\n",
       "      <td>0.000855</td>\n",
       "    </tr>\n",
       "    <tr>\n",
       "      <th>4538</th>\n",
       "      <td>0</td>\n",
       "      <td>0</td>\n",
       "      <td>0</td>\n",
       "      <td>0</td>\n",
       "      <td>0</td>\n",
       "      <td>0</td>\n",
       "      <td>0</td>\n",
       "      <td>0</td>\n",
       "      <td>1</td>\n",
       "      <td>0</td>\n",
       "      <td>0.25</td>\n",
       "      <td>0.50</td>\n",
       "      <td>0.291753</td>\n",
       "      <td>0.000000</td>\n",
       "      <td>0.000000</td>\n",
       "      <td>0.000954</td>\n",
       "    </tr>\n",
       "    <tr>\n",
       "      <th>...</th>\n",
       "      <td>...</td>\n",
       "      <td>...</td>\n",
       "      <td>...</td>\n",
       "      <td>...</td>\n",
       "      <td>...</td>\n",
       "      <td>...</td>\n",
       "      <td>...</td>\n",
       "      <td>...</td>\n",
       "      <td>...</td>\n",
       "      <td>...</td>\n",
       "      <td>...</td>\n",
       "      <td>...</td>\n",
       "      <td>...</td>\n",
       "      <td>...</td>\n",
       "      <td>...</td>\n",
       "      <td>...</td>\n",
       "    </tr>\n",
       "    <tr>\n",
       "      <th>51804</th>\n",
       "      <td>0</td>\n",
       "      <td>0</td>\n",
       "      <td>0</td>\n",
       "      <td>0</td>\n",
       "      <td>0</td>\n",
       "      <td>0</td>\n",
       "      <td>0</td>\n",
       "      <td>0</td>\n",
       "      <td>1</td>\n",
       "      <td>0</td>\n",
       "      <td>0.00</td>\n",
       "      <td>0.50</td>\n",
       "      <td>0.098144</td>\n",
       "      <td>0.000000</td>\n",
       "      <td>0.000000</td>\n",
       "      <td>0.000856</td>\n",
       "    </tr>\n",
       "    <tr>\n",
       "      <th>9094</th>\n",
       "      <td>0</td>\n",
       "      <td>0</td>\n",
       "      <td>0</td>\n",
       "      <td>0</td>\n",
       "      <td>0</td>\n",
       "      <td>0</td>\n",
       "      <td>0</td>\n",
       "      <td>0</td>\n",
       "      <td>0</td>\n",
       "      <td>1</td>\n",
       "      <td>0.25</td>\n",
       "      <td>0.50</td>\n",
       "      <td>0.145979</td>\n",
       "      <td>0.000000</td>\n",
       "      <td>0.000000</td>\n",
       "      <td>0.001007</td>\n",
       "    </tr>\n",
       "    <tr>\n",
       "      <th>7527</th>\n",
       "      <td>0</td>\n",
       "      <td>0</td>\n",
       "      <td>0</td>\n",
       "      <td>0</td>\n",
       "      <td>1</td>\n",
       "      <td>0</td>\n",
       "      <td>0</td>\n",
       "      <td>0</td>\n",
       "      <td>0</td>\n",
       "      <td>0</td>\n",
       "      <td>0.25</td>\n",
       "      <td>0.50</td>\n",
       "      <td>0.255464</td>\n",
       "      <td>0.142857</td>\n",
       "      <td>0.094096</td>\n",
       "      <td>0.001128</td>\n",
       "    </tr>\n",
       "    <tr>\n",
       "      <th>50318</th>\n",
       "      <td>0</td>\n",
       "      <td>0</td>\n",
       "      <td>0</td>\n",
       "      <td>0</td>\n",
       "      <td>1</td>\n",
       "      <td>0</td>\n",
       "      <td>0</td>\n",
       "      <td>0</td>\n",
       "      <td>0</td>\n",
       "      <td>0</td>\n",
       "      <td>0.25</td>\n",
       "      <td>0.75</td>\n",
       "      <td>0.165773</td>\n",
       "      <td>0.142857</td>\n",
       "      <td>0.106093</td>\n",
       "      <td>0.000783</td>\n",
       "    </tr>\n",
       "    <tr>\n",
       "      <th>1588</th>\n",
       "      <td>0</td>\n",
       "      <td>0</td>\n",
       "      <td>0</td>\n",
       "      <td>0</td>\n",
       "      <td>1</td>\n",
       "      <td>0</td>\n",
       "      <td>0</td>\n",
       "      <td>0</td>\n",
       "      <td>0</td>\n",
       "      <td>0</td>\n",
       "      <td>0.50</td>\n",
       "      <td>1.00</td>\n",
       "      <td>0.341237</td>\n",
       "      <td>0.142857</td>\n",
       "      <td>0.097859</td>\n",
       "      <td>0.001902</td>\n",
       "    </tr>\n",
       "  </tbody>\n",
       "</table>\n",
       "<p>26835 rows × 16 columns</p>\n",
       "</div>"
      ],
      "text/plain": [
       "       LA_L3  LA_L2  LA_S2  orange_L  orange_M  ventura_M  ventura_L  LA_S  \\\n",
       "25090      0      0      0         0         0          0          0     0   \n",
       "2396       0      0      0         0         0          0          0     0   \n",
       "18215      0      0      0         0         0          0          0     0   \n",
       "4413       0      0      0         0         0          0          0     0   \n",
       "4538       0      0      0         0         0          0          0     0   \n",
       "...      ...    ...    ...       ...       ...        ...        ...   ...   \n",
       "51804      0      0      0         0         0          0          0     0   \n",
       "9094       0      0      0         0         0          0          0     0   \n",
       "7527       0      0      0         0         1          0          0     0   \n",
       "50318      0      0      0         0         1          0          0     0   \n",
       "1588       0      0      0         0         1          0          0     0   \n",
       "\n",
       "       LA_M  LA_L     0     1         2         3         4         5  \n",
       "25090     1     0  0.00  0.50  0.155464  0.000000  0.000000  0.000882  \n",
       "2396      1     0  0.00  0.50  0.095258  0.000000  0.000000  0.000712  \n",
       "18215     1     0  0.00  0.25  0.099381  0.000000  0.000000  0.000981  \n",
       "4413      1     0  0.75  1.00  0.455258  0.000000  0.000000  0.000855  \n",
       "4538      1     0  0.25  0.50  0.291753  0.000000  0.000000  0.000954  \n",
       "...     ...   ...   ...   ...       ...       ...       ...       ...  \n",
       "51804     1     0  0.00  0.50  0.098144  0.000000  0.000000  0.000856  \n",
       "9094      0     1  0.25  0.50  0.145979  0.000000  0.000000  0.001007  \n",
       "7527      0     0  0.25  0.50  0.255464  0.142857  0.094096  0.001128  \n",
       "50318     0     0  0.25  0.75  0.165773  0.142857  0.106093  0.000783  \n",
       "1588      0     0  0.50  1.00  0.341237  0.142857  0.097859  0.001902  \n",
       "\n",
       "[26835 rows x 16 columns]"
      ]
     },
     "execution_count": 100,
     "metadata": {},
     "output_type": "execute_result"
    }
   ],
   "source": [
    "X_train"
   ]
  },
  {
   "cell_type": "code",
   "execution_count": 106,
   "id": "4551d552",
   "metadata": {},
   "outputs": [
    {
     "ename": "ValueError",
     "evalue": "Some value(s) of y are out of the valid range for family TweedieDistribution",
     "output_type": "error",
     "traceback": [
      "\u001b[0;31m---------------------------------------------------------------------------\u001b[0m",
      "\u001b[0;31mValueError\u001b[0m                                Traceback (most recent call last)",
      "\u001b[0;32m/var/folders/s4/hmz6ljm533vgpm_bhv59yw0m0000gn/T/ipykernel_53604/3426445538.py\u001b[0m in \u001b[0;36m<module>\u001b[0;34m\u001b[0m\n\u001b[1;32m      2\u001b[0m \u001b[0;31m# creates the model\u001b[0m\u001b[0;34m\u001b[0m\u001b[0;34m\u001b[0m\u001b[0m\n\u001b[1;32m      3\u001b[0m \u001b[0;34m\u001b[0m\u001b[0m\n\u001b[0;32m----> 4\u001b[0;31m \u001b[0mglm\u001b[0m\u001b[0;34m.\u001b[0m\u001b[0mfit\u001b[0m\u001b[0;34m(\u001b[0m\u001b[0mX_train\u001b[0m\u001b[0;34m,\u001b[0m \u001b[0my_train\u001b[0m\u001b[0;34m.\u001b[0m\u001b[0mlog_error\u001b[0m\u001b[0;34m)\u001b[0m\u001b[0;34m\u001b[0m\u001b[0;34m\u001b[0m\u001b[0m\n\u001b[0m\u001b[1;32m      5\u001b[0m \u001b[0;31m# fit the model to scaled training data\u001b[0m\u001b[0;34m\u001b[0m\u001b[0;34m\u001b[0m\u001b[0m\n",
      "\u001b[0;32m/usr/local/anaconda3/lib/python3.9/site-packages/sklearn/linear_model/_glm/glm.py\u001b[0m in \u001b[0;36mfit\u001b[0;34m(self, X, y, sample_weight)\u001b[0m\n\u001b[1;32m    231\u001b[0m \u001b[0;34m\u001b[0m\u001b[0m\n\u001b[1;32m    232\u001b[0m         \u001b[0;32mif\u001b[0m \u001b[0;32mnot\u001b[0m \u001b[0mnp\u001b[0m\u001b[0;34m.\u001b[0m\u001b[0mall\u001b[0m\u001b[0;34m(\u001b[0m\u001b[0mfamily\u001b[0m\u001b[0;34m.\u001b[0m\u001b[0min_y_range\u001b[0m\u001b[0;34m(\u001b[0m\u001b[0my\u001b[0m\u001b[0;34m)\u001b[0m\u001b[0;34m)\u001b[0m\u001b[0;34m:\u001b[0m\u001b[0;34m\u001b[0m\u001b[0;34m\u001b[0m\u001b[0m\n\u001b[0;32m--> 233\u001b[0;31m             raise ValueError(\"Some value(s) of y are out of the valid \"\n\u001b[0m\u001b[1;32m    234\u001b[0m                              \u001b[0;34m\"range for family {0}\"\u001b[0m\u001b[0;34m\u001b[0m\u001b[0;34m\u001b[0m\u001b[0m\n\u001b[1;32m    235\u001b[0m                              .format(family.__class__.__name__))\n",
      "\u001b[0;31mValueError\u001b[0m: Some value(s) of y are out of the valid range for family TweedieDistribution"
     ]
    }
   ],
   "source": [
    "glm = TweedieRegressor(power= 1, alpha=1)\n",
    "# creates the model\n",
    "\n",
    "glm.fit(X_train, y_train.log_error)\n",
    "# fit the model to scaled training data"
   ]
  },
  {
   "cell_type": "code",
   "execution_count": 111,
   "id": "a747ef7b",
   "metadata": {},
   "outputs": [
    {
     "data": {
      "text/html": [
       "<div>\n",
       "<style scoped>\n",
       "    .dataframe tbody tr th:only-of-type {\n",
       "        vertical-align: middle;\n",
       "    }\n",
       "\n",
       "    .dataframe tbody tr th {\n",
       "        vertical-align: top;\n",
       "    }\n",
       "\n",
       "    .dataframe thead th {\n",
       "        text-align: right;\n",
       "    }\n",
       "</style>\n",
       "<table border=\"1\" class=\"dataframe\">\n",
       "  <thead>\n",
       "    <tr style=\"text-align: right;\">\n",
       "      <th></th>\n",
       "      <th>log_error</th>\n",
       "      <th>pred_mean</th>\n",
       "      <th>value_predict_lm</th>\n",
       "      <th>pred_lars</th>\n",
       "    </tr>\n",
       "  </thead>\n",
       "  <tbody>\n",
       "    <tr>\n",
       "      <th>25090</th>\n",
       "      <td>-0.018411</td>\n",
       "      <td>0.012328</td>\n",
       "      <td>0.010999</td>\n",
       "      <td>0.012328</td>\n",
       "    </tr>\n",
       "    <tr>\n",
       "      <th>2396</th>\n",
       "      <td>0.106983</td>\n",
       "      <td>0.012328</td>\n",
       "      <td>0.009374</td>\n",
       "      <td>0.012328</td>\n",
       "    </tr>\n",
       "    <tr>\n",
       "      <th>18215</th>\n",
       "      <td>0.343834</td>\n",
       "      <td>0.012328</td>\n",
       "      <td>0.008139</td>\n",
       "      <td>0.012328</td>\n",
       "    </tr>\n",
       "    <tr>\n",
       "      <th>4413</th>\n",
       "      <td>-0.036174</td>\n",
       "      <td>0.012328</td>\n",
       "      <td>0.023975</td>\n",
       "      <td>0.012328</td>\n",
       "    </tr>\n",
       "    <tr>\n",
       "      <th>4538</th>\n",
       "      <td>0.019838</td>\n",
       "      <td>0.012328</td>\n",
       "      <td>0.015405</td>\n",
       "      <td>0.012328</td>\n",
       "    </tr>\n",
       "    <tr>\n",
       "      <th>...</th>\n",
       "      <td>...</td>\n",
       "      <td>...</td>\n",
       "      <td>...</td>\n",
       "      <td>...</td>\n",
       "    </tr>\n",
       "    <tr>\n",
       "      <th>51804</th>\n",
       "      <td>0.028120</td>\n",
       "      <td>0.012328</td>\n",
       "      <td>0.009454</td>\n",
       "      <td>0.012328</td>\n",
       "    </tr>\n",
       "    <tr>\n",
       "      <th>9094</th>\n",
       "      <td>0.020197</td>\n",
       "      <td>0.012328</td>\n",
       "      <td>0.000576</td>\n",
       "      <td>0.012328</td>\n",
       "    </tr>\n",
       "    <tr>\n",
       "      <th>7527</th>\n",
       "      <td>0.011196</td>\n",
       "      <td>0.012328</td>\n",
       "      <td>0.014147</td>\n",
       "      <td>0.012328</td>\n",
       "    </tr>\n",
       "    <tr>\n",
       "      <th>50318</th>\n",
       "      <td>-0.057559</td>\n",
       "      <td>0.012328</td>\n",
       "      <td>0.012132</td>\n",
       "      <td>0.012328</td>\n",
       "    </tr>\n",
       "    <tr>\n",
       "      <th>1588</th>\n",
       "      <td>-0.062614</td>\n",
       "      <td>0.012328</td>\n",
       "      <td>0.019601</td>\n",
       "      <td>0.012328</td>\n",
       "    </tr>\n",
       "  </tbody>\n",
       "</table>\n",
       "<p>26835 rows × 4 columns</p>\n",
       "</div>"
      ],
      "text/plain": [
       "       log_error  pred_mean  value_predict_lm  pred_lars\n",
       "25090  -0.018411   0.012328          0.010999   0.012328\n",
       "2396    0.106983   0.012328          0.009374   0.012328\n",
       "18215   0.343834   0.012328          0.008139   0.012328\n",
       "4413   -0.036174   0.012328          0.023975   0.012328\n",
       "4538    0.019838   0.012328          0.015405   0.012328\n",
       "...          ...        ...               ...        ...\n",
       "51804   0.028120   0.012328          0.009454   0.012328\n",
       "9094    0.020197   0.012328          0.000576   0.012328\n",
       "7527    0.011196   0.012328          0.014147   0.012328\n",
       "50318  -0.057559   0.012328          0.012132   0.012328\n",
       "1588   -0.062614   0.012328          0.019601   0.012328\n",
       "\n",
       "[26835 rows x 4 columns]"
      ]
     },
     "execution_count": 111,
     "metadata": {},
     "output_type": "execute_result"
    }
   ],
   "source": [
    "y_train"
   ]
  },
  {
   "cell_type": "code",
   "execution_count": 112,
   "id": "bb3e28c0",
   "metadata": {},
   "outputs": [],
   "source": [
    "glm = TweedieRegressor(power= 1, alpha=5)"
   ]
  },
  {
   "cell_type": "code",
   "execution_count": 114,
   "id": "f01b4b2a",
   "metadata": {},
   "outputs": [
    {
     "data": {
      "text/html": [
       "<div>\n",
       "<style scoped>\n",
       "    .dataframe tbody tr th:only-of-type {\n",
       "        vertical-align: middle;\n",
       "    }\n",
       "\n",
       "    .dataframe tbody tr th {\n",
       "        vertical-align: top;\n",
       "    }\n",
       "\n",
       "    .dataframe thead th {\n",
       "        text-align: right;\n",
       "    }\n",
       "</style>\n",
       "<table border=\"1\" class=\"dataframe\">\n",
       "  <thead>\n",
       "    <tr style=\"text-align: right;\">\n",
       "      <th></th>\n",
       "      <th>LA_L3</th>\n",
       "      <th>LA_L2</th>\n",
       "      <th>LA_S2</th>\n",
       "      <th>orange_L</th>\n",
       "      <th>orange_M</th>\n",
       "      <th>ventura_M</th>\n",
       "      <th>ventura_L</th>\n",
       "      <th>LA_S</th>\n",
       "      <th>LA_M</th>\n",
       "      <th>LA_L</th>\n",
       "      <th>0</th>\n",
       "      <th>1</th>\n",
       "      <th>2</th>\n",
       "      <th>3</th>\n",
       "      <th>4</th>\n",
       "      <th>5</th>\n",
       "    </tr>\n",
       "  </thead>\n",
       "  <tbody>\n",
       "    <tr>\n",
       "      <th>25090</th>\n",
       "      <td>0</td>\n",
       "      <td>0</td>\n",
       "      <td>0</td>\n",
       "      <td>0</td>\n",
       "      <td>0</td>\n",
       "      <td>0</td>\n",
       "      <td>0</td>\n",
       "      <td>0</td>\n",
       "      <td>1</td>\n",
       "      <td>0</td>\n",
       "      <td>0.00</td>\n",
       "      <td>0.50</td>\n",
       "      <td>0.155464</td>\n",
       "      <td>0.000000</td>\n",
       "      <td>0.000000</td>\n",
       "      <td>0.000882</td>\n",
       "    </tr>\n",
       "    <tr>\n",
       "      <th>2396</th>\n",
       "      <td>0</td>\n",
       "      <td>0</td>\n",
       "      <td>0</td>\n",
       "      <td>0</td>\n",
       "      <td>0</td>\n",
       "      <td>0</td>\n",
       "      <td>0</td>\n",
       "      <td>0</td>\n",
       "      <td>1</td>\n",
       "      <td>0</td>\n",
       "      <td>0.00</td>\n",
       "      <td>0.50</td>\n",
       "      <td>0.095258</td>\n",
       "      <td>0.000000</td>\n",
       "      <td>0.000000</td>\n",
       "      <td>0.000712</td>\n",
       "    </tr>\n",
       "    <tr>\n",
       "      <th>18215</th>\n",
       "      <td>0</td>\n",
       "      <td>0</td>\n",
       "      <td>0</td>\n",
       "      <td>0</td>\n",
       "      <td>0</td>\n",
       "      <td>0</td>\n",
       "      <td>0</td>\n",
       "      <td>0</td>\n",
       "      <td>1</td>\n",
       "      <td>0</td>\n",
       "      <td>0.00</td>\n",
       "      <td>0.25</td>\n",
       "      <td>0.099381</td>\n",
       "      <td>0.000000</td>\n",
       "      <td>0.000000</td>\n",
       "      <td>0.000981</td>\n",
       "    </tr>\n",
       "    <tr>\n",
       "      <th>4413</th>\n",
       "      <td>0</td>\n",
       "      <td>0</td>\n",
       "      <td>0</td>\n",
       "      <td>0</td>\n",
       "      <td>0</td>\n",
       "      <td>0</td>\n",
       "      <td>0</td>\n",
       "      <td>0</td>\n",
       "      <td>1</td>\n",
       "      <td>0</td>\n",
       "      <td>0.75</td>\n",
       "      <td>1.00</td>\n",
       "      <td>0.455258</td>\n",
       "      <td>0.000000</td>\n",
       "      <td>0.000000</td>\n",
       "      <td>0.000855</td>\n",
       "    </tr>\n",
       "    <tr>\n",
       "      <th>4538</th>\n",
       "      <td>0</td>\n",
       "      <td>0</td>\n",
       "      <td>0</td>\n",
       "      <td>0</td>\n",
       "      <td>0</td>\n",
       "      <td>0</td>\n",
       "      <td>0</td>\n",
       "      <td>0</td>\n",
       "      <td>1</td>\n",
       "      <td>0</td>\n",
       "      <td>0.25</td>\n",
       "      <td>0.50</td>\n",
       "      <td>0.291753</td>\n",
       "      <td>0.000000</td>\n",
       "      <td>0.000000</td>\n",
       "      <td>0.000954</td>\n",
       "    </tr>\n",
       "    <tr>\n",
       "      <th>...</th>\n",
       "      <td>...</td>\n",
       "      <td>...</td>\n",
       "      <td>...</td>\n",
       "      <td>...</td>\n",
       "      <td>...</td>\n",
       "      <td>...</td>\n",
       "      <td>...</td>\n",
       "      <td>...</td>\n",
       "      <td>...</td>\n",
       "      <td>...</td>\n",
       "      <td>...</td>\n",
       "      <td>...</td>\n",
       "      <td>...</td>\n",
       "      <td>...</td>\n",
       "      <td>...</td>\n",
       "      <td>...</td>\n",
       "    </tr>\n",
       "    <tr>\n",
       "      <th>51804</th>\n",
       "      <td>0</td>\n",
       "      <td>0</td>\n",
       "      <td>0</td>\n",
       "      <td>0</td>\n",
       "      <td>0</td>\n",
       "      <td>0</td>\n",
       "      <td>0</td>\n",
       "      <td>0</td>\n",
       "      <td>1</td>\n",
       "      <td>0</td>\n",
       "      <td>0.00</td>\n",
       "      <td>0.50</td>\n",
       "      <td>0.098144</td>\n",
       "      <td>0.000000</td>\n",
       "      <td>0.000000</td>\n",
       "      <td>0.000856</td>\n",
       "    </tr>\n",
       "    <tr>\n",
       "      <th>9094</th>\n",
       "      <td>0</td>\n",
       "      <td>0</td>\n",
       "      <td>0</td>\n",
       "      <td>0</td>\n",
       "      <td>0</td>\n",
       "      <td>0</td>\n",
       "      <td>0</td>\n",
       "      <td>0</td>\n",
       "      <td>0</td>\n",
       "      <td>1</td>\n",
       "      <td>0.25</td>\n",
       "      <td>0.50</td>\n",
       "      <td>0.145979</td>\n",
       "      <td>0.000000</td>\n",
       "      <td>0.000000</td>\n",
       "      <td>0.001007</td>\n",
       "    </tr>\n",
       "    <tr>\n",
       "      <th>7527</th>\n",
       "      <td>0</td>\n",
       "      <td>0</td>\n",
       "      <td>0</td>\n",
       "      <td>0</td>\n",
       "      <td>1</td>\n",
       "      <td>0</td>\n",
       "      <td>0</td>\n",
       "      <td>0</td>\n",
       "      <td>0</td>\n",
       "      <td>0</td>\n",
       "      <td>0.25</td>\n",
       "      <td>0.50</td>\n",
       "      <td>0.255464</td>\n",
       "      <td>0.142857</td>\n",
       "      <td>0.094096</td>\n",
       "      <td>0.001128</td>\n",
       "    </tr>\n",
       "    <tr>\n",
       "      <th>50318</th>\n",
       "      <td>0</td>\n",
       "      <td>0</td>\n",
       "      <td>0</td>\n",
       "      <td>0</td>\n",
       "      <td>1</td>\n",
       "      <td>0</td>\n",
       "      <td>0</td>\n",
       "      <td>0</td>\n",
       "      <td>0</td>\n",
       "      <td>0</td>\n",
       "      <td>0.25</td>\n",
       "      <td>0.75</td>\n",
       "      <td>0.165773</td>\n",
       "      <td>0.142857</td>\n",
       "      <td>0.106093</td>\n",
       "      <td>0.000783</td>\n",
       "    </tr>\n",
       "    <tr>\n",
       "      <th>1588</th>\n",
       "      <td>0</td>\n",
       "      <td>0</td>\n",
       "      <td>0</td>\n",
       "      <td>0</td>\n",
       "      <td>1</td>\n",
       "      <td>0</td>\n",
       "      <td>0</td>\n",
       "      <td>0</td>\n",
       "      <td>0</td>\n",
       "      <td>0</td>\n",
       "      <td>0.50</td>\n",
       "      <td>1.00</td>\n",
       "      <td>0.341237</td>\n",
       "      <td>0.142857</td>\n",
       "      <td>0.097859</td>\n",
       "      <td>0.001902</td>\n",
       "    </tr>\n",
       "  </tbody>\n",
       "</table>\n",
       "<p>26835 rows × 16 columns</p>\n",
       "</div>"
      ],
      "text/plain": [
       "       LA_L3  LA_L2  LA_S2  orange_L  orange_M  ventura_M  ventura_L  LA_S  \\\n",
       "25090      0      0      0         0         0          0          0     0   \n",
       "2396       0      0      0         0         0          0          0     0   \n",
       "18215      0      0      0         0         0          0          0     0   \n",
       "4413       0      0      0         0         0          0          0     0   \n",
       "4538       0      0      0         0         0          0          0     0   \n",
       "...      ...    ...    ...       ...       ...        ...        ...   ...   \n",
       "51804      0      0      0         0         0          0          0     0   \n",
       "9094       0      0      0         0         0          0          0     0   \n",
       "7527       0      0      0         0         1          0          0     0   \n",
       "50318      0      0      0         0         1          0          0     0   \n",
       "1588       0      0      0         0         1          0          0     0   \n",
       "\n",
       "       LA_M  LA_L     0     1         2         3         4         5  \n",
       "25090     1     0  0.00  0.50  0.155464  0.000000  0.000000  0.000882  \n",
       "2396      1     0  0.00  0.50  0.095258  0.000000  0.000000  0.000712  \n",
       "18215     1     0  0.00  0.25  0.099381  0.000000  0.000000  0.000981  \n",
       "4413      1     0  0.75  1.00  0.455258  0.000000  0.000000  0.000855  \n",
       "4538      1     0  0.25  0.50  0.291753  0.000000  0.000000  0.000954  \n",
       "...     ...   ...   ...   ...       ...       ...       ...       ...  \n",
       "51804     1     0  0.00  0.50  0.098144  0.000000  0.000000  0.000856  \n",
       "9094      0     1  0.25  0.50  0.145979  0.000000  0.000000  0.001007  \n",
       "7527      0     0  0.25  0.50  0.255464  0.142857  0.094096  0.001128  \n",
       "50318     0     0  0.25  0.75  0.165773  0.142857  0.106093  0.000783  \n",
       "1588      0     0  0.50  1.00  0.341237  0.142857  0.097859  0.001902  \n",
       "\n",
       "[26835 rows x 16 columns]"
      ]
     },
     "execution_count": 114,
     "metadata": {},
     "output_type": "execute_result"
    }
   ],
   "source": [
    "X_train"
   ]
  },
  {
   "cell_type": "code",
   "execution_count": 113,
   "id": "c836a78b",
   "metadata": {},
   "outputs": [
    {
     "ename": "ValueError",
     "evalue": "Some value(s) of y are out of the valid range for family TweedieDistribution",
     "output_type": "error",
     "traceback": [
      "\u001b[0;31m---------------------------------------------------------------------------\u001b[0m",
      "\u001b[0;31mValueError\u001b[0m                                Traceback (most recent call last)",
      "\u001b[0;32m/var/folders/s4/hmz6ljm533vgpm_bhv59yw0m0000gn/T/ipykernel_53604/1301696812.py\u001b[0m in \u001b[0;36m<module>\u001b[0;34m\u001b[0m\n\u001b[0;32m----> 1\u001b[0;31m \u001b[0mglm\u001b[0m\u001b[0;34m.\u001b[0m\u001b[0mfit\u001b[0m\u001b[0;34m(\u001b[0m\u001b[0mX_train\u001b[0m\u001b[0;34m,\u001b[0m \u001b[0my_train\u001b[0m\u001b[0;34m.\u001b[0m\u001b[0mlog_error\u001b[0m\u001b[0;34m)\u001b[0m\u001b[0;34m\u001b[0m\u001b[0;34m\u001b[0m\u001b[0m\n\u001b[0m",
      "\u001b[0;32m/usr/local/anaconda3/lib/python3.9/site-packages/sklearn/linear_model/_glm/glm.py\u001b[0m in \u001b[0;36mfit\u001b[0;34m(self, X, y, sample_weight)\u001b[0m\n\u001b[1;32m    231\u001b[0m \u001b[0;34m\u001b[0m\u001b[0m\n\u001b[1;32m    232\u001b[0m         \u001b[0;32mif\u001b[0m \u001b[0;32mnot\u001b[0m \u001b[0mnp\u001b[0m\u001b[0;34m.\u001b[0m\u001b[0mall\u001b[0m\u001b[0;34m(\u001b[0m\u001b[0mfamily\u001b[0m\u001b[0;34m.\u001b[0m\u001b[0min_y_range\u001b[0m\u001b[0;34m(\u001b[0m\u001b[0my\u001b[0m\u001b[0;34m)\u001b[0m\u001b[0;34m)\u001b[0m\u001b[0;34m:\u001b[0m\u001b[0;34m\u001b[0m\u001b[0;34m\u001b[0m\u001b[0m\n\u001b[0;32m--> 233\u001b[0;31m             raise ValueError(\"Some value(s) of y are out of the valid \"\n\u001b[0m\u001b[1;32m    234\u001b[0m                              \u001b[0;34m\"range for family {0}\"\u001b[0m\u001b[0;34m\u001b[0m\u001b[0;34m\u001b[0m\u001b[0m\n\u001b[1;32m    235\u001b[0m                              .format(family.__class__.__name__))\n",
      "\u001b[0;31mValueError\u001b[0m: Some value(s) of y are out of the valid range for family TweedieDistribution"
     ]
    }
   ],
   "source": [
    "glm.fit(X_train, y_train.log_error)"
   ]
  },
  {
   "cell_type": "code",
   "execution_count": 110,
   "id": "a04af59f",
   "metadata": {},
   "outputs": [
    {
     "ename": "ValueError",
     "evalue": "Some value(s) of y are out of the valid range for family TweedieDistribution",
     "output_type": "error",
     "traceback": [
      "\u001b[0;31m---------------------------------------------------------------------------\u001b[0m",
      "\u001b[0;31mValueError\u001b[0m                                Traceback (most recent call last)",
      "\u001b[0;32m/var/folders/s4/hmz6ljm533vgpm_bhv59yw0m0000gn/T/ipykernel_53604/3591818808.py\u001b[0m in \u001b[0;36m<module>\u001b[0;34m\u001b[0m\n\u001b[1;32m      2\u001b[0m \u001b[0;31m# creates the model\u001b[0m\u001b[0;34m\u001b[0m\u001b[0;34m\u001b[0m\u001b[0m\n\u001b[1;32m      3\u001b[0m \u001b[0;34m\u001b[0m\u001b[0m\n\u001b[0;32m----> 4\u001b[0;31m \u001b[0mglm\u001b[0m\u001b[0;34m.\u001b[0m\u001b[0mfit\u001b[0m\u001b[0;34m(\u001b[0m\u001b[0mX_train\u001b[0m\u001b[0;34m,\u001b[0m \u001b[0my_train\u001b[0m\u001b[0;34m.\u001b[0m\u001b[0mlog_error\u001b[0m\u001b[0;34m)\u001b[0m\u001b[0;34m\u001b[0m\u001b[0;34m\u001b[0m\u001b[0m\n\u001b[0m\u001b[1;32m      5\u001b[0m \u001b[0;31m# fit the model to scaled training data\u001b[0m\u001b[0;34m\u001b[0m\u001b[0;34m\u001b[0m\u001b[0m\n\u001b[1;32m      6\u001b[0m \u001b[0;34m\u001b[0m\u001b[0m\n",
      "\u001b[0;32m/usr/local/anaconda3/lib/python3.9/site-packages/sklearn/linear_model/_glm/glm.py\u001b[0m in \u001b[0;36mfit\u001b[0;34m(self, X, y, sample_weight)\u001b[0m\n\u001b[1;32m    231\u001b[0m \u001b[0;34m\u001b[0m\u001b[0m\n\u001b[1;32m    232\u001b[0m         \u001b[0;32mif\u001b[0m \u001b[0;32mnot\u001b[0m \u001b[0mnp\u001b[0m\u001b[0;34m.\u001b[0m\u001b[0mall\u001b[0m\u001b[0;34m(\u001b[0m\u001b[0mfamily\u001b[0m\u001b[0;34m.\u001b[0m\u001b[0min_y_range\u001b[0m\u001b[0;34m(\u001b[0m\u001b[0my\u001b[0m\u001b[0;34m)\u001b[0m\u001b[0;34m)\u001b[0m\u001b[0;34m:\u001b[0m\u001b[0;34m\u001b[0m\u001b[0;34m\u001b[0m\u001b[0m\n\u001b[0;32m--> 233\u001b[0;31m             raise ValueError(\"Some value(s) of y are out of the valid \"\n\u001b[0m\u001b[1;32m    234\u001b[0m                              \u001b[0;34m\"range for family {0}\"\u001b[0m\u001b[0;34m\u001b[0m\u001b[0;34m\u001b[0m\u001b[0m\n\u001b[1;32m    235\u001b[0m                              .format(family.__class__.__name__))\n",
      "\u001b[0;31mValueError\u001b[0m: Some value(s) of y are out of the valid range for family TweedieDistribution"
     ]
    }
   ],
   "source": [
    "\n",
    "# creates the model\n",
    "\n",
    "\n",
    "# fit the model to scaled training data\n",
    "\n",
    "y_train['pred_value_glm'] = glm.predict(X_train)\n",
    "# computes model predictions\n",
    "rmse_train = mean_squared_error(y_train.log_error, y_train.pred_value_glm)**(1/2)\n",
    "# computes model rmse\n",
    "\n",
    "#y_validate['pred_value_glm'] = glm.predict(X_validate)\n",
    "#rmse_validate = mean_squared_error(y_validate.tax_value, y_validate.pred_value_glm)**(1/2)\n",
    "# comutes predictions and rmse with validate data\n",
    "\n",
    "rmse_train\n",
    "# print(\"---------------------------------------\")\n",
    "# print(\"RMSE for GLM \\nValidation/Out-of-Sample: \", round(rmse_validate, 2))"
   ]
  },
  {
   "cell_type": "code",
   "execution_count": 115,
   "id": "bfbe49b8",
   "metadata": {},
   "outputs": [],
   "source": [
    "pf = PolynomialFeatures(degree=3)\n",
    "# creates polynomial features to use in model with degree of 3\n",
    "\n",
    "X_train_degree3 = pf.fit_transform(X_train)\n",
    "# fit and transform X_train_scaled\n",
    "\n",
    "# X_validate_degree3 = pf.transform(X_validate)\n",
    "# X_test_degree3 = pf.transform(X_test)\n",
    "# transform X_validate_scaled & X_test_scaled"
   ]
  },
  {
   "cell_type": "code",
   "execution_count": 117,
   "id": "7303a3f3",
   "metadata": {},
   "outputs": [
    {
     "data": {
      "text/markdown": [
       "**Polynomial Regression Model Performance**"
      ],
      "text/plain": [
       "<IPython.core.display.Markdown object>"
      ]
     },
     "metadata": {},
     "output_type": "display_data"
    },
    {
     "name": "stdout",
     "output_type": "stream",
     "text": [
      "---------------------------------------\n",
      "RMSE for Polynomial Model \n",
      "Training/In-Sample:  0.08267\n"
     ]
    },
    {
     "data": {
      "text/plain": [
       "(None,)"
      ]
     },
     "execution_count": 117,
     "metadata": {},
     "output_type": "execute_result"
    }
   ],
   "source": [
    "lm3 = LinearRegression(normalize=True)\n",
    "# creates linear regression model prior to fitting with new polynomial features\n",
    "\n",
    "lm3.fit(X_train_degree3, y_train.log_error)\n",
    "# fit and transform polynomial features and target\n",
    "\n",
    "y_train['value_pred_lm3'] = lm3.predict(X_train_degree3)\n",
    "# predictions calculated on train\n",
    "\n",
    "rmse_train = mean_squared_error(y_train.log_error, y_train.value_pred_lm3)**(1/2)\n",
    "# computes rmse with train\n",
    "\n",
    "# y_validate['value_pred_lm3'] = lm3.predict(X_validate_degree3)\n",
    "# rmse_validate = mean_squared_error(y_validate.tax_value, y_validate.value_pred_lm3)**(1/2)\n",
    "# # computes predictions/rmse with validate\n",
    "\n",
    "printmd(\"**Polynomial Regression Model Performance**\")\n",
    "print(\"---------------------------------------\")\n",
    "print(\"RMSE for Polynomial Model \\nTraining/In-Sample: \", round(rmse_train, 5)),"
   ]
  },
  {
   "cell_type": "code",
   "execution_count": null,
   "id": "81515ad0",
   "metadata": {},
   "outputs": [],
   "source": []
  },
  {
   "cell_type": "code",
   "execution_count": null,
   "id": "86a96937",
   "metadata": {},
   "outputs": [],
   "source": []
  },
  {
   "cell_type": "code",
   "execution_count": null,
   "id": "c87eb1ec",
   "metadata": {},
   "outputs": [],
   "source": []
  },
  {
   "cell_type": "code",
   "execution_count": 59,
   "id": "c4cbb371",
   "metadata": {},
   "outputs": [],
   "source": [
    "dums = pd.get_dummies(train['propertycountylandusecode'])"
   ]
  },
  {
   "cell_type": "code",
   "execution_count": 61,
   "id": "9db0d576",
   "metadata": {},
   "outputs": [],
   "source": [
    "new = train[['bedrooms', 'bathrooms', 'garage_size', 'has_pool', 'lot_size', 'year_built', 'square_feet']]"
   ]
  },
  {
   "cell_type": "code",
   "execution_count": 62,
   "id": "dba4783d",
   "metadata": {},
   "outputs": [],
   "source": [
    "new = pd.concat([new, dums], axis=1)"
   ]
  },
  {
   "cell_type": "code",
   "execution_count": 63,
   "id": "88590dff",
   "metadata": {},
   "outputs": [
    {
     "data": {
      "text/plain": [
       "<AxesSubplot:title={'center':'Feature Correlation'}>"
      ]
     },
     "execution_count": 63,
     "metadata": {},
     "output_type": "execute_result"
    },
    {
     "data": {
      "image/png": "[encoded data removed]",
      "text/plain": [
       "<Figure size 720x288 with 1 Axes>"
      ]
     },
     "metadata": {
      "needs_background": "light"
     },
     "output_type": "display_data"
    }
   ],
   "source": [
    "plt.figure(figsize=(10, 4))\n",
    "# sets the size of the graph\n",
    "plt.title(\"Feature Correlation\")\n",
    "corr_chart = (new).corrwith(y_train.log_error).sort_values().plot.barh()\n",
    "corr_chart"
   ]
  },
  {
   "cell_type": "code",
   "execution_count": null,
   "id": "c250fb3e",
   "metadata": {},
   "outputs": [],
   "source": []
  }
 ],
 "metadata": {
  "kernelspec": {
   "display_name": "Python 3 (ipykernel)",
   "language": "python",
   "name": "python3"
  },
  "language_info": {
   "codemirror_mode": {
    "name": "ipython",
    "version": 3
   },
   "file_extension": ".py",
   "mimetype": "text/x-python",
   "name": "python",
   "nbconvert_exporter": "python",
   "pygments_lexer": "ipython3",
   "version": "3.9.7"
  }
 },
 "nbformat": 4,
 "nbformat_minor": 5
}
