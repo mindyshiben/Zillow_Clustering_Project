{
 "cells": [
  {
   "cell_type": "code",
   "execution_count": 1,
   "id": "007e5dd7",
   "metadata": {},
   "outputs": [],
   "source": [
    "import warnings\n",
    "warnings.filterwarnings(\"ignore\")\n",
    "\n",
    "import pandas as pd\n",
    "import matplotlib.pyplot as plt\n",
    "import seaborn as sns\n",
    "import numpy as np\n",
    "import env\n",
    "import acquire\n",
    "import prepare \n",
    "\n",
    "from tabulate import tabulate\n",
    "from IPython.display import Markdown, display\n",
    "\n",
    "from math import sqrt\n",
    "from scipy import stats\n",
    "\n",
    "import sklearn.preprocessing\n",
    "from sklearn.model_selection import train_test_split\n",
    "from scipy.stats import pearsonr, spearmanr\n",
    "\n",
    "from sklearn.metrics import mean_squared_error\n",
    "from sklearn.linear_model import LinearRegression, LassoLars, TweedieRegressor\n",
    "from sklearn.preprocessing import PolynomialFeatures\n",
    "from sklearn.impute import SimpleImputer\n",
    "\n",
    "np.random.seed(123)"
   ]
  },
  {
   "cell_type": "code",
   "execution_count": 2,
   "id": "13fe2306",
   "metadata": {},
   "outputs": [],
   "source": [
    "df = acquire.get_zillow_data()\n",
    "df = prepare.remove_outliers(df)\n",
    "df = prepare.handle_nulls(df)\n",
    "df = prepare.rename_columns(df)\n",
    "df = prepare.prepare_locs(df)"
   ]
  },
  {
   "cell_type": "code",
   "execution_count": 3,
   "id": "4f82496a",
   "metadata": {},
   "outputs": [],
   "source": [
    "#df = df.where(df.propertycountylandusecode == '0101')"
   ]
  },
  {
   "cell_type": "code",
   "execution_count": 4,
   "id": "3894fc48",
   "metadata": {},
   "outputs": [],
   "source": [
    "#df = df.dropna()"
   ]
  },
  {
   "cell_type": "code",
   "execution_count": 5,
   "id": "467c3e42",
   "metadata": {},
   "outputs": [
    {
     "name": "stdout",
     "output_type": "stream",
     "text": [
      "<class 'pandas.core.frame.DataFrame'>\n",
      "Int64Index: 47936 entries, 0 to 52440\n",
      "Data columns (total 19 columns):\n",
      " #   Column                     Non-Null Count  Dtype         \n",
      "---  ------                     --------------  -----         \n",
      " 0   parcelid                   47936 non-null  int64         \n",
      " 1   bathrooms                  47936 non-null  float64       \n",
      " 2   bedrooms                   47936 non-null  float64       \n",
      " 3   square_feet                47936 non-null  int64         \n",
      " 4   fips                       47936 non-null  int64         \n",
      " 5   garages                    47936 non-null  int64         \n",
      " 6   garage_size                47936 non-null  int64         \n",
      " 7   lot_size                   47936 non-null  int64         \n",
      " 8   has_pool                   47936 non-null  bool          \n",
      " 9   propertycountylandusecode  47936 non-null  object        \n",
      " 10  propertylandusetypeid      47936 non-null  float64       \n",
      " 11  year_built                 47936 non-null  int64         \n",
      " 12  taxvaluedollarcnt          47936 non-null  float64       \n",
      " 13  landtaxvaluedollarcnt      47936 non-null  float64       \n",
      " 14  log_error                  47936 non-null  float64       \n",
      " 15  transaction_date           47936 non-null  datetime64[ns]\n",
      " 16  county                     47936 non-null  object        \n",
      " 17  latitude                   47936 non-null  float64       \n",
      " 18  longitude                  47936 non-null  float64       \n",
      "dtypes: bool(1), datetime64[ns](1), float64(8), int64(7), object(2)\n",
      "memory usage: 7.0+ MB\n"
     ]
    }
   ],
   "source": [
    "df.info()"
   ]
  },
  {
   "cell_type": "code",
   "execution_count": 6,
   "id": "4f00af93",
   "metadata": {},
   "outputs": [
    {
     "name": "stdout",
     "output_type": "stream",
     "text": [
      "\n"
     ]
    },
    {
     "data": {
      "text/markdown": [
       "**Number of Train Records:** 26,843"
      ],
      "text/plain": [
       "<IPython.core.display.Markdown object>"
      ]
     },
     "metadata": {},
     "output_type": "display_data"
    },
    {
     "data": {
      "text/markdown": [
       "**Number of Validate Records:** 11,505"
      ],
      "text/plain": [
       "<IPython.core.display.Markdown object>"
      ]
     },
     "metadata": {},
     "output_type": "display_data"
    },
    {
     "data": {
      "text/markdown": [
       "**Number of Test Records:** 9,588"
      ],
      "text/plain": [
       "<IPython.core.display.Markdown object>"
      ]
     },
     "metadata": {},
     "output_type": "display_data"
    }
   ],
   "source": [
    "train, test = train_test_split(df, test_size=.2, random_state=123)\n",
    "train, validate = train_test_split(train, test_size=.3, random_state=123)\n",
    "# Splits data into 3 subsets: train, validate, test. Random state specifying that data is split\n",
    "# with the exact same records when the code is re-run (useful for exploration and modeling, yet\n",
    "# I suggest dropping this when employing the model)\n",
    "\n",
    "def printmd(string): # function to format text style\n",
    "    display(Markdown(string))\n",
    "print()\n",
    "printmd('**Number of Train Records:** {:,}'\n",
    "     .format(len(train)))\n",
    "printmd('**Number of Validate Records:** {:,}'\n",
    "     .format(len(validate)))\n",
    "printmd('**Number of Test Records:** {:,}'\n",
    "     .format(len(test)))\n",
    "# returns the amount of records in each subset after splitting"
   ]
  },
  {
   "cell_type": "code",
   "execution_count": 7,
   "id": "da256743",
   "metadata": {},
   "outputs": [
    {
     "data": {
      "text/plain": [
       "0100    13648\n",
       "122      6863\n",
       "0101     3157\n",
       "1111     1851\n",
       "1110      506\n",
       "1         505\n",
       "0104      202\n",
       "010M       30\n",
       "0103       27\n",
       "010G       24\n",
       "0108       22\n",
       "0109        5\n",
       "0105        1\n",
       "1112        1\n",
       "0131        1\n",
       "Name: propertycountylandusecode, dtype: int64"
      ]
     },
     "execution_count": 7,
     "metadata": {},
     "output_type": "execute_result"
    }
   ],
   "source": [
    "train.propertycountylandusecode.value_counts()"
   ]
  },
  {
   "cell_type": "code",
   "execution_count": 8,
   "id": "492d0f9d",
   "metadata": {},
   "outputs": [],
   "source": [
    "bins = [-.6, -.0475, -.0244, -.0106, 0, .0125, .0283, .0586, .6]\n",
    "labels = ['N4','N3','N2','N1', 'P1', 'P2', 'P3', 'P4']\n",
    "train['log_error_bin'] = pd.cut(train['log_error'], bins=bins, labels=labels)\n",
    "validate['log_error_bin'] = pd.cut(validate['log_error'], bins=bins, labels=labels)\n",
    "test['log_error_bin'] = pd.cut(test['log_error'], bins=bins, labels=labels)"
   ]
  },
  {
   "cell_type": "code",
   "execution_count": 9,
   "id": "0244da73",
   "metadata": {},
   "outputs": [],
   "source": [
    "bins = [0, 1214, 1497, 1850, 2430, 5600]\n",
    "labels = ['XS','S','M','L', 'XL']\n",
    "train['square_feet_bin'] = pd.cut(train['square_feet'], bins=bins, labels=labels)\n",
    "validate['square_feet_bin'] = pd.cut(validate['square_feet'], bins=bins, labels=labels)\n",
    "test['square_feet_bin'] = pd.cut(test['square_feet'], bins=bins, labels=labels)"
   ]
  },
  {
   "cell_type": "code",
   "execution_count": 10,
   "id": "b27488d6",
   "metadata": {},
   "outputs": [],
   "source": [
    "train_neg = train.where(train.log_error < 0)\n",
    "train_pos = train.where(train.log_error > 0)"
   ]
  },
  {
   "cell_type": "code",
   "execution_count": 11,
   "id": "42030388",
   "metadata": {},
   "outputs": [],
   "source": [
    "train_neg = train_neg.dropna()\n",
    "train_pos = train_pos.dropna()"
   ]
  },
  {
   "cell_type": "code",
   "execution_count": 12,
   "id": "bcb99a16",
   "metadata": {},
   "outputs": [],
   "source": [
    "pd.set_option('display.max_columns', None)\n",
    "pd.set_option('display.max_rows', None)"
   ]
  },
  {
   "cell_type": "code",
   "execution_count": 13,
   "id": "73a3572b",
   "metadata": {},
   "outputs": [],
   "source": [
    "bins = [0, .0141, .0322, .0674, .6]\n",
    "labels = ['P1', 'P2', 'P3', 'P4']\n",
    "train_pos['log_error_bin'] = pd.cut(train_pos['log_error'], bins=bins, labels=labels)"
   ]
  },
  {
   "cell_type": "code",
   "execution_count": 14,
   "id": "5b3991ef",
   "metadata": {},
   "outputs": [],
   "source": [
    "bins = [-.6, -.0609, -.0293, -.01278, 0]\n",
    "labels = ['N4','N3','N2','N1']\n",
    "train_neg['log_error_bin'] = pd.cut(train_neg['log_error'], bins=bins, labels=labels)"
   ]
  },
  {
   "cell_type": "code",
   "execution_count": 15,
   "id": "38da6abf",
   "metadata": {},
   "outputs": [],
   "source": [
    "train[\"size_and_error\"] = train[['square_feet_bin','log_error_bin']].agg('-'.join, axis=1)"
   ]
  },
  {
   "cell_type": "code",
   "execution_count": 16,
   "id": "309d0cb1",
   "metadata": {},
   "outputs": [
    {
     "data": {
      "text/plain": [
       "XS-P2    603\n",
       "S-P2     663\n",
       "M-P2     672\n",
       "XL-P2    729\n",
       "L-P2     825\n",
       "Name: size_and_error, dtype: int64"
      ]
     },
     "execution_count": 16,
     "metadata": {},
     "output_type": "execute_result"
    }
   ],
   "source": [
    "train['size_and_error'].where(train.size_and_error.str.contains(\"P2\")).value_counts().sort_values()"
   ]
  },
  {
   "cell_type": "code",
   "execution_count": 17,
   "id": "2dad035c",
   "metadata": {},
   "outputs": [],
   "source": [
    "bins = [1900, 1920, 1930, 1940, 1950, 1960, 1970, 1980, 1990, 2000, 2020]\n",
    "labels = ['1910s','1920s','1930s','1940s', '1950s', '1960s', '1970s', '1980s', '1990s', '2000s', ]\n",
    "train['year_bin'] = pd.cut(train['year_built'], bins=bins, labels=labels)\n",
    "validate['year_bin'] = pd.cut(train['year_built'], bins=bins, labels=labels)\n",
    "test['year_bin'] = pd.cut(train['year_built'], bins=bins, labels=labels)"
   ]
  },
  {
   "cell_type": "code",
   "execution_count": 18,
   "id": "cab069dd",
   "metadata": {},
   "outputs": [],
   "source": [
    "train[\"year_and_error\"] = train[['year_bin','log_error_bin']].agg('-'.join, axis=1)"
   ]
  },
  {
   "cell_type": "code",
   "execution_count": 19,
   "id": "360a96f2",
   "metadata": {},
   "outputs": [
    {
     "data": {
      "text/plain": [
       "1910s-N1     16\n",
       "1930s-N1     74\n",
       "1920s-N1    100\n",
       "2000s-N1    198\n",
       "1990s-N1    223\n",
       "1980s-N1    255\n",
       "1940s-N1    262\n",
       "1970s-N1    334\n",
       "1960s-N1    413\n",
       "1950s-N1    583\n",
       "Name: year_and_error, dtype: int64"
      ]
     },
     "execution_count": 19,
     "metadata": {},
     "output_type": "execute_result"
    }
   ],
   "source": [
    "train['year_and_error'].where(train.size_and_error.str.contains(\"N1\")).value_counts().sort_values()"
   ]
  },
  {
   "cell_type": "code",
   "execution_count": 20,
   "id": "a568b362",
   "metadata": {},
   "outputs": [],
   "source": [
    "train[\"both_error\"] = train[['year_bin', 'square_feet_bin', 'log_error_bin']].agg('-'.join, axis=1)"
   ]
  },
  {
   "cell_type": "code",
   "execution_count": 21,
   "id": "38003a8f",
   "metadata": {},
   "outputs": [
    {
     "data": {
      "text/plain": [
       "1910s-XL-P1      2\n",
       "2000s-XS-P1      4\n",
       "1910s-M-P1       4\n",
       "1910s-L-P1       4\n",
       "1990s-XS-P1      5\n",
       "2000s-S-P1       6\n",
       "1920s-XL-P1      7\n",
       "1930s-XL-P1      9\n",
       "1910s-S-P1      11\n",
       "1910s-XS-P1     13\n",
       "1930s-L-P1      14\n",
       "1940s-XL-P1     15\n",
       "1920s-L-P1      15\n",
       "1930s-XS-P1     20\n",
       "1920s-M-P1      20\n",
       "1930s-S-P1      21\n",
       "1980s-XS-P1     24\n",
       "1930s-M-P1      24\n",
       "1990s-S-P1      25\n",
       "2000s-M-P1      27\n",
       "1940s-L-P1      28\n",
       "1920s-S-P1      31\n",
       "1970s-XS-P1     32\n",
       "1950s-XL-P1     35\n",
       "1990s-M-P1      47\n",
       "1960s-XS-P1     48\n",
       "1980s-S-P1      54\n",
       "1940s-M-P1      55\n",
       "1920s-XS-P1     68\n",
       "1960s-XL-P1     69\n",
       "2000s-L-P1      77\n",
       "1940s-S-P1      77\n",
       "1980s-M-P1      85\n",
       "1970s-XL-P1     89\n",
       "1990s-L-P1      98\n",
       "1970s-M-P1      99\n",
       "1980s-L-P1     105\n",
       "1980s-XL-P1    106\n",
       "1950s-L-P1     112\n",
       "1970s-S-P1     114\n",
       "1970s-L-P1     131\n",
       "1960s-L-P1     132\n",
       "1990s-XL-P1    138\n",
       "1960s-S-P1     147\n",
       "1960s-M-P1     154\n",
       "1940s-XS-P1    162\n",
       "2000s-XL-P1    174\n",
       "1950s-XS-P1    202\n",
       "1950s-M-P1     204\n",
       "1950s-S-P1     255\n",
       "Name: both_error, dtype: int64"
      ]
     },
     "execution_count": 21,
     "metadata": {},
     "output_type": "execute_result"
    }
   ],
   "source": [
    "train['both_error'].where(train.size_and_error.str.contains(\"P1\")).value_counts().sort_values()"
   ]
  },
  {
   "cell_type": "code",
   "execution_count": 22,
   "id": "738efc13",
   "metadata": {},
   "outputs": [
    {
     "data": {
      "text/plain": [
       "<AxesSubplot:xlabel='year_bin', ylabel='count'>"
      ]
     },
     "execution_count": 22,
     "metadata": {},
     "output_type": "execute_result"
    },
    {
     "data": {
      "image/png": "[encoded data removed]",
      "text/plain": [
       "<Figure size 432x288 with 1 Axes>"
      ]
     },
     "metadata": {
      "needs_background": "light"
     },
     "output_type": "display_data"
    }
   ],
   "source": [
    "sns.countplot(data=train, x='year_bin', hue='log_error_bin')"
   ]
  },
  {
   "cell_type": "code",
   "execution_count": 23,
   "id": "c32c6a45",
   "metadata": {},
   "outputs": [],
   "source": [
    "#since 1970, log errors are more overshooting than under"
   ]
  },
  {
   "cell_type": "code",
   "execution_count": 24,
   "id": "644f0d01",
   "metadata": {},
   "outputs": [
    {
     "data": {
      "text/plain": [
       "<AxesSubplot:xlabel='year_bin', ylabel='count'>"
      ]
     },
     "execution_count": 24,
     "metadata": {},
     "output_type": "execute_result"
    },
    {
     "data": {
      "image/png": "[encoded data removed]",
      "text/plain": [
       "<Figure size 432x288 with 1 Axes>"
      ]
     },
     "metadata": {
      "needs_background": "light"
     },
     "output_type": "display_data"
    }
   ],
   "source": [
    "sns.countplot(data=train, x='year_bin', hue='square_feet_bin')"
   ]
  },
  {
   "cell_type": "code",
   "execution_count": 25,
   "id": "1cdc013c",
   "metadata": {},
   "outputs": [
    {
     "data": {
      "text/plain": [
       "<AxesSubplot:xlabel='square_feet_bin', ylabel='count'>"
      ]
     },
     "execution_count": 25,
     "metadata": {},
     "output_type": "execute_result"
    },
    {
     "data": {
      "image/png": "[encoded data removed]",
      "text/plain": [
       "<Figure size 648x432 with 1 Axes>"
      ]
     },
     "metadata": {
      "needs_background": "light"
     },
     "output_type": "display_data"
    }
   ],
   "source": [
    "plt.figure(figsize=(9, 6))\n",
    "sns.countplot(data=train, x='square_feet_bin', hue='log_error_bin')"
   ]
  },
  {
   "cell_type": "code",
   "execution_count": 26,
   "id": "fb81bb1f",
   "metadata": {},
   "outputs": [
    {
     "data": {
      "text/plain": [
       "<AxesSubplot:xlabel='bedrooms', ylabel='count'>"
      ]
     },
     "execution_count": 26,
     "metadata": {},
     "output_type": "execute_result"
    },
    {
     "data": {
      "image/png": "[encoded data removed]",
      "text/plain": [
       "<Figure size 648x432 with 1 Axes>"
      ]
     },
     "metadata": {
      "needs_background": "light"
     },
     "output_type": "display_data"
    }
   ],
   "source": [
    "plt.figure(figsize=(9, 6))\n",
    "sns.countplot(data=train, x='bedrooms', hue='log_error_bin')"
   ]
  },
  {
   "cell_type": "code",
   "execution_count": 27,
   "id": "69162b3c",
   "metadata": {},
   "outputs": [
    {
     "data": {
      "text/plain": [
       "56630.31999999999"
      ]
     },
     "execution_count": 27,
     "metadata": {},
     "output_type": "execute_result"
    }
   ],
   "source": [
    "train.lot_size.quantile(.99)"
   ]
  },
  {
   "cell_type": "code",
   "execution_count": 28,
   "id": "5ac869ab",
   "metadata": {},
   "outputs": [],
   "source": [
    "bins = [0, 5272, 6299, 7368, 9518, 56700, 100000000]\n",
    "labels = ['XS','S','M','L', 'XL', 'NO']\n",
    "train['lot_size_bin'] = pd.cut(train['lot_size'], bins=bins, labels=labels)\n",
    "validate['lot_size_bin'] = pd.cut(validate['lot_size'], bins=bins, labels=labels)\n",
    "test['lot_size_bin'] = pd.cut(test['lot_size'], bins=bins, labels=labels)"
   ]
  },
  {
   "cell_type": "code",
   "execution_count": 29,
   "id": "0fe06fe7",
   "metadata": {},
   "outputs": [
    {
     "data": {
      "text/plain": [
       "<AxesSubplot:xlabel='lot_size_bin', ylabel='count'>"
      ]
     },
     "execution_count": 29,
     "metadata": {},
     "output_type": "execute_result"
    },
    {
     "data": {
      "image/png": "[encoded data removed]",
      "text/plain": [
       "<Figure size 648x432 with 1 Axes>"
      ]
     },
     "metadata": {
      "needs_background": "light"
     },
     "output_type": "display_data"
    }
   ],
   "source": [
    "plt.figure(figsize=(9, 6))\n",
    "sns.countplot(data=train, x='lot_size_bin', hue='log_error_bin')"
   ]
  },
  {
   "cell_type": "code",
   "execution_count": 30,
   "id": "23251504",
   "metadata": {},
   "outputs": [
    {
     "data": {
      "text/plain": [
       "<AxesSubplot:xlabel='year_bin', ylabel='count'>"
      ]
     },
     "execution_count": 30,
     "metadata": {},
     "output_type": "execute_result"
    },
    {
     "data": {
      "image/png": "[encoded data removed]",
      "text/plain": [
       "<Figure size 648x432 with 1 Axes>"
      ]
     },
     "metadata": {
      "needs_background": "light"
     },
     "output_type": "display_data"
    }
   ],
   "source": [
    "plt.figure(figsize=(9, 6))\n",
    "sns.countplot(data=train, x='year_bin', hue='lot_size_bin')"
   ]
  },
  {
   "cell_type": "code",
   "execution_count": 31,
   "id": "1f4c24d4",
   "metadata": {},
   "outputs": [
    {
     "data": {
      "text/plain": [
       "<Figure size 648x432 with 0 Axes>"
      ]
     },
     "metadata": {},
     "output_type": "display_data"
    },
    {
     "data": {
      "image/png": "[encoded data removed]",
      "text/plain": [
       "<Figure size 432x288 with 1 Axes>"
      ]
     },
     "metadata": {
      "needs_background": "light"
     },
     "output_type": "display_data"
    }
   ],
   "source": [
    "plt.figure(figsize=(9, 6))\n",
    "pd.crosstab(train['year_bin'],train['log_error_bin'], \n",
    "             normalize='index').plot.bar(stacked=True)\n",
    "plt.show()"
   ]
  },
  {
   "cell_type": "code",
   "execution_count": 32,
   "id": "c968302c",
   "metadata": {},
   "outputs": [
    {
     "data": {
      "text/plain": [
       "<Figure size 648x432 with 0 Axes>"
      ]
     },
     "metadata": {},
     "output_type": "display_data"
    },
    {
     "data": {
      "image/png": "[encoded data removed]",
      "text/plain": [
       "<Figure size 432x288 with 1 Axes>"
      ]
     },
     "metadata": {
      "needs_background": "light"
     },
     "output_type": "display_data"
    }
   ],
   "source": [
    "plt.figure(figsize=(9, 6))\n",
    "pd.crosstab(train['square_feet_bin'],train['log_error_bin'], \n",
    "             normalize='index').plot.bar(stacked=True)\n",
    "plt.show()"
   ]
  },
  {
   "cell_type": "code",
   "execution_count": 33,
   "id": "0eb0cc35",
   "metadata": {},
   "outputs": [],
   "source": [
    "plt.rcParams[\"figure.figsize\"] = (15,8)"
   ]
  },
  {
   "cell_type": "code",
   "execution_count": 34,
   "id": "436243c8",
   "metadata": {},
   "outputs": [
    {
     "data": {
      "text/plain": [
       "<Figure size 648x432 with 0 Axes>"
      ]
     },
     "metadata": {},
     "output_type": "display_data"
    },
    {
     "data": {
      "image/png": "[encoded data removed]",
      "text/plain": [
       "<Figure size 1080x576 with 1 Axes>"
      ]
     },
     "metadata": {
      "needs_background": "light"
     },
     "output_type": "display_data"
    }
   ],
   "source": [
    "plt.figure(figsize=(9, 6))\n",
    "pd.crosstab(train['county'],train['log_error_bin'], \n",
    "             normalize='index').plot.bar(stacked=True)\n",
    "plt.show()"
   ]
  },
  {
   "cell_type": "code",
   "execution_count": 35,
   "id": "6120f5fc",
   "metadata": {},
   "outputs": [
    {
     "data": {
      "text/plain": [
       "<Figure size 648x432 with 0 Axes>"
      ]
     },
     "metadata": {},
     "output_type": "display_data"
    },
    {
     "data": {
      "image/png": "[encoded data removed]",
      "text/plain": [
       "<Figure size 1080x576 with 1 Axes>"
      ]
     },
     "metadata": {
      "needs_background": "light"
     },
     "output_type": "display_data"
    }
   ],
   "source": [
    "plt.figure(figsize=(9, 6))\n",
    "pd.crosstab(train['bedrooms'],train['log_error_bin'], \n",
    "             normalize='index').plot.bar(stacked=True)\n",
    "plt.show()"
   ]
  },
  {
   "cell_type": "code",
   "execution_count": 36,
   "id": "f9c1bb55",
   "metadata": {},
   "outputs": [
    {
     "data": {
      "text/plain": [
       "<Figure size 648x432 with 0 Axes>"
      ]
     },
     "metadata": {},
     "output_type": "display_data"
    },
    {
     "data": {
      "image/png": "[encoded data removed]",
      "text/plain": [
       "<Figure size 1080x576 with 1 Axes>"
      ]
     },
     "metadata": {
      "needs_background": "light"
     },
     "output_type": "display_data"
    }
   ],
   "source": [
    "plt.figure(figsize=(9, 6))\n",
    "pd.crosstab(train['bathrooms'],train['log_error_bin'], \n",
    "             normalize='index').plot.bar(stacked=True)\n",
    "plt.show()"
   ]
  },
  {
   "cell_type": "code",
   "execution_count": 37,
   "id": "6cf9b4f8",
   "metadata": {},
   "outputs": [
    {
     "data": {
      "text/plain": [
       "<Figure size 648x432 with 0 Axes>"
      ]
     },
     "metadata": {},
     "output_type": "display_data"
    },
    {
     "data": {
      "image/png": "[encoded data removed]",
      "text/plain": [
       "<Figure size 1080x576 with 1 Axes>"
      ]
     },
     "metadata": {
      "needs_background": "light"
     },
     "output_type": "display_data"
    }
   ],
   "source": [
    "plt.figure(figsize=(9, 6))\n",
    "pd.crosstab(train['bedrooms'],train['bathrooms'], \n",
    "             normalize='index').plot.bar(stacked=True)\n",
    "plt.show()"
   ]
  },
  {
   "cell_type": "code",
   "execution_count": 38,
   "id": "dcb8dec1",
   "metadata": {},
   "outputs": [
    {
     "data": {
      "text/plain": [
       "<Figure size 648x432 with 0 Axes>"
      ]
     },
     "metadata": {},
     "output_type": "display_data"
    },
    {
     "data": {
      "image/png": "[encoded data removed]",
      "text/plain": [
       "<Figure size 1080x576 with 1 Axes>"
      ]
     },
     "metadata": {
      "needs_background": "light"
     },
     "output_type": "display_data"
    }
   ],
   "source": [
    "plt.figure(figsize=(9, 6))\n",
    "pd.crosstab(train['lot_size_bin'],train['log_error_bin'], \n",
    "             normalize='index').plot.bar(stacked=True)\n",
    "plt.show()"
   ]
  },
  {
   "cell_type": "code",
   "execution_count": 39,
   "id": "52278782",
   "metadata": {},
   "outputs": [
    {
     "name": "stdout",
     "output_type": "stream",
     "text": [
      "<class 'pandas.core.frame.DataFrame'>\n",
      "Int64Index: 26843 entries, 25090 to 1588\n",
      "Data columns (total 26 columns):\n",
      " #   Column                     Non-Null Count  Dtype         \n",
      "---  ------                     --------------  -----         \n",
      " 0   parcelid                   26843 non-null  int64         \n",
      " 1   bathrooms                  26843 non-null  float64       \n",
      " 2   bedrooms                   26843 non-null  float64       \n",
      " 3   square_feet                26843 non-null  int64         \n",
      " 4   fips                       26843 non-null  int64         \n",
      " 5   garages                    26843 non-null  int64         \n",
      " 6   garage_size                26843 non-null  int64         \n",
      " 7   lot_size                   26843 non-null  int64         \n",
      " 8   has_pool                   26843 non-null  bool          \n",
      " 9   propertycountylandusecode  26843 non-null  object        \n",
      " 10  propertylandusetypeid      26843 non-null  float64       \n",
      " 11  year_built                 26843 non-null  int64         \n",
      " 12  taxvaluedollarcnt          26843 non-null  float64       \n",
      " 13  landtaxvaluedollarcnt      26843 non-null  float64       \n",
      " 14  log_error                  26843 non-null  float64       \n",
      " 15  transaction_date           26843 non-null  datetime64[ns]\n",
      " 16  county                     26843 non-null  object        \n",
      " 17  latitude                   26843 non-null  float64       \n",
      " 18  longitude                  26843 non-null  float64       \n",
      " 19  log_error_bin              26843 non-null  category      \n",
      " 20  square_feet_bin            26843 non-null  category      \n",
      " 21  size_and_error             26843 non-null  object        \n",
      " 22  year_bin                   26843 non-null  category      \n",
      " 23  year_and_error             26843 non-null  object        \n",
      " 24  both_error                 26843 non-null  object        \n",
      " 25  lot_size_bin               26843 non-null  category      \n",
      "dtypes: bool(1), category(4), datetime64[ns](1), float64(8), int64(7), object(5)\n",
      "memory usage: 5.6+ MB\n"
     ]
    }
   ],
   "source": [
    "train.info()"
   ]
  },
  {
   "cell_type": "code",
   "execution_count": 40,
   "id": "9564f5cb",
   "metadata": {},
   "outputs": [
    {
     "data": {
      "text/plain": [
       "<Figure size 648x432 with 0 Axes>"
      ]
     },
     "metadata": {},
     "output_type": "display_data"
    },
    {
     "data": {
      "image/png": "[encoded data removed]",
      "text/plain": [
       "<Figure size 1080x576 with 1 Axes>"
      ]
     },
     "metadata": {
      "needs_background": "light"
     },
     "output_type": "display_data"
    }
   ],
   "source": [
    "plt.figure(figsize=(9, 6))\n",
    "pd.crosstab(train['garages'],train['log_error_bin'], \n",
    "             normalize='index').plot.bar(stacked=True)\n",
    "plt.show()"
   ]
  },
  {
   "cell_type": "code",
   "execution_count": 41,
   "id": "0521bb47",
   "metadata": {},
   "outputs": [
    {
     "data": {
      "text/plain": [
       "<Figure size 648x432 with 0 Axes>"
      ]
     },
     "metadata": {},
     "output_type": "display_data"
    },
    {
     "data": {
      "image/png": "[encoded data removed]",
      "text/plain": [
       "<Figure size 1080x576 with 1 Axes>"
      ]
     },
     "metadata": {
      "needs_background": "light"
     },
     "output_type": "display_data"
    }
   ],
   "source": [
    "plt.figure(figsize=(9, 6))\n",
    "pd.crosstab(train['has_pool'],train['log_error_bin'], \n",
    "             normalize='index').plot.bar(stacked=True)\n",
    "plt.show()"
   ]
  },
  {
   "cell_type": "code",
   "execution_count": 42,
   "id": "cd6cbf35",
   "metadata": {},
   "outputs": [
    {
     "data": {
      "text/plain": [
       "<Figure size 648x432 with 0 Axes>"
      ]
     },
     "metadata": {},
     "output_type": "display_data"
    },
    {
     "data": {
      "image/png": "[encoded data removed]",
      "text/plain": [
       "<Figure size 1080x576 with 1 Axes>"
      ]
     },
     "metadata": {
      "needs_background": "light"
     },
     "output_type": "display_data"
    }
   ],
   "source": [
    "plt.figure(figsize=(9, 6))\n",
    "pd.crosstab(train['propertycountylandusecode'],train['log_error_bin'], \n",
    "             normalize='index').plot.bar(stacked=True)\n",
    "plt.show()\n"
   ]
  },
  {
   "cell_type": "code",
   "execution_count": 43,
   "id": "b4254fd2",
   "metadata": {},
   "outputs": [
    {
     "data": {
      "text/plain": [
       "0100    13648\n",
       "122      6863\n",
       "0101     3157\n",
       "1111     1851\n",
       "1110      506\n",
       "1         505\n",
       "0104      202\n",
       "010M       30\n",
       "0103       27\n",
       "010G       24\n",
       "0108       22\n",
       "0109        5\n",
       "0105        1\n",
       "1112        1\n",
       "0131        1\n",
       "Name: propertycountylandusecode, dtype: int64"
      ]
     },
     "execution_count": 43,
     "metadata": {},
     "output_type": "execute_result"
    }
   ],
   "source": [
    "train.propertycountylandusecode.value_counts()"
   ]
  },
  {
   "cell_type": "code",
   "execution_count": 44,
   "id": "129f40b8",
   "metadata": {},
   "outputs": [],
   "source": [
    "train = train[(train.propertycountylandusecode != '0109') & (train.propertycountylandusecode != '0105') & (train.propertycountylandusecode != '1112') & (train.propertycountylandusecode != '0131')]\n",
    "validate = validate[(validate.propertycountylandusecode != '0109') & (validate.propertycountylandusecode != '0105') & (validate.propertycountylandusecode != '1112') & (validate.propertycountylandusecode != '0131')]\n",
    "test = test[(test.propertycountylandusecode != '0109') & (test.propertycountylandusecode != '0105') & (test.propertycountylandusecode != '1112') & (test.propertycountylandusecode != '0131')]"
   ]
  },
  {
   "cell_type": "code",
   "execution_count": 45,
   "id": "9432a627",
   "metadata": {},
   "outputs": [
    {
     "data": {
      "text/plain": [
       "<Figure size 648x432 with 0 Axes>"
      ]
     },
     "metadata": {},
     "output_type": "display_data"
    },
    {
     "data": {
      "image/png": "[encoded data removed]",
      "text/plain": [
       "<Figure size 1080x576 with 1 Axes>"
      ]
     },
     "metadata": {
      "needs_background": "light"
     },
     "output_type": "display_data"
    }
   ],
   "source": [
    "plt.figure(figsize=(9, 6))\n",
    "pd.crosstab(train['propertycountylandusecode'],train['square_feet_bin'], \n",
    "             normalize='index').plot.bar(stacked=True)\n",
    "plt.show()"
   ]
  },
  {
   "cell_type": "code",
   "execution_count": null,
   "id": "0b31d212",
   "metadata": {},
   "outputs": [],
   "source": []
  },
  {
   "cell_type": "code",
   "execution_count": null,
   "id": "c9b1a483",
   "metadata": {},
   "outputs": [],
   "source": []
  },
  {
   "cell_type": "code",
   "execution_count": null,
   "id": "3bad528e",
   "metadata": {},
   "outputs": [],
   "source": []
  },
  {
   "cell_type": "code",
   "execution_count": 46,
   "id": "21623e9d",
   "metadata": {},
   "outputs": [],
   "source": [
    "continuous = train[['bathrooms', 'bedrooms', 'square_feet', 'garages', 'garage_size', 'lot_size', 'year_built', 'taxvaluedollarcnt', 'landtaxvaluedollarcnt']]\n",
    "train_neg = train.where(train.log_error < 0)\n",
    "train_pos = train.where(train.log_error > 0)"
   ]
  },
  {
   "cell_type": "code",
   "execution_count": 47,
   "id": "79629629",
   "metadata": {},
   "outputs": [],
   "source": [
    "train_neg= train_neg.dropna()\n",
    "train_pos = train_pos.dropna()"
   ]
  },
  {
   "cell_type": "code",
   "execution_count": null,
   "id": "9a867fa8",
   "metadata": {},
   "outputs": [],
   "source": []
  },
  {
   "cell_type": "code",
   "execution_count": 48,
   "id": "ce9b46c7",
   "metadata": {},
   "outputs": [],
   "source": [
    "cn = train_neg[['log_error','bathrooms', 'bedrooms', 'square_feet', 'garages', 'garage_size', 'lot_size', 'year_built', 'taxvaluedollarcnt', 'landtaxvaluedollarcnt']]\n",
    "cp = train_pos[['log_error', 'bathrooms', 'bedrooms', 'square_feet', 'garages', 'garage_size', 'lot_size', 'year_built', 'taxvaluedollarcnt', 'landtaxvaluedollarcnt']]"
   ]
  },
  {
   "cell_type": "code",
   "execution_count": 49,
   "id": "97cb9911",
   "metadata": {},
   "outputs": [
    {
     "data": {
      "text/plain": [
       "<AxesSubplot:title={'center':'Feature Correlation (contiuous variables) of to Log Error'}>"
      ]
     },
     "execution_count": 49,
     "metadata": {},
     "output_type": "execute_result"
    },
    {
     "data": {
      "image/png": "[encoded data removed]",
      "text/plain": [
       "<Figure size 720x288 with 1 Axes>"
      ]
     },
     "metadata": {
      "needs_background": "light"
     },
     "output_type": "display_data"
    }
   ],
   "source": [
    "plt.figure(figsize=(10, 4))\n",
    "# sets the size of the graph\n",
    "plt.title(\"Feature Correlation (contiuous variables) of to Log Error\")\n",
    "corr_chart = cp.corrwith(cp['log_error']).sort_values().plot.barh()\n",
    "corr_chart"
   ]
  },
  {
   "cell_type": "code",
   "execution_count": 50,
   "id": "e7aedf49",
   "metadata": {},
   "outputs": [
    {
     "name": "stdout",
     "output_type": "stream",
     "text": [
      "<class 'pandas.core.frame.DataFrame'>\n",
      "Int64Index: 26835 entries, 25090 to 1588\n",
      "Data columns (total 26 columns):\n",
      " #   Column                     Non-Null Count  Dtype         \n",
      "---  ------                     --------------  -----         \n",
      " 0   parcelid                   26835 non-null  int64         \n",
      " 1   bathrooms                  26835 non-null  float64       \n",
      " 2   bedrooms                   26835 non-null  float64       \n",
      " 3   square_feet                26835 non-null  int64         \n",
      " 4   fips                       26835 non-null  int64         \n",
      " 5   garages                    26835 non-null  int64         \n",
      " 6   garage_size                26835 non-null  int64         \n",
      " 7   lot_size                   26835 non-null  int64         \n",
      " 8   has_pool                   26835 non-null  bool          \n",
      " 9   propertycountylandusecode  26835 non-null  object        \n",
      " 10  propertylandusetypeid      26835 non-null  float64       \n",
      " 11  year_built                 26835 non-null  int64         \n",
      " 12  taxvaluedollarcnt          26835 non-null  float64       \n",
      " 13  landtaxvaluedollarcnt      26835 non-null  float64       \n",
      " 14  log_error                  26835 non-null  float64       \n",
      " 15  transaction_date           26835 non-null  datetime64[ns]\n",
      " 16  county                     26835 non-null  object        \n",
      " 17  latitude                   26835 non-null  float64       \n",
      " 18  longitude                  26835 non-null  float64       \n",
      " 19  log_error_bin              26835 non-null  category      \n",
      " 20  square_feet_bin            26835 non-null  category      \n",
      " 21  size_and_error             26835 non-null  object        \n",
      " 22  year_bin                   26835 non-null  category      \n",
      " 23  year_and_error             26835 non-null  object        \n",
      " 24  both_error                 26835 non-null  object        \n",
      " 25  lot_size_bin               26835 non-null  category      \n",
      "dtypes: bool(1), category(4), datetime64[ns](1), float64(8), int64(7), object(5)\n",
      "memory usage: 4.6+ MB\n"
     ]
    }
   ],
   "source": [
    "train.info()"
   ]
  },
  {
   "cell_type": "code",
   "execution_count": 51,
   "id": "05475234",
   "metadata": {},
   "outputs": [],
   "source": [
    "scaler = sklearn.preprocessing.MinMaxScaler()\n",
    "scaler.fit(train[['bedrooms', 'bathrooms', 'year_built', 'taxvaluedollarcnt', 'landtaxvaluedollarcnt', 'lot_size']])\n",
    "# inserts the 4 selected features into the scaler\n",
    "\n",
    "train_s = train[['bedrooms', 'bathrooms', 'year_built', 'taxvaluedollarcnt', 'landtaxvaluedollarcnt', 'lot_size']]\n",
    "validate_s  = validate[['bedrooms', 'bathrooms', 'year_built', 'taxvaluedollarcnt', 'landtaxvaluedollarcnt', 'lot_size']]\n",
    "test_s = test[['bedrooms', 'bathrooms', 'year_built', 'taxvaluedollarcnt', 'landtaxvaluedollarcnt', 'lot_size']]\n",
    "\n",
    "train_scal = scaler.transform(train[['bedrooms', 'bathrooms', 'year_built', 'taxvaluedollarcnt', 'landtaxvaluedollarcnt', 'lot_size']])\n",
    "validate_scal  = scaler.transform(validate[['bedrooms', 'bathrooms', 'year_built', 'taxvaluedollarcnt', 'landtaxvaluedollarcnt', 'lot_size']])\n",
    "test_scal  = scaler.transform(test[['bedrooms', 'bathrooms', 'year_built', 'taxvaluedollarcnt', 'landtaxvaluedollarcnt', 'lot_size']])"
   ]
  },
  {
   "cell_type": "code",
   "execution_count": 52,
   "id": "85eb4595",
   "metadata": {},
   "outputs": [],
   "source": [
    "X_train_scaled = pd.DataFrame(train_scal, index=train_s.index, columns=train_s.columns)\n",
    "X_validate_scaled = pd.DataFrame(validate_scal, index=validate_s.index, columns=validate_s.columns)\n",
    "X_test_scaled = pd.DataFrame(test_scal, index=test_s.index, columns=test_s.columns)"
   ]
  },
  {
   "cell_type": "code",
   "execution_count": 53,
   "id": "3ab6c763",
   "metadata": {},
   "outputs": [],
   "source": [
    "dummy_train = pd.get_dummies(train['propertycountylandusecode'])\n",
    "dummy_validate = pd.get_dummies(validate['propertycountylandusecode'])\n",
    "dummy_test = pd.get_dummies(test['propertycountylandusecode'])"
   ]
  },
  {
   "cell_type": "code",
   "execution_count": 54,
   "id": "d459cbbf",
   "metadata": {},
   "outputs": [],
   "source": [
    "X_train = pd.concat([X_train_scaled, dummy_train], axis=1)\n",
    "X_validate = pd.concat([X_validate_scaled, dummy_validate], axis=1)\n",
    "X_test = pd.concat([X_test_scaled, dummy_test], axis=1)\n",
    "\n",
    "y_train = train[['log_error']]\n",
    "y_validate = validate[['log_error']]\n",
    "y_test = test[['log_error']] "
   ]
  },
  {
   "cell_type": "code",
   "execution_count": 55,
   "id": "07780191",
   "metadata": {},
   "outputs": [],
   "source": [
    "X_validate.drop(columns=['0110', '0102'], inplace=True)"
   ]
  },
  {
   "cell_type": "code",
   "execution_count": 56,
   "id": "7ed274e7",
   "metadata": {},
   "outputs": [
    {
     "data": {
      "text/html": [
       "<div>\n",
       "<style scoped>\n",
       "    .dataframe tbody tr th:only-of-type {\n",
       "        vertical-align: middle;\n",
       "    }\n",
       "\n",
       "    .dataframe tbody tr th {\n",
       "        vertical-align: top;\n",
       "    }\n",
       "\n",
       "    .dataframe thead th {\n",
       "        text-align: right;\n",
       "    }\n",
       "</style>\n",
       "<table border=\"1\" class=\"dataframe\">\n",
       "  <thead>\n",
       "    <tr style=\"text-align: right;\">\n",
       "      <th></th>\n",
       "      <th>bedrooms</th>\n",
       "      <th>bathrooms</th>\n",
       "      <th>year_built</th>\n",
       "      <th>taxvaluedollarcnt</th>\n",
       "      <th>landtaxvaluedollarcnt</th>\n",
       "      <th>lot_size</th>\n",
       "      <th>0100</th>\n",
       "      <th>0101</th>\n",
       "      <th>0103</th>\n",
       "      <th>0104</th>\n",
       "      <th>0108</th>\n",
       "      <th>010G</th>\n",
       "      <th>010M</th>\n",
       "      <th>1</th>\n",
       "      <th>1110</th>\n",
       "      <th>1111</th>\n",
       "      <th>122</th>\n",
       "    </tr>\n",
       "  </thead>\n",
       "  <tbody>\n",
       "    <tr>\n",
       "      <th>36051</th>\n",
       "      <td>0.5</td>\n",
       "      <td>0.000</td>\n",
       "      <td>0.066038</td>\n",
       "      <td>0.011718</td>\n",
       "      <td>0.014671</td>\n",
       "      <td>0.000866</td>\n",
       "      <td>1</td>\n",
       "      <td>0</td>\n",
       "      <td>0</td>\n",
       "      <td>0</td>\n",
       "      <td>0</td>\n",
       "      <td>0</td>\n",
       "      <td>0</td>\n",
       "      <td>0</td>\n",
       "      <td>0</td>\n",
       "      <td>0</td>\n",
       "      <td>0</td>\n",
       "    </tr>\n",
       "    <tr>\n",
       "      <th>30938</th>\n",
       "      <td>0.5</td>\n",
       "      <td>0.250</td>\n",
       "      <td>0.660377</td>\n",
       "      <td>0.135332</td>\n",
       "      <td>0.119918</td>\n",
       "      <td>0.000947</td>\n",
       "      <td>1</td>\n",
       "      <td>0</td>\n",
       "      <td>0</td>\n",
       "      <td>0</td>\n",
       "      <td>0</td>\n",
       "      <td>0</td>\n",
       "      <td>0</td>\n",
       "      <td>0</td>\n",
       "      <td>0</td>\n",
       "      <td>0</td>\n",
       "      <td>0</td>\n",
       "    </tr>\n",
       "    <tr>\n",
       "      <th>5205</th>\n",
       "      <td>0.5</td>\n",
       "      <td>0.000</td>\n",
       "      <td>0.094340</td>\n",
       "      <td>0.069212</td>\n",
       "      <td>0.068559</td>\n",
       "      <td>0.000496</td>\n",
       "      <td>1</td>\n",
       "      <td>0</td>\n",
       "      <td>0</td>\n",
       "      <td>0</td>\n",
       "      <td>0</td>\n",
       "      <td>0</td>\n",
       "      <td>0</td>\n",
       "      <td>0</td>\n",
       "      <td>0</td>\n",
       "      <td>0</td>\n",
       "      <td>0</td>\n",
       "    </tr>\n",
       "    <tr>\n",
       "      <th>43711</th>\n",
       "      <td>0.5</td>\n",
       "      <td>0.250</td>\n",
       "      <td>0.018868</td>\n",
       "      <td>0.139696</td>\n",
       "      <td>0.130869</td>\n",
       "      <td>0.000927</td>\n",
       "      <td>1</td>\n",
       "      <td>0</td>\n",
       "      <td>0</td>\n",
       "      <td>0</td>\n",
       "      <td>0</td>\n",
       "      <td>0</td>\n",
       "      <td>0</td>\n",
       "      <td>0</td>\n",
       "      <td>0</td>\n",
       "      <td>0</td>\n",
       "      <td>0</td>\n",
       "    </tr>\n",
       "    <tr>\n",
       "      <th>36910</th>\n",
       "      <td>0.5</td>\n",
       "      <td>0.375</td>\n",
       "      <td>0.603774</td>\n",
       "      <td>0.113678</td>\n",
       "      <td>0.064186</td>\n",
       "      <td>0.000577</td>\n",
       "      <td>0</td>\n",
       "      <td>0</td>\n",
       "      <td>0</td>\n",
       "      <td>0</td>\n",
       "      <td>0</td>\n",
       "      <td>0</td>\n",
       "      <td>0</td>\n",
       "      <td>0</td>\n",
       "      <td>0</td>\n",
       "      <td>0</td>\n",
       "      <td>1</td>\n",
       "    </tr>\n",
       "  </tbody>\n",
       "</table>\n",
       "</div>"
      ],
      "text/plain": [
       "       bedrooms  bathrooms  year_built  taxvaluedollarcnt  \\\n",
       "36051       0.5      0.000    0.066038           0.011718   \n",
       "30938       0.5      0.250    0.660377           0.135332   \n",
       "5205        0.5      0.000    0.094340           0.069212   \n",
       "43711       0.5      0.250    0.018868           0.139696   \n",
       "36910       0.5      0.375    0.603774           0.113678   \n",
       "\n",
       "       landtaxvaluedollarcnt  lot_size  0100  0101  0103  0104  0108  010G  \\\n",
       "36051               0.014671  0.000866     1     0     0     0     0     0   \n",
       "30938               0.119918  0.000947     1     0     0     0     0     0   \n",
       "5205                0.068559  0.000496     1     0     0     0     0     0   \n",
       "43711               0.130869  0.000927     1     0     0     0     0     0   \n",
       "36910               0.064186  0.000577     0     0     0     0     0     0   \n",
       "\n",
       "       010M  1  1110  1111  122  \n",
       "36051     0  0     0     0    0  \n",
       "30938     0  0     0     0    0  \n",
       "5205      0  0     0     0    0  \n",
       "43711     0  0     0     0    0  \n",
       "36910     0  0     0     0    1  "
      ]
     },
     "execution_count": 56,
     "metadata": {},
     "output_type": "execute_result"
    }
   ],
   "source": [
    "X_validate.head()"
   ]
  },
  {
   "cell_type": "code",
   "execution_count": 57,
   "id": "017ba387",
   "metadata": {},
   "outputs": [
    {
     "name": "stdout",
     "output_type": "stream",
     "text": [
      "Baseline RMSE\n",
      "Train/In-Sample:  0.083535\n",
      "Baseline RMSE\n",
      "Validate/Out-of-Sample:  0.084292\n"
     ]
    }
   ],
   "source": [
    "y_train['pred_mean'] = y_train.log_error.mean()\n",
    "y_validate['pred_mean'] = y_validate.log_error.mean()\n",
    "\n",
    "rmse_train = mean_squared_error(y_train.log_error, y_train.pred_mean)**(1/2)\n",
    "rmse_validate = mean_squared_error(y_validate.log_error, y_validate.pred_mean)**(1/2)\n",
    "\n",
    "print(\"Baseline RMSE\\nTrain/In-Sample: \", round(rmse_train, 6)), \n",
    "print(\"Baseline RMSE\\nValidate/Out-of-Sample: \", round(rmse_validate, 6))"
   ]
  },
  {
   "cell_type": "code",
   "execution_count": 64,
   "id": "a618a652",
   "metadata": {},
   "outputs": [
    {
     "data": {
      "text/markdown": [
       "**OLS Linear Regression Performance**"
      ],
      "text/plain": [
       "<IPython.core.display.Markdown object>"
      ]
     },
     "metadata": {},
     "output_type": "display_data"
    },
    {
     "name": "stdout",
     "output_type": "stream",
     "text": [
      "---------------------------------------\n",
      "RMSE for OLS using LinearRegression\n",
      "Training/In-Sample:  0.083328\n",
      "---------------------------------------\n",
      "RMSE for OLS using LinearRegression\n",
      "Validation/Out-of-Sample:  0.084237\n"
     ]
    }
   ],
   "source": [
    "lm = LinearRegression(normalize=False)\n",
    "\n",
    "lm.fit(X_train, y_train.log_error)\n",
    "\n",
    "y_train['value_predict_lm'] = lm.predict(X_train)\n",
    "\n",
    "rmse_train = mean_squared_error(y_train.log_error, y_train.value_predict_lm)**(1/2)\n",
    "\n",
    "y_validate['value_predict_lm'] = lm.predict(X_validate)\n",
    "rmse_validate = mean_squared_error(y_validate.log_error, y_validate.value_predict_lm)**(1/2)\n",
    "\n",
    "\n",
    "printmd(\"**OLS Linear Regression Performance**\")\n",
    "print(\"---------------------------------------\")\n",
    "print(\"RMSE for OLS using LinearRegression\\nTraining/In-Sample: \", round(rmse_train, 6))\n",
    "print(\"---------------------------------------\")\n",
    "print(\"RMSE for OLS using LinearRegression\\nValidation/Out-of-Sample: \", round(rmse_validate, 6))"
   ]
  },
  {
   "cell_type": "code",
   "execution_count": 59,
   "id": "e8a6824b",
   "metadata": {},
   "outputs": [
    {
     "data": {
      "text/markdown": [
       "**LARS Performance**"
      ],
      "text/plain": [
       "<IPython.core.display.Markdown object>"
      ]
     },
     "metadata": {},
     "output_type": "display_data"
    },
    {
     "name": "stdout",
     "output_type": "stream",
     "text": [
      "---------------------------------------\n",
      "RMSE for Lars\n",
      "Training/In-Sample:  0.083535\n",
      "---------------------------------------\n",
      "RMSE for Lars\n",
      "Out-of-Sample:  0.084293\n"
     ]
    }
   ],
   "source": [
    "lars = LassoLars(alpha=1.5)\n",
    "\n",
    "lars.fit(X_train, y_train.log_error)\n",
    "\n",
    "y_train['pred_lars'] = lars.predict(X_train)\n",
    "\n",
    "rmse_train = mean_squared_error(y_train.log_error, y_train.pred_lars)**(1/2)\n",
    "\n",
    "y_validate['pred_lars'] = lars.predict(X_validate)\n",
    "rmse_validate = mean_squared_error(y_validate.log_error, y_validate.pred_lars)**(1/2)\n",
    "\n",
    "printmd(\"**LARS Performance**\")\n",
    "print(\"---------------------------------------\")\n",
    "print(\"RMSE for Lars\\nTraining/In-Sample: \", round(rmse_train, 6))\n",
    "print(\"---------------------------------------\")\n",
    "print(\"RMSE for Lars\\nOut-of-Sample: \", round(rmse_validate, 6))"
   ]
  },
  {
   "cell_type": "code",
   "execution_count": 76,
   "id": "dc30f69c",
   "metadata": {},
   "outputs": [],
   "source": [
    "pf = PolynomialFeatures(degree=3)\n",
    "# creates polynomial features to use in model with degree of 3\n",
    "\n",
    "X_train_degree3 = pf.fit_transform(X_train)\n",
    "# fit and transform X_train_scaled\n",
    "\n",
    "X_validate_degree3 = pf.transform(X_validate)\n",
    "X_test_degree3 = pf.transform(X_test)\n",
    "#transform X_validate_scaled & X_test_scaled"
   ]
  },
  {
   "cell_type": "code",
   "execution_count": 77,
   "id": "b99ecff6",
   "metadata": {},
   "outputs": [
    {
     "data": {
      "text/markdown": [
       "**Polynomial Regression Model Performance**"
      ],
      "text/plain": [
       "<IPython.core.display.Markdown object>"
      ]
     },
     "metadata": {},
     "output_type": "display_data"
    },
    {
     "name": "stdout",
     "output_type": "stream",
     "text": [
      "---------------------------------------\n",
      "RMSE for Polynomial Model \n",
      "Training/In-Sample:  0.0823\n",
      "---------------------------------------\n",
      "RMSE for Polynomial Model, \n",
      "Validation/Out-of-Sample:  683209140.8979\n"
     ]
    }
   ],
   "source": [
    "\n",
    "lm3 = LinearRegression(normalize=False)\n",
    "# creates linear regression model prior to fitting with new polynomial features\n",
    "\n",
    "lm3.fit(X_train_degree3, y_train.log_error)\n",
    "# fit and transform polynomial features and target\n",
    "\n",
    "y_train['value_pred_lm3'] = lm3.predict(X_train_degree3)\n",
    "# predictions calculated on train\n",
    "\n",
    "rmse_train = mean_squared_error(y_train.log_error, y_train.value_pred_lm3)**(1/2)\n",
    "# computes rmse with train\n",
    "\n",
    "y_validate['value_pred_lm3'] = lm3.predict(X_validate_degree3)\n",
    "rmse_validate = mean_squared_error(y_validate.log_error, y_validate.value_pred_lm3)**(1/2)\n",
    "# computes predictions/rmse with validate\n",
    "\n",
    "printmd(\"**Polynomial Regression Model Performance**\")\n",
    "print(\"---------------------------------------\")\n",
    "print(\"RMSE for Polynomial Model \\nTraining/In-Sample: \", round(rmse_train, 4)),\n",
    "print(\"---------------------------------------\")\n",
    "print(\"RMSE for Polynomial Model, \\nValidation/Out-of-Sample: \", round(rmse_validate, 4))"
   ]
  },
  {
   "cell_type": "code",
   "execution_count": 78,
   "id": "10b3b165",
   "metadata": {},
   "outputs": [
    {
     "data": {
      "text/markdown": [
       "**Generalized Linear Model Performance**"
      ],
      "text/plain": [
       "<IPython.core.display.Markdown object>"
      ]
     },
     "metadata": {},
     "output_type": "display_data"
    },
    {
     "name": "stdout",
     "output_type": "stream",
     "text": [
      "---------------------------------------\n",
      "RMSE for GLM /In-Sample:  0.083516\n",
      "---------------------------------------\n",
      "RMSE for GLM \n",
      "Validation/Out-of-Sample:  0.084278\n"
     ]
    }
   ],
   "source": [
    "glm = TweedieRegressor (power= 0, alpha=1) #, alpha=1)\n",
    "# creates the model\n",
    "\n",
    "glm.fit(X_train, y_train.log_error)\n",
    "# fit the model to scaled training data\n",
    "\n",
    "y_train['pred_value_glm'] = glm.predict(X_train)\n",
    "# computes model predictions\n",
    "rmse_train = mean_squared_error(y_train.log_error, y_train.pred_value_glm)**(1/2)\n",
    "# computes model rmse\n",
    "\n",
    "y_validate['pred_value_glm'] = glm.predict(X_validate)\n",
    "rmse_validate = mean_squared_error(y_validate.log_error, y_validate.pred_value_glm)**(1/2)\n",
    "# comutes predictions and rmse with validate data\n",
    "\n",
    "printmd(\"**Generalized Linear Model Performance**\")\n",
    "print(\"---------------------------------------\")\n",
    "print(\"RMSE for GLM /In-Sample: \", round(rmse_train, 6)), \n",
    "print(\"---------------------------------------\")\n",
    "print(\"RMSE for GLM \\nValidation/Out-of-Sample: \", round(rmse_validate, 6))"
   ]
  },
  {
   "cell_type": "markdown",
   "id": "0b4dfd37",
   "metadata": {},
   "source": [
    "combining features:\n",
    "    - rooms (bed, bath)\n",
    "    - size (square, lot, garage)\n",
    "    - extras (pool, garage)\n",
    "    - year\n",
    "    - location & (code)\n",
    "    "
   ]
  },
  {
   "cell_type": "code",
   "execution_count": null,
   "id": "ff34c8dd",
   "metadata": {},
   "outputs": [],
   "source": []
  },
  {
   "cell_type": "code",
   "execution_count": null,
   "id": "13b09cf0",
   "metadata": {},
   "outputs": [],
   "source": []
  }
 ],
 "metadata": {
  "kernelspec": {
   "display_name": "Python 3 (ipykernel)",
   "language": "python",
   "name": "python3"
  },
  "language_info": {
   "codemirror_mode": {
    "name": "ipython",
    "version": 3
   },
   "file_extension": ".py",
   "mimetype": "text/x-python",
   "name": "python",
   "nbconvert_exporter": "python",
   "pygments_lexer": "ipython3",
   "version": "3.9.7"
  }
 },
 "nbformat": 4,
 "nbformat_minor": 5
}
