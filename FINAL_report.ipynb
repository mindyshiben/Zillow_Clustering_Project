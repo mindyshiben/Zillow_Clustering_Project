{
 "cells": [
  {
   "cell_type": "markdown",
   "id": "75ef3d9f",
   "metadata": {},
   "source": [
    "- Intro\n",
    "- Acquire\n",
    "- Prepare\n",
    "- Univariate Explore\n",
    "- Split\n",
    "- Explore/Stats\n",
    "- Kmeans, binning, feature engineering\n",
    "    combining features:\n",
    "    - rooms (bed, bath) - ratio in one col?\n",
    "    - size (square, lot, garage)\n",
    "    - extras (pool, garage)\n",
    "    - year\n",
    "    - location & (code)\n",
    "- Additional explore/stats\n",
    "- takeaways about log error drivers\n",
    "- modeling pre (different codes)\n",
    "- modeling\n",
    "- model summary\n",
    "- conclusion"
   ]
  },
  {
   "cell_type": "markdown",
   "id": "af961907",
   "metadata": {},
   "source": [
    "### INTRO"
   ]
  },
  {
   "cell_type": "markdown",
   "id": "28f81a4d",
   "metadata": {},
   "source": [
    "### IMPORTS/ACQUIRE"
   ]
  },
  {
   "cell_type": "code",
   "execution_count": null,
   "id": "1a62ed24",
   "metadata": {},
   "outputs": [],
   "source": [
    "# Imports necessary to acquire, prepare, explore, visualize, analyze, and model data\n",
    "\n",
    "import warnings\n",
    "warnings.filterwarnings(\"ignore\")\n",
    "\n",
    "import pandas as pd\n",
    "import matplotlib.pyplot as plt\n",
    "import seaborn as sns\n",
    "import numpy as np\n",
    "import env\n",
    "import acquire\n",
    "import prepare\n",
    "\n",
    "from tabulate import tabulate\n",
    "from IPython.display import Markdown, display\n",
    "\n",
    "from math import sqrt\n",
    "from scipy import stats\n",
    "\n",
    "import sklearn.preprocessing\n",
    "from sklearn.model_selection import train_test_split\n",
    "from scipy.stats import pearsonr, spearmanr\n",
    "\n",
    "from sklearn.metrics import mean_squared_error\n",
    "from sklearn.linear_model import LinearRegression, LassoLars, TweedieRegressor\n",
    "from sklearn.preprocessing import PolynomialFeatures\n",
    "from sklearn.impute import SimpleImputer\n",
    "\n",
    "np.random.seed(123)"
   ]
  },
  {
   "cell_type": "code",
   "execution_count": null,
   "id": "34f93fbe",
   "metadata": {},
   "outputs": [],
   "source": [
    "df = acquire.get_zillow_data()\n",
    "df = prepare.remove_outliers(df)\n",
    "df = prepare.handle_nulls(df)\n",
    "df = prepare.rename_columns(df)\n",
    "df = prepare.prepare_locs(df)"
   ]
  },
  {
   "cell_type": "markdown",
   "id": "890f100f",
   "metadata": {},
   "source": [
    "### note: add to prepare..."
   ]
  },
  {
   "cell_type": "code",
   "execution_count": null,
   "id": "18c97cd8",
   "metadata": {},
   "outputs": [],
   "source": [
    "df = df[(df.propertycountylandusecode == '0100') | (df.propertycountylandusecode == '122') | (df.propertycountylandusecode == '0101') | (df.propertycountylandusecode == '1111') | (df.propertycountylandusecode == '1') | (df.propertycountylandusecode == '1110') | (df.propertycountylandusecode == '0104')]"
   ]
  },
  {
   "cell_type": "markdown",
   "id": "a598b8ac",
   "metadata": {},
   "source": [
    "### note : talk about % of data still here, what was dropped, why, handling nulls and outliers"
   ]
  },
  {
   "cell_type": "markdown",
   "id": "3affad63",
   "metadata": {},
   "source": [
    "### SPLIT\n",
    "### note: make in function"
   ]
  },
  {
   "cell_type": "code",
   "execution_count": null,
   "id": "04dec0c4",
   "metadata": {},
   "outputs": [],
   "source": [
    "train, test = train_test_split(df, test_size=.2, random_state=123)\n",
    "train, validate = train_test_split(train, test_size=.3, random_state=123)\n",
    "# Splits data into 3 subsets: train, validate, test. Random state specifying that data is split\n",
    "# with the exact same records when the code is re-run (useful for exploration and modeling, yet\n",
    "# I suggest dropping this when employing the model)\n",
    "\n",
    "def printmd(string): # function to format text style\n",
    "    display(Markdown(string))\n",
    "print()\n",
    "printmd('**Number of Train Records:** {:,}'\n",
    "     .format(len(train)))\n",
    "printmd('**Number of Validate Records:** {:,}'\n",
    "     .format(len(validate)))\n",
    "printmd('**Number of Test Records:** {:,}'\n",
    "     .format(len(test)))\n",
    "# returns the amount of records in each subset after splitting"
   ]
  },
  {
   "cell_type": "markdown",
   "id": "2bd86d61",
   "metadata": {},
   "source": [
    "### EXPLORE\n",
    "\n",
    "- Ask questions\n",
    "- what is driving logerror?\n",
    "- hypothesize homes that don't quite fit normal patterns(take drivers from tax value into account) - ie. older home that has a very high value and/or square feet, very small home with high value, strange ratio of bed to bath\n",
    "- does location impact error (are some locations harder to predict?)"
   ]
  },
  {
   "cell_type": "markdown",
   "id": "04716201",
   "metadata": {},
   "source": [
    "### STATS"
   ]
  },
  {
   "cell_type": "markdown",
   "id": "a6b4932e",
   "metadata": {},
   "source": [
    "### Feature Eng"
   ]
  },
  {
   "cell_type": "code",
   "execution_count": null,
   "id": "07623f4c",
   "metadata": {},
   "outputs": [],
   "source": [
    "from sklearn.cluster import KMeans\n",
    "import sklearn.preprocessing"
   ]
  },
  {
   "cell_type": "code",
   "execution_count": null,
   "id": "56928322",
   "metadata": {},
   "outputs": [],
   "source": [
    "X = train[['bedrooms', 'bathrooms']]\n",
    "XVAL = validate[['bedrooms', 'bathrooms']]\n",
    "XTEST = test[['bedrooms', 'bathrooms']]\n",
    "\n",
    "kmeans = KMeans(n_clusters=6)\n",
    "kmeans.fit(X)\n",
    "\n",
    "kmeans.predict(X)\n",
    "\n",
    "train['room_cluster'] = kmeans.predict(X)\n",
    "validate['room_cluster'] = kmeans.predict(XVAL)\n",
    "test['room_cluster'] = kmeans.predict(XTEST)\n",
    "\n",
    "centroids = pd.DataFrame(kmeans.cluster_centers_, columns=X.columns)\n",
    "centroids"
   ]
  },
  {
   "cell_type": "code",
   "execution_count": null,
   "id": "e664d79f",
   "metadata": {},
   "outputs": [],
   "source": [
    "with plt.style.context('seaborn-whitegrid'):\n",
    "    plt.figure(figsize=(9, 6))\n",
    "    pd.Series({k: KMeans(k).fit(X).inertia_ for k in range(2, 12)}).plot(marker='x')\n",
    "    plt.xticks(range(2, 12))\n",
    "    plt.xlabel('k')\n",
    "    plt.ylabel('inertia')\n",
    "    plt.title('Change in inertia as k increases')"
   ]
  },
  {
   "cell_type": "code",
   "execution_count": null,
   "id": "37cc9e3f",
   "metadata": {},
   "outputs": [],
   "source": [
    "scaler = sklearn.preprocessing.MinMaxScaler()\n",
    "scaler.fit(train[['square_feet', 'lot_size']])\n",
    "train_s = (train[['square_feet', 'lot_size']])\n",
    "X = scaler.transform(train[['square_feet', 'lot_size']])\n",
    "X = pd.DataFrame(X, index=train_s.index, columns=train_s.columns)"
   ]
  },
  {
   "cell_type": "code",
   "execution_count": null,
   "id": "1192b736",
   "metadata": {},
   "outputs": [],
   "source": [
    "kmeans = KMeans(n_clusters=5)\n",
    "kmeans.fit(X)\n",
    "\n",
    "kmeans.predict(X)\n",
    "\n",
    "train['size_cluster'] = kmeans.predict(X)\n",
    "\n",
    "centroids = pd.DataFrame(kmeans.cluster_centers_, columns=X.columns)\n",
    "centroids"
   ]
  },
  {
   "cell_type": "code",
   "execution_count": null,
   "id": "488dffb1",
   "metadata": {},
   "outputs": [],
   "source": [
    "from scipy.cluster.hierarchy import dendrogram, linkage\n",
    "import numpy as np\n",
    "from sklearn.cluster import AgglomerativeClustering\n",
    "\n",
    "%matplotlib inline\n",
    "np.set_printoptions(precision=5, suppress=True)"
   ]
  },
  {
   "cell_type": "code",
   "execution_count": null,
   "id": "53f31f4e",
   "metadata": {},
   "outputs": [],
   "source": [
    "num_vars = train[['square_feet','lot_size','taxvaluedollarcnt','landtaxvaluedollarcnt']]"
   ]
  },
  {
   "cell_type": "code",
   "execution_count": null,
   "id": "ff8946a0",
   "metadata": {},
   "outputs": [],
   "source": [
    "scaler = sklearn.preprocessing.MinMaxScaler()\n",
    "scaler.fit(num_vars)\n",
    "train_s = (num_vars)\n",
    "X = scaler.transform(num_vars)\n",
    "X = pd.DataFrame(X, index=train_s.index, columns=train_s.columns)"
   ]
  },
  {
   "cell_type": "code",
   "execution_count": null,
   "id": "165d27b6",
   "metadata": {},
   "outputs": [],
   "source": [
    "from sklearn.preprocessing import Normalizer\n",
    "\n",
    "normalizer = Normalizer()\n",
    "\n",
    "X[X.columns] = normalizer.fit_transform(X[X.columns])"
   ]
  },
  {
   "cell_type": "code",
   "execution_count": null,
   "id": "23e33552",
   "metadata": {},
   "outputs": [],
   "source": [
    "X = np.array(X)"
   ]
  },
  {
   "cell_type": "code",
   "execution_count": null,
   "id": "7ab50104",
   "metadata": {},
   "outputs": [],
   "source": [
    "Z = linkage(X, 'single')"
   ]
  },
  {
   "cell_type": "code",
   "execution_count": null,
   "id": "48a0fcc0",
   "metadata": {},
   "outputs": [],
   "source": [
    "from scipy.cluster.hierarchy import cophenet\n",
    "from scipy.spatial.distance import pdist\n",
    "\n",
    "c, coph_dists = cophenet(Z, pdist(X))\n",
    "c"
   ]
  },
  {
   "cell_type": "code",
   "execution_count": null,
   "id": "e9511c82",
   "metadata": {},
   "outputs": [],
   "source": []
  },
  {
   "cell_type": "code",
   "execution_count": null,
   "id": "2907a6ef",
   "metadata": {},
   "outputs": [],
   "source": [
    "X = train[['square_feet', 'propertycountylandusecode', 'garages', 'has_pool']]\n",
    "\n",
    "kmeans = KMeans(n_clusters=4)\n",
    "kmeans.fit(X)\n",
    "\n",
    "kmeans.predict(X)\n",
    "\n",
    "train['extras_cluster'] = kmeans.predict(X)\n",
    "\n",
    "centroids = pd.DataFrame(kmeans.cluster_centers_, columns=X.columns)\n",
    "centroids"
   ]
  },
  {
   "cell_type": "code",
   "execution_count": null,
   "id": "8602dfa1",
   "metadata": {},
   "outputs": [],
   "source": [
    "plt.rcParams[\"figure.figsize\"] = (15,8)"
   ]
  },
  {
   "cell_type": "code",
   "execution_count": null,
   "id": "aa5ccfec",
   "metadata": {},
   "outputs": [],
   "source": [
    "bins = [-.6, -.0475, -.0244, -.0106, 0, .0125, .0283, .0586, .6]\n",
    "labels = ['N4','N3','N2','N1', 'P1', 'P2', 'P3', 'P4']\n",
    "train['log_error_bin'] = pd.cut(train['log_error'], bins=bins, labels=labels)\n",
    "validate['log_error_bin'] = pd.cut(validate['log_error'], bins=bins, labels=labels)\n",
    "test['log_error_bin'] = pd.cut(test['log_error'], bins=bins, labels=labels)"
   ]
  },
  {
   "cell_type": "code",
   "execution_count": null,
   "id": "7c5b365a",
   "metadata": {},
   "outputs": [],
   "source": [
    "plt.figure(figsize=(9, 6))\n",
    "pd.crosstab(train['room_cluster'],train['log_error_bin'], \n",
    "             normalize='index').plot.bar(stacked=True)\n",
    "plt.show()"
   ]
  },
  {
   "cell_type": "code",
   "execution_count": null,
   "id": "75d0f164",
   "metadata": {},
   "outputs": [],
   "source": [
    "plt.figure(figsize=(9, 6))\n",
    "pd.crosstab(train['propertycountylandusecode'],train['log_error_bin'], \n",
    "             normalize='index').plot.bar(stacked=True)\n",
    "plt.show()"
   ]
  },
  {
   "cell_type": "code",
   "execution_count": null,
   "id": "5fd1623e",
   "metadata": {},
   "outputs": [],
   "source": [
    "train_neg = train.where(train.log_error < 0)\n",
    "train_pos = train.where(train.log_error > 0)\n",
    "train_neg = train_neg.dropna()\n",
    "train_pos = train_pos.dropna()"
   ]
  },
  {
   "cell_type": "code",
   "execution_count": null,
   "id": "49d37de4",
   "metadata": {},
   "outputs": [],
   "source": [
    "sns.scatterplot(data=train, x='longitude', y='latitude', hue='propertycountylandusecode')"
   ]
  },
  {
   "cell_type": "code",
   "execution_count": null,
   "id": "b62ffebd",
   "metadata": {},
   "outputs": [],
   "source": [
    "bins = [0, 1214, 1497, 1850, 2430, 5600]\n",
    "labels = [1,2,3,4,5]\n",
    "train['square_feet_bin'] = pd.cut(train['square_feet'], bins=bins, labels=labels)\n",
    "validate['square_feet_bin'] = pd.cut(validate['square_feet'], bins=bins, labels=labels)\n",
    "test['square_feet_bin'] = pd.cut(test['square_feet'], bins=bins, labels=labels)"
   ]
  },
  {
   "cell_type": "code",
   "execution_count": null,
   "id": "65f8cfae",
   "metadata": {},
   "outputs": [],
   "source": [
    "bins = [1900, 1930, 1950, 1970, 2000, 2020]\n",
    "labels = labels = [1,2,3,4,5]\n",
    "train['year_bin'] = pd.cut(train['year_built'], bins=bins, labels=labels)\n",
    "validate['year_bin'] = pd.cut(train['year_built'], bins=bins, labels=labels)\n",
    "test['year_bin'] = pd.cut(train['year_built'], bins=bins, labels=labels)"
   ]
  },
  {
   "cell_type": "code",
   "execution_count": null,
   "id": "c39afb97",
   "metadata": {},
   "outputs": [],
   "source": [
    "plt.figure(figsize=(9, 6))\n",
    "pd.crosstab(train['year_bin'],train['propertycountylandusecode'], \n",
    "             normalize='index').plot.bar(stacked=True)\n",
    "plt.show()"
   ]
  },
  {
   "cell_type": "code",
   "execution_count": null,
   "id": "da2c4eb8",
   "metadata": {},
   "outputs": [],
   "source": [
    "train['garages'] = train.garages.astype(bool)\n",
    "train['has_pool'] = train.has_pool.astype(bool)"
   ]
  },
  {
   "cell_type": "code",
   "execution_count": null,
   "id": "cd1de204",
   "metadata": {},
   "outputs": [],
   "source": [
    "train['garages'] = train.garages.astype(int)\n",
    "train['has_pool'] = train.has_pool.astype(int)"
   ]
  },
  {
   "cell_type": "code",
   "execution_count": null,
   "id": "780347ec",
   "metadata": {},
   "outputs": [],
   "source": [
    "train['extras'] = train['garages'] + train['has_pool']"
   ]
  },
  {
   "cell_type": "code",
   "execution_count": null,
   "id": "606305d4",
   "metadata": {},
   "outputs": [],
   "source": [
    "train.extras.value_counts()"
   ]
  },
  {
   "cell_type": "code",
   "execution_count": null,
   "id": "5ac02c21",
   "metadata": {},
   "outputs": [],
   "source": [
    "X = train[['latitude', 'longitude']]\n",
    "\n",
    "with plt.style.context('seaborn-whitegrid'):\n",
    "    plt.figure(figsize=(9, 6))\n",
    "    pd.Series({k: KMeans(k).fit(X).inertia_ for k in range(2, 12)}).plot(marker='x')\n",
    "    plt.xticks(range(2, 12))\n",
    "    plt.xlabel('k')\n",
    "    plt.ylabel('inertia')\n",
    "    plt.title('Change in inertia as k increases')"
   ]
  },
  {
   "cell_type": "code",
   "execution_count": null,
   "id": "bbb727cc",
   "metadata": {},
   "outputs": [],
   "source": [
    "X = train[['latitude', 'longitude']]\n",
    "XV = validate[['latitude', 'longitude']]\n",
    "XT = test[['latitude', 'longitude']]\n",
    "\n",
    "kmeans = KMeans(n_clusters=20)\n",
    "kmeans.fit(X)\n",
    "\n",
    "kmeans.predict(X)\n",
    "\n",
    "train['cluster_locs'] = kmeans.predict(X)\n",
    "validate['cluster_locs'] = kmeans.predict(XV)\n",
    "test['cluster_locs'] = kmeans.predict(XT)\n",
    "\n",
    "centroids = pd.DataFrame(kmeans.cluster_centers_, columns=X.columns)\n",
    "centroids"
   ]
  },
  {
   "cell_type": "code",
   "execution_count": null,
   "id": "2f3bab4d",
   "metadata": {},
   "outputs": [],
   "source": [
    "train.cluster_locs.head()"
   ]
  },
  {
   "cell_type": "code",
   "execution_count": null,
   "id": "cf76fd7c",
   "metadata": {},
   "outputs": [],
   "source": [
    "sns.scatterplot(data=train, x='longitude', y='latitude', hue='cluster_locs')"
   ]
  },
  {
   "cell_type": "code",
   "execution_count": null,
   "id": "42edce74",
   "metadata": {},
   "outputs": [],
   "source": [
    "bins = [500, 160726, 299498, 445086, 667000, 3000000]\n",
    "labels = [1,2,3,4,5]\n",
    "train['value_bin'] = pd.cut(train['taxvaluedollarcnt'], bins=bins, labels=labels)\n",
    "validate['value_bin'] = pd.cut(train['taxvaluedollarcnt'], bins=bins, labels=labels)\n",
    "test['value_bin'] = pd.cut(train['taxvaluedollarcnt'], bins=bins, labels=labels)"
   ]
  },
  {
   "cell_type": "code",
   "execution_count": null,
   "id": "a69923ff",
   "metadata": {},
   "outputs": [],
   "source": [
    "train.value_bin.value_counts()"
   ]
  },
  {
   "cell_type": "code",
   "execution_count": null,
   "id": "b25d30eb",
   "metadata": {},
   "outputs": [],
   "source": [
    "bins = [0, 5272, 6299, 7368, 9518, 56700, 100000000]\n",
    "labels = [1,2,3,4,5, 6]\n",
    "train['lot_size_bin'] = pd.cut(train['lot_size'], bins=bins, labels=labels)\n",
    "validate['lot_size_bin'] = pd.cut(validate['lot_size'], bins=bins, labels=labels)\n",
    "test['lot_size_bin'] = pd.cut(test['lot_size'], bins=bins, labels=labels)"
   ]
  },
  {
   "cell_type": "code",
   "execution_count": null,
   "id": "3ca3f836",
   "metadata": {},
   "outputs": [],
   "source": [
    "train.landtaxvaluedollarcnt.quantile(1)"
   ]
  },
  {
   "cell_type": "code",
   "execution_count": null,
   "id": "659318a8",
   "metadata": {},
   "outputs": [],
   "source": [
    "bins = [0, 54240, 159758, 279118, 448013, 3817215]\n",
    "labels = [1,2,3,4,5]\n",
    "train['lot_value_bin'] = pd.cut(train['landtaxvaluedollarcnt'], bins=bins, labels=labels)\n",
    "validate['lot_value_bin'] = pd.cut(validate['landtaxvaluedollarcnt'], bins=bins, labels=labels)\n",
    "test['lot_value_bin'] = pd.cut(test['landtaxvaluedollarcnt'], bins=bins, labels=labels)"
   ]
  },
  {
   "cell_type": "code",
   "execution_count": null,
   "id": "1e076166",
   "metadata": {},
   "outputs": [],
   "source": [
    "bins = [0, 1214, 1497, 1850, 2430, 5600]\n",
    "labels = [1,2,3,4,5]\n",
    "train['square_feet_bin'] = pd.cut(train['square_feet'], bins=bins, labels=labels)\n",
    "validate['square_feet_bin'] = pd.cut(validate['square_feet'], bins=bins, labels=labels)\n",
    "test['square_feet_bin'] = pd.cut(test['square_feet'], bins=bins, labels=labels)"
   ]
  },
  {
   "cell_type": "code",
   "execution_count": null,
   "id": "b9471e3c",
   "metadata": {},
   "outputs": [],
   "source": [
    "bins = [0, 5272, 6299, 7368, 9518, 56700, 100000000]\n",
    "labels = [1,2,3,4,5,6]\n",
    "train['lot_size_bin'] = pd.cut(train['lot_size'], bins=bins, labels=labels)\n",
    "validate['lot_size_bin'] = pd.cut(validate['lot_size'], bins=bins, labels=labels)\n",
    "test['lot_size_bin'] = pd.cut(test['lot_size'], bins=bins, labels=labels)"
   ]
  },
  {
   "cell_type": "code",
   "execution_count": null,
   "id": "b5b681f1",
   "metadata": {},
   "outputs": [],
   "source": [
    "train['lot_size_bin'] = train['lot_size_bin'].astype(int)\n",
    "train['square_feet_bin'] = train['square_feet_bin'].astype(int)"
   ]
  },
  {
   "cell_type": "code",
   "execution_count": null,
   "id": "ecbcef25",
   "metadata": {},
   "outputs": [],
   "source": []
  },
  {
   "cell_type": "code",
   "execution_count": null,
   "id": "306cbf11",
   "metadata": {},
   "outputs": [],
   "source": [
    "train['add_size'] = train['lot_size'] + train['square_feet']"
   ]
  },
  {
   "cell_type": "code",
   "execution_count": null,
   "id": "20797518",
   "metadata": {},
   "outputs": [],
   "source": [
    "(train.log_error).where(train.add_size == 2).mean()"
   ]
  },
  {
   "cell_type": "code",
   "execution_count": null,
   "id": "872695df",
   "metadata": {},
   "outputs": [],
   "source": [
    "train.info()"
   ]
  },
  {
   "cell_type": "code",
   "execution_count": null,
   "id": "c924fb17",
   "metadata": {},
   "outputs": [],
   "source": [
    "train['year_bin'] = train.year_bin.astype(int)"
   ]
  },
  {
   "cell_type": "code",
   "execution_count": null,
   "id": "964328ef",
   "metadata": {},
   "outputs": [],
   "source": [
    "train['value_bin'] = train.value_bin.astype(int)"
   ]
  },
  {
   "cell_type": "code",
   "execution_count": null,
   "id": "10d30bfc",
   "metadata": {},
   "outputs": [],
   "source": [
    "train['lot_value_bin'] = train.lot_value_bin.astype(int)"
   ]
  },
  {
   "cell_type": "code",
   "execution_count": null,
   "id": "27613571",
   "metadata": {},
   "outputs": [],
   "source": [
    "train['code'] = train.propertycountylandusecode.astype(int)"
   ]
  },
  {
   "cell_type": "code",
   "execution_count": null,
   "id": "039ec71e",
   "metadata": {},
   "outputs": [],
   "source": []
  },
  {
   "cell_type": "code",
   "execution_count": null,
   "id": "2d0bcf0b",
   "metadata": {},
   "outputs": [],
   "source": []
  },
  {
   "cell_type": "code",
   "execution_count": null,
   "id": "a10eaadc",
   "metadata": {},
   "outputs": [],
   "source": [
    "train.info()"
   ]
  },
  {
   "cell_type": "code",
   "execution_count": null,
   "id": "a5d79611",
   "metadata": {},
   "outputs": [],
   "source": [
    "#X_train = train[['taxvaluedollarcnt', 'landtaxvaluedollarcnt', 'square_feet', 'lot_size', 'year_built', 'room_cluster', 'square_feet_bin', 'year_bin', 'cluster_locs','extras', 'code','lot_size_bin', 'add_size','value_bin', 'lot_value_bin']]\n",
    "X_train = train[['garages', 'has_pool','code', 'year_built', 'taxvaluedollarcnt', 'landtaxvaluedollarcnt', 'extras', 'cluster_locs', 'add_size', 'extras_cluster']]\n",
    "y_train = train.log_error_bin"
   ]
  },
  {
   "cell_type": "code",
   "execution_count": null,
   "id": "9d645905",
   "metadata": {},
   "outputs": [],
   "source": [
    "from sklearn.tree import DecisionTreeClassifier, plot_tree\n",
    "from sklearn.metrics import classification_report\n",
    "from sklearn.metrics import confusion_matrix"
   ]
  },
  {
   "cell_type": "code",
   "execution_count": null,
   "id": "b819e28c",
   "metadata": {},
   "outputs": [],
   "source": []
  },
  {
   "cell_type": "code",
   "execution_count": null,
   "id": "28b896e7",
   "metadata": {},
   "outputs": [],
   "source": [
    "from sklearn.feature_selection import RFE\n",
    "\n",
    "# initialize the ML algorithm\n",
    "lm = DecisionTreeClassifier()\n",
    "\n",
    "# create the rfe object, indicating the ML object (lm) and the number of features I want to end up with. \n",
    "rfe = RFE(lm, n_features_to_select=3)\n",
    "\n",
    "# fit the data using RFE\n",
    "rfe.fit(X_train,y_train)  \n",
    "\n",
    "# get the mask of the columns selected\n",
    "feature_mask = rfe.support_\n",
    "\n",
    "# get list of the column names. \n",
    "rfe_feature = X_train.iloc[:,feature_mask].columns.tolist()"
   ]
  },
  {
   "cell_type": "code",
   "execution_count": null,
   "id": "481a6a84",
   "metadata": {},
   "outputs": [],
   "source": [
    "rfe_feature"
   ]
  },
  {
   "cell_type": "code",
   "execution_count": null,
   "id": "c3677a36",
   "metadata": {},
   "outputs": [],
   "source": [
    "clf = DecisionTreeClassifier(max_depth=4, random_state=5)\n",
    "clf = clf.fit(X_train, y_train)\n",
    "print('Accuracy of Decision Tree classifier on training set: {:.2f}'\n",
    "      .format(clf.score(X_train, y_train)))"
   ]
  },
  {
   "cell_type": "code",
   "execution_count": null,
   "id": "78d08347",
   "metadata": {},
   "outputs": [],
   "source": [
    "train_neg = train.where(train.log_error < 0)\n",
    "train_pos = train.where(train.log_error > 0)"
   ]
  },
  {
   "cell_type": "code",
   "execution_count": null,
   "id": "8809a3a0",
   "metadata": {},
   "outputs": [],
   "source": [
    "train_neg= train_neg.dropna()\n",
    "train_pos = train_pos.dropna()"
   ]
  },
  {
   "cell_type": "code",
   "execution_count": null,
   "id": "5c9e5493",
   "metadata": {},
   "outputs": [],
   "source": []
  },
  {
   "cell_type": "code",
   "execution_count": null,
   "id": "c69a8571",
   "metadata": {},
   "outputs": [],
   "source": [
    "plt.figure(figsize=(10, 4))\n",
    "# sets the size of the graph\n",
    "plt.title(\"Feature Correlation (contiuous variables) of to Log Error\")\n",
    "corr_chart = train.drop(['log_error'], axis=1).corrwith(train['log_error']).sort_values().plot.barh()\n",
    "corr_chart"
   ]
  },
  {
   "cell_type": "code",
   "execution_count": null,
   "id": "4a3afde6",
   "metadata": {},
   "outputs": [],
   "source": []
  }
 ],
 "metadata": {
  "kernelspec": {
   "display_name": "Python 3 (ipykernel)",
   "language": "python",
   "name": "python3"
  },
  "language_info": {
   "codemirror_mode": {
    "name": "ipython",
    "version": 3
   },
   "file_extension": ".py",
   "mimetype": "text/x-python",
   "name": "python",
   "nbconvert_exporter": "python",
   "pygments_lexer": "ipython3",
   "version": "3.9.7"
  }
 },
 "nbformat": 4,
 "nbformat_minor": 5
}
