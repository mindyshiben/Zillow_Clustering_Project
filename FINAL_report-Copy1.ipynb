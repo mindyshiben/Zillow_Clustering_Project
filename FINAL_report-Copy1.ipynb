{
 "cells": [
  {
   "cell_type": "markdown",
   "id": "75ef3d9f",
   "metadata": {},
   "source": [
    "- Intro\n",
    "- Acquire\n",
    "- Prepare\n",
    "- Univariate Explore\n",
    "- Split\n",
    "- Explore/Stats\n",
    "- Kmeans, binning, feature engineering\n",
    "    combining features:\n",
    "    - rooms (bed, bath) - ratio in one col?\n",
    "    - size (square, lot, garage)\n",
    "    - extras (pool, garage)\n",
    "    - year\n",
    "    - location & (code)\n",
    "- Additional explore/stats\n",
    "- takeaways about log error drivers\n",
    "- modeling pre (different codes)\n",
    "- modeling\n",
    "- model summary\n",
    "- conclusion"
   ]
  },
  {
   "cell_type": "markdown",
   "id": "af961907",
   "metadata": {},
   "source": [
    "### INTRO"
   ]
  },
  {
   "cell_type": "markdown",
   "id": "28f81a4d",
   "metadata": {},
   "source": [
    "### IMPORTS/ACQUIRE"
   ]
  },
  {
   "cell_type": "code",
   "execution_count": 1,
   "id": "1a62ed24",
   "metadata": {},
   "outputs": [],
   "source": [
    "# Imports necessary to acquire, prepare, explore, visualize, analyze, and model data\n",
    "\n",
    "import warnings\n",
    "warnings.filterwarnings(\"ignore\")\n",
    "\n",
    "import pandas as pd\n",
    "import matplotlib.pyplot as plt\n",
    "import seaborn as sns\n",
    "import numpy as np\n",
    "import env\n",
    "import acquire\n",
    "import prepare\n",
    "\n",
    "from tabulate import tabulate\n",
    "from IPython.display import Markdown, display\n",
    "\n",
    "from math import sqrt\n",
    "from scipy import stats\n",
    "\n",
    "import sklearn.preprocessing\n",
    "from sklearn.model_selection import train_test_split\n",
    "from scipy.stats import pearsonr, spearmanr\n",
    "\n",
    "from sklearn.metrics import mean_squared_error\n",
    "from sklearn.linear_model import LinearRegression, LassoLars, TweedieRegressor\n",
    "from sklearn.preprocessing import PolynomialFeatures\n",
    "from sklearn.impute import SimpleImputer\n",
    "\n",
    "from sklearn.cluster import DBSCAN\n",
    "from sklearn.cluster import KMeans\n",
    "import sklearn.preprocessing\n",
    "from sklearn import metrics\n",
    "from sklearn.preprocessing import StandardScaler\n",
    "from scipy.cluster.vq import kmeans2, whiten\n",
    "\n",
    "np.random.seed(12)"
   ]
  },
  {
   "cell_type": "code",
   "execution_count": 2,
   "id": "34f93fbe",
   "metadata": {},
   "outputs": [],
   "source": [
    "df = acquire.get_zillow_data()\n",
    "df = prepare.remove_outliers(df)\n",
    "df = prepare.handle_nulls(df)\n",
    "df = prepare.rename_columns(df)\n",
    "df = prepare.prepare_locs(df)"
   ]
  },
  {
   "cell_type": "markdown",
   "id": "890f100f",
   "metadata": {},
   "source": [
    "### note: add to prepare..."
   ]
  },
  {
   "cell_type": "code",
   "execution_count": 3,
   "id": "18c97cd8",
   "metadata": {},
   "outputs": [],
   "source": [
    "df = df[(df.propertycountylandusecode == '0100') | (df.propertycountylandusecode == '122') | (df.propertycountylandusecode == '0101') | (df.propertycountylandusecode == '1111') | (df.propertycountylandusecode == '1') | (df.propertycountylandusecode == '1110') | (df.propertycountylandusecode == '0104')]"
   ]
  },
  {
   "cell_type": "code",
   "execution_count": 4,
   "id": "4ad78b9c",
   "metadata": {},
   "outputs": [],
   "source": [
    "df = df[(df.log_error > -.4) & (df.log_error < .4)]"
   ]
  },
  {
   "cell_type": "code",
   "execution_count": 5,
   "id": "d2d17b9d",
   "metadata": {},
   "outputs": [],
   "source": [
    "df = df[(df.propertycountylandusecode == '1111')]"
   ]
  },
  {
   "cell_type": "code",
   "execution_count": 6,
   "id": "5b355441",
   "metadata": {},
   "outputs": [
    {
     "name": "stdout",
     "output_type": "stream",
     "text": [
      "<class 'pandas.core.frame.DataFrame'>\n",
      "Int64Index: 3257 entries, 9 to 52438\n",
      "Data columns (total 19 columns):\n",
      " #   Column                     Non-Null Count  Dtype         \n",
      "---  ------                     --------------  -----         \n",
      " 0   parcelid                   3257 non-null   int64         \n",
      " 1   bathrooms                  3257 non-null   float64       \n",
      " 2   bedrooms                   3257 non-null   float64       \n",
      " 3   square_feet                3257 non-null   int64         \n",
      " 4   fips                       3257 non-null   int64         \n",
      " 5   garages                    3257 non-null   int64         \n",
      " 6   garage_size                3257 non-null   int64         \n",
      " 7   lot_size                   3257 non-null   int64         \n",
      " 8   has_pool                   3257 non-null   bool          \n",
      " 9   propertycountylandusecode  3257 non-null   object        \n",
      " 10  propertylandusetypeid      3257 non-null   float64       \n",
      " 11  year_built                 3257 non-null   int64         \n",
      " 12  taxvaluedollarcnt          3257 non-null   float64       \n",
      " 13  landtaxvaluedollarcnt      3257 non-null   float64       \n",
      " 14  log_error                  3257 non-null   float64       \n",
      " 15  transaction_date           3257 non-null   datetime64[ns]\n",
      " 16  county                     3257 non-null   object        \n",
      " 17  latitude                   3257 non-null   float64       \n",
      " 18  longitude                  3257 non-null   float64       \n",
      "dtypes: bool(1), datetime64[ns](1), float64(8), int64(7), object(2)\n",
      "memory usage: 486.6+ KB\n"
     ]
    }
   ],
   "source": [
    "df.info()"
   ]
  },
  {
   "cell_type": "code",
   "execution_count": 7,
   "id": "9c8be78c",
   "metadata": {},
   "outputs": [],
   "source": [
    "#ex = train[(train.county == 'orange') & (train.square_feet > 2400) & (train.lot_size > 18975)]"
   ]
  },
  {
   "cell_type": "code",
   "execution_count": null,
   "id": "eb6895bd",
   "metadata": {},
   "outputs": [],
   "source": []
  },
  {
   "cell_type": "markdown",
   "id": "a598b8ac",
   "metadata": {},
   "source": [
    "### note : talk about % of data still here, what was dropped, why, handling nulls and outliers"
   ]
  },
  {
   "cell_type": "markdown",
   "id": "3affad63",
   "metadata": {},
   "source": [
    "### SPLIT\n",
    "### note: make in function"
   ]
  },
  {
   "cell_type": "code",
   "execution_count": 8,
   "id": "04dec0c4",
   "metadata": {},
   "outputs": [
    {
     "name": "stdout",
     "output_type": "stream",
     "text": [
      "\n"
     ]
    },
    {
     "data": {
      "text/markdown": [
       "**Number of Train Records:** 1,823"
      ],
      "text/plain": [
       "<IPython.core.display.Markdown object>"
      ]
     },
     "metadata": {},
     "output_type": "display_data"
    },
    {
     "data": {
      "text/markdown": [
       "**Number of Validate Records:** 782"
      ],
      "text/plain": [
       "<IPython.core.display.Markdown object>"
      ]
     },
     "metadata": {},
     "output_type": "display_data"
    },
    {
     "data": {
      "text/markdown": [
       "**Number of Test Records:** 652"
      ],
      "text/plain": [
       "<IPython.core.display.Markdown object>"
      ]
     },
     "metadata": {},
     "output_type": "display_data"
    }
   ],
   "source": [
    "train, test = train_test_split(df, test_size=.2, random_state=123)\n",
    "train, validate = train_test_split(train, test_size=.3, random_state=123)\n",
    "# Splits data into 3 subsets: train, validate, test. Random state specifying that data is split\n",
    "# with the exact same records when the code is re-run (useful for exploration and modeling, yet\n",
    "# I suggest dropping this when employing the model)\n",
    "\n",
    "def printmd(string): # function to format text style\n",
    "    display(Markdown(string))\n",
    "print()\n",
    "printmd('**Number of Train Records:** {:,}'\n",
    "     .format(len(train)))\n",
    "printmd('**Number of Validate Records:** {:,}'\n",
    "     .format(len(validate)))\n",
    "printmd('**Number of Test Records:** {:,}'\n",
    "     .format(len(test)))\n",
    "# returns the amount of records in each subset after splitting"
   ]
  },
  {
   "cell_type": "markdown",
   "id": "2bd86d61",
   "metadata": {},
   "source": [
    "### EXPLORE\n",
    "\n",
    "- Ask questions\n",
    "- what is driving logerror?\n",
    "- hypothesize homes that don't quite fit normal patterns(take drivers from tax value into account) - ie. older home that has a very high value and/or square feet, very small home with high value, strange ratio of bed to bath\n",
    "- does location impact error (are some locations harder to predict?)"
   ]
  },
  {
   "cell_type": "markdown",
   "id": "04716201",
   "metadata": {},
   "source": [
    "### STATS"
   ]
  },
  {
   "cell_type": "markdown",
   "id": "a6b4932e",
   "metadata": {},
   "source": [
    "### Feature Eng"
   ]
  },
  {
   "cell_type": "code",
   "execution_count": 9,
   "id": "56928322",
   "metadata": {},
   "outputs": [
    {
     "data": {
      "text/html": [
       "<div>\n",
       "<style scoped>\n",
       "    .dataframe tbody tr th:only-of-type {\n",
       "        vertical-align: middle;\n",
       "    }\n",
       "\n",
       "    .dataframe tbody tr th {\n",
       "        vertical-align: top;\n",
       "    }\n",
       "\n",
       "    .dataframe thead th {\n",
       "        text-align: right;\n",
       "    }\n",
       "</style>\n",
       "<table border=\"1\" class=\"dataframe\">\n",
       "  <thead>\n",
       "    <tr style=\"text-align: right;\">\n",
       "      <th></th>\n",
       "      <th>bedrooms</th>\n",
       "      <th>bathrooms</th>\n",
       "    </tr>\n",
       "  </thead>\n",
       "  <tbody>\n",
       "    <tr>\n",
       "      <th>0</th>\n",
       "      <td>2.981395</td>\n",
       "      <td>2.630233</td>\n",
       "    </tr>\n",
       "    <tr>\n",
       "      <th>1</th>\n",
       "      <td>4.001869</td>\n",
       "      <td>2.166355</td>\n",
       "    </tr>\n",
       "    <tr>\n",
       "      <th>2</th>\n",
       "      <td>2.898367</td>\n",
       "      <td>1.906534</td>\n",
       "    </tr>\n",
       "    <tr>\n",
       "      <th>3</th>\n",
       "      <td>4.812500</td>\n",
       "      <td>4.177083</td>\n",
       "    </tr>\n",
       "    <tr>\n",
       "      <th>4</th>\n",
       "      <td>3.986885</td>\n",
       "      <td>3.172131</td>\n",
       "    </tr>\n",
       "    <tr>\n",
       "      <th>5</th>\n",
       "      <td>5.000000</td>\n",
       "      <td>2.719008</td>\n",
       "    </tr>\n",
       "  </tbody>\n",
       "</table>\n",
       "</div>"
      ],
      "text/plain": [
       "   bedrooms  bathrooms\n",
       "0  2.981395   2.630233\n",
       "1  4.001869   2.166355\n",
       "2  2.898367   1.906534\n",
       "3  4.812500   4.177083\n",
       "4  3.986885   3.172131\n",
       "5  5.000000   2.719008"
      ]
     },
     "execution_count": 9,
     "metadata": {},
     "output_type": "execute_result"
    }
   ],
   "source": [
    "X = train[['bedrooms', 'bathrooms']]\n",
    "XVAL = validate[['bedrooms', 'bathrooms']]\n",
    "XTEST = test[['bedrooms', 'bathrooms']]\n",
    "\n",
    "kmeans = KMeans(n_clusters=6)\n",
    "kmeans.fit(X)\n",
    "\n",
    "kmeans.predict(X)\n",
    "\n",
    "train['room_cluster'] = kmeans.predict(X)\n",
    "validate['room_cluster'] = kmeans.predict(XVAL)\n",
    "test['room_cluster'] = kmeans.predict(XTEST)\n",
    "\n",
    "centroids = pd.DataFrame(kmeans.cluster_centers_, columns=X.columns)\n",
    "centroids"
   ]
  },
  {
   "cell_type": "code",
   "execution_count": 10,
   "id": "e664d79f",
   "metadata": {},
   "outputs": [
    {
     "data": {
      "image/png": "[encoded data removed]",
      "text/plain": [
       "<Figure size 648x432 with 1 Axes>"
      ]
     },
     "metadata": {},
     "output_type": "display_data"
    }
   ],
   "source": [
    "with plt.style.context('seaborn-whitegrid'):\n",
    "    plt.figure(figsize=(9, 6))\n",
    "    pd.Series({k: KMeans(k).fit(X).inertia_ for k in range(2, 12)}).plot(marker='x')\n",
    "    plt.xticks(range(2, 12))\n",
    "    plt.xlabel('k')\n",
    "    plt.ylabel('inertia')\n",
    "    plt.title('Change in inertia as k increases')"
   ]
  },
  {
   "cell_type": "code",
   "execution_count": 11,
   "id": "3f58a513",
   "metadata": {},
   "outputs": [],
   "source": [
    "num_vars = train[['lot_size', 'square_feet', 'bedrooms', 'bathrooms', 'latitude', 'longitude']]\n",
    "num_vars1 = validate[['lot_size', 'square_feet', 'bedrooms', 'bathrooms', 'latitude', 'longitude']]\n",
    "num_vars2 = test[['lot_size', 'square_feet', 'bedrooms', 'bathrooms', 'latitude', 'longitude']]\n",
    "\n",
    "scaler = sklearn.preprocessing.MinMaxScaler()\n",
    "scaler.fit(num_vars)\n",
    "train_s = (num_vars)\n",
    "validate_s = (num_vars1)\n",
    "test_s = (num_vars2)\n",
    "\n",
    "X = scaler.transform(num_vars)\n",
    "X1 = scaler.transform(num_vars1)\n",
    "X2 = scaler.transform(num_vars2)\n",
    "\n",
    "X = pd.DataFrame(X, index=train_s.index, columns=train_s.columns)\n",
    "X1 = pd.DataFrame(X1, index=validate_s.index, columns=validate_s.columns)\n",
    "X2 = pd.DataFrame(X2, index=test_s.index, columns=test_s.columns)\n",
    "\n",
    "clustering = DBSCAN(eps = .1, min_samples = 30).fit(X)\n",
    "clustering1 = DBSCAN(eps = .1, min_samples = 30).fit(X1)\n",
    "clustering2 = DBSCAN(eps = .1, min_samples = 30).fit(X2)\n",
    "\n",
    "train['DB_lot']=clustering.labels_\n",
    "validate['DB_lot']=clustering1.labels_\n",
    "\n",
    "test['DB_lot']=clustering2.labels_"
   ]
  },
  {
   "cell_type": "code",
   "execution_count": 12,
   "id": "2907a6ef",
   "metadata": {},
   "outputs": [],
   "source": [
    "# X = train[['square_feet','garages', 'has_pool']]\n",
    "\n",
    "# kmeans = KMeans(n_clusters=4)\n",
    "# kmeans.fit(X)\n",
    "\n",
    "# kmeans.predict(X)\n",
    "\n",
    "# train['extras_cluster'] = kmeans.predict(X)\n",
    "\n",
    "# centroids = pd.DataFrame(kmeans.cluster_centers_, columns=X.columns)\n",
    "# centroids"
   ]
  },
  {
   "cell_type": "code",
   "execution_count": null,
   "id": "8602dfa1",
   "metadata": {},
   "outputs": [],
   "source": []
  },
  {
   "cell_type": "code",
   "execution_count": 13,
   "id": "aa5ccfec",
   "metadata": {},
   "outputs": [],
   "source": [
    "# bins = [-.6, -.0475, -.0244, -.0106, 0, .0125, .0283, .0586, .6]\n",
    "# labels = ['N4','N3','N2','N1', 'P1', 'P2', 'P3', 'P4']\n",
    "# train['log_error_bin'] = pd.cut(train['log_error'], bins=bins, labels=labels)\n",
    "# validate['log_error_bin'] = pd.cut(validate['log_error'], bins=bins, labels=labels)\n",
    "# test['log_error_bin'] = pd.cut(test['log_error'], bins=bins, labels=labels)"
   ]
  },
  {
   "cell_type": "code",
   "execution_count": 14,
   "id": "da2c4eb8",
   "metadata": {},
   "outputs": [],
   "source": [
    "train['garages'] = train.garages.astype(bool)\n",
    "train['has_pool'] = train.has_pool.astype(bool)\n",
    "\n",
    "validate['garages'] = validate.garages.astype(bool)\n",
    "validate['has_pool'] = validate.has_pool.astype(bool)\n",
    "\n",
    "test['garages'] = test.garages.astype(bool)\n",
    "test['has_pool'] = test.has_pool.astype(bool)\n",
    "\n",
    "train['garages'] = train.garages.astype(int)\n",
    "train['has_pool'] = train.has_pool.astype(int)\n",
    "\n",
    "validate['garages'] = validate.garages.astype(int)\n",
    "validate['has_pool'] = validate.has_pool.astype(int)\n",
    "\n",
    "test['garages'] = test.garages.astype(int)\n",
    "test['has_pool'] = test.has_pool.astype(int)\n",
    "\n",
    "train['extras'] = (train['garages']) + (train['has_pool'])\n",
    "validate['extras'] = (validate['garages']) + (validate['has_pool'])\n",
    "test['extras'] = (test['garages']) + (test['has_pool'])"
   ]
  },
  {
   "cell_type": "code",
   "execution_count": 15,
   "id": "d71063f5",
   "metadata": {},
   "outputs": [
    {
     "data": {
      "text/plain": [
       "1    1448\n",
       "2     370\n",
       "0       5\n",
       "Name: extras, dtype: int64"
      ]
     },
     "execution_count": 15,
     "metadata": {},
     "output_type": "execute_result"
    }
   ],
   "source": [
    "train.extras.value_counts()"
   ]
  },
  {
   "cell_type": "code",
   "execution_count": 16,
   "id": "5ac02c21",
   "metadata": {},
   "outputs": [
    {
     "data": {
      "image/png": "[encoded data removed]",
      "text/plain": [
       "<Figure size 648x432 with 1 Axes>"
      ]
     },
     "metadata": {},
     "output_type": "display_data"
    }
   ],
   "source": [
    "X = train[['latitude', 'longitude']]\n",
    "\n",
    "with plt.style.context('seaborn-whitegrid'):\n",
    "    plt.figure(figsize=(9, 6))\n",
    "    pd.Series({k: KMeans(k).fit(X).inertia_ for k in range(2, 12)}).plot(marker='x')\n",
    "    plt.xticks(range(2, 12))\n",
    "    plt.xlabel('k')\n",
    "    plt.ylabel('inertia')\n",
    "    plt.title('Change in inertia as k increases')"
   ]
  },
  {
   "cell_type": "code",
   "execution_count": 17,
   "id": "bbb727cc",
   "metadata": {},
   "outputs": [
    {
     "data": {
      "text/html": [
       "<div>\n",
       "<style scoped>\n",
       "    .dataframe tbody tr th:only-of-type {\n",
       "        vertical-align: middle;\n",
       "    }\n",
       "\n",
       "    .dataframe tbody tr th {\n",
       "        vertical-align: top;\n",
       "    }\n",
       "\n",
       "    .dataframe thead th {\n",
       "        text-align: right;\n",
       "    }\n",
       "</style>\n",
       "<table border=\"1\" class=\"dataframe\">\n",
       "  <thead>\n",
       "    <tr style=\"text-align: right;\">\n",
       "      <th></th>\n",
       "      <th>latitude</th>\n",
       "      <th>longitude</th>\n",
       "    </tr>\n",
       "  </thead>\n",
       "  <tbody>\n",
       "    <tr>\n",
       "      <th>0</th>\n",
       "      <td>34.151377</td>\n",
       "      <td>-118.843203</td>\n",
       "    </tr>\n",
       "    <tr>\n",
       "      <th>1</th>\n",
       "      <td>34.270163</td>\n",
       "      <td>-119.174521</td>\n",
       "    </tr>\n",
       "    <tr>\n",
       "      <th>2</th>\n",
       "      <td>34.197140</td>\n",
       "      <td>-118.895815</td>\n",
       "    </tr>\n",
       "    <tr>\n",
       "      <th>3</th>\n",
       "      <td>34.272464</td>\n",
       "      <td>-118.745624</td>\n",
       "    </tr>\n",
       "    <tr>\n",
       "      <th>4</th>\n",
       "      <td>34.227088</td>\n",
       "      <td>-119.002437</td>\n",
       "    </tr>\n",
       "    <tr>\n",
       "      <th>5</th>\n",
       "      <td>34.400813</td>\n",
       "      <td>-118.922558</td>\n",
       "    </tr>\n",
       "    <tr>\n",
       "      <th>6</th>\n",
       "      <td>34.435782</td>\n",
       "      <td>-119.270262</td>\n",
       "    </tr>\n",
       "    <tr>\n",
       "      <th>7</th>\n",
       "      <td>34.207221</td>\n",
       "      <td>-119.196176</td>\n",
       "    </tr>\n",
       "    <tr>\n",
       "      <th>8</th>\n",
       "      <td>34.215667</td>\n",
       "      <td>-118.845695</td>\n",
       "    </tr>\n",
       "    <tr>\n",
       "      <th>9</th>\n",
       "      <td>34.173138</td>\n",
       "      <td>-118.959014</td>\n",
       "    </tr>\n",
       "    <tr>\n",
       "      <th>10</th>\n",
       "      <td>34.268721</td>\n",
       "      <td>-118.888089</td>\n",
       "    </tr>\n",
       "    <tr>\n",
       "      <th>11</th>\n",
       "      <td>34.281196</td>\n",
       "      <td>-118.685840</td>\n",
       "    </tr>\n",
       "    <tr>\n",
       "      <th>12</th>\n",
       "      <td>34.353307</td>\n",
       "      <td>-119.078424</td>\n",
       "    </tr>\n",
       "    <tr>\n",
       "      <th>13</th>\n",
       "      <td>34.311990</td>\n",
       "      <td>-119.287529</td>\n",
       "    </tr>\n",
       "    <tr>\n",
       "      <th>14</th>\n",
       "      <td>34.249734</td>\n",
       "      <td>-118.792884</td>\n",
       "    </tr>\n",
       "    <tr>\n",
       "      <th>15</th>\n",
       "      <td>34.274838</td>\n",
       "      <td>-119.227601</td>\n",
       "    </tr>\n",
       "    <tr>\n",
       "      <th>16</th>\n",
       "      <td>34.293603</td>\n",
       "      <td>-118.860055</td>\n",
       "    </tr>\n",
       "    <tr>\n",
       "      <th>17</th>\n",
       "      <td>34.231634</td>\n",
       "      <td>-119.045785</td>\n",
       "    </tr>\n",
       "    <tr>\n",
       "      <th>18</th>\n",
       "      <td>34.181576</td>\n",
       "      <td>-118.769673</td>\n",
       "    </tr>\n",
       "    <tr>\n",
       "      <th>19</th>\n",
       "      <td>34.171841</td>\n",
       "      <td>-119.171544</td>\n",
       "    </tr>\n",
       "  </tbody>\n",
       "</table>\n",
       "</div>"
      ],
      "text/plain": [
       "     latitude   longitude\n",
       "0   34.151377 -118.843203\n",
       "1   34.270163 -119.174521\n",
       "2   34.197140 -118.895815\n",
       "3   34.272464 -118.745624\n",
       "4   34.227088 -119.002437\n",
       "5   34.400813 -118.922558\n",
       "6   34.435782 -119.270262\n",
       "7   34.207221 -119.196176\n",
       "8   34.215667 -118.845695\n",
       "9   34.173138 -118.959014\n",
       "10  34.268721 -118.888089\n",
       "11  34.281196 -118.685840\n",
       "12  34.353307 -119.078424\n",
       "13  34.311990 -119.287529\n",
       "14  34.249734 -118.792884\n",
       "15  34.274838 -119.227601\n",
       "16  34.293603 -118.860055\n",
       "17  34.231634 -119.045785\n",
       "18  34.181576 -118.769673\n",
       "19  34.171841 -119.171544"
      ]
     },
     "execution_count": 17,
     "metadata": {},
     "output_type": "execute_result"
    }
   ],
   "source": [
    "X = train[['latitude', 'longitude']]\n",
    "XV = validate[['latitude', 'longitude']]\n",
    "XT = test[['latitude', 'longitude']]\n",
    "\n",
    "kmeans = KMeans(n_clusters=20)\n",
    "kmeans.fit(X)\n",
    "\n",
    "train['cluster_locs'] = kmeans.predict(X)\n",
    "validate['cluster_locs'] = kmeans.predict(XV)\n",
    "test['cluster_locs'] = kmeans.predict(XT)\n",
    "\n",
    "centroids = pd.DataFrame(kmeans.cluster_centers_, columns=X.columns)\n",
    "centroids"
   ]
  },
  {
   "cell_type": "code",
   "execution_count": 18,
   "id": "cf76fd7c",
   "metadata": {},
   "outputs": [
    {
     "data": {
      "text/plain": [
       "<AxesSubplot:xlabel='longitude', ylabel='latitude'>"
      ]
     },
     "execution_count": 18,
     "metadata": {},
     "output_type": "execute_result"
    },
    {
     "data": {
      "image/png": "[encoded data removed]",
      "text/plain": [
       "<Figure size 432x288 with 1 Axes>"
      ]
     },
     "metadata": {
      "needs_background": "light"
     },
     "output_type": "display_data"
    }
   ],
   "source": [
    "sns.scatterplot(data=train, x='longitude', y='latitude', hue='cluster_locs')"
   ]
  },
  {
   "cell_type": "code",
   "execution_count": 19,
   "id": "306cbf11",
   "metadata": {},
   "outputs": [],
   "source": [
    "train['total_size'] = (train['lot_size']) + (train['square_feet'])\n",
    "validate['total_size'] = (validate['lot_size']) + (validate['square_feet'])\n",
    "test['total_size'] = (test['lot_size']) + (test['square_feet'])"
   ]
  },
  {
   "cell_type": "code",
   "execution_count": 20,
   "id": "3aae1fca",
   "metadata": {},
   "outputs": [],
   "source": [
    "# train = train[train.log_error > -0.2]\n",
    "# train = train[train.log_error < 0.2]"
   ]
  },
  {
   "cell_type": "code",
   "execution_count": 21,
   "id": "e99b396c",
   "metadata": {},
   "outputs": [],
   "source": [
    "bins = [-.07,  0, .07]\n",
    "labels = ['N1', 'P1']\n",
    "train['log_error_bin'] = pd.cut(train['log_error'], bins=bins, labels=labels)\n",
    "validate['log_error_bin'] = pd.cut(validate['log_error'], bins=bins, labels=labels)\n",
    "test['log_error_bin'] = pd.cut(test['log_error'], bins=bins, labels=labels)"
   ]
  },
  {
   "cell_type": "code",
   "execution_count": 22,
   "id": "6232aa80",
   "metadata": {},
   "outputs": [],
   "source": [
    "train_neg = train.where(train.log_error < 0).dropna()\n",
    "train_pos = train.where(train.log_error > 0).dropna()"
   ]
  },
  {
   "cell_type": "code",
   "execution_count": 23,
   "id": "8ffd06f7",
   "metadata": {},
   "outputs": [],
   "source": [
    "train['log_error_binn'] = train['log_error_bin'].replace(['N1'],'P1')\n",
    "train['log_error_binn'] = train['log_error_binn'].replace(['N2'],'P2')\n",
    "\n",
    "validate['log_error_binn'] = validate['log_error_bin'].replace(['N1'],'P1')\n",
    "validate['log_error_binn'] = validate['log_error_binn'].replace(['N2'],'P2')\n",
    "\n",
    "test['log_error_binn'] = test['log_error_bin'].replace(['N1'],'P1')\n",
    "test['log_error_binn'] = test['log_error_binn'].replace(['N2'],'P2')"
   ]
  },
  {
   "cell_type": "code",
   "execution_count": 24,
   "id": "36d09256",
   "metadata": {},
   "outputs": [
    {
     "name": "stdout",
     "output_type": "stream",
     "text": [
      "<class 'pandas.core.frame.DataFrame'>\n",
      "Int64Index: 1823 entries, 33674 to 39431\n",
      "Data columns (total 26 columns):\n",
      " #   Column                     Non-Null Count  Dtype         \n",
      "---  ------                     --------------  -----         \n",
      " 0   parcelid                   1823 non-null   int64         \n",
      " 1   bathrooms                  1823 non-null   float64       \n",
      " 2   bedrooms                   1823 non-null   float64       \n",
      " 3   square_feet                1823 non-null   int64         \n",
      " 4   fips                       1823 non-null   int64         \n",
      " 5   garages                    1823 non-null   int64         \n",
      " 6   garage_size                1823 non-null   int64         \n",
      " 7   lot_size                   1823 non-null   int64         \n",
      " 8   has_pool                   1823 non-null   int64         \n",
      " 9   propertycountylandusecode  1823 non-null   object        \n",
      " 10  propertylandusetypeid      1823 non-null   float64       \n",
      " 11  year_built                 1823 non-null   int64         \n",
      " 12  taxvaluedollarcnt          1823 non-null   float64       \n",
      " 13  landtaxvaluedollarcnt      1823 non-null   float64       \n",
      " 14  log_error                  1823 non-null   float64       \n",
      " 15  transaction_date           1823 non-null   datetime64[ns]\n",
      " 16  county                     1823 non-null   object        \n",
      " 17  latitude                   1823 non-null   float64       \n",
      " 18  longitude                  1823 non-null   float64       \n",
      " 19  room_cluster               1823 non-null   int32         \n",
      " 20  DB_lot                     1823 non-null   int64         \n",
      " 21  extras                     1823 non-null   int64         \n",
      " 22  cluster_locs               1823 non-null   int32         \n",
      " 23  total_size                 1823 non-null   int64         \n",
      " 24  log_error_bin              1588 non-null   category      \n",
      " 25  log_error_binn             1588 non-null   category      \n",
      "dtypes: category(2), datetime64[ns](1), float64(8), int32(2), int64(11), object(2)\n",
      "memory usage: 345.6+ KB\n"
     ]
    }
   ],
   "source": [
    "train.info()"
   ]
  },
  {
   "cell_type": "code",
   "execution_count": 25,
   "id": "a5d79611",
   "metadata": {},
   "outputs": [],
   "source": [
    "X_train = train[['bedrooms', 'bathrooms', 'square_feet', 'taxvaluedollarcnt', 'landtaxvaluedollarcnt', 'year_built', 'lot_size', 'DB_lot', 'total_size', 'room_cluster', 'extras']]\n",
    "y_train = train[['log_error_bin']]\n",
    "\n",
    "X_validate = validate[['bedrooms', 'bathrooms', 'square_feet', 'taxvaluedollarcnt', 'landtaxvaluedollarcnt', 'year_built', 'lot_size', 'DB_lot', 'total_size', 'room_cluster', 'extras']]\n",
    "y_validate = validate[['log_error_bin']]\n",
    "\n",
    "X_test = test[['bedrooms', 'bathrooms', 'square_feet', 'taxvaluedollarcnt', 'landtaxvaluedollarcnt', 'year_built', 'lot_size', 'DB_lot', 'total_size', 'room_cluster', 'extras']]\n",
    "y_test = test[['log_error_bin']]"
   ]
  },
  {
   "cell_type": "code",
   "execution_count": 26,
   "id": "dd664e59",
   "metadata": {},
   "outputs": [
    {
     "data": {
      "text/plain": [
       "0.5859872611464968"
      ]
     },
     "execution_count": 26,
     "metadata": {},
     "output_type": "execute_result"
    }
   ],
   "source": [
    "184/314"
   ]
  },
  {
   "cell_type": "code",
   "execution_count": 27,
   "id": "9d645905",
   "metadata": {},
   "outputs": [],
   "source": [
    "from sklearn.tree import DecisionTreeClassifier, plot_tree\n",
    "from sklearn.metrics import classification_report\n",
    "from sklearn.metrics import confusion_matrix\n",
    "from sklearn.feature_selection import RFE"
   ]
  },
  {
   "cell_type": "code",
   "execution_count": 28,
   "id": "28b896e7",
   "metadata": {},
   "outputs": [
    {
     "ename": "ValueError",
     "evalue": "Input contains NaN",
     "output_type": "error",
     "traceback": [
      "\u001b[0;31m---------------------------------------------------------------------------\u001b[0m",
      "\u001b[0;31mValueError\u001b[0m                                Traceback (most recent call last)",
      "\u001b[0;32m/var/folders/s4/hmz6ljm533vgpm_bhv59yw0m0000gn/T/ipykernel_1990/2491499648.py\u001b[0m in \u001b[0;36m<module>\u001b[0;34m\u001b[0m\n\u001b[1;32m      8\u001b[0m \u001b[0;34m\u001b[0m\u001b[0m\n\u001b[1;32m      9\u001b[0m \u001b[0;31m# fit the data using RFE\u001b[0m\u001b[0;34m\u001b[0m\u001b[0;34m\u001b[0m\u001b[0m\n\u001b[0;32m---> 10\u001b[0;31m \u001b[0mrfe\u001b[0m\u001b[0;34m.\u001b[0m\u001b[0mfit\u001b[0m\u001b[0;34m(\u001b[0m\u001b[0mX_train\u001b[0m\u001b[0;34m,\u001b[0m\u001b[0my_train\u001b[0m\u001b[0;34m)\u001b[0m\u001b[0;34m\u001b[0m\u001b[0;34m\u001b[0m\u001b[0m\n\u001b[0m\u001b[1;32m     11\u001b[0m \u001b[0;34m\u001b[0m\u001b[0m\n\u001b[1;32m     12\u001b[0m \u001b[0;31m# get the mask of the columns selected\u001b[0m\u001b[0;34m\u001b[0m\u001b[0;34m\u001b[0m\u001b[0m\n",
      "\u001b[0;32m/usr/local/anaconda3/lib/python3.9/site-packages/sklearn/feature_selection/_rfe.py\u001b[0m in \u001b[0;36mfit\u001b[0;34m(self, X, y)\u001b[0m\n\u001b[1;32m    182\u001b[0m             \u001b[0mThe\u001b[0m \u001b[0mtarget\u001b[0m \u001b[0mvalues\u001b[0m\u001b[0;34m.\u001b[0m\u001b[0;34m\u001b[0m\u001b[0;34m\u001b[0m\u001b[0m\n\u001b[1;32m    183\u001b[0m         \"\"\"\n\u001b[0;32m--> 184\u001b[0;31m         \u001b[0;32mreturn\u001b[0m \u001b[0mself\u001b[0m\u001b[0;34m.\u001b[0m\u001b[0m_fit\u001b[0m\u001b[0;34m(\u001b[0m\u001b[0mX\u001b[0m\u001b[0;34m,\u001b[0m \u001b[0my\u001b[0m\u001b[0;34m)\u001b[0m\u001b[0;34m\u001b[0m\u001b[0;34m\u001b[0m\u001b[0m\n\u001b[0m\u001b[1;32m    185\u001b[0m \u001b[0;34m\u001b[0m\u001b[0m\n\u001b[1;32m    186\u001b[0m     \u001b[0;32mdef\u001b[0m \u001b[0m_fit\u001b[0m\u001b[0;34m(\u001b[0m\u001b[0mself\u001b[0m\u001b[0;34m,\u001b[0m \u001b[0mX\u001b[0m\u001b[0;34m,\u001b[0m \u001b[0my\u001b[0m\u001b[0;34m,\u001b[0m \u001b[0mstep_score\u001b[0m\u001b[0;34m=\u001b[0m\u001b[0;32mNone\u001b[0m\u001b[0;34m)\u001b[0m\u001b[0;34m:\u001b[0m\u001b[0;34m\u001b[0m\u001b[0;34m\u001b[0m\u001b[0m\n",
      "\u001b[0;32m/usr/local/anaconda3/lib/python3.9/site-packages/sklearn/feature_selection/_rfe.py\u001b[0m in \u001b[0;36m_fit\u001b[0;34m(self, X, y, step_score)\u001b[0m\n\u001b[1;32m    191\u001b[0m \u001b[0;34m\u001b[0m\u001b[0m\n\u001b[1;32m    192\u001b[0m         \u001b[0mtags\u001b[0m \u001b[0;34m=\u001b[0m \u001b[0mself\u001b[0m\u001b[0;34m.\u001b[0m\u001b[0m_get_tags\u001b[0m\u001b[0;34m(\u001b[0m\u001b[0;34m)\u001b[0m\u001b[0;34m\u001b[0m\u001b[0;34m\u001b[0m\u001b[0m\n\u001b[0;32m--> 193\u001b[0;31m         X, y = self._validate_data(\n\u001b[0m\u001b[1;32m    194\u001b[0m             \u001b[0mX\u001b[0m\u001b[0;34m,\u001b[0m \u001b[0my\u001b[0m\u001b[0;34m,\u001b[0m \u001b[0maccept_sparse\u001b[0m\u001b[0;34m=\u001b[0m\u001b[0;34m\"csc\"\u001b[0m\u001b[0;34m,\u001b[0m\u001b[0;34m\u001b[0m\u001b[0;34m\u001b[0m\u001b[0m\n\u001b[1;32m    195\u001b[0m             \u001b[0mensure_min_features\u001b[0m\u001b[0;34m=\u001b[0m\u001b[0;36m2\u001b[0m\u001b[0;34m,\u001b[0m\u001b[0;34m\u001b[0m\u001b[0;34m\u001b[0m\u001b[0m\n",
      "\u001b[0;32m/usr/local/anaconda3/lib/python3.9/site-packages/sklearn/base.py\u001b[0m in \u001b[0;36m_validate_data\u001b[0;34m(self, X, y, reset, validate_separately, **check_params)\u001b[0m\n\u001b[1;32m    431\u001b[0m                 \u001b[0my\u001b[0m \u001b[0;34m=\u001b[0m \u001b[0mcheck_array\u001b[0m\u001b[0;34m(\u001b[0m\u001b[0my\u001b[0m\u001b[0;34m,\u001b[0m \u001b[0;34m**\u001b[0m\u001b[0mcheck_y_params\u001b[0m\u001b[0;34m)\u001b[0m\u001b[0;34m\u001b[0m\u001b[0;34m\u001b[0m\u001b[0m\n\u001b[1;32m    432\u001b[0m             \u001b[0;32melse\u001b[0m\u001b[0;34m:\u001b[0m\u001b[0;34m\u001b[0m\u001b[0;34m\u001b[0m\u001b[0m\n\u001b[0;32m--> 433\u001b[0;31m                 \u001b[0mX\u001b[0m\u001b[0;34m,\u001b[0m \u001b[0my\u001b[0m \u001b[0;34m=\u001b[0m \u001b[0mcheck_X_y\u001b[0m\u001b[0;34m(\u001b[0m\u001b[0mX\u001b[0m\u001b[0;34m,\u001b[0m \u001b[0my\u001b[0m\u001b[0;34m,\u001b[0m \u001b[0;34m**\u001b[0m\u001b[0mcheck_params\u001b[0m\u001b[0;34m)\u001b[0m\u001b[0;34m\u001b[0m\u001b[0;34m\u001b[0m\u001b[0m\n\u001b[0m\u001b[1;32m    434\u001b[0m             \u001b[0mout\u001b[0m \u001b[0;34m=\u001b[0m \u001b[0mX\u001b[0m\u001b[0;34m,\u001b[0m \u001b[0my\u001b[0m\u001b[0;34m\u001b[0m\u001b[0;34m\u001b[0m\u001b[0m\n\u001b[1;32m    435\u001b[0m \u001b[0;34m\u001b[0m\u001b[0m\n",
      "\u001b[0;32m/usr/local/anaconda3/lib/python3.9/site-packages/sklearn/utils/validation.py\u001b[0m in \u001b[0;36minner_f\u001b[0;34m(*args, **kwargs)\u001b[0m\n\u001b[1;32m     61\u001b[0m             \u001b[0mextra_args\u001b[0m \u001b[0;34m=\u001b[0m \u001b[0mlen\u001b[0m\u001b[0;34m(\u001b[0m\u001b[0margs\u001b[0m\u001b[0;34m)\u001b[0m \u001b[0;34m-\u001b[0m \u001b[0mlen\u001b[0m\u001b[0;34m(\u001b[0m\u001b[0mall_args\u001b[0m\u001b[0;34m)\u001b[0m\u001b[0;34m\u001b[0m\u001b[0;34m\u001b[0m\u001b[0m\n\u001b[1;32m     62\u001b[0m             \u001b[0;32mif\u001b[0m \u001b[0mextra_args\u001b[0m \u001b[0;34m<=\u001b[0m \u001b[0;36m0\u001b[0m\u001b[0;34m:\u001b[0m\u001b[0;34m\u001b[0m\u001b[0;34m\u001b[0m\u001b[0m\n\u001b[0;32m---> 63\u001b[0;31m                 \u001b[0;32mreturn\u001b[0m \u001b[0mf\u001b[0m\u001b[0;34m(\u001b[0m\u001b[0;34m*\u001b[0m\u001b[0margs\u001b[0m\u001b[0;34m,\u001b[0m \u001b[0;34m**\u001b[0m\u001b[0mkwargs\u001b[0m\u001b[0;34m)\u001b[0m\u001b[0;34m\u001b[0m\u001b[0;34m\u001b[0m\u001b[0m\n\u001b[0m\u001b[1;32m     64\u001b[0m \u001b[0;34m\u001b[0m\u001b[0m\n\u001b[1;32m     65\u001b[0m             \u001b[0;31m# extra_args > 0\u001b[0m\u001b[0;34m\u001b[0m\u001b[0;34m\u001b[0m\u001b[0m\n",
      "\u001b[0;32m/usr/local/anaconda3/lib/python3.9/site-packages/sklearn/utils/validation.py\u001b[0m in \u001b[0;36mcheck_X_y\u001b[0;34m(X, y, accept_sparse, accept_large_sparse, dtype, order, copy, force_all_finite, ensure_2d, allow_nd, multi_output, ensure_min_samples, ensure_min_features, y_numeric, estimator)\u001b[0m\n\u001b[1;32m    878\u001b[0m                     estimator=estimator)\n\u001b[1;32m    879\u001b[0m     \u001b[0;32mif\u001b[0m \u001b[0mmulti_output\u001b[0m\u001b[0;34m:\u001b[0m\u001b[0;34m\u001b[0m\u001b[0;34m\u001b[0m\u001b[0m\n\u001b[0;32m--> 880\u001b[0;31m         y = check_array(y, accept_sparse='csr', force_all_finite=True,\n\u001b[0m\u001b[1;32m    881\u001b[0m                         ensure_2d=False, dtype=None)\n\u001b[1;32m    882\u001b[0m     \u001b[0;32melse\u001b[0m\u001b[0;34m:\u001b[0m\u001b[0;34m\u001b[0m\u001b[0;34m\u001b[0m\u001b[0m\n",
      "\u001b[0;32m/usr/local/anaconda3/lib/python3.9/site-packages/sklearn/utils/validation.py\u001b[0m in \u001b[0;36minner_f\u001b[0;34m(*args, **kwargs)\u001b[0m\n\u001b[1;32m     61\u001b[0m             \u001b[0mextra_args\u001b[0m \u001b[0;34m=\u001b[0m \u001b[0mlen\u001b[0m\u001b[0;34m(\u001b[0m\u001b[0margs\u001b[0m\u001b[0;34m)\u001b[0m \u001b[0;34m-\u001b[0m \u001b[0mlen\u001b[0m\u001b[0;34m(\u001b[0m\u001b[0mall_args\u001b[0m\u001b[0;34m)\u001b[0m\u001b[0;34m\u001b[0m\u001b[0;34m\u001b[0m\u001b[0m\n\u001b[1;32m     62\u001b[0m             \u001b[0;32mif\u001b[0m \u001b[0mextra_args\u001b[0m \u001b[0;34m<=\u001b[0m \u001b[0;36m0\u001b[0m\u001b[0;34m:\u001b[0m\u001b[0;34m\u001b[0m\u001b[0;34m\u001b[0m\u001b[0m\n\u001b[0;32m---> 63\u001b[0;31m                 \u001b[0;32mreturn\u001b[0m \u001b[0mf\u001b[0m\u001b[0;34m(\u001b[0m\u001b[0;34m*\u001b[0m\u001b[0margs\u001b[0m\u001b[0;34m,\u001b[0m \u001b[0;34m**\u001b[0m\u001b[0mkwargs\u001b[0m\u001b[0;34m)\u001b[0m\u001b[0;34m\u001b[0m\u001b[0;34m\u001b[0m\u001b[0m\n\u001b[0m\u001b[1;32m     64\u001b[0m \u001b[0;34m\u001b[0m\u001b[0m\n\u001b[1;32m     65\u001b[0m             \u001b[0;31m# extra_args > 0\u001b[0m\u001b[0;34m\u001b[0m\u001b[0;34m\u001b[0m\u001b[0m\n",
      "\u001b[0;32m/usr/local/anaconda3/lib/python3.9/site-packages/sklearn/utils/validation.py\u001b[0m in \u001b[0;36mcheck_array\u001b[0;34m(array, accept_sparse, accept_large_sparse, dtype, order, copy, force_all_finite, ensure_2d, allow_nd, ensure_min_samples, ensure_min_features, estimator)\u001b[0m\n\u001b[1;32m    718\u001b[0m \u001b[0;34m\u001b[0m\u001b[0m\n\u001b[1;32m    719\u001b[0m         \u001b[0;32mif\u001b[0m \u001b[0mforce_all_finite\u001b[0m\u001b[0;34m:\u001b[0m\u001b[0;34m\u001b[0m\u001b[0;34m\u001b[0m\u001b[0m\n\u001b[0;32m--> 720\u001b[0;31m             _assert_all_finite(array,\n\u001b[0m\u001b[1;32m    721\u001b[0m                                allow_nan=force_all_finite == 'allow-nan')\n\u001b[1;32m    722\u001b[0m \u001b[0;34m\u001b[0m\u001b[0m\n",
      "\u001b[0;32m/usr/local/anaconda3/lib/python3.9/site-packages/sklearn/utils/validation.py\u001b[0m in \u001b[0;36m_assert_all_finite\u001b[0;34m(X, allow_nan, msg_dtype)\u001b[0m\n\u001b[1;32m    109\u001b[0m     \u001b[0;32melif\u001b[0m \u001b[0mX\u001b[0m\u001b[0;34m.\u001b[0m\u001b[0mdtype\u001b[0m \u001b[0;34m==\u001b[0m \u001b[0mnp\u001b[0m\u001b[0;34m.\u001b[0m\u001b[0mdtype\u001b[0m\u001b[0;34m(\u001b[0m\u001b[0;34m'object'\u001b[0m\u001b[0;34m)\u001b[0m \u001b[0;32mand\u001b[0m \u001b[0;32mnot\u001b[0m \u001b[0mallow_nan\u001b[0m\u001b[0;34m:\u001b[0m\u001b[0;34m\u001b[0m\u001b[0;34m\u001b[0m\u001b[0m\n\u001b[1;32m    110\u001b[0m         \u001b[0;32mif\u001b[0m \u001b[0m_object_dtype_isnan\u001b[0m\u001b[0;34m(\u001b[0m\u001b[0mX\u001b[0m\u001b[0;34m)\u001b[0m\u001b[0;34m.\u001b[0m\u001b[0many\u001b[0m\u001b[0;34m(\u001b[0m\u001b[0;34m)\u001b[0m\u001b[0;34m:\u001b[0m\u001b[0;34m\u001b[0m\u001b[0;34m\u001b[0m\u001b[0m\n\u001b[0;32m--> 111\u001b[0;31m             \u001b[0;32mraise\u001b[0m \u001b[0mValueError\u001b[0m\u001b[0;34m(\u001b[0m\u001b[0;34m\"Input contains NaN\"\u001b[0m\u001b[0;34m)\u001b[0m\u001b[0;34m\u001b[0m\u001b[0;34m\u001b[0m\u001b[0m\n\u001b[0m\u001b[1;32m    112\u001b[0m \u001b[0;34m\u001b[0m\u001b[0m\n\u001b[1;32m    113\u001b[0m \u001b[0;34m\u001b[0m\u001b[0m\n",
      "\u001b[0;31mValueError\u001b[0m: Input contains NaN"
     ]
    }
   ],
   "source": [
    "\n",
    "\n",
    "# initialize the ML algorithm\n",
    "lm = DecisionTreeClassifier()\n",
    "\n",
    "# create the rfe object, indicating the ML object (lm) and the number of features I want to end up with. \n",
    "rfe = RFE(lm, n_features_to_select=6)\n",
    "\n",
    "# fit the data using RFE\n",
    "rfe.fit(X_train,y_train)  \n",
    "\n",
    "# get the mask of the columns selected\n",
    "feature_mask = rfe.support_\n",
    "\n",
    "# get list of the column names. \n",
    "rfe_feature = X_train.iloc[:,feature_mask].columns.tolist()\n",
    "\n",
    "rfe_feature"
   ]
  },
  {
   "cell_type": "code",
   "execution_count": null,
   "id": "c3677a36",
   "metadata": {},
   "outputs": [],
   "source": [
    "clf = DecisionTreeClassifier(max_depth=3)\n",
    "clf = clf.fit(X_train, y_train)\n",
    "print('Accuracy of Decision Tree classifier on training set: {:.2f}'\n",
    "      .format(clf.score(X_train, y_train)))"
   ]
  },
  {
   "cell_type": "code",
   "execution_count": null,
   "id": "7bc85ca6",
   "metadata": {},
   "outputs": [],
   "source": [
    "print('Accuracy of Decision Tree classifier on validate set: {:.2f}'\n",
    "     .format(clf.score(X_validate, y_validate)))"
   ]
  },
  {
   "cell_type": "code",
   "execution_count": null,
   "id": "4b449c70",
   "metadata": {},
   "outputs": [],
   "source": [
    "from sklearn.ensemble import RandomForestClassifier"
   ]
  },
  {
   "cell_type": "code",
   "execution_count": null,
   "id": "78d08347",
   "metadata": {},
   "outputs": [],
   "source": [
    "rf = RandomForestClassifier(bootstrap=True, \n",
    "                            class_weight=None, \n",
    "                            criterion='gini',\n",
    "                            min_samples_leaf=3,\n",
    "                            n_estimators=100,\n",
    "                            max_depth=3, \n",
    "                            random_state=123)"
   ]
  },
  {
   "cell_type": "code",
   "execution_count": null,
   "id": "8809a3a0",
   "metadata": {},
   "outputs": [],
   "source": [
    "rf.fit(X_train, y_train)\n",
    "RandomForestClassifier(max_depth=1, min_samples_leaf=2, random_state=123)"
   ]
  },
  {
   "cell_type": "code",
   "execution_count": null,
   "id": "5c9e5493",
   "metadata": {},
   "outputs": [],
   "source": [
    "print(rf.feature_importances_)"
   ]
  },
  {
   "cell_type": "code",
   "execution_count": null,
   "id": "70d5f16b",
   "metadata": {},
   "outputs": [],
   "source": [
    "print('Accuracy of random forest classifier on training set: {:.2f}'\n",
    "     .format(rf.score(X_train, y_train)))"
   ]
  },
  {
   "cell_type": "code",
   "execution_count": null,
   "id": "8d17d843",
   "metadata": {},
   "outputs": [],
   "source": [
    "print('Accuracy of random forest classifier on test set: {:.2f}'\n",
    "     .format(rf.score(X_validate, y_validate)))"
   ]
  },
  {
   "cell_type": "code",
   "execution_count": null,
   "id": "49d2fffa",
   "metadata": {},
   "outputs": [],
   "source": [
    "y_pred = rf.predict(X_train)"
   ]
  },
  {
   "cell_type": "code",
   "execution_count": null,
   "id": "c69a8571",
   "metadata": {},
   "outputs": [],
   "source": [
    "plt.figure(figsize=(10, 4))\n",
    "# sets the size of the graph\n",
    "plt.title(\"Feature Correlation (contiuous variables) of to Log Error\")\n",
    "corr_chart = train.drop(['log_error'], axis=1).corrwith(train['log_error']).sort_values().plot.barh()\n",
    "corr_chart"
   ]
  },
  {
   "cell_type": "code",
   "execution_count": null,
   "id": "4a3afde6",
   "metadata": {},
   "outputs": [],
   "source": [
    "train = train[train.DB_locs != -1]\n",
    "validate = validate[validate.DB_locs != -1]\n",
    "test = test[test.DB_locs != -1]"
   ]
  }
 ],
 "metadata": {
  "kernelspec": {
   "display_name": "Python 3 (ipykernel)",
   "language": "python",
   "name": "python3"
  },
  "language_info": {
   "codemirror_mode": {
    "name": "ipython",
    "version": 3
   },
   "file_extension": ".py",
   "mimetype": "text/x-python",
   "name": "python",
   "nbconvert_exporter": "python",
   "pygments_lexer": "ipython3",
   "version": "3.9.7"
  }
 },
 "nbformat": 4,
 "nbformat_minor": 5
}
