{
 "cells": [
  {
   "cell_type": "code",
   "execution_count": 1,
   "id": "99e36a71",
   "metadata": {},
   "outputs": [],
   "source": [
    "# Imports necessary to acquire, prepare, explore, visualize, analyze, and model data\n",
    "\n",
    "import warnings\n",
    "warnings.filterwarnings(\"ignore\")\n",
    "\n",
    "import pandas as pd\n",
    "import matplotlib.pyplot as plt\n",
    "import seaborn as sns\n",
    "import numpy as np\n",
    "import env\n",
    "import acquire\n",
    "import prepare \n",
    "\n",
    "from tabulate import tabulate\n",
    "from IPython.display import Markdown, display\n",
    "\n",
    "from math import sqrt\n",
    "from scipy import stats\n",
    "\n",
    "import sklearn.preprocessing\n",
    "from sklearn.model_selection import train_test_split\n",
    "from scipy.stats import pearsonr, spearmanr\n",
    "\n",
    "from sklearn.metrics import mean_squared_error\n",
    "from sklearn.linear_model import LinearRegression, LassoLars, TweedieRegressor\n",
    "from sklearn.preprocessing import PolynomialFeatures\n",
    "from sklearn.impute import SimpleImputer\n",
    "\n",
    "np.random.seed(123)"
   ]
  },
  {
   "cell_type": "code",
   "execution_count": 2,
   "id": "e2870aa2",
   "metadata": {},
   "outputs": [],
   "source": [
    "df = acquire.get_zillow_data()\n",
    "# this is a user-defined function in acquire.py that pulls in selected data from the SQL database"
   ]
  },
  {
   "cell_type": "markdown",
   "id": "e371288b",
   "metadata": {},
   "source": [
    "### Let's see what we got "
   ]
  },
  {
   "cell_type": "code",
   "execution_count": null,
   "id": "073369e5",
   "metadata": {},
   "outputs": [],
   "source": [
    "df.isna().sum().sum() /len(df)\n",
    "# returns percentage of nulls in df"
   ]
  },
  {
   "cell_type": "markdown",
   "id": "2fa2f8c6",
   "metadata": {},
   "source": [
    "#### Lots of nulls, will want to deal w that in a moment"
   ]
  },
  {
   "cell_type": "code",
   "execution_count": null,
   "id": "8d1828d8",
   "metadata": {},
   "outputs": [],
   "source": [
    "df.info()"
   ]
  },
  {
   "cell_type": "markdown",
   "id": "3ff84080",
   "metadata": {},
   "source": [
    "#### lots of columns, a lot of those tell us nothing and were just here for a join. let's get those keys and then toss those"
   ]
  },
  {
   "cell_type": "code",
   "execution_count": null,
   "id": "c9c94332",
   "metadata": {},
   "outputs": [],
   "source": [
    "df.isna().sum() > (len(df)/2)"
   ]
  },
  {
   "cell_type": "markdown",
   "id": "7c95be3c",
   "metadata": {},
   "source": [
    "getting rid of columns with almost all nulls (more than 80% for now)"
   ]
  },
  {
   "cell_type": "code",
   "execution_count": null,
   "id": "38c1c2e5",
   "metadata": {},
   "outputs": [],
   "source": [
    "df = df.dropna(thresh=df.shape[0]*0.2,how='all',axis=1)"
   ]
  },
  {
   "cell_type": "code",
   "execution_count": null,
   "id": "343ba6b7",
   "metadata": {},
   "outputs": [],
   "source": [
    "df.info()"
   ]
  },
  {
   "cell_type": "markdown",
   "id": "59c6a5d6",
   "metadata": {},
   "source": [
    "looking at duplicate columns..."
   ]
  },
  {
   "cell_type": "code",
   "execution_count": null,
   "id": "355e5f71",
   "metadata": {},
   "outputs": [],
   "source": [
    "df.calculatedbathnbr.value_counts() #can drop"
   ]
  },
  {
   "cell_type": "code",
   "execution_count": null,
   "id": "d2e29ac7",
   "metadata": {},
   "outputs": [],
   "source": [
    "df.bathroomcnt.value_counts"
   ]
  },
  {
   "cell_type": "code",
   "execution_count": null,
   "id": "43ff2c37",
   "metadata": {},
   "outputs": [],
   "source": [
    "df = df.drop(columns=['calculatedbathnbr'])"
   ]
  },
  {
   "cell_type": "code",
   "execution_count": null,
   "id": "2da97e13",
   "metadata": {},
   "outputs": [],
   "source": [
    "df.info()"
   ]
  },
  {
   "cell_type": "markdown",
   "id": "c8951988",
   "metadata": {},
   "source": []
  },
  {
   "cell_type": "code",
   "execution_count": null,
   "id": "65255095",
   "metadata": {},
   "outputs": [],
   "source": [
    "df.finishedsquarefeet12"
   ]
  },
  {
   "cell_type": "code",
   "execution_count": null,
   "id": "0f68fc1c",
   "metadata": {},
   "outputs": [],
   "source": [
    "df[(df.calculatedfinishedsquarefeet != df.finishedsquarefeet12)] #drop"
   ]
  },
  {
   "cell_type": "code",
   "execution_count": null,
   "id": "cdcc4b5e",
   "metadata": {},
   "outputs": [],
   "source": [
    "df= df.drop(columns=['finishedsquarefeet12'])"
   ]
  },
  {
   "cell_type": "code",
   "execution_count": null,
   "id": "4a8ab801",
   "metadata": {},
   "outputs": [],
   "source": [
    "df.info()"
   ]
  },
  {
   "cell_type": "code",
   "execution_count": null,
   "id": "f6b3853c",
   "metadata": {},
   "outputs": [],
   "source": [
    "df = df.drop(columns = 'fullbathcnt')"
   ]
  },
  {
   "cell_type": "code",
   "execution_count": null,
   "id": "28bf1014",
   "metadata": {},
   "outputs": [],
   "source": [
    "df.info()"
   ]
  },
  {
   "cell_type": "code",
   "execution_count": null,
   "id": "30d5d5bd",
   "metadata": {},
   "outputs": [],
   "source": [
    "df.propertylandusetypeid.value_counts() #drop and land use code"
   ]
  },
  {
   "cell_type": "code",
   "execution_count": null,
   "id": "9c44bc3b",
   "metadata": {},
   "outputs": [],
   "source": [
    "df = df.drop(columns = ['propertycountylandusecode', 'propertylandusetypeid'])"
   ]
  },
  {
   "cell_type": "code",
   "execution_count": null,
   "id": "b83da5d3",
   "metadata": {},
   "outputs": [],
   "source": [
    "df.info()"
   ]
  },
  {
   "cell_type": "code",
   "execution_count": null,
   "id": "4d86ac9c",
   "metadata": {},
   "outputs": [],
   "source": [
    "df.heatingorsystemtypeid.value_counts()"
   ]
  },
  {
   "cell_type": "code",
   "execution_count": null,
   "id": "5659f02f",
   "metadata": {},
   "outputs": [],
   "source": [
    "df.airconditioningtypeid.value_counts()"
   ]
  },
  {
   "cell_type": "code",
   "execution_count": null,
   "id": "e99f01db",
   "metadata": {},
   "outputs": [],
   "source": [
    "df['airconditioningtypeid'] = df['airconditioningtypeid'].fillna(0)"
   ]
  },
  {
   "cell_type": "code",
   "execution_count": null,
   "id": "9f61ef9d",
   "metadata": {},
   "outputs": [],
   "source": [
    "df['heatingorsystemtypeid'] = df['heatingorsystemtypeid'].fillna(0)"
   ]
  },
  {
   "cell_type": "code",
   "execution_count": null,
   "id": "d96fd97a",
   "metadata": {},
   "outputs": [],
   "source": [
    "df.id.nunique() #redundant, drop"
   ]
  },
  {
   "cell_type": "code",
   "execution_count": null,
   "id": "7261661d",
   "metadata": {},
   "outputs": [],
   "source": [
    "df.info()"
   ]
  },
  {
   "cell_type": "code",
   "execution_count": null,
   "id": "355a4d64",
   "metadata": {},
   "outputs": [],
   "source": [
    "df.buildingqualitytypeid.value_counts() # too many nulls that can't be filled with something reasonable"
   ]
  },
  {
   "cell_type": "code",
   "execution_count": null,
   "id": "a15a8e84",
   "metadata": {},
   "outputs": [],
   "source": [
    "df= df.drop(columns=['buildingqualitytypeid', 'id', 'id.1'])"
   ]
  },
  {
   "cell_type": "code",
   "execution_count": null,
   "id": "e9d6d280",
   "metadata": {},
   "outputs": [],
   "source": [
    "df.info()"
   ]
  },
  {
   "cell_type": "code",
   "execution_count": null,
   "id": "f7d43751",
   "metadata": {},
   "outputs": [],
   "source": [
    "df.garagecarcnt.value_counts()"
   ]
  },
  {
   "cell_type": "code",
   "execution_count": null,
   "id": "5b08fc57",
   "metadata": {},
   "outputs": [],
   "source": [
    "df[['garagecarcnt', 'garagetotalsqft']] = df[['garagecarcnt', 'garagetotalsqft']].fillna(0)"
   ]
  },
  {
   "cell_type": "code",
   "execution_count": null,
   "id": "16479fbc",
   "metadata": {},
   "outputs": [],
   "source": [
    "df.info()"
   ]
  },
  {
   "cell_type": "code",
   "execution_count": null,
   "id": "4c7fc709",
   "metadata": {},
   "outputs": [],
   "source": [
    "df.poolcnt.value_counts()"
   ]
  },
  {
   "cell_type": "code",
   "execution_count": null,
   "id": "dd6152d0",
   "metadata": {},
   "outputs": [],
   "source": [
    "df['poolcnt'] = df['poolcnt'].fillna(0)"
   ]
  },
  {
   "cell_type": "code",
   "execution_count": null,
   "id": "4bdac272",
   "metadata": {},
   "outputs": [],
   "source": [
    "df.propertyzoningdesc.isna().sum() #this could possible tell something, but too many nulls and not something worth MVP time right now, dropping"
   ]
  },
  {
   "cell_type": "code",
   "execution_count": null,
   "id": "09eaf935",
   "metadata": {},
   "outputs": [],
   "source": [
    "df = df.drop(columns='propertyzoningdesc')"
   ]
  },
  {
   "cell_type": "code",
   "execution_count": null,
   "id": "0fa67b16",
   "metadata": {},
   "outputs": [],
   "source": [
    "df.info()"
   ]
  },
  {
   "cell_type": "code",
   "execution_count": null,
   "id": "6b02e4f8",
   "metadata": {},
   "outputs": [],
   "source": [
    "(df.regionidneighborhood.value_counts() > 10).sum() # can't get most of these, will drop this and other location ids that I can't get info on for MVP\n",
    "\n",
    "## [1,] \"27080_Sherman Oaks\"          \n",
    "## [2,] \"118208_South Los Angeles\"    \n",
    "## [3,] \"268496_Southeast Los Angeles\"\n",
    "## [4,] \"41466_Van Nuys\"              \n",
    "## [5,] \"32059_Hollywood\"             \n",
    "## [6,] \"275237_Roosevelt\""
   ]
  },
  {
   "cell_type": "code",
   "execution_count": null,
   "id": "4bb2aacd",
   "metadata": {},
   "outputs": [],
   "source": [
    "pd.set_option('display.max_rows', None)\n",
    "pd.set_option('display.max_columns', None)\n",
    "pd.set_option('display.width', None)\n",
    "pd.set_option('display.max_colwidth', -1)"
   ]
  },
  {
   "cell_type": "code",
   "execution_count": null,
   "id": "0cff33d6",
   "metadata": {},
   "outputs": [],
   "source": [
    "df.regionidcity.value_counts()"
   ]
  },
  {
   "cell_type": "code",
   "execution_count": null,
   "id": "e8367e12",
   "metadata": {},
   "outputs": [],
   "source": [
    "df = df.drop(columns=['regionidcity', 'regionidzip', 'regionidneighborhood'])"
   ]
  },
  {
   "cell_type": "code",
   "execution_count": null,
   "id": "8fa1eb66",
   "metadata": {},
   "outputs": [],
   "source": [
    "df.info()"
   ]
  },
  {
   "cell_type": "code",
   "execution_count": null,
   "id": "af051960",
   "metadata": {},
   "outputs": [],
   "source": [
    "df.roomcnt.value_counts() # so many 0s, and what are the other rooms? I don't know what this is so dropping rn"
   ]
  },
  {
   "cell_type": "code",
   "execution_count": null,
   "id": "a3f6839b",
   "metadata": {},
   "outputs": [],
   "source": [
    "df = df.drop(columns= 'roomcnt')"
   ]
  },
  {
   "cell_type": "code",
   "execution_count": null,
   "id": "212555e1",
   "metadata": {},
   "outputs": [],
   "source": [
    "df.info()"
   ]
  },
  {
   "cell_type": "code",
   "execution_count": null,
   "id": "8ef561b1",
   "metadata": {},
   "outputs": [],
   "source": [
    "df.unitcnt.value_counts() #useless, drop"
   ]
  },
  {
   "cell_type": "code",
   "execution_count": null,
   "id": "ae74c819",
   "metadata": {},
   "outputs": [],
   "source": [
    "df = df.drop(columns=['unitcnt'])"
   ]
  },
  {
   "cell_type": "code",
   "execution_count": null,
   "id": "e101e2b5",
   "metadata": {},
   "outputs": [],
   "source": [
    "df.info()"
   ]
  },
  {
   "cell_type": "code",
   "execution_count": null,
   "id": "cde8258b",
   "metadata": {},
   "outputs": [],
   "source": [
    "df.numberofstories.value_counts() #too many nulls, drop"
   ]
  },
  {
   "cell_type": "code",
   "execution_count": null,
   "id": "418e994b",
   "metadata": {},
   "outputs": [],
   "source": [
    "df = df.drop(columns= 'numberofstories')"
   ]
  },
  {
   "cell_type": "code",
   "execution_count": null,
   "id": "8bc19800",
   "metadata": {},
   "outputs": [],
   "source": [
    "#we cannot use $ data as that'd be unknown for making predictions"
   ]
  },
  {
   "cell_type": "code",
   "execution_count": null,
   "id": "b0f5c90b",
   "metadata": {},
   "outputs": [],
   "source": [
    "df = df.drop(columns = ['structuretaxvaluedollarcnt', 'landtaxvaluedollarcnt', 'taxvaluedollarcnt', 'taxamount'])"
   ]
  },
  {
   "cell_type": "code",
   "execution_count": null,
   "id": "def2b5ea",
   "metadata": {},
   "outputs": [],
   "source": [
    "df.info()"
   ]
  },
  {
   "cell_type": "code",
   "execution_count": null,
   "id": "100a4952",
   "metadata": {},
   "outputs": [],
   "source": [
    "df = df.drop(columns= 'assessmentyear')"
   ]
  },
  {
   "cell_type": "code",
   "execution_count": null,
   "id": "c68eed39",
   "metadata": {},
   "outputs": [],
   "source": [
    "df.airconditioningdesc.value_counts() #no, I don't like this for now. none and also so many nulls. And then just yes. this is too ambigious. drop"
   ]
  },
  {
   "cell_type": "code",
   "execution_count": null,
   "id": "159d2fac",
   "metadata": {},
   "outputs": [],
   "source": [
    "df = df.drop(columns=['airconditioningdesc', 'airconditioningtypeid'])"
   ]
  },
  {
   "cell_type": "code",
   "execution_count": null,
   "id": "21cc8df1",
   "metadata": {},
   "outputs": [],
   "source": [
    "df.heatingorsystemdesc.value_counts() #still too many nulls, I will drop for now bc we don't know where the nulls go"
   ]
  },
  {
   "cell_type": "code",
   "execution_count": null,
   "id": "7f7a0449",
   "metadata": {},
   "outputs": [],
   "source": [
    "df = df.drop(columns=['heatingorsystemdesc', 'heatingorsystemtypeid'])"
   ]
  },
  {
   "cell_type": "code",
   "execution_count": null,
   "id": "a5c3d352",
   "metadata": {},
   "outputs": [],
   "source": [
    "df.info()"
   ]
  },
  {
   "cell_type": "code",
   "execution_count": null,
   "id": "3377e8c3",
   "metadata": {},
   "outputs": [],
   "source": [
    "df = df.dropna()"
   ]
  },
  {
   "cell_type": "code",
   "execution_count": null,
   "id": "6d5acdd7",
   "metadata": {},
   "outputs": [],
   "source": [
    "df.info()"
   ]
  },
  {
   "cell_type": "code",
   "execution_count": null,
   "id": "91542eb9",
   "metadata": {},
   "outputs": [],
   "source": [
    "#renaming columns\n",
    "\n",
    "df.rename(columns={'bedroomcnt': 'bedrooms',\n",
    "                   'taxvaluedollarcnt': 'tax_value', \n",
    "                   'lotsizesquarefeet': 'lot_size', \n",
    "                   'bathroomcnt': 'bathrooms', \n",
    "                   'calculatedfinishedsquarefeet': 'square_feet', \n",
    "                   'yearbuilt': 'year_built',\n",
    "                    'garagecarcnt': 'garages',\n",
    "                    'garagetotalsqft':'garage_size',\n",
    "                    'poolcnt': 'has_pool',\n",
    "                   'transactiondate': 'transaction_date'\n",
    "                  }, inplace=True)"
   ]
  },
  {
   "cell_type": "code",
   "execution_count": null,
   "id": "e68ac6ef",
   "metadata": {},
   "outputs": [],
   "source": []
  },
  {
   "cell_type": "code",
   "execution_count": null,
   "id": "3b64fe13",
   "metadata": {},
   "outputs": [],
   "source": [
    "df.info()"
   ]
  },
  {
   "cell_type": "code",
   "execution_count": null,
   "id": "28919398",
   "metadata": {},
   "outputs": [],
   "source": [
    "df['has_pool'] = df.has_pool.astype(bool)"
   ]
  },
  {
   "cell_type": "code",
   "execution_count": null,
   "id": "23a028be",
   "metadata": {},
   "outputs": [],
   "source": [
    "df.censustractandblock.head()"
   ]
  },
  {
   "cell_type": "markdown",
   "id": "4516ec22",
   "metadata": {},
   "source": [
    "### handling outliers"
   ]
  },
  {
   "cell_type": "code",
   "execution_count": null,
   "id": "4cae882d",
   "metadata": {},
   "outputs": [],
   "source": [
    "df = df[df.bathrooms >= 1]\n",
    "    df= df[df.bathrooms <= 5]\n",
    "    df = df[df.bedrooms >= 1]\n",
    "    df = df[df.bedrooms <= 5]\n",
    "    df = df[df.log_error < 0.5]\n",
    "    df = df[df.log_error > (-0.31)]\n",
    "    df = df[df.year_built >= 1910]\n",
    "    df = df[df.square_feet >= 650]\n",
    "    df = df[df.square_feet <= 5500]\n",
    "    df = df[df.tax_value > 40000.0]\n",
    "    df = df[df.tax_value < 3000000.0]"
   ]
  },
  {
   "cell_type": "markdown",
   "id": "20635e70",
   "metadata": {},
   "source": [
    "## DROP LIST\n",
    "\n",
    "df = df[df.bathrooms >= 1]\n",
    "    df= df[df.bathrooms <= 5]\n",
    "    df = df[df.bedrooms >= 1]\n",
    "    df = df[df.bedrooms <= 5]\n",
    "    df = df[df.log_error < 0.5]\n",
    "    df = df[df.log_error > (-0.31)]\n",
    "    df = df[df.year_built >= 1910]\n",
    "    df = df[df.square_feet >= 650]\n",
    "    df = df[df.square_feet <= 5500]\n",
    "    df = df[df.tax_value > 40000.0]\n",
    "    df = df[df.tax_value < 3000000.0]\n",
    "- df = df.dropna(thresh=df.shape[0]*0.8,how='all',axis=1)\n",
    "- df = df.drop(columns=['calculatedbathnbr', 'finishedsquarefeet12', 'fullbathcnt', 'propertycountylandusecode', 'propertylandusetypeid', 'id', 'id.1', 'buildingqualitytypeid', 'propertyzoningdesc', 'regionidcity', 'regionidzip', 'regionidneighborhood', 'roomcnt', 'unitcnt', 'numberofstories', 'structuretaxvaluedollarcnt', 'landtaxvaluedollarcnt', 'taxvaluedollarcnt', 'taxamount', 'assessmentyear', 'airconditioningdesc', 'airconditioningtypeid', 'heatingorsystemdesc', 'heatingorsystemtypeid', 'regionidcounty', 'propertyzoningdesc', 'rawcensustractandblock', 'rawcensustractandblock'])\n"
   ]
  },
  {
   "cell_type": "markdown",
   "id": "8bd6a74e",
   "metadata": {},
   "source": [
    "## Replacing Stuff\n",
    "- NOT NEED df['heatingorsystemtypeid'] = df['heatingorsystemtypeid'].fillna(0)\n",
    "- NOT NEED df['airconditioningtypeid'] = df['airconditioningtypeid'].fillna(0)\n",
    "- df[['garagecarcnt', 'garagetotalsqft']] = df[['garagecarcnt', 'garagetotalsqft']].fillna(0)\n",
    "- df['poolcnt'] = df['poolcnt'].fillna(0)"
   ]
  },
  {
   "cell_type": "markdown",
   "id": "fda1cd4e",
   "metadata": {},
   "source": [
    "## Handling Nulls after dropping stuff\n",
    "- dropping all nulls from DF since there is such a small percentage\n",
    "- df = df.dropna()"
   ]
  },
  {
   "cell_type": "markdown",
   "id": "72539f1f",
   "metadata": {},
   "source": [
    "## Renaming Stuff\n",
    "\n",
    "df.rename(columns={'bedroomcnt': 'bedrooms',\n",
    "                   'taxvaluedollarcnt': 'tax_value', \n",
    "                   'lotsizesquarefeet': 'lot_size', \n",
    "                   'bathroomcnt': 'bathrooms', \n",
    "                   'calculatedfinishedsquarefeet': 'square_feet', \n",
    "                   'yearbuilt': 'year_built',\n",
    "                    'garagecarcnt': 'garages',\n",
    "                    'garagetotalsqft':'garage_size',\n",
    "                    'poolcnt': 'has_pool',\n",
    "                    'logerror': 'log_error',\n",
    "                   'transactiondate': 'transaction_date'\n",
    "                  }, inplace=True)"
   ]
  },
  {
   "cell_type": "markdown",
   "id": "7105ceb8",
   "metadata": {},
   "source": [
    "## outliers\n",
    "## this needs to be first\n",
    "df = df[df.bathrooms >= 1]\n",
    "    df= df[df.bathrooms <= 5]\n",
    "    df = df[df.bedrooms >= 1]\n",
    "    df = df[df.bedrooms <= 5]\n",
    "    df = df[df.log_error < 0.5]\n",
    "    df = df[df.log_error > (-0.31)]\n",
    "    df = df[df.year_built >= 1910]\n",
    "    df = df[df.square_feet >= 650]\n",
    "    df = df[df.square_feet <= 5500]\n",
    "    df = df[df.tax_value > 40000.0]\n",
    "    df = df[df.tax_value < 3000000.0]"
   ]
  },
  {
   "cell_type": "markdown",
   "id": "bb1b210f",
   "metadata": {},
   "source": [
    "## data types\n",
    "\n",
    "df['year_built'] = df['year_built'].astype('int')\n",
    "    df['fips'] = df['fips'].astype('int')\n",
    "    df['square_feet'] = df['square_feet'].astype('int')\n",
    "    df['county'] = df['fips'].replace({6037: 'los_angeles', 6059: 'orange', 6111: 'ventura'})\n",
    "    df['lot_size'] = df.lot_size.astype(int)\n",
    "    df['garages'] = df.garages.astype(int)\n",
    "df['garage_size'] = df.garage_sizd.astype(int)\n",
    "df['has_pool'] = df.has_pool.astype(bool)"
   ]
  },
  {
   "cell_type": "markdown",
   "id": "580899cd",
   "metadata": {},
   "source": [
    "## Testing functions for prepare-"
   ]
  },
  {
   "cell_type": "code",
   "execution_count": 3,
   "id": "6b67b145",
   "metadata": {},
   "outputs": [],
   "source": [
    "df = prepare.remove_outliers(df)"
   ]
  },
  {
   "cell_type": "code",
   "execution_count": null,
   "id": "00adf9d0",
   "metadata": {},
   "outputs": [],
   "source": [
    "df.info()"
   ]
  },
  {
   "cell_type": "code",
   "execution_count": null,
   "id": "7f9b859d",
   "metadata": {},
   "outputs": [],
   "source": [
    "df = df.dropna(thresh=df.shape[0]*0.2,how='all',axis=1)"
   ]
  },
  {
   "cell_type": "code",
   "execution_count": 4,
   "id": "5c6308f4",
   "metadata": {},
   "outputs": [],
   "source": [
    "df = prepare.handle_nulls(df)"
   ]
  },
  {
   "cell_type": "code",
   "execution_count": null,
   "id": "85a05565",
   "metadata": {},
   "outputs": [],
   "source": [
    "df.info()"
   ]
  },
  {
   "cell_type": "code",
   "execution_count": 5,
   "id": "4613bfc6",
   "metadata": {},
   "outputs": [],
   "source": [
    "df = prepare.rename_columns(df)"
   ]
  },
  {
   "cell_type": "code",
   "execution_count": 6,
   "id": "9aaf74b8",
   "metadata": {},
   "outputs": [
    {
     "name": "stdout",
     "output_type": "stream",
     "text": [
      "<class 'pandas.core.frame.DataFrame'>\n",
      "Int64Index: 47892 entries, 0 to 52440\n",
      "Data columns (total 16 columns):\n",
      " #   Column               Non-Null Count  Dtype         \n",
      "---  ------               --------------  -----         \n",
      " 0   parcelid             47892 non-null  int64         \n",
      " 1   bathrooms            47892 non-null  float64       \n",
      " 2   bedrooms             47892 non-null  float64       \n",
      " 3   square_feet          47892 non-null  int64         \n",
      " 4   fips                 47892 non-null  int64         \n",
      " 5   garages              47892 non-null  int64         \n",
      " 6   garage_size          47892 non-null  int64         \n",
      " 7   latitude             47892 non-null  float64       \n",
      " 8   longitude            47892 non-null  float64       \n",
      " 9   lot_size             47892 non-null  int64         \n",
      " 10  has_pool             47892 non-null  bool          \n",
      " 11  year_built           47892 non-null  int64         \n",
      " 12  censustractandblock  47892 non-null  float64       \n",
      " 13  log_error            47892 non-null  float64       \n",
      " 14  transaction_date     47892 non-null  datetime64[ns]\n",
      " 15  county               47892 non-null  object        \n",
      "dtypes: bool(1), datetime64[ns](1), float64(6), int64(7), object(1)\n",
      "memory usage: 5.9+ MB\n"
     ]
    }
   ],
   "source": [
    "df.info()"
   ]
  },
  {
   "cell_type": "code",
   "execution_count": 7,
   "id": "1ef4cb61",
   "metadata": {},
   "outputs": [],
   "source": [
    "df = prepare.prepare_locs(df)"
   ]
  },
  {
   "cell_type": "code",
   "execution_count": 8,
   "id": "93a6be22",
   "metadata": {},
   "outputs": [
    {
     "data": {
      "text/html": [
       "<div>\n",
       "<style scoped>\n",
       "    .dataframe tbody tr th:only-of-type {\n",
       "        vertical-align: middle;\n",
       "    }\n",
       "\n",
       "    .dataframe tbody tr th {\n",
       "        vertical-align: top;\n",
       "    }\n",
       "\n",
       "    .dataframe thead th {\n",
       "        text-align: right;\n",
       "    }\n",
       "</style>\n",
       "<table border=\"1\" class=\"dataframe\">\n",
       "  <thead>\n",
       "    <tr style=\"text-align: right;\">\n",
       "      <th></th>\n",
       "      <th>parcelid</th>\n",
       "      <th>bathrooms</th>\n",
       "      <th>bedrooms</th>\n",
       "      <th>square_feet</th>\n",
       "      <th>fips</th>\n",
       "      <th>garages</th>\n",
       "      <th>garage_size</th>\n",
       "      <th>lot_size</th>\n",
       "      <th>has_pool</th>\n",
       "      <th>year_built</th>\n",
       "      <th>censustractandblock</th>\n",
       "      <th>log_error</th>\n",
       "      <th>transaction_date</th>\n",
       "      <th>county</th>\n",
       "      <th>latitude</th>\n",
       "      <th>longitude</th>\n",
       "    </tr>\n",
       "  </thead>\n",
       "  <tbody>\n",
       "    <tr>\n",
       "      <th>0</th>\n",
       "      <td>14297519</td>\n",
       "      <td>3.5</td>\n",
       "      <td>4.0</td>\n",
       "      <td>3100</td>\n",
       "      <td>6059</td>\n",
       "      <td>2</td>\n",
       "      <td>633</td>\n",
       "      <td>4506</td>\n",
       "      <td>False</td>\n",
       "      <td>1998</td>\n",
       "      <td>6.059063e+13</td>\n",
       "      <td>0.025595</td>\n",
       "      <td>2017-01-01</td>\n",
       "      <td>orange</td>\n",
       "      <td>33.634931</td>\n",
       "      <td>-117.869207</td>\n",
       "    </tr>\n",
       "    <tr>\n",
       "      <th>1</th>\n",
       "      <td>17052889</td>\n",
       "      <td>1.0</td>\n",
       "      <td>2.0</td>\n",
       "      <td>1465</td>\n",
       "      <td>6111</td>\n",
       "      <td>1</td>\n",
       "      <td>0</td>\n",
       "      <td>12647</td>\n",
       "      <td>False</td>\n",
       "      <td>1967</td>\n",
       "      <td>6.111001e+13</td>\n",
       "      <td>0.055619</td>\n",
       "      <td>2017-01-01</td>\n",
       "      <td>ventura</td>\n",
       "      <td>34.449266</td>\n",
       "      <td>-119.281531</td>\n",
       "    </tr>\n",
       "    <tr>\n",
       "      <th>2</th>\n",
       "      <td>14186244</td>\n",
       "      <td>2.0</td>\n",
       "      <td>3.0</td>\n",
       "      <td>1243</td>\n",
       "      <td>6059</td>\n",
       "      <td>2</td>\n",
       "      <td>440</td>\n",
       "      <td>8432</td>\n",
       "      <td>True</td>\n",
       "      <td>1962</td>\n",
       "      <td>6.059022e+13</td>\n",
       "      <td>0.005383</td>\n",
       "      <td>2017-01-01</td>\n",
       "      <td>orange</td>\n",
       "      <td>33.886168</td>\n",
       "      <td>-117.823170</td>\n",
       "    </tr>\n",
       "    <tr>\n",
       "      <th>3</th>\n",
       "      <td>12177905</td>\n",
       "      <td>3.0</td>\n",
       "      <td>4.0</td>\n",
       "      <td>2376</td>\n",
       "      <td>6037</td>\n",
       "      <td>0</td>\n",
       "      <td>0</td>\n",
       "      <td>13038</td>\n",
       "      <td>True</td>\n",
       "      <td>1970</td>\n",
       "      <td>6.037300e+13</td>\n",
       "      <td>-0.103410</td>\n",
       "      <td>2017-01-01</td>\n",
       "      <td>los_angeles</td>\n",
       "      <td>34.245180</td>\n",
       "      <td>-118.240722</td>\n",
       "    </tr>\n",
       "    <tr>\n",
       "      <th>4</th>\n",
       "      <td>12095076</td>\n",
       "      <td>3.0</td>\n",
       "      <td>4.0</td>\n",
       "      <td>2962</td>\n",
       "      <td>6037</td>\n",
       "      <td>0</td>\n",
       "      <td>0</td>\n",
       "      <td>63000</td>\n",
       "      <td>True</td>\n",
       "      <td>1950</td>\n",
       "      <td>6.037461e+13</td>\n",
       "      <td>-0.001011</td>\n",
       "      <td>2017-01-01</td>\n",
       "      <td>los_angeles</td>\n",
       "      <td>34.145202</td>\n",
       "      <td>-118.179824</td>\n",
       "    </tr>\n",
       "  </tbody>\n",
       "</table>\n",
       "</div>"
      ],
      "text/plain": [
       "   parcelid  bathrooms  bedrooms  square_feet  fips  garages  garage_size  \\\n",
       "0  14297519        3.5       4.0         3100  6059        2          633   \n",
       "1  17052889        1.0       2.0         1465  6111        1            0   \n",
       "2  14186244        2.0       3.0         1243  6059        2          440   \n",
       "3  12177905        3.0       4.0         2376  6037        0            0   \n",
       "4  12095076        3.0       4.0         2962  6037        0            0   \n",
       "\n",
       "   lot_size  has_pool  year_built  censustractandblock  log_error  \\\n",
       "0      4506     False        1998         6.059063e+13   0.025595   \n",
       "1     12647     False        1967         6.111001e+13   0.055619   \n",
       "2      8432      True        1962         6.059022e+13   0.005383   \n",
       "3     13038      True        1970         6.037300e+13  -0.103410   \n",
       "4     63000      True        1950         6.037461e+13  -0.001011   \n",
       "\n",
       "  transaction_date       county   latitude   longitude  \n",
       "0       2017-01-01       orange  33.634931 -117.869207  \n",
       "1       2017-01-01      ventura  34.449266 -119.281531  \n",
       "2       2017-01-01       orange  33.886168 -117.823170  \n",
       "3       2017-01-01  los_angeles  34.245180 -118.240722  \n",
       "4       2017-01-01  los_angeles  34.145202 -118.179824  "
      ]
     },
     "execution_count": 8,
     "metadata": {},
     "output_type": "execute_result"
    }
   ],
   "source": [
    "df.head()"
   ]
  },
  {
   "cell_type": "code",
   "execution_count": null,
   "id": "d0a79dd8",
   "metadata": {},
   "outputs": [],
   "source": []
  }
 ],
 "metadata": {
  "kernelspec": {
   "display_name": "Python 3 (ipykernel)",
   "language": "python",
   "name": "python3"
  },
  "language_info": {
   "codemirror_mode": {
    "name": "ipython",
    "version": 3
   },
   "file_extension": ".py",
   "mimetype": "text/x-python",
   "name": "python",
   "nbconvert_exporter": "python",
   "pygments_lexer": "ipython3",
   "version": "3.9.7"
  }
 },
 "nbformat": 4,
 "nbformat_minor": 5
}
