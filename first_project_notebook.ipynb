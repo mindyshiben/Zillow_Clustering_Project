{
 "cells": [
  {
   "cell_type": "code",
   "execution_count": 1,
   "id": "61091005",
   "metadata": {},
   "outputs": [],
   "source": [
    "# Imports necessary to acquire, prepare, explore, visualize, analyze, and model data\n",
    "\n",
    "import warnings\n",
    "warnings.filterwarnings(\"ignore\")\n",
    "\n",
    "import pandas as pd\n",
    "import matplotlib.pyplot as plt\n",
    "import seaborn as sns\n",
    "import numpy as np\n",
    "import env\n",
    "import acquire\n",
    "import prepare \n",
    "\n",
    "from tabulate import tabulate\n",
    "from IPython.display import Markdown, display\n",
    "\n",
    "from math import sqrt\n",
    "from scipy import stats\n",
    "\n",
    "import sklearn.preprocessing\n",
    "from sklearn.model_selection import train_test_split\n",
    "from scipy.stats import pearsonr, spearmanr\n",
    "\n",
    "from sklearn.metrics import mean_squared_error\n",
    "from sklearn.linear_model import LinearRegression, LassoLars, TweedieRegressor\n",
    "from sklearn.preprocessing import PolynomialFeatures\n",
    "from sklearn.impute import SimpleImputer\n",
    "\n",
    "np.random.seed(123)"
   ]
  },
  {
   "cell_type": "code",
   "execution_count": 2,
   "id": "0a701fed",
   "metadata": {},
   "outputs": [],
   "source": [
    "df = acquire.get_zillow_data()\n",
    "# this is a user-defined function in acquire.py that pulls in selected data from the SQL database"
   ]
  },
  {
   "cell_type": "markdown",
   "id": "b1f26cb8",
   "metadata": {},
   "source": [
    "### Let's see what we got "
   ]
  },
  {
   "cell_type": "code",
   "execution_count": null,
   "id": "65c270f9",
   "metadata": {},
   "outputs": [],
   "source": [
    "df.isna().sum().sum() /len(df)\n",
    "# returns percentage of nulls in df"
   ]
  },
  {
   "cell_type": "markdown",
   "id": "53bb5ba1",
   "metadata": {},
   "source": [
    "#### Lots of nulls, will want to deal w that in a moment"
   ]
  },
  {
   "cell_type": "code",
   "execution_count": null,
   "id": "aab5e534",
   "metadata": {},
   "outputs": [],
   "source": [
    "df.info()"
   ]
  },
  {
   "cell_type": "markdown",
   "id": "efe6021d",
   "metadata": {},
   "source": [
    "#### lots of columns, a lot of those tell us nothing and were just here for a join. let's get those keys and then toss those"
   ]
  },
  {
   "cell_type": "code",
   "execution_count": null,
   "id": "ec9f92c2",
   "metadata": {},
   "outputs": [],
   "source": [
    "df.isna().sum() > (len(df)/2)"
   ]
  },
  {
   "cell_type": "markdown",
   "id": "b3df361d",
   "metadata": {},
   "source": [
    "getting rid of columns with almost all nulls (more than 80% for now)"
   ]
  },
  {
   "cell_type": "code",
   "execution_count": null,
   "id": "6ccc78cf",
   "metadata": {},
   "outputs": [],
   "source": [
    "df = df.dropna(thresh=df.shape[0]*0.2,how='all',axis=1)"
   ]
  },
  {
   "cell_type": "code",
   "execution_count": null,
   "id": "2957e9d0",
   "metadata": {},
   "outputs": [],
   "source": [
    "df.info()"
   ]
  },
  {
   "cell_type": "markdown",
   "id": "fe8a51de",
   "metadata": {},
   "source": [
    "looking at duplicate columns..."
   ]
  },
  {
   "cell_type": "code",
   "execution_count": null,
   "id": "0c65bf50",
   "metadata": {},
   "outputs": [],
   "source": [
    "df.calculatedbathnbr.value_counts() #can drop"
   ]
  },
  {
   "cell_type": "code",
   "execution_count": null,
   "id": "c1e969e8",
   "metadata": {},
   "outputs": [],
   "source": [
    "df.bathroomcnt.value_counts"
   ]
  },
  {
   "cell_type": "code",
   "execution_count": null,
   "id": "2e0783ad",
   "metadata": {},
   "outputs": [],
   "source": [
    "df = df.drop(columns=['calculatedbathnbr'])"
   ]
  },
  {
   "cell_type": "code",
   "execution_count": null,
   "id": "d0fca6b5",
   "metadata": {},
   "outputs": [],
   "source": [
    "df.info()"
   ]
  },
  {
   "cell_type": "markdown",
   "id": "08425590",
   "metadata": {},
   "source": []
  },
  {
   "cell_type": "code",
   "execution_count": null,
   "id": "d12300aa",
   "metadata": {},
   "outputs": [],
   "source": [
    "df.finishedsquarefeet12"
   ]
  },
  {
   "cell_type": "code",
   "execution_count": null,
   "id": "9d977fa0",
   "metadata": {},
   "outputs": [],
   "source": [
    "df[(df.calculatedfinishedsquarefeet != df.finishedsquarefeet12)] #drop"
   ]
  },
  {
   "cell_type": "code",
   "execution_count": null,
   "id": "eb3b59cc",
   "metadata": {},
   "outputs": [],
   "source": [
    "df= df.drop(columns=['finishedsquarefeet12'])"
   ]
  },
  {
   "cell_type": "code",
   "execution_count": null,
   "id": "5e680b64",
   "metadata": {},
   "outputs": [],
   "source": [
    "df.info()"
   ]
  },
  {
   "cell_type": "code",
   "execution_count": null,
   "id": "d267ecec",
   "metadata": {},
   "outputs": [],
   "source": [
    "df = df.drop(columns = 'fullbathcnt')"
   ]
  },
  {
   "cell_type": "code",
   "execution_count": null,
   "id": "8d6c533a",
   "metadata": {},
   "outputs": [],
   "source": [
    "df.info()"
   ]
  },
  {
   "cell_type": "code",
   "execution_count": null,
   "id": "5bd1a1c7",
   "metadata": {},
   "outputs": [],
   "source": [
    "df.propertylandusetypeid.value_counts() #drop and land use code"
   ]
  },
  {
   "cell_type": "code",
   "execution_count": null,
   "id": "d3f92a98",
   "metadata": {},
   "outputs": [],
   "source": [
    "df = df.drop(columns = ['propertycountylandusecode', 'propertylandusetypeid'])"
   ]
  },
  {
   "cell_type": "code",
   "execution_count": null,
   "id": "e13b2888",
   "metadata": {},
   "outputs": [],
   "source": [
    "df.info()"
   ]
  },
  {
   "cell_type": "code",
   "execution_count": null,
   "id": "960d3ce8",
   "metadata": {},
   "outputs": [],
   "source": [
    "df.heatingorsystemtypeid.value_counts()"
   ]
  },
  {
   "cell_type": "code",
   "execution_count": null,
   "id": "ca40f10b",
   "metadata": {},
   "outputs": [],
   "source": [
    "df.airconditioningtypeid.value_counts()"
   ]
  },
  {
   "cell_type": "code",
   "execution_count": null,
   "id": "f76bee41",
   "metadata": {},
   "outputs": [],
   "source": [
    "df['airconditioningtypeid'] = df['airconditioningtypeid'].fillna(0)"
   ]
  },
  {
   "cell_type": "code",
   "execution_count": null,
   "id": "bd13d4d4",
   "metadata": {},
   "outputs": [],
   "source": [
    "df['heatingorsystemtypeid'] = df['heatingorsystemtypeid'].fillna(0)"
   ]
  },
  {
   "cell_type": "code",
   "execution_count": null,
   "id": "0b2ae79a",
   "metadata": {},
   "outputs": [],
   "source": [
    "df.id.nunique() #redundant, drop"
   ]
  },
  {
   "cell_type": "code",
   "execution_count": null,
   "id": "b779d392",
   "metadata": {},
   "outputs": [],
   "source": [
    "df.info()"
   ]
  },
  {
   "cell_type": "code",
   "execution_count": null,
   "id": "80035cd8",
   "metadata": {},
   "outputs": [],
   "source": [
    "df.buildingqualitytypeid.value_counts() # too many nulls that can't be filled with something reasonable"
   ]
  },
  {
   "cell_type": "code",
   "execution_count": null,
   "id": "d7bf8490",
   "metadata": {},
   "outputs": [],
   "source": [
    "df= df.drop(columns=['buildingqualitytypeid', 'id', 'id.1'])"
   ]
  },
  {
   "cell_type": "code",
   "execution_count": null,
   "id": "a8c8a4c0",
   "metadata": {},
   "outputs": [],
   "source": [
    "df.info()"
   ]
  },
  {
   "cell_type": "code",
   "execution_count": null,
   "id": "5c081afc",
   "metadata": {},
   "outputs": [],
   "source": [
    "df.garagecarcnt.value_counts()"
   ]
  },
  {
   "cell_type": "code",
   "execution_count": null,
   "id": "74306b98",
   "metadata": {},
   "outputs": [],
   "source": [
    "df[['garagecarcnt', 'garagetotalsqft']] = df[['garagecarcnt', 'garagetotalsqft']].fillna(0)"
   ]
  },
  {
   "cell_type": "code",
   "execution_count": null,
   "id": "2788e1e8",
   "metadata": {},
   "outputs": [],
   "source": [
    "df.info()"
   ]
  },
  {
   "cell_type": "code",
   "execution_count": null,
   "id": "198ece9c",
   "metadata": {},
   "outputs": [],
   "source": [
    "df.poolcnt.value_counts()"
   ]
  },
  {
   "cell_type": "code",
   "execution_count": null,
   "id": "b45a9d42",
   "metadata": {},
   "outputs": [],
   "source": [
    "df['poolcnt'] = df['poolcnt'].fillna(0)"
   ]
  },
  {
   "cell_type": "code",
   "execution_count": null,
   "id": "20433beb",
   "metadata": {},
   "outputs": [],
   "source": [
    "df.propertyzoningdesc.isna().sum() #this could possible tell something, but too many nulls and not something worth MVP time right now, dropping"
   ]
  },
  {
   "cell_type": "code",
   "execution_count": null,
   "id": "8a9324e9",
   "metadata": {},
   "outputs": [],
   "source": [
    "df = df.drop(columns='propertyzoningdesc')"
   ]
  },
  {
   "cell_type": "code",
   "execution_count": null,
   "id": "8d83cd02",
   "metadata": {},
   "outputs": [],
   "source": [
    "df.info()"
   ]
  },
  {
   "cell_type": "code",
   "execution_count": null,
   "id": "60063054",
   "metadata": {},
   "outputs": [],
   "source": [
    "(df.regionidneighborhood.value_counts() > 10).sum() # can't get most of these, will drop this and other location ids that I can't get info on for MVP\n",
    "\n",
    "## [1,] \"27080_Sherman Oaks\"          \n",
    "## [2,] \"118208_South Los Angeles\"    \n",
    "## [3,] \"268496_Southeast Los Angeles\"\n",
    "## [4,] \"41466_Van Nuys\"              \n",
    "## [5,] \"32059_Hollywood\"             \n",
    "## [6,] \"275237_Roosevelt\""
   ]
  },
  {
   "cell_type": "code",
   "execution_count": null,
   "id": "36b7891a",
   "metadata": {},
   "outputs": [],
   "source": [
    "pd.set_option('display.max_rows', None)\n",
    "pd.set_option('display.max_columns', None)\n",
    "pd.set_option('display.width', None)\n",
    "pd.set_option('display.max_colwidth', -1)"
   ]
  },
  {
   "cell_type": "code",
   "execution_count": null,
   "id": "2dc751b0",
   "metadata": {},
   "outputs": [],
   "source": [
    "df.regionidcity.value_counts()"
   ]
  },
  {
   "cell_type": "code",
   "execution_count": null,
   "id": "3a05a1fb",
   "metadata": {},
   "outputs": [],
   "source": [
    "df = df.drop(columns=['regionidcity', 'regionidzip', 'regionidneighborhood'])"
   ]
  },
  {
   "cell_type": "code",
   "execution_count": null,
   "id": "41dfb80b",
   "metadata": {},
   "outputs": [],
   "source": [
    "df.info()"
   ]
  },
  {
   "cell_type": "code",
   "execution_count": null,
   "id": "16c42976",
   "metadata": {},
   "outputs": [],
   "source": [
    "df.roomcnt.value_counts() # so many 0s, and what are the other rooms? I don't know what this is so dropping rn"
   ]
  },
  {
   "cell_type": "code",
   "execution_count": null,
   "id": "6ebac647",
   "metadata": {},
   "outputs": [],
   "source": [
    "df = df.drop(columns= 'roomcnt')"
   ]
  },
  {
   "cell_type": "code",
   "execution_count": null,
   "id": "3491277d",
   "metadata": {},
   "outputs": [],
   "source": [
    "df.info()"
   ]
  },
  {
   "cell_type": "code",
   "execution_count": null,
   "id": "22f20980",
   "metadata": {},
   "outputs": [],
   "source": [
    "df.unitcnt.value_counts() #useless, drop"
   ]
  },
  {
   "cell_type": "code",
   "execution_count": null,
   "id": "bb64d70a",
   "metadata": {},
   "outputs": [],
   "source": [
    "df = df.drop(columns=['unitcnt'])"
   ]
  },
  {
   "cell_type": "code",
   "execution_count": null,
   "id": "9a70d106",
   "metadata": {},
   "outputs": [],
   "source": [
    "df.info()"
   ]
  },
  {
   "cell_type": "code",
   "execution_count": null,
   "id": "b8d1bbd0",
   "metadata": {},
   "outputs": [],
   "source": [
    "df.numberofstories.value_counts() #too many nulls, drop"
   ]
  },
  {
   "cell_type": "code",
   "execution_count": null,
   "id": "d012d729",
   "metadata": {},
   "outputs": [],
   "source": [
    "df = df.drop(columns= 'numberofstories')"
   ]
  },
  {
   "cell_type": "code",
   "execution_count": null,
   "id": "5678e635",
   "metadata": {},
   "outputs": [],
   "source": [
    "#we cannot use $ data as that'd be unknown for making predictions"
   ]
  },
  {
   "cell_type": "code",
   "execution_count": null,
   "id": "88f46286",
   "metadata": {},
   "outputs": [],
   "source": [
    "df = df.drop(columns = ['structuretaxvaluedollarcnt', 'landtaxvaluedollarcnt', 'taxvaluedollarcnt', 'taxamount'])"
   ]
  },
  {
   "cell_type": "code",
   "execution_count": null,
   "id": "e19506fe",
   "metadata": {},
   "outputs": [],
   "source": [
    "df.info()"
   ]
  },
  {
   "cell_type": "code",
   "execution_count": null,
   "id": "c6f7fef1",
   "metadata": {},
   "outputs": [],
   "source": [
    "df = df.drop(columns= 'assessmentyear')"
   ]
  },
  {
   "cell_type": "code",
   "execution_count": null,
   "id": "adc51e88",
   "metadata": {},
   "outputs": [],
   "source": [
    "df.airconditioningdesc.value_counts() #no, I don't like this for now. none and also so many nulls. And then just yes. this is too ambigious. drop"
   ]
  },
  {
   "cell_type": "code",
   "execution_count": null,
   "id": "09096f8e",
   "metadata": {},
   "outputs": [],
   "source": [
    "df = df.drop(columns=['airconditioningdesc', 'airconditioningtypeid'])"
   ]
  },
  {
   "cell_type": "code",
   "execution_count": null,
   "id": "e33b7592",
   "metadata": {},
   "outputs": [],
   "source": [
    "df.heatingorsystemdesc.value_counts() #still too many nulls, I will drop for now bc we don't know where the nulls go"
   ]
  },
  {
   "cell_type": "code",
   "execution_count": null,
   "id": "b9b3f0b0",
   "metadata": {},
   "outputs": [],
   "source": [
    "df = df.drop(columns=['heatingorsystemdesc', 'heatingorsystemtypeid'])"
   ]
  },
  {
   "cell_type": "code",
   "execution_count": null,
   "id": "f2e56951",
   "metadata": {},
   "outputs": [],
   "source": [
    "df.info()"
   ]
  },
  {
   "cell_type": "code",
   "execution_count": null,
   "id": "6d3d053b",
   "metadata": {},
   "outputs": [],
   "source": [
    "df = df.dropna()"
   ]
  },
  {
   "cell_type": "code",
   "execution_count": null,
   "id": "ecdeb756",
   "metadata": {},
   "outputs": [],
   "source": [
    "df.info()"
   ]
  },
  {
   "cell_type": "code",
   "execution_count": null,
   "id": "79d24898",
   "metadata": {},
   "outputs": [],
   "source": [
    "#renaming columns\n",
    "\n",
    "df.rename(columns={'bedroomcnt': 'bedrooms',\n",
    "                   'taxvaluedollarcnt': 'tax_value', \n",
    "                   'lotsizesquarefeet': 'lot_size', \n",
    "                   'bathroomcnt': 'bathrooms', \n",
    "                   'calculatedfinishedsquarefeet': 'square_feet', \n",
    "                   'yearbuilt': 'year_built',\n",
    "                    'garagecarcnt': 'garages',\n",
    "                    'garagetotalsqft':'garage_size',\n",
    "                    'poolcnt': 'has_pool',\n",
    "                   'transactiondate': 'transaction_date'\n",
    "                  }, inplace=True)"
   ]
  },
  {
   "cell_type": "code",
   "execution_count": null,
   "id": "3ab526b5",
   "metadata": {},
   "outputs": [],
   "source": []
  },
  {
   "cell_type": "code",
   "execution_count": null,
   "id": "6a4941f7",
   "metadata": {},
   "outputs": [],
   "source": [
    "df.info()"
   ]
  },
  {
   "cell_type": "code",
   "execution_count": null,
   "id": "00a2dc10",
   "metadata": {},
   "outputs": [],
   "source": [
    "df['has_pool'] = df.has_pool.astype(bool)"
   ]
  },
  {
   "cell_type": "code",
   "execution_count": null,
   "id": "4a568b08",
   "metadata": {},
   "outputs": [],
   "source": [
    "df.censustractandblock.head()"
   ]
  },
  {
   "cell_type": "markdown",
   "id": "b5452424",
   "metadata": {},
   "source": [
    "### handling outliers"
   ]
  },
  {
   "cell_type": "code",
   "execution_count": null,
   "id": "8c09190a",
   "metadata": {},
   "outputs": [],
   "source": [
    "df = df[df.bathrooms >= 1]\n",
    "    df= df[df.bathrooms <= 5]\n",
    "    df = df[df.bedrooms >= 1]\n",
    "    df = df[df.bedrooms <= 5]\n",
    "    df = df[df.log_error < 0.5]\n",
    "    df = df[df.log_error > (-0.31)]\n",
    "    df = df[df.year_built >= 1910]\n",
    "    df = df[df.square_feet >= 650]\n",
    "    df = df[df.square_feet <= 5500]\n",
    "    df = df[df.tax_value > 40000.0]\n",
    "    df = df[df.tax_value < 3000000.0]"
   ]
  },
  {
   "cell_type": "markdown",
   "id": "4de1b3c5",
   "metadata": {},
   "source": [
    "## DROP LIST\n",
    "\n",
    "df = df[df.bathrooms >= 1]\n",
    "    df= df[df.bathrooms <= 5]\n",
    "    df = df[df.bedrooms >= 1]\n",
    "    df = df[df.bedrooms <= 5]\n",
    "    df = df[df.log_error < 0.5]\n",
    "    df = df[df.log_error > (-0.31)]\n",
    "    df = df[df.year_built >= 1910]\n",
    "    df = df[df.square_feet >= 650]\n",
    "    df = df[df.square_feet <= 5500]\n",
    "    df = df[df.tax_value > 40000.0]\n",
    "    df = df[df.tax_value < 3000000.0]\n",
    "- df = df.dropna(thresh=df.shape[0]*0.8,how='all',axis=1)\n",
    "- df = df.drop(columns=['calculatedbathnbr', 'finishedsquarefeet12', 'fullbathcnt', 'propertycountylandusecode', 'propertylandusetypeid', 'id', 'id.1', 'buildingqualitytypeid', 'propertyzoningdesc', 'regionidcity', 'regionidzip', 'regionidneighborhood', 'roomcnt', 'unitcnt', 'numberofstories', 'structuretaxvaluedollarcnt', 'landtaxvaluedollarcnt', 'taxvaluedollarcnt', 'taxamount', 'assessmentyear', 'airconditioningdesc', 'airconditioningtypeid', 'heatingorsystemdesc', 'heatingorsystemtypeid', 'regionidcounty', 'propertyzoningdesc', 'rawcensustractandblock', 'rawcensustractandblock'])\n"
   ]
  },
  {
   "cell_type": "markdown",
   "id": "7ef2dffc",
   "metadata": {},
   "source": [
    "## Replacing Stuff\n",
    "- NOT NEED df['heatingorsystemtypeid'] = df['heatingorsystemtypeid'].fillna(0)\n",
    "- NOT NEED df['airconditioningtypeid'] = df['airconditioningtypeid'].fillna(0)\n",
    "- df[['garagecarcnt', 'garagetotalsqft']] = df[['garagecarcnt', 'garagetotalsqft']].fillna(0)\n",
    "- df['poolcnt'] = df['poolcnt'].fillna(0)"
   ]
  },
  {
   "cell_type": "markdown",
   "id": "3c68f961",
   "metadata": {},
   "source": [
    "## Handling Nulls after dropping stuff\n",
    "- dropping all nulls from DF since there is such a small percentage\n",
    "- df = df.dropna()"
   ]
  },
  {
   "cell_type": "markdown",
   "id": "b4112914",
   "metadata": {},
   "source": [
    "## Renaming Stuff\n",
    "\n",
    "df.rename(columns={'bedroomcnt': 'bedrooms',\n",
    "                   'taxvaluedollarcnt': 'tax_value', \n",
    "                   'lotsizesquarefeet': 'lot_size', \n",
    "                   'bathroomcnt': 'bathrooms', \n",
    "                   'calculatedfinishedsquarefeet': 'square_feet', \n",
    "                   'yearbuilt': 'year_built',\n",
    "                    'garagecarcnt': 'garages',\n",
    "                    'garagetotalsqft':'garage_size',\n",
    "                    'poolcnt': 'has_pool',\n",
    "                    'logerror': 'log_error',\n",
    "                   'transactiondate': 'transaction_date'\n",
    "                  }, inplace=True)"
   ]
  },
  {
   "cell_type": "markdown",
   "id": "acec2caf",
   "metadata": {},
   "source": [
    "## outliers\n",
    "## this needs to be first\n",
    "df = df[df.bathrooms >= 1]\n",
    "    df= df[df.bathrooms <= 5]\n",
    "    df = df[df.bedrooms >= 1]\n",
    "    df = df[df.bedrooms <= 5]\n",
    "    df = df[df.log_error < 0.5]\n",
    "    df = df[df.log_error > (-0.31)]\n",
    "    df = df[df.year_built >= 1910]\n",
    "    df = df[df.square_feet >= 650]\n",
    "    df = df[df.square_feet <= 5500]\n",
    "    df = df[df.tax_value > 40000.0]\n",
    "    df = df[df.tax_value < 3000000.0]"
   ]
  },
  {
   "cell_type": "markdown",
   "id": "59bfab28",
   "metadata": {},
   "source": [
    "## data types\n",
    "\n",
    "df['year_built'] = df['year_built'].astype('int')\n",
    "    df['fips'] = df['fips'].astype('int')\n",
    "    df['square_feet'] = df['square_feet'].astype('int')\n",
    "    df['county'] = df['fips'].replace({6037: 'los_angeles', 6059: 'orange', 6111: 'ventura'})\n",
    "    df['lot_size'] = df.lot_size.astype(int)\n",
    "    df['garages'] = df.garages.astype(int)\n",
    "df['garage_size'] = df.garage_sizd.astype(int)\n",
    "df['has_pool'] = df.has_pool.astype(bool)"
   ]
  },
  {
   "cell_type": "markdown",
   "id": "846859f9",
   "metadata": {},
   "source": [
    "## Testing functions for prepare-"
   ]
  },
  {
   "cell_type": "code",
   "execution_count": 3,
   "id": "511bb9af",
   "metadata": {},
   "outputs": [],
   "source": [
    "df = prepare.remove_outliers(df)"
   ]
  },
  {
   "cell_type": "code",
   "execution_count": null,
   "id": "5304e47f",
   "metadata": {},
   "outputs": [],
   "source": [
    "df.info()"
   ]
  },
  {
   "cell_type": "code",
   "execution_count": null,
   "id": "ea9ff90f",
   "metadata": {},
   "outputs": [],
   "source": [
    "df = df.dropna(thresh=df.shape[0]*0.2,how='all',axis=1)"
   ]
  },
  {
   "cell_type": "code",
   "execution_count": 4,
   "id": "8cfe0dfb",
   "metadata": {},
   "outputs": [],
   "source": [
    "df = prepare.handle_nulls(df)"
   ]
  },
  {
   "cell_type": "code",
   "execution_count": null,
   "id": "65ee6e31",
   "metadata": {},
   "outputs": [],
   "source": [
    "df.info()"
   ]
  },
  {
   "cell_type": "code",
   "execution_count": 5,
   "id": "49d464fb",
   "metadata": {},
   "outputs": [],
   "source": [
    "df = prepare.rename_columns(df)"
   ]
  },
  {
   "cell_type": "code",
   "execution_count": 6,
   "id": "e5d7dad1",
   "metadata": {},
   "outputs": [
    {
     "name": "stdout",
     "output_type": "stream",
     "text": [
      "<class 'pandas.core.frame.DataFrame'>\n",
      "Int64Index: 47892 entries, 0 to 52440\n",
      "Data columns (total 16 columns):\n",
      " #   Column               Non-Null Count  Dtype         \n",
      "---  ------               --------------  -----         \n",
      " 0   parcelid             47892 non-null  int64         \n",
      " 1   bathrooms            47892 non-null  float64       \n",
      " 2   bedrooms             47892 non-null  float64       \n",
      " 3   square_feet          47892 non-null  int64         \n",
      " 4   fips                 47892 non-null  int64         \n",
      " 5   garages              47892 non-null  int64         \n",
      " 6   garage_size          47892 non-null  int64         \n",
      " 7   latitude             47892 non-null  float64       \n",
      " 8   longitude            47892 non-null  float64       \n",
      " 9   lot_size             47892 non-null  int64         \n",
      " 10  has_pool             47892 non-null  bool          \n",
      " 11  year_built           47892 non-null  int64         \n",
      " 12  censustractandblock  47892 non-null  float64       \n",
      " 13  log_error            47892 non-null  float64       \n",
      " 14  transaction_date     47892 non-null  datetime64[ns]\n",
      " 15  county               47892 non-null  object        \n",
      "dtypes: bool(1), datetime64[ns](1), float64(6), int64(7), object(1)\n",
      "memory usage: 5.9+ MB\n"
     ]
    }
   ],
   "source": [
    "df.info()"
   ]
  },
  {
   "cell_type": "code",
   "execution_count": 7,
   "id": "0da79cb8",
   "metadata": {},
   "outputs": [],
   "source": [
    "df = prepare.prepare_locs(df)"
   ]
  },
  {
   "cell_type": "code",
   "execution_count": 8,
   "id": "ce517d53",
   "metadata": {},
   "outputs": [
    {
     "data": {
      "text/html": [
       "<div>\n",
       "<style scoped>\n",
       "    .dataframe tbody tr th:only-of-type {\n",
       "        vertical-align: middle;\n",
       "    }\n",
       "\n",
       "    .dataframe tbody tr th {\n",
       "        vertical-align: top;\n",
       "    }\n",
       "\n",
       "    .dataframe thead th {\n",
       "        text-align: right;\n",
       "    }\n",
       "</style>\n",
       "<table border=\"1\" class=\"dataframe\">\n",
       "  <thead>\n",
       "    <tr style=\"text-align: right;\">\n",
       "      <th></th>\n",
       "      <th>parcelid</th>\n",
       "      <th>bathrooms</th>\n",
       "      <th>bedrooms</th>\n",
       "      <th>square_feet</th>\n",
       "      <th>fips</th>\n",
       "      <th>garages</th>\n",
       "      <th>garage_size</th>\n",
       "      <th>lot_size</th>\n",
       "      <th>has_pool</th>\n",
       "      <th>year_built</th>\n",
       "      <th>censustractandblock</th>\n",
       "      <th>log_error</th>\n",
       "      <th>transaction_date</th>\n",
       "      <th>county</th>\n",
       "      <th>latitude</th>\n",
       "      <th>longitude</th>\n",
       "    </tr>\n",
       "  </thead>\n",
       "  <tbody>\n",
       "    <tr>\n",
       "      <th>0</th>\n",
       "      <td>14297519</td>\n",
       "      <td>3.5</td>\n",
       "      <td>4.0</td>\n",
       "      <td>3100</td>\n",
       "      <td>6059</td>\n",
       "      <td>2</td>\n",
       "      <td>633</td>\n",
       "      <td>4506</td>\n",
       "      <td>False</td>\n",
       "      <td>1998</td>\n",
       "      <td>6.059063e+13</td>\n",
       "      <td>0.025595</td>\n",
       "      <td>2017-01-01</td>\n",
       "      <td>orange</td>\n",
       "      <td>33.634931</td>\n",
       "      <td>-117.869207</td>\n",
       "    </tr>\n",
       "    <tr>\n",
       "      <th>1</th>\n",
       "      <td>17052889</td>\n",
       "      <td>1.0</td>\n",
       "      <td>2.0</td>\n",
       "      <td>1465</td>\n",
       "      <td>6111</td>\n",
       "      <td>1</td>\n",
       "      <td>0</td>\n",
       "      <td>12647</td>\n",
       "      <td>False</td>\n",
       "      <td>1967</td>\n",
       "      <td>6.111001e+13</td>\n",
       "      <td>0.055619</td>\n",
       "      <td>2017-01-01</td>\n",
       "      <td>ventura</td>\n",
       "      <td>34.449266</td>\n",
       "      <td>-119.281531</td>\n",
       "    </tr>\n",
       "    <tr>\n",
       "      <th>2</th>\n",
       "      <td>14186244</td>\n",
       "      <td>2.0</td>\n",
       "      <td>3.0</td>\n",
       "      <td>1243</td>\n",
       "      <td>6059</td>\n",
       "      <td>2</td>\n",
       "      <td>440</td>\n",
       "      <td>8432</td>\n",
       "      <td>True</td>\n",
       "      <td>1962</td>\n",
       "      <td>6.059022e+13</td>\n",
       "      <td>0.005383</td>\n",
       "      <td>2017-01-01</td>\n",
       "      <td>orange</td>\n",
       "      <td>33.886168</td>\n",
       "      <td>-117.823170</td>\n",
       "    </tr>\n",
       "    <tr>\n",
       "      <th>3</th>\n",
       "      <td>12177905</td>\n",
       "      <td>3.0</td>\n",
       "      <td>4.0</td>\n",
       "      <td>2376</td>\n",
       "      <td>6037</td>\n",
       "      <td>0</td>\n",
       "      <td>0</td>\n",
       "      <td>13038</td>\n",
       "      <td>True</td>\n",
       "      <td>1970</td>\n",
       "      <td>6.037300e+13</td>\n",
       "      <td>-0.103410</td>\n",
       "      <td>2017-01-01</td>\n",
       "      <td>los_angeles</td>\n",
       "      <td>34.245180</td>\n",
       "      <td>-118.240722</td>\n",
       "    </tr>\n",
       "    <tr>\n",
       "      <th>4</th>\n",
       "      <td>12095076</td>\n",
       "      <td>3.0</td>\n",
       "      <td>4.0</td>\n",
       "      <td>2962</td>\n",
       "      <td>6037</td>\n",
       "      <td>0</td>\n",
       "      <td>0</td>\n",
       "      <td>63000</td>\n",
       "      <td>True</td>\n",
       "      <td>1950</td>\n",
       "      <td>6.037461e+13</td>\n",
       "      <td>-0.001011</td>\n",
       "      <td>2017-01-01</td>\n",
       "      <td>los_angeles</td>\n",
       "      <td>34.145202</td>\n",
       "      <td>-118.179824</td>\n",
       "    </tr>\n",
       "  </tbody>\n",
       "</table>\n",
       "</div>"
      ],
      "text/plain": [
       "   parcelid  bathrooms  bedrooms  square_feet  fips  garages  garage_size  \\\n",
       "0  14297519        3.5       4.0         3100  6059        2          633   \n",
       "1  17052889        1.0       2.0         1465  6111        1            0   \n",
       "2  14186244        2.0       3.0         1243  6059        2          440   \n",
       "3  12177905        3.0       4.0         2376  6037        0            0   \n",
       "4  12095076        3.0       4.0         2962  6037        0            0   \n",
       "\n",
       "   lot_size  has_pool  year_built  censustractandblock  log_error  \\\n",
       "0      4506     False        1998         6.059063e+13   0.025595   \n",
       "1     12647     False        1967         6.111001e+13   0.055619   \n",
       "2      8432      True        1962         6.059022e+13   0.005383   \n",
       "3     13038      True        1970         6.037300e+13  -0.103410   \n",
       "4     63000      True        1950         6.037461e+13  -0.001011   \n",
       "\n",
       "  transaction_date       county   latitude   longitude  \n",
       "0       2017-01-01       orange  33.634931 -117.869207  \n",
       "1       2017-01-01      ventura  34.449266 -119.281531  \n",
       "2       2017-01-01       orange  33.886168 -117.823170  \n",
       "3       2017-01-01  los_angeles  34.245180 -118.240722  \n",
       "4       2017-01-01  los_angeles  34.145202 -118.179824  "
      ]
     },
     "execution_count": 8,
     "metadata": {},
     "output_type": "execute_result"
    }
   ],
   "source": [
    "df.head()"
   ]
  },
  {
   "cell_type": "markdown",
   "id": "f0dea926",
   "metadata": {},
   "source": []
  },
  {
   "cell_type": "markdown",
   "id": "1879b008",
   "metadata": {},
   "source": []
  },
  {
   "cell_type": "code",
   "execution_count": 9,
   "id": "14ac3ed2",
   "metadata": {},
   "outputs": [
    {
     "ename": "NameError",
     "evalue": "name 'train' is not defined",
     "output_type": "error",
     "traceback": [
      "\u001b[0;31m---------------------------------------------------------------------------\u001b[0m",
      "\u001b[0;31mNameError\u001b[0m                                 Traceback (most recent call last)",
      "\u001b[0;32m/var/folders/s4/hmz6ljm533vgpm_bhv59yw0m0000gn/T/ipykernel_48896/2080877225.py\u001b[0m in \u001b[0;36m<module>\u001b[0;34m\u001b[0m\n\u001b[0;32m----> 1\u001b[0;31m \u001b[0mpostrain\u001b[0m \u001b[0;34m=\u001b[0m \u001b[0mtrain\u001b[0m\u001b[0;34m.\u001b[0m\u001b[0mcopy\u001b[0m\u001b[0;34m(\u001b[0m\u001b[0;34m)\u001b[0m\u001b[0;34m.\u001b[0m\u001b[0mwhere\u001b[0m\u001b[0;34m(\u001b[0m\u001b[0mtrain\u001b[0m\u001b[0;34m.\u001b[0m\u001b[0mlog_error\u001b[0m \u001b[0;34m>\u001b[0m \u001b[0;36m0\u001b[0m\u001b[0;34m)\u001b[0m\u001b[0;34m\u001b[0m\u001b[0;34m\u001b[0m\u001b[0m\n\u001b[0m",
      "\u001b[0;31mNameError\u001b[0m: name 'train' is not defined"
     ]
    }
   ],
   "source": []
  },
  {
   "cell_type": "code",
   "execution_count": null,
   "id": "4bd21b3b",
   "metadata": {},
   "outputs": [],
   "source": []
  }
 ],
 "metadata": {
  "kernelspec": {
   "display_name": "Python 3 (ipykernel)",
   "language": "python",
   "name": "python3"
  },
  "language_info": {
   "codemirror_mode": {
    "name": "ipython",
    "version": 3
   },
   "file_extension": ".py",
   "mimetype": "text/x-python",
   "name": "python",
   "nbconvert_exporter": "python",
   "pygments_lexer": "ipython3",
   "version": "3.9.7"
  }
 },
 "nbformat": 4,
 "nbformat_minor": 5
}
