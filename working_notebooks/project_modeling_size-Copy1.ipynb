{
 "cells": [
  {
   "cell_type": "code",
   "execution_count": 1,
   "id": "52d45064",
   "metadata": {},
   "outputs": [],
   "source": [
    "# Imports necessary to acquire, prepare, explore, visualize, analyze, and model data\n",
    "\n",
    "import warnings\n",
    "warnings.filterwarnings(\"ignore\")\n",
    "\n",
    "import pandas as pd\n",
    "import matplotlib.pyplot as plt\n",
    "import seaborn as sns\n",
    "import numpy as np\n",
    "import env\n",
    "import acquire\n",
    "import prepare \n",
    "\n",
    "from tabulate import tabulate\n",
    "from IPython.display import Markdown, display\n",
    "\n",
    "from math import sqrt\n",
    "from scipy import stats\n",
    "\n",
    "import sklearn.preprocessing\n",
    "from sklearn.model_selection import train_test_split\n",
    "from scipy.stats import pearsonr, spearmanr\n",
    "\n",
    "from sklearn.metrics import mean_squared_error\n",
    "from sklearn.linear_model import LinearRegression, LassoLars, TweedieRegressor\n",
    "from sklearn.preprocessing import PolynomialFeatures\n",
    "from sklearn.impute import SimpleImputer\n",
    "\n",
    "np.random.seed(123)"
   ]
  },
  {
   "cell_type": "markdown",
   "id": "b49634a7",
   "metadata": {},
   "source": [
    "using functions created to acquire and wrangle the data"
   ]
  },
  {
   "cell_type": "code",
   "execution_count": 2,
   "id": "03229e9b",
   "metadata": {},
   "outputs": [],
   "source": [
    "df = acquire.get_zillow_data()\n",
    "\n",
    "df = prepare.remove_outliers(df)\n",
    "df = prepare.handle_nulls(df)\n",
    "df = prepare.rename_columns(df)\n",
    "df = prepare.prepare_locs(df)"
   ]
  },
  {
   "cell_type": "code",
   "execution_count": 3,
   "id": "d8bb552b",
   "metadata": {},
   "outputs": [
    {
     "name": "stdout",
     "output_type": "stream",
     "text": [
      "<class 'pandas.core.frame.DataFrame'>\n",
      "Int64Index: 47936 entries, 0 to 52440\n",
      "Data columns (total 15 columns):\n",
      " #   Column            Non-Null Count  Dtype         \n",
      "---  ------            --------------  -----         \n",
      " 0   parcelid          47936 non-null  int64         \n",
      " 1   bathrooms         47936 non-null  float64       \n",
      " 2   bedrooms          47936 non-null  float64       \n",
      " 3   square_feet       47936 non-null  int64         \n",
      " 4   fips              47936 non-null  int64         \n",
      " 5   garages           47936 non-null  int64         \n",
      " 6   garage_size       47936 non-null  int64         \n",
      " 7   lot_size          47936 non-null  int64         \n",
      " 8   has_pool          47936 non-null  bool          \n",
      " 9   year_built        47936 non-null  int64         \n",
      " 10  log_error         47936 non-null  float64       \n",
      " 11  transaction_date  47936 non-null  datetime64[ns]\n",
      " 12  county            47936 non-null  object        \n",
      " 13  latitude          47936 non-null  float64       \n",
      " 14  longitude         47936 non-null  float64       \n",
      "dtypes: bool(1), datetime64[ns](1), float64(5), int64(7), object(1)\n",
      "memory usage: 5.5+ MB\n"
     ]
    }
   ],
   "source": [
    "df.info()"
   ]
  },
  {
   "cell_type": "markdown",
   "id": "29651757",
   "metadata": {},
   "source": [
    "this looks good for now... let's think about some things to explore-\n",
    "\n",
    "-curious to see if transaction date and log error have any relation, like does the time of year of transation increase/dec likelihood of error?\n",
    "\n",
    "-let's look for like-things... how closely linked are bedroom and bathroom, could they be combined to one feature?\n",
    "\n",
    "-what does the correlatoin to log error chart look like?\n",
    "\n",
    "-what can we bin? keep this in mind through exploration.\n",
    "\n",
    "-look at square feet and year together. do homes get bigger over time?\n",
    "\n",
    "-what if we tried K means on lat, long and square feet?\n",
    "\n",
    "-let's start here and keep adding ideas here when they come up\n",
    "\n",
    "-look at pool"
   ]
  },
  {
   "cell_type": "code",
   "execution_count": null,
   "id": "3c990efd",
   "metadata": {},
   "outputs": [],
   "source": [
    "df = df.copy().where(df.square_feet < 1123)\n",
    "df = df.dropna()"
   ]
  },
  {
   "cell_type": "code",
   "execution_count": null,
   "id": "92d60019",
   "metadata": {},
   "outputs": [],
   "source": []
  },
  {
   "cell_type": "code",
   "execution_count": 4,
   "id": "e1131b1e",
   "metadata": {},
   "outputs": [
    {
     "name": "stdout",
     "output_type": "stream",
     "text": [
      "\n"
     ]
    },
    {
     "data": {
      "text/markdown": [
       "**Number of Train Records:** 26,843"
      ],
      "text/plain": [
       "<IPython.core.display.Markdown object>"
      ]
     },
     "metadata": {},
     "output_type": "display_data"
    },
    {
     "data": {
      "text/markdown": [
       "**Number of Validate Records:** 11,505"
      ],
      "text/plain": [
       "<IPython.core.display.Markdown object>"
      ]
     },
     "metadata": {},
     "output_type": "display_data"
    },
    {
     "data": {
      "text/markdown": [
       "**Number of Test Records:** 9,588"
      ],
      "text/plain": [
       "<IPython.core.display.Markdown object>"
      ]
     },
     "metadata": {},
     "output_type": "display_data"
    }
   ],
   "source": [
    "train, test = train_test_split(df, test_size=.2, random_state=123)\n",
    "train, validate = train_test_split(train, test_size=.3, random_state=123)\n",
    "# Splits data into 3 subsets: train, validate, test. Random state specifying that data is split\n",
    "# with the exact same records when the code is re-run (useful for exploration and modeling, yet\n",
    "# I suggest dropping this when employing the model)\n",
    "\n",
    "def printmd(string): # function to format text style\n",
    "    display(Markdown(string))\n",
    "print()\n",
    "printmd('**Number of Train Records:** {:,}'\n",
    "     .format(len(train)))\n",
    "printmd('**Number of Validate Records:** {:,}'\n",
    "     .format(len(validate)))\n",
    "printmd('**Number of Test Records:** {:,}'\n",
    "     .format(len(test)))\n",
    "# returns the amount of records in each subset after splitting\n"
   ]
  },
  {
   "cell_type": "code",
   "execution_count": 6,
   "id": "f21725e3",
   "metadata": {},
   "outputs": [],
   "source": [
    "train = train.copy().where(train.square_feet < 1123)\n",
    "train = train.dropna()"
   ]
  },
  {
   "cell_type": "code",
   "execution_count": 7,
   "id": "ae6cd680",
   "metadata": {},
   "outputs": [
    {
     "data": {
      "text/html": [
       "<div>\n",
       "<style scoped>\n",
       "    .dataframe tbody tr th:only-of-type {\n",
       "        vertical-align: middle;\n",
       "    }\n",
       "\n",
       "    .dataframe tbody tr th {\n",
       "        vertical-align: top;\n",
       "    }\n",
       "\n",
       "    .dataframe thead th {\n",
       "        text-align: right;\n",
       "    }\n",
       "</style>\n",
       "<table border=\"1\" class=\"dataframe\">\n",
       "  <thead>\n",
       "    <tr style=\"text-align: right;\">\n",
       "      <th></th>\n",
       "      <th>parcelid</th>\n",
       "      <th>bathrooms</th>\n",
       "      <th>bedrooms</th>\n",
       "      <th>square_feet</th>\n",
       "      <th>fips</th>\n",
       "      <th>garages</th>\n",
       "      <th>garage_size</th>\n",
       "      <th>lot_size</th>\n",
       "      <th>has_pool</th>\n",
       "      <th>year_built</th>\n",
       "      <th>log_error</th>\n",
       "      <th>transaction_date</th>\n",
       "      <th>county</th>\n",
       "      <th>latitude</th>\n",
       "      <th>longitude</th>\n",
       "    </tr>\n",
       "  </thead>\n",
       "  <tbody>\n",
       "    <tr>\n",
       "      <th>2396</th>\n",
       "      <td>12675421.0</td>\n",
       "      <td>1.0</td>\n",
       "      <td>3.0</td>\n",
       "      <td>1112.0</td>\n",
       "      <td>6037.0</td>\n",
       "      <td>0.0</td>\n",
       "      <td>0.0</td>\n",
       "      <td>5500.0</td>\n",
       "      <td>True</td>\n",
       "      <td>1955.0</td>\n",
       "      <td>0.106983</td>\n",
       "      <td>2017-01-18</td>\n",
       "      <td>los_angeles</td>\n",
       "      <td>33.854643</td>\n",
       "      <td>-118.368062</td>\n",
       "    </tr>\n",
       "    <tr>\n",
       "      <th>7085</th>\n",
       "      <td>14037285.0</td>\n",
       "      <td>1.5</td>\n",
       "      <td>3.0</td>\n",
       "      <td>1032.0</td>\n",
       "      <td>6059.0</td>\n",
       "      <td>2.0</td>\n",
       "      <td>441.0</td>\n",
       "      <td>6000.0</td>\n",
       "      <td>False</td>\n",
       "      <td>1962.0</td>\n",
       "      <td>-0.013230</td>\n",
       "      <td>2017-02-17</td>\n",
       "      <td>orange</td>\n",
       "      <td>33.738875</td>\n",
       "      <td>-118.016219</td>\n",
       "    </tr>\n",
       "    <tr>\n",
       "      <th>15196</th>\n",
       "      <td>12230959.0</td>\n",
       "      <td>1.0</td>\n",
       "      <td>3.0</td>\n",
       "      <td>1060.0</td>\n",
       "      <td>6037.0</td>\n",
       "      <td>0.0</td>\n",
       "      <td>0.0</td>\n",
       "      <td>6249.0</td>\n",
       "      <td>False</td>\n",
       "      <td>1948.0</td>\n",
       "      <td>0.121127</td>\n",
       "      <td>2017-03-31</td>\n",
       "      <td>los_angeles</td>\n",
       "      <td>33.932195</td>\n",
       "      <td>-118.226608</td>\n",
       "    </tr>\n",
       "    <tr>\n",
       "      <th>13963</th>\n",
       "      <td>12073791.0</td>\n",
       "      <td>1.0</td>\n",
       "      <td>3.0</td>\n",
       "      <td>1026.0</td>\n",
       "      <td>6037.0</td>\n",
       "      <td>0.0</td>\n",
       "      <td>0.0</td>\n",
       "      <td>5840.0</td>\n",
       "      <td>False</td>\n",
       "      <td>1936.0</td>\n",
       "      <td>-0.015803</td>\n",
       "      <td>2017-03-28</td>\n",
       "      <td>los_angeles</td>\n",
       "      <td>34.173992</td>\n",
       "      <td>-118.224265</td>\n",
       "    </tr>\n",
       "    <tr>\n",
       "      <th>21600</th>\n",
       "      <td>12044713.0</td>\n",
       "      <td>1.0</td>\n",
       "      <td>2.0</td>\n",
       "      <td>1026.0</td>\n",
       "      <td>6037.0</td>\n",
       "      <td>0.0</td>\n",
       "      <td>0.0</td>\n",
       "      <td>4001.0</td>\n",
       "      <td>False</td>\n",
       "      <td>1949.0</td>\n",
       "      <td>0.161824</td>\n",
       "      <td>2017-05-02</td>\n",
       "      <td>los_angeles</td>\n",
       "      <td>34.216261</td>\n",
       "      <td>-118.246313</td>\n",
       "    </tr>\n",
       "    <tr>\n",
       "      <th>...</th>\n",
       "      <td>...</td>\n",
       "      <td>...</td>\n",
       "      <td>...</td>\n",
       "      <td>...</td>\n",
       "      <td>...</td>\n",
       "      <td>...</td>\n",
       "      <td>...</td>\n",
       "      <td>...</td>\n",
       "      <td>...</td>\n",
       "      <td>...</td>\n",
       "      <td>...</td>\n",
       "      <td>...</td>\n",
       "      <td>...</td>\n",
       "      <td>...</td>\n",
       "      <td>...</td>\n",
       "    </tr>\n",
       "    <tr>\n",
       "      <th>27992</th>\n",
       "      <td>12290362.0</td>\n",
       "      <td>1.0</td>\n",
       "      <td>2.0</td>\n",
       "      <td>934.0</td>\n",
       "      <td>6037.0</td>\n",
       "      <td>0.0</td>\n",
       "      <td>0.0</td>\n",
       "      <td>6968.0</td>\n",
       "      <td>False</td>\n",
       "      <td>1943.0</td>\n",
       "      <td>0.037051</td>\n",
       "      <td>2017-05-31</td>\n",
       "      <td>los_angeles</td>\n",
       "      <td>33.901311</td>\n",
       "      <td>-118.190980</td>\n",
       "    </tr>\n",
       "    <tr>\n",
       "      <th>28618</th>\n",
       "      <td>10788165.0</td>\n",
       "      <td>1.0</td>\n",
       "      <td>2.0</td>\n",
       "      <td>822.0</td>\n",
       "      <td>6037.0</td>\n",
       "      <td>0.0</td>\n",
       "      <td>0.0</td>\n",
       "      <td>6753.0</td>\n",
       "      <td>False</td>\n",
       "      <td>1949.0</td>\n",
       "      <td>0.017093</td>\n",
       "      <td>2017-06-01</td>\n",
       "      <td>los_angeles</td>\n",
       "      <td>34.196453</td>\n",
       "      <td>-118.568193</td>\n",
       "    </tr>\n",
       "    <tr>\n",
       "      <th>34988</th>\n",
       "      <td>10974377.0</td>\n",
       "      <td>1.0</td>\n",
       "      <td>3.0</td>\n",
       "      <td>822.0</td>\n",
       "      <td>6037.0</td>\n",
       "      <td>0.0</td>\n",
       "      <td>0.0</td>\n",
       "      <td>5210.0</td>\n",
       "      <td>False</td>\n",
       "      <td>1952.0</td>\n",
       "      <td>-0.086975</td>\n",
       "      <td>2017-06-28</td>\n",
       "      <td>los_angeles</td>\n",
       "      <td>34.299496</td>\n",
       "      <td>-118.430293</td>\n",
       "    </tr>\n",
       "    <tr>\n",
       "      <th>14253</th>\n",
       "      <td>10888745.0</td>\n",
       "      <td>2.0</td>\n",
       "      <td>3.0</td>\n",
       "      <td>1070.0</td>\n",
       "      <td>6037.0</td>\n",
       "      <td>0.0</td>\n",
       "      <td>0.0</td>\n",
       "      <td>10124.0</td>\n",
       "      <td>False</td>\n",
       "      <td>1941.0</td>\n",
       "      <td>-0.013617</td>\n",
       "      <td>2017-03-29</td>\n",
       "      <td>los_angeles</td>\n",
       "      <td>34.184044</td>\n",
       "      <td>-118.392643</td>\n",
       "    </tr>\n",
       "    <tr>\n",
       "      <th>21777</th>\n",
       "      <td>12630399.0</td>\n",
       "      <td>1.0</td>\n",
       "      <td>1.0</td>\n",
       "      <td>1056.0</td>\n",
       "      <td>6037.0</td>\n",
       "      <td>0.0</td>\n",
       "      <td>0.0</td>\n",
       "      <td>3241.0</td>\n",
       "      <td>False</td>\n",
       "      <td>1923.0</td>\n",
       "      <td>-0.077851</td>\n",
       "      <td>2017-05-03</td>\n",
       "      <td>los_angeles</td>\n",
       "      <td>33.786779</td>\n",
       "      <td>-118.262878</td>\n",
       "    </tr>\n",
       "  </tbody>\n",
       "</table>\n",
       "<p>3833 rows × 15 columns</p>\n",
       "</div>"
      ],
      "text/plain": [
       "         parcelid  bathrooms  bedrooms  square_feet    fips  garages  \\\n",
       "2396   12675421.0        1.0       3.0       1112.0  6037.0      0.0   \n",
       "7085   14037285.0        1.5       3.0       1032.0  6059.0      2.0   \n",
       "15196  12230959.0        1.0       3.0       1060.0  6037.0      0.0   \n",
       "13963  12073791.0        1.0       3.0       1026.0  6037.0      0.0   \n",
       "21600  12044713.0        1.0       2.0       1026.0  6037.0      0.0   \n",
       "...           ...        ...       ...          ...     ...      ...   \n",
       "27992  12290362.0        1.0       2.0        934.0  6037.0      0.0   \n",
       "28618  10788165.0        1.0       2.0        822.0  6037.0      0.0   \n",
       "34988  10974377.0        1.0       3.0        822.0  6037.0      0.0   \n",
       "14253  10888745.0        2.0       3.0       1070.0  6037.0      0.0   \n",
       "21777  12630399.0        1.0       1.0       1056.0  6037.0      0.0   \n",
       "\n",
       "       garage_size  lot_size has_pool  year_built  log_error transaction_date  \\\n",
       "2396           0.0    5500.0     True      1955.0   0.106983       2017-01-18   \n",
       "7085         441.0    6000.0    False      1962.0  -0.013230       2017-02-17   \n",
       "15196          0.0    6249.0    False      1948.0   0.121127       2017-03-31   \n",
       "13963          0.0    5840.0    False      1936.0  -0.015803       2017-03-28   \n",
       "21600          0.0    4001.0    False      1949.0   0.161824       2017-05-02   \n",
       "...            ...       ...      ...         ...        ...              ...   \n",
       "27992          0.0    6968.0    False      1943.0   0.037051       2017-05-31   \n",
       "28618          0.0    6753.0    False      1949.0   0.017093       2017-06-01   \n",
       "34988          0.0    5210.0    False      1952.0  -0.086975       2017-06-28   \n",
       "14253          0.0   10124.0    False      1941.0  -0.013617       2017-03-29   \n",
       "21777          0.0    3241.0    False      1923.0  -0.077851       2017-05-03   \n",
       "\n",
       "            county   latitude   longitude  \n",
       "2396   los_angeles  33.854643 -118.368062  \n",
       "7085        orange  33.738875 -118.016219  \n",
       "15196  los_angeles  33.932195 -118.226608  \n",
       "13963  los_angeles  34.173992 -118.224265  \n",
       "21600  los_angeles  34.216261 -118.246313  \n",
       "...            ...        ...         ...  \n",
       "27992  los_angeles  33.901311 -118.190980  \n",
       "28618  los_angeles  34.196453 -118.568193  \n",
       "34988  los_angeles  34.299496 -118.430293  \n",
       "14253  los_angeles  34.184044 -118.392643  \n",
       "21777  los_angeles  33.786779 -118.262878  \n",
       "\n",
       "[3833 rows x 15 columns]"
      ]
     },
     "execution_count": 7,
     "metadata": {},
     "output_type": "execute_result"
    }
   ],
   "source": [
    "train"
   ]
  },
  {
   "cell_type": "code",
   "execution_count": null,
   "id": "7b5bf8bf",
   "metadata": {},
   "outputs": [],
   "source": [
    "from sklearn.cluster import KMeans\n",
    "import sklearn.preprocessing"
   ]
  },
  {
   "cell_type": "code",
   "execution_count": null,
   "id": "6e1810a5",
   "metadata": {},
   "outputs": [],
   "source": [
    "scaler = sklearn.preprocessing.MinMaxScaler()\n",
    "scaler.fit(train[['bathrooms', 'bedrooms', 'square_feet']])\n",
    "# inserts the 4 selected features into the scaler\n",
    "\n",
    "train[['scalbathrooms', 'scalbedrooms', 'scalsquare_feet']] = scaler.transform(train[['bathrooms', 'bedrooms', 'square_feet']])"
   ]
  },
  {
   "cell_type": "code",
   "execution_count": null,
   "id": "036e77db",
   "metadata": {},
   "outputs": [],
   "source": [
    "X = train[['scalbathrooms', 'scalbedrooms', 'scalsquare_feet']]\n",
    "\n",
    "kmeans = KMeans(n_clusters=7)\n",
    "kmeans.fit(X)\n",
    "\n",
    "kmeans.predict(X)\n",
    "\n",
    "train['cluster'] = kmeans.predict(X)\n",
    "\n",
    "centroids = pd.DataFrame(kmeans.cluster_centers_, columns=X.columns)\n",
    "centroids"
   ]
  },
  {
   "cell_type": "code",
   "execution_count": null,
   "id": "02c1f768",
   "metadata": {},
   "outputs": [],
   "source": [
    "scaler = sklearn.preprocessing.MinMaxScaler()\n",
    "scaler.fit(validate[['bathrooms', 'bedrooms', 'square_feet']])\n",
    "# inserts the 4 selected features into the scaler\n",
    "\n",
    "validate[['scalbathrooms', 'scalbedrooms', 'scalsquare_feet']] = scaler.transform(validate[['bathrooms', 'bedrooms', 'square_feet']])"
   ]
  },
  {
   "cell_type": "code",
   "execution_count": null,
   "id": "8d346b52",
   "metadata": {},
   "outputs": [],
   "source": [
    "X = validate[['scalbathrooms', 'scalbedrooms', 'scalsquare_feet']]\n",
    "\n",
    "kmeans = KMeans(n_clusters=7)\n",
    "kmeans.fit(X)\n",
    "\n",
    "kmeans.predict(X)\n",
    "\n",
    "validate['cluster'] = kmeans.predict(X)\n",
    "\n",
    "centroids = pd.DataFrame(kmeans.cluster_centers_, columns=X.columns)\n",
    "centroids"
   ]
  },
  {
   "cell_type": "code",
   "execution_count": null,
   "id": "67d6e087",
   "metadata": {},
   "outputs": [],
   "source": [
    "scaler = sklearn.preprocessing.MinMaxScaler()\n",
    "scaler.fit(test[['bathrooms', 'bedrooms', 'square_feet']])\n",
    "# inserts the 4 selected features into the scaler\n",
    "\n",
    "test[['scalbathrooms', 'scalbedrooms', 'scalsquare_feet']] = scaler.transform(test[['bathrooms', 'bedrooms', 'square_feet']])"
   ]
  },
  {
   "cell_type": "code",
   "execution_count": null,
   "id": "0b7e710e",
   "metadata": {},
   "outputs": [],
   "source": [
    "X = test[['scalbathrooms', 'scalbedrooms', 'scalsquare_feet']]\n",
    "\n",
    "kmeans = KMeans(n_clusters=7)\n",
    "kmeans.fit(X)\n",
    "\n",
    "kmeans.predict(X)\n",
    "\n",
    "test['cluster'] = kmeans.predict(X)\n",
    "\n",
    "centroids = pd.DataFrame(kmeans.cluster_centers_, columns=X.columns)\n",
    "centroids"
   ]
  },
  {
   "cell_type": "code",
   "execution_count": null,
   "id": "47ad9f2a",
   "metadata": {},
   "outputs": [],
   "source": [
    "scaler = sklearn.preprocessing.MinMaxScaler()\n",
    "scaler.fit(train[['year_built', 'square_feet']])\n",
    "# inserts the 4 selected features into the scaler\n",
    "\n",
    "train[['scalyear', 'scalsquare_feet']] = scaler.transform(train[['year_built', 'square_feet']])"
   ]
  },
  {
   "cell_type": "code",
   "execution_count": null,
   "id": "5bfcd4f8",
   "metadata": {},
   "outputs": [],
   "source": [
    "X = train[['scalyear', 'scalsquare_feet']]\n",
    "\n",
    "kmeans = KMeans(n_clusters=7)\n",
    "kmeans.fit(X)\n",
    "\n",
    "kmeans.predict(X)\n",
    "\n",
    "train['cluster2'] = kmeans.predict(X)\n",
    "\n",
    "centroids = pd.DataFrame(kmeans.cluster_centers_, columns=X.columns)\n",
    "centroids"
   ]
  },
  {
   "cell_type": "code",
   "execution_count": null,
   "id": "c76a6b60",
   "metadata": {},
   "outputs": [],
   "source": [
    "scaler = sklearn.preprocessing.MinMaxScaler()\n",
    "scaler.fit(validate[['year_built', 'square_feet']])\n",
    "# inserts the 4 selected features into the scaler\n",
    "\n",
    "validate[['scalyear', 'scalsquare_feet']] = scaler.transform(validate[['year_built', 'square_feet']])"
   ]
  },
  {
   "cell_type": "code",
   "execution_count": null,
   "id": "6eca86d5",
   "metadata": {},
   "outputs": [],
   "source": [
    "X = validate[['scalyear', 'scalsquare_feet']]\n",
    "\n",
    "kmeans = KMeans(n_clusters=7)\n",
    "kmeans.fit(X)\n",
    "\n",
    "kmeans.predict(X)\n",
    "\n",
    "validate['cluster2'] = kmeans.predict(X)\n",
    "\n",
    "centroids = pd.DataFrame(kmeans.cluster_centers_, columns=X.columns)\n",
    "centroids"
   ]
  },
  {
   "cell_type": "code",
   "execution_count": null,
   "id": "152fdecf",
   "metadata": {},
   "outputs": [],
   "source": [
    "scaler = sklearn.preprocessing.MinMaxScaler()\n",
    "scaler.fit(test[['year_built', 'square_feet']])\n",
    "# inserts the 4 selected features into the scaler\n",
    "\n",
    "test[['scalyear', 'scalsquare_feet']] = scaler.transform(test[['year_built', 'square_feet']])"
   ]
  },
  {
   "cell_type": "code",
   "execution_count": null,
   "id": "38a958ac",
   "metadata": {},
   "outputs": [],
   "source": [
    "X = test[['scalyear', 'scalsquare_feet']]\n",
    "\n",
    "kmeans = KMeans(n_clusters=7)\n",
    "kmeans.fit(X)\n",
    "\n",
    "kmeans.predict(X)\n",
    "\n",
    "test['cluster2'] = kmeans.predict(X)\n",
    "\n",
    "centroids = pd.DataFrame(kmeans.cluster_centers_, columns=X.columns)\n",
    "centroids"
   ]
  },
  {
   "cell_type": "code",
   "execution_count": null,
   "id": "ca548bc5",
   "metadata": {},
   "outputs": [],
   "source": []
  },
  {
   "cell_type": "code",
   "execution_count": null,
   "id": "ed85995e",
   "metadata": {},
   "outputs": [],
   "source": []
  },
  {
   "cell_type": "code",
   "execution_count": null,
   "id": "328d4f62",
   "metadata": {},
   "outputs": [],
   "source": []
  },
  {
   "cell_type": "code",
   "execution_count": null,
   "id": "bd11ac31",
   "metadata": {},
   "outputs": [],
   "source": [
    "plt.figure(figsize=(9, 6))\n",
    "pd.Series({k: KMeans(k).fit(X).inertia_ for k in range(2, 12)}).plot(marker='x')\n",
    "plt.xticks(range(2, 12))\n",
    "plt.xlabel('k')\n",
    "plt.ylabel('inertia')\n",
    "plt.title('Change in inertia as k increases')"
   ]
  },
  {
   "cell_type": "code",
   "execution_count": null,
   "id": "dd4d3d20",
   "metadata": {},
   "outputs": [],
   "source": [
    "kmeans = KMeans(\n",
    "    init=\"random\",\n",
    "    n_clusters=15)"
   ]
  },
  {
   "cell_type": "code",
   "execution_count": null,
   "id": "71a5605d",
   "metadata": {},
   "outputs": [],
   "source": [
    "coords = train[['latitude', 'longitude']].to_numpy()"
   ]
  },
  {
   "cell_type": "code",
   "execution_count": null,
   "id": "bd8bfb6d",
   "metadata": {},
   "outputs": [],
   "source": [
    "train"
   ]
  },
  {
   "cell_type": "code",
   "execution_count": null,
   "id": "b8e80c29",
   "metadata": {},
   "outputs": [],
   "source": [
    "coords = train[['latitude', 'longitude']].to_numpy()\n",
    "\n",
    "kmeans.fit(coords)\n",
    "\n",
    "kmeans.predict(coords)\n",
    "\n",
    "train['cluster3'] = kmeans.predict(coords)\n"
   ]
  },
  {
   "cell_type": "code",
   "execution_count": null,
   "id": "57477355",
   "metadata": {},
   "outputs": [],
   "source": [
    "coords = validate[['latitude', 'longitude']].to_numpy()\n",
    "\n",
    "kmeans.fit(coords)\n",
    "\n",
    "kmeans.predict(coords)\n",
    "\n",
    "validate['cluster3'] = kmeans.predict(coords)\n"
   ]
  },
  {
   "cell_type": "code",
   "execution_count": null,
   "id": "02c408ff",
   "metadata": {},
   "outputs": [],
   "source": [
    "coords = test[['latitude', 'longitude']].to_numpy()\n",
    "\n",
    "kmeans.fit(coords)\n",
    "\n",
    "kmeans.predict(coords)\n",
    "\n",
    "test['cluster3'] = kmeans.predict(coords)\n"
   ]
  },
  {
   "cell_type": "code",
   "execution_count": null,
   "id": "74be54ff",
   "metadata": {},
   "outputs": [],
   "source": [
    "train"
   ]
  },
  {
   "cell_type": "code",
   "execution_count": null,
   "id": "6185d5dd",
   "metadata": {},
   "outputs": [],
   "source": [
    "xsmall_train = train.copy().where(train.square_feet < 1184)\n",
    "xsmall_train = xsmall_train.dropna()\n",
    "\n",
    "xsmall_validate = validate.copy().where(validate.square_feet < 1184)\n",
    "xsmall_validate = xsmall_validate.dropna()\n",
    "\n",
    "xsmall_test = test.copy().where(test.square_feet < 1184)\n",
    "xsmall_test = xsmall_test.dropna()\n",
    "\n",
    "small = train.copy().where((train.square_feet >= 1184) & (train.square_feet < 1423))\n",
    "small = small.dropna()\n",
    "\n",
    "med = train.copy().where((train.square_feet >= 1423) & (train.square_feet < 1988))\n",
    "med = med.dropna()\n",
    "\n",
    "large = train.copy().where((train.square_feet >= 1988))\n",
    "large = large.dropna()"
   ]
  },
  {
   "cell_type": "code",
   "execution_count": null,
   "id": "2e4981ff",
   "metadata": {},
   "outputs": [],
   "source": [
    "dummy1 = pd.get_dummies(train['cluster'])\n",
    "# dummy2 = pd.get_dummies(train['cluster2'])\n",
    "dummy3 = pd.get_dummies(train['cluster3'])\n",
    "\n",
    "dummy4 = pd.get_dummies(validate['cluster'])\n",
    "# dummy5 = pd.get_dummies(validate['cluster2'])\n",
    "dummy6 = pd.get_dummies(validate['cluster3'])\n",
    "\n",
    "dummy7 = pd.get_dummies(test['cluster'])\n",
    "# dummy8 = pd.get_dummies(test['cluster2'])\n",
    "dummy9 = pd.get_dummies(test['cluster3'])\n",
    "\n",
    "\n",
    "train = pd.concat([train, dummy3], axis=1)\n",
    "validate = pd.concat([validate, dummy6], axis=1)\n",
    "test = pd.concat([test, dummy9], axis=1)"
   ]
  },
  {
   "cell_type": "code",
   "execution_count": null,
   "id": "acd3ad68",
   "metadata": {},
   "outputs": [],
   "source": [
    "validate.info()"
   ]
  },
  {
   "cell_type": "code",
   "execution_count": null,
   "id": "4c63c413",
   "metadata": {},
   "outputs": [],
   "source": [
    "X_train = train[['cluster3', 'cluster']]\n",
    "# creates dataframe that drops all column except the selected features for modeling\n",
    "y_train = train[['log_error']]\n",
    "# creates dataframe of target variable (y) only\n",
    "\n",
    "X_validate = validate[['cluster3', 'cluster']]\n",
    "y_validate = validate[['log_error']]\n",
    "# repeat above for validate set\n",
    "\n",
    "X_test = test[['cluster3', 'cluster']]\n",
    "y_test = test[['log_error']]"
   ]
  },
  {
   "cell_type": "code",
   "execution_count": null,
   "id": "d7218452",
   "metadata": {},
   "outputs": [],
   "source": [
    "X_train = train[['bedrooms', 'bathrooms', 'year_built']]\n",
    "# creates dataframe that drops all column except the selected features for modeling\n",
    "y_train = train[['log_error']]\n",
    "# creates dataframe of target variable (y) only\n",
    "\n",
    "X_validate = validate[['bedrooms', 'bathrooms', 'year_built']]\n",
    "y_validate = validate[['log_error']]\n",
    "# repeat above for validate set\n",
    "\n",
    "X_test = test[['bedrooms', 'bathrooms', 'year_built']]\n",
    "y_test = test[['log_error']]"
   ]
  },
  {
   "cell_type": "code",
   "execution_count": null,
   "id": "d8ab65af",
   "metadata": {},
   "outputs": [],
   "source": [
    "X_train.info()"
   ]
  },
  {
   "cell_type": "code",
   "execution_count": null,
   "id": "35540fd1",
   "metadata": {},
   "outputs": [],
   "source": [
    "scaler = sklearn.preprocessing.MinMaxScaler()\n",
    "# employs the min max scaler\n",
    "scaler.fit(X_train[['bedrooms', 'bathrooms', 'year_built']])\n",
    "# inserts the 4 selected features into the scaler"
   ]
  },
  {
   "cell_type": "code",
   "execution_count": null,
   "id": "15307ffa",
   "metadata": {},
   "outputs": [],
   "source": [
    "X_train = scaler.transform(X_train[['bedrooms', 'bathrooms', 'year_built']]) \n",
    "X_validate = scaler.transform(X_validate[['bedrooms', 'bathrooms', 'year_built']]) \n",
    "X_test = scaler.transform(X_test[['bedrooms', 'bathrooms', 'year_built']]) "
   ]
  },
  {
   "cell_type": "code",
   "execution_count": null,
   "id": "c9ea2f2b",
   "metadata": {},
   "outputs": [],
   "source": [
    "v = scaler.transform(X_train[['bedrooms', 'bathrooms', 'year_built']]) \n",
    "v1 = scaler.transform(X_validate[['bedrooms', 'bathrooms', 'year_built']]) \n",
    "v2 = scaler.transform(X_test[['bedrooms', 'bathrooms', 'year_built']]) "
   ]
  },
  {
   "cell_type": "code",
   "execution_count": null,
   "id": "6d879534",
   "metadata": {},
   "outputs": [],
   "source": [
    "X_train = pd.DataFrame(data = v)\n",
    "X_validate = pd.DataFrame(data = v1)\n",
    "X_test = pd.DataFrame(data = v2)"
   ]
  },
  {
   "cell_type": "code",
   "execution_count": null,
   "id": "f5b361d3",
   "metadata": {},
   "outputs": [],
   "source": [
    "X_train"
   ]
  },
  {
   "cell_type": "code",
   "execution_count": null,
   "id": "7ff86593",
   "metadata": {},
   "outputs": [],
   "source": [
    "v.index = X_train.index\n",
    "v1.index = X_validate.index\n",
    "v2.index = X_test.index"
   ]
  },
  {
   "cell_type": "code",
   "execution_count": null,
   "id": "14479844",
   "metadata": {},
   "outputs": [],
   "source": [
    "X_train = pd.concat([X_train, v], axis=1)\n",
    "X_validate = pd.concat([X_validate, v1], axis=1)\n",
    "X_test = pd.concat([X_test, v2], axis=1)"
   ]
  },
  {
   "cell_type": "code",
   "execution_count": null,
   "id": "73681631",
   "metadata": {},
   "outputs": [],
   "source": [
    "X_train.info()"
   ]
  },
  {
   "cell_type": "code",
   "execution_count": null,
   "id": "e8a9a02a",
   "metadata": {},
   "outputs": [],
   "source": [
    "X_train = X_train.drop(columns=['bedrooms', 'bathrooms', 'year_built'])\n",
    "# creates dataframe that drops all column except the selected features for modeling\n",
    "y_train = y_train[['log_error']]\n",
    "# creates dataframe of target variable (y) only\n",
    "\n",
    "X_validate = X_validate.drop(columns=['bedrooms', 'bathrooms', 'year_built'])\n",
    "y_validate = y_validate[['log_error']]\n",
    "# repeat above for validate set\n",
    "\n",
    "X_test = X_test.drop(columns=['bedrooms', 'bathrooms', 'year_built'])\n",
    "y_test = y_test[['log_error']]"
   ]
  },
  {
   "cell_type": "code",
   "execution_count": null,
   "id": "583e91e2",
   "metadata": {},
   "outputs": [],
   "source": [
    "#X_validate[['scaledsize', 'scaledyear']] = scaler.transform(X_validate[['square_feet', 'year_built']])"
   ]
  },
  {
   "cell_type": "code",
   "execution_count": null,
   "id": "f4e91b0c",
   "metadata": {},
   "outputs": [],
   "source": [
    "# X_validate[['scaledsize', 'scaledyear']] = scaler.transform(X_validate[['square_feet', 'year_built']])\n",
    "# X_test[['scaledsize', 'scaledyear']] = data=scaler.transform(X_test[['square_feet', 'year_built']]) "
   ]
  },
  {
   "cell_type": "code",
   "execution_count": null,
   "id": "ef17a98c",
   "metadata": {},
   "outputs": [],
   "source": [
    "# X_train"
   ]
  },
  {
   "cell_type": "code",
   "execution_count": null,
   "id": "22e820ce",
   "metadata": {},
   "outputs": [],
   "source": [
    "# X_train = X_train.drop(columns = ['square_feet', 'year_built'])\n",
    "# X_validate = X_validate.drop(columns = ['square_feet', 'year_built'])\n",
    "# X_test = X_test.drop(columns = ['square_feet','year_built'])"
   ]
  },
  {
   "cell_type": "code",
   "execution_count": null,
   "id": "da13d41d",
   "metadata": {},
   "outputs": [],
   "source": [
    "y_train['pred_mean'] = y_train.log_error.mean()\n",
    "y_validate['pred_mean'] = y_validate.log_error.mean()\n",
    "# calculates mean prior to computing rmse\n",
    "\n",
    "rmse_train = mean_squared_error(y_train.log_error, y_train.pred_mean)**(1/2)\n",
    "rmse_validate = mean_squared_error(y_validate.log_error, y_validate.pred_mean)**(1/2)\n",
    "# computes baseline RMSE for train and validate sets (square root of MSE)\n",
    "\n",
    "print(\"Baseline RMSE\\nTrain/In-Sample: \", (rmse_train)), \n",
    "print(\"Baseline RMSE\\nValidate/Out-of-Sample: \", (rmse_validate))"
   ]
  },
  {
   "cell_type": "code",
   "execution_count": null,
   "id": "8aa15e41",
   "metadata": {},
   "outputs": [],
   "source": [
    "#lm = LinearRegression(normalize=True)\n",
    "# create the model"
   ]
  },
  {
   "cell_type": "code",
   "execution_count": null,
   "id": "3b22a1a1",
   "metadata": {},
   "outputs": [],
   "source": [
    "#lm.fit(X_train, y_train.log_error)\n",
    "# fit the model to scaled training data"
   ]
  },
  {
   "cell_type": "code",
   "execution_count": null,
   "id": "c488b63d",
   "metadata": {},
   "outputs": [],
   "source": [
    "#y_train['value_predict_lm'] = lm.predict(X_train)\n",
    "# computes model predictions"
   ]
  },
  {
   "cell_type": "code",
   "execution_count": null,
   "id": "4c0021c1",
   "metadata": {},
   "outputs": [],
   "source": [
    "#rmse_train = mean_squared_error(y_train.log_error, y_train.value_predict_lm)**(1/2)"
   ]
  },
  {
   "cell_type": "code",
   "execution_count": null,
   "id": "5be0fb0e",
   "metadata": {},
   "outputs": [],
   "source": [
    "#X_train"
   ]
  },
  {
   "cell_type": "code",
   "execution_count": null,
   "id": "3056f9f6",
   "metadata": {},
   "outputs": [],
   "source": [
    "#_validate['value_predict_lm'] = lm.predict(X_validate)"
   ]
  },
  {
   "cell_type": "code",
   "execution_count": null,
   "id": "98ad8a74",
   "metadata": {},
   "outputs": [],
   "source": [
    "X_train.info()"
   ]
  },
  {
   "cell_type": "markdown",
   "id": "b57ec921",
   "metadata": {},
   "source": [
    "lm = LinearRegression(normalize=True)\n",
    "# create the model\n",
    "\n",
    "lm.fit(X_train, y_train.log_error)\n",
    "# fit the model to scaled training data\n",
    "\n",
    "y_train['value_predict_lm'] = lm.predict(X_train)\n",
    "# computes model predictions\n",
    "\n",
    "rmse_train = mean_squared_error(y_train.log_error, y_train.value_predict_lm)**(1/2)\n",
    "# computes model rmse"
   ]
  },
  {
   "cell_type": "code",
   "execution_count": null,
   "id": "7f2ad9a0",
   "metadata": {},
   "outputs": [],
   "source": [
    "X_validate.info()"
   ]
  },
  {
   "cell_type": "code",
   "execution_count": null,
   "id": "22d87954",
   "metadata": {},
   "outputs": [],
   "source": [
    "lm = LinearRegression(normalize=True)\n",
    "# create the model\n",
    "\n",
    "lm.fit(X_train, y_train.log_error)\n",
    "# fit the model to scaled training data\n",
    "\n",
    "y_train['value_predict_lm'] = lm.predict(X_train)\n",
    "# computes model predictions\n",
    "\n",
    "rmse_train = mean_squared_error(y_train.log_error, y_train.value_predict_lm)**(1/2)\n",
    "# computes model rmse\n",
    "\n",
    "y_validate['value_predict_lm'] = lm.predict(X_validate)\n",
    "rmse_validate = mean_squared_error(y_validate.log_error, y_validate.value_predict_lm)**(1/2)\n",
    "# comutes predictions and rmse with validate data\n",
    "\n",
    "printmd(\"**OLS Linear Regression Performance**\")\n",
    "print(\"---------------------------------------\")\n",
    "print(\"RMSE for OLS using LinearRegression\\nTraining/In-Sample: \", (rmse_train))\n",
    "print(\"---------------------------------------\")\n",
    "print(\"RMSE for OLS using LinearRegression\\nValidation/Out-of-Sample: \", (rmse_validate))"
   ]
  },
  {
   "cell_type": "code",
   "execution_count": null,
   "id": "bdc61709",
   "metadata": {},
   "outputs": [],
   "source": [
    "X_train"
   ]
  },
  {
   "cell_type": "code",
   "execution_count": null,
   "id": "2029af4a",
   "metadata": {},
   "outputs": [],
   "source": [
    "y_train['value_predict_lm'].mean() < y_train['log_error'].mean()"
   ]
  },
  {
   "cell_type": "code",
   "execution_count": null,
   "id": "a06af087",
   "metadata": {},
   "outputs": [],
   "source": [
    "y_train['value_predict_lm'].mean()"
   ]
  },
  {
   "cell_type": "code",
   "execution_count": null,
   "id": "00e3cfab",
   "metadata": {},
   "outputs": [],
   "source": [
    "y_train['log_error'].mean()"
   ]
  },
  {
   "cell_type": "code",
   "execution_count": null,
   "id": "9a441f07",
   "metadata": {},
   "outputs": [],
   "source": []
  },
  {
   "cell_type": "code",
   "execution_count": null,
   "id": "776e250c",
   "metadata": {},
   "outputs": [],
   "source": []
  },
  {
   "cell_type": "code",
   "execution_count": null,
   "id": "5bfd28c9",
   "metadata": {},
   "outputs": [],
   "source": []
  },
  {
   "cell_type": "code",
   "execution_count": null,
   "id": "8b288c52",
   "metadata": {},
   "outputs": [],
   "source": []
  },
  {
   "cell_type": "code",
   "execution_count": null,
   "id": "53c9f0b7",
   "metadata": {},
   "outputs": [],
   "source": []
  },
  {
   "cell_type": "code",
   "execution_count": null,
   "id": "f1d11fb1",
   "metadata": {},
   "outputs": [],
   "source": []
  },
  {
   "cell_type": "code",
   "execution_count": null,
   "id": "602007d9",
   "metadata": {},
   "outputs": [],
   "source": []
  },
  {
   "cell_type": "code",
   "execution_count": null,
   "id": "2b3330dd",
   "metadata": {},
   "outputs": [],
   "source": []
  },
  {
   "cell_type": "code",
   "execution_count": null,
   "id": "a2a2d208",
   "metadata": {},
   "outputs": [],
   "source": []
  },
  {
   "cell_type": "code",
   "execution_count": null,
   "id": "b6513309",
   "metadata": {},
   "outputs": [],
   "source": []
  },
  {
   "cell_type": "code",
   "execution_count": null,
   "id": "1799432f",
   "metadata": {},
   "outputs": [],
   "source": []
  },
  {
   "cell_type": "code",
   "execution_count": null,
   "id": "05bf49b3",
   "metadata": {},
   "outputs": [],
   "source": []
  },
  {
   "cell_type": "code",
   "execution_count": null,
   "id": "932a9135",
   "metadata": {},
   "outputs": [],
   "source": []
  },
  {
   "cell_type": "code",
   "execution_count": null,
   "id": "be0a4817",
   "metadata": {},
   "outputs": [],
   "source": [
    "# small = train.copy().where((train.square_feet >= 1184) & (train.square_feet < 1393))\n",
    "# small = small.dropna()"
   ]
  },
  {
   "cell_type": "code",
   "execution_count": null,
   "id": "795ddc1d",
   "metadata": {},
   "outputs": [],
   "source": [
    "# xlarge = train.copy().where(train.square_feet >= 4000)\n",
    "# xlarge = large.dropna()"
   ]
  },
  {
   "cell_type": "code",
   "execution_count": null,
   "id": "25d29728",
   "metadata": {},
   "outputs": [],
   "source": [
    "# xlarge = train.copy().where(train.square_feet >= 2000)\n",
    "# xlarge = large.dropna()"
   ]
  },
  {
   "cell_type": "code",
   "execution_count": null,
   "id": "3e744f1e",
   "metadata": {},
   "outputs": [],
   "source": []
  }
 ],
 "metadata": {
  "kernelspec": {
   "display_name": "Python 3 (ipykernel)",
   "language": "python",
   "name": "python3"
  },
  "language_info": {
   "codemirror_mode": {
    "name": "ipython",
    "version": 3
   },
   "file_extension": ".py",
   "mimetype": "text/x-python",
   "name": "python",
   "nbconvert_exporter": "python",
   "pygments_lexer": "ipython3",
   "version": "3.9.7"
  }
 },
 "nbformat": 4,
 "nbformat_minor": 5
}
